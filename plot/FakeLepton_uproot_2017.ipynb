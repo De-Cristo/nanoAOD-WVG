{
 "cells": [
  {
   "cell_type": "code",
   "execution_count": 1,
   "id": "sublime-shore",
   "metadata": {},
   "outputs": [
    {
     "name": "stdout",
     "output_type": "stream",
     "text": [
      "Welcome to JupyROOT 6.22/06\n"
     ]
    }
   ],
   "source": [
    "import matplotlib\n",
    "import uproot, uproot3\n",
    "import numpy\n",
    "import awkward\n",
    "import numba\n",
    "import numpy as np\n",
    "import matplotlib.pyplot as plt\n",
    "import mplhep as hep\n",
    "import pandas as pd\n",
    "from tqdm import trange\n",
    "import ROOT\n",
    "import os,sys\n",
    "from array import array"
   ]
  },
  {
   "cell_type": "markdown",
   "id": "operating-guitar",
   "metadata": {},
   "source": [
    "## Lumi"
   ]
  },
  {
   "cell_type": "code",
   "execution_count": 2,
   "id": "super-breakdown",
   "metadata": {},
   "outputs": [],
   "source": [
    "# CMS_lumi\n",
    "#   Initiated by: Gautier Hamel de Monchenault (Saclay)\n",
    "#   Translated in Python by: Joshua Hardenbrook (Princeton)\n",
    "#   Updated by:   Dinko Ferencek (Rutgers)\n",
    "#\n",
    "\n",
    "cmsText     = \"CMS\";\n",
    "cmsTextFont   = 62  \n",
    "\n",
    "writeExtraText = True\n",
    "extraText   = \"Preliminary\"\n",
    "extraTextFont = 52 \n",
    "\n",
    "lumiTextSize     = 0.4\n",
    "lumiTextOffset   = 0.2\n",
    "\n",
    "cmsTextSize      = 0.45\n",
    "cmsTextOffset    = 0.1\n",
    "\n",
    "relPosX    = 0.045\n",
    "relPosY    = 0.035\n",
    "relExtraDY = 1.2\n",
    "\n",
    "extraOverCmsTextSize  = 0.76\n",
    "\n",
    "lumi_13TeV = \"20.1 fb^{-1}\"\n",
    "lumi_8TeV  = \"19.7 fb^{-1}\" \n",
    "lumi_7TeV  = \"5.1 fb^{-1}\"\n",
    "lumi_sqrtS = \"41.5 fb^{-1} (13 TeV)\"\n",
    "\n",
    "drawLogo      = False\n",
    "\n",
    "def CMS_lumi(pad,  iPeriod,  iPosX ):\n",
    "    outOfFrame    = False\n",
    "    if(iPosX/10==0 ): outOfFrame = True\n",
    "\n",
    "    alignY_=3\n",
    "    alignX_=2\n",
    "    if( iPosX/10==0 ): alignX_=1\n",
    "    if( iPosX==0    ): alignY_=1\n",
    "    if( iPosX/10==1 ): alignX_=1\n",
    "    if( iPosX/10==2 ): alignX_=2\n",
    "    if( iPosX/10==3 ): alignX_=3\n",
    "    align_ = 10*alignX_ + alignY_\n",
    "\n",
    "    H = pad.GetWh()\n",
    "    W = pad.GetWw()\n",
    "    l = pad.GetLeftMargin()\n",
    "    t = pad.GetTopMargin()\n",
    "    r = pad.GetRightMargin()\n",
    "    b = pad.GetBottomMargin()\n",
    "    e = 0.025\n",
    "\n",
    "    pad.cd()\n",
    "\n",
    "    lumiText = \"\"\n",
    "    if( iPeriod==1 ):\n",
    "        lumiText += lumi_7TeV\n",
    "        lumiText += \" (7 TeV)\"\n",
    "    elif ( iPeriod==2 ):\n",
    "        lumiText += lumi_8TeV\n",
    "        lumiText += \" (8 TeV)\"\n",
    "\n",
    "    elif( iPeriod==3 ):      \n",
    "        lumiText = lumi_8TeV \n",
    "        lumiText += \" (8 TeV)\"\n",
    "        lumiText += \" + \"\n",
    "        lumiText += lumi_7TeV\n",
    "        lumiText += \" (7 TeV)\"\n",
    "    elif ( iPeriod==4 ):\n",
    "        lumiText += lumi_13TeV\n",
    "        lumiText += \" (13 TeV)\"\n",
    "    elif ( iPeriod==7 ):\n",
    "        if( outOfFrame ):lumiText += \"#scale[0.85]{\"\n",
    "        lumiText += lumi_13TeV \n",
    "        lumiText += \" (13 TeV)\"\n",
    "        lumiText += \" + \"\n",
    "        lumiText += lumi_8TeV \n",
    "        lumiText += \" (8 TeV)\"\n",
    "        lumiText += \" + \"\n",
    "        lumiText += lumi_7TeV\n",
    "        lumiText += \" (7 TeV)\"\n",
    "        if( outOfFrame): lumiText += \"}\"\n",
    "    elif ( iPeriod==12 ):\n",
    "        lumiText += \"8 TeV\"\n",
    "    elif ( iPeriod==0 ):\n",
    "        lumiText += lumi_sqrtS\n",
    "            \n",
    "    print (lumiText)\n",
    "\n",
    "    latex = ROOT.TLatex()\n",
    "    latex.SetNDC()\n",
    "    latex.SetTextAngle(0)\n",
    "    latex.SetTextColor(ROOT.kBlack)    \n",
    "    \n",
    "    extraTextSize = extraOverCmsTextSize*cmsTextSize\n",
    "    \n",
    "    latex.SetTextFont(42)\n",
    "    latex.SetTextAlign(31) \n",
    "    latex.SetTextSize(lumiTextSize*t)    \n",
    "\n",
    "    latex.DrawLatex(1-r,1-t+lumiTextOffset*t,lumiText)\n",
    "\n",
    "    if( outOfFrame ):\n",
    "        latex.SetTextFont(cmsTextFont)\n",
    "        latex.SetTextAlign(11) \n",
    "        latex.SetTextSize(cmsTextSize*t)    \n",
    "        latex.DrawLatex(l,1-t+lumiTextOffset*t,cmsText)\n",
    "  \n",
    "    pad.cd()\n",
    "\n",
    "    posX_ = 0\n",
    "    if( iPosX%10<=1 ):\n",
    "        posX_ =   l + relPosX*(1-l-r)\n",
    "    elif( iPosX%10==2 ):\n",
    "        posX_ =  l + 0.5*(1-l-r)\n",
    "    elif( iPosX%10==3 ):\n",
    "        posX_ =  1-r - relPosX*(1-l-r)\n",
    "\n",
    "    posY_ = 1-t - relPosY*(1-t-b)\n",
    "\n",
    "    if( not outOfFrame ):\n",
    "        if( drawLogo ):\n",
    "            posX_ =   l + 0.045*(1-l-r)*W/H\n",
    "            posY_ = 1-t - 0.045*(1-t-b)\n",
    "            xl_0 = posX_\n",
    "            yl_0 = posY_ - 0.15\n",
    "            xl_1 = posX_ + 0.15*H/W\n",
    "            yl_1 = posY_\n",
    "            CMS_logo = ROOT.TASImage(\"CMS-BW-label.png\")\n",
    "            pad_logo =  ROOT.TPad(\"logo\",\"logo\", xl_0, yl_0, xl_1, yl_1 )\n",
    "            pad_logo.Draw()\n",
    "            pad_logo.cd()\n",
    "            CMS_logo.Draw(\"X\")\n",
    "            pad_logo.Modified()\n",
    "            pad.cd()          \n",
    "        else:\n",
    "            latex.SetTextFont(cmsTextFont)\n",
    "            latex.SetTextSize(cmsTextSize*t)\n",
    "            latex.SetTextAlign(align_)\n",
    "            latex.DrawLatex(posX_, posY_, cmsText)\n",
    "            if( writeExtraText ) :\n",
    "                latex.SetTextFont(extraTextFont)\n",
    "                latex.SetTextAlign(align_)\n",
    "                latex.SetTextSize(extraTextSize*t)\n",
    "                latex.DrawLatex(posX_, posY_- relExtraDY*cmsTextSize*t, extraText)\n",
    "    elif( writeExtraText ):\n",
    "        if( iPosX==0):\n",
    "            posX_ =   l +  relPosX*(1-l-r)\n",
    "            posY_ =   1-t+lumiTextOffset*t\n",
    "\n",
    "        latex.SetTextFont(extraTextFont)\n",
    "        latex.SetTextSize(extraTextSize*t)\n",
    "        latex.SetTextAlign(align_)\n",
    "        latex.DrawLatex(posX_*1.20, posY_, extraText)      \n",
    "\n",
    "    pad.Update()"
   ]
  },
  {
   "cell_type": "markdown",
   "id": "comparative-routine",
   "metadata": {},
   "source": [
    "## tdrstyle"
   ]
  },
  {
   "cell_type": "code",
   "execution_count": 3,
   "id": "coordinated-tampa",
   "metadata": {
    "ExecuteTime": {
     "end_time": "2021-03-14T13:18:11.397209Z",
     "start_time": "2021-03-14T13:18:11.043090Z"
    }
   },
   "outputs": [],
   "source": [
    "tdrStyle =  ROOT.TStyle(\"\",\"\")\n",
    "\n",
    "#for the canvas:\n",
    "tdrStyle.SetCanvasBorderMode(0)\n",
    "tdrStyle.SetCanvasColor(ROOT.kWhite)\n",
    "tdrStyle.SetCanvasDefH(1000) #Height of canvas\n",
    "tdrStyle.SetCanvasDefW(800) #Width of canvas\n",
    "tdrStyle.SetCanvasDefX(0)   #POsition on screen\n",
    "tdrStyle.SetCanvasDefY(0)\n",
    "\n",
    "\n",
    "tdrStyle.SetPadBorderMode(0)\n",
    "#tdrStyle.SetPadBorderSize(Width_t size = 1)\n",
    "tdrStyle.SetPadColor(ROOT.kWhite)\n",
    "tdrStyle.SetPadGridX(False)\n",
    "tdrStyle.SetPadGridY(False)\n",
    "tdrStyle.SetGridColor(0)\n",
    "tdrStyle.SetGridStyle(3)\n",
    "tdrStyle.SetGridWidth(1)\n",
    "\n",
    "#For the frame:\n",
    "tdrStyle.SetFrameBorderMode(1)\n",
    "tdrStyle.SetFrameBorderSize(1)\n",
    "tdrStyle.SetFrameFillColor(0)\n",
    "tdrStyle.SetFrameFillStyle(0)\n",
    "tdrStyle.SetFrameLineColor(1)\n",
    "tdrStyle.SetFrameLineStyle(1)\n",
    "tdrStyle.SetFrameLineWidth(1)\n",
    "\n",
    "#For the histo:\n",
    "#tdrStyle.SetHistFillColor(1)\n",
    "#tdrStyle.SetHistFillStyle(0)\n",
    "tdrStyle.SetHistLineColor(1)\n",
    "tdrStyle.SetHistLineStyle(0)\n",
    "tdrStyle.SetHistLineWidth(1)\n",
    "#tdrStyle.SetLegoInnerR(Float_t rad = 0.5)\n",
    "#tdrStyle.SetNumberContours(Int_t number = 20)\n",
    "\n",
    "tdrStyle.SetEndErrorSize(2)\n",
    "#tdrStyle.SetErrorMarker(20)\n",
    "#tdrStyle.SetErrorX(0.)\n",
    "\n",
    "tdrStyle.SetMarkerStyle(20)\n",
    "\n",
    "#For the fit/function:\n",
    "tdrStyle.SetOptFit(1)\n",
    "tdrStyle.SetFitFormat(\"5.4g\")\n",
    "tdrStyle.SetFuncColor(2)\n",
    "tdrStyle.SetFuncStyle(1)\n",
    "tdrStyle.SetFuncWidth(1)\n",
    "\n",
    "#For the date:\n",
    "tdrStyle.SetOptDate(0)\n",
    "# tdrStyle.SetDateX(Float_t x = 0.01)\n",
    "# tdrStyle.SetDateY(Float_t y = 0.01)\n",
    "\n",
    "# For the statistics box:\n",
    "tdrStyle.SetOptFile(0)\n",
    "tdrStyle.SetOptStat(0) # To display the mean and RMS:   SetOptStat(\"mr\")\n",
    "tdrStyle.SetStatColor(ROOT.kWhite)\n",
    "tdrStyle.SetStatFont(42)\n",
    "tdrStyle.SetStatFontSize(0.025)\n",
    "tdrStyle.SetStatTextColor(1)\n",
    "tdrStyle.SetStatFormat(\"6.4g\")\n",
    "tdrStyle.SetStatBorderSize(1)\n",
    "tdrStyle.SetStatH(0.1)\n",
    "tdrStyle.SetStatW(0.15)\n",
    "# tdrStyle.SetStatStyle(Style_t style = 1001)\n",
    "# tdrStyle.SetStatX(Float_t x = 0)\n",
    "# tdrStyle.SetStatY(Float_t y = 0)\n",
    "\n",
    "# Margins:\n",
    "tdrStyle.SetPadTopMargin(0.11)\n",
    "tdrStyle.SetPadBottomMargin(0.11)\n",
    "tdrStyle.SetPadLeftMargin(0.11)\n",
    "tdrStyle.SetPadRightMargin(0.11)\n",
    "\n",
    "# For the Global title:\n",
    "\n",
    "tdrStyle.SetOptTitle(0)\n",
    "tdrStyle.SetTitleFont(42)\n",
    "tdrStyle.SetTitleColor(1)\n",
    "tdrStyle.SetTitleTextColor(1)\n",
    "tdrStyle.SetTitleFillColor(10)\n",
    "tdrStyle.SetTitleFontSize(0.05)\n",
    "# tdrStyle.SetTitleH(0) # Set the height of the title box\n",
    "# tdrStyle.SetTitleW(0) # Set the width of the title box\n",
    "# tdrStyle.SetTitleX(0) # Set the position of the title box\n",
    "# tdrStyle.SetTitleY(0.985) # Set the position of the title box\n",
    "# tdrStyle.SetTitleStyle(Style_t style = 1001)\n",
    "# tdrStyle.SetTitleBorderSize(2)\n",
    "\n",
    "# For the axis titles:\n",
    "\n",
    "tdrStyle.SetTitleColor(1, \"XYZ\")\n",
    "tdrStyle.SetTitleFont(42, \"XYZ\")\n",
    "tdrStyle.SetTitleSize(0.04, \"XYZ\")\n",
    "#   tdrStyle.SetTitleXSize(Float_t size = 0.02) # Another way to set the size?\n",
    "#   tdrStyle.SetTitleYSize(Float_t size = 0.02)\n",
    "tdrStyle.SetTitleXOffset(0.9)\n",
    "tdrStyle.SetTitleYOffset(1.25)\n",
    "# tdrStyle.SetTitleOffset(1.1, \"Y\") # Another way to set the Offset\n",
    "\n",
    "# For the axis labels:\n",
    "\n",
    "tdrStyle.SetLabelColor(1, \"XYZ\")\n",
    "tdrStyle.SetLabelFont(42, \"XYZ\")\n",
    "tdrStyle.SetLabelOffset(0.007, \"XYZ\")\n",
    "tdrStyle.SetLabelSize(0.03, \"XYZ\")\n",
    "\n",
    "# For the axis:\n",
    "\n",
    "tdrStyle.SetAxisColor(1, \"XYZ\")\n",
    "tdrStyle.SetStripDecimals(True)\n",
    "tdrStyle.SetTickLength(0.03, \"XYZ\")\n",
    "tdrStyle.SetNdivisions(510, \"XYZ\")\n",
    "tdrStyle.SetPadTickX(1)  # To get tick marks on the opposite side of the frame\n",
    "tdrStyle.SetPadTickY(1)\n",
    "\n",
    "# Change for log plots:\n",
    "tdrStyle.SetOptLogx(0)\n",
    "tdrStyle.SetOptLogy(0)\n",
    "tdrStyle.SetOptLogz(0)\n",
    "\n",
    "# Postscript options:\n",
    "# tdrStyle.SetPaperSize(20.,20.)\n",
    "# tdrStyle.SetLineScalePS(Float_t scale = 3)\n",
    "# tdrStyle.SetLineStyleString(Int_t i, const char* text)\n",
    "# tdrStyle.SetHeaderPS(const char* header)\n",
    "# tdrStyle.SetTitlePS(const char* pstitle)\n",
    "\n",
    "# tdrStyle.SetBarOffset(Float_t baroff = 0.5)\n",
    "# tdrStyle.SetBarWidth(Float_t barwidth = 0.5)\n",
    "# tdrStyle.SetPaintTextFormat(const char* format = \"g\")\n",
    "# tdrStyle.SetPalette(Int_t ncolors = 0, Int_t* colors = 0)\n",
    "# tdrStyle.SetTimeOffset(Double_t toffset)\n",
    "# tdrStyle.SetHistMinimumZero(kTRUE)\n",
    "\n",
    "tdrStyle.SetHatchesLineWidth(1)\n",
    "tdrStyle.SetHatchesSpacing(0.5)\n",
    "\n",
    "tdrStyle.cd()"
   ]
  },
  {
   "cell_type": "markdown",
   "id": "streaming-switch",
   "metadata": {},
   "source": [
    "## ratio function"
   ]
  },
  {
   "cell_type": "code",
   "execution_count": 4,
   "id": "medical-burke",
   "metadata": {},
   "outputs": [],
   "source": [
    "from ROOT import TCanvas, TColor, TGaxis, TH1F, TPad\n",
    "from ROOT import kBlack, kBlue, kRed\n",
    "\n",
    "def createRatio(h1, h2):\n",
    "    h3 = h1.Clone(\"h3\")\n",
    "    h3.SetLineColor(kBlack)\n",
    "    h3.SetMarkerStyle(21)\n",
    "    h3.SetTitle(\"\")\n",
    "    h3.SetMinimum(0.0)\n",
    "    h3.SetMaximum(2.10)\n",
    "    # Set up plot for markers and errors\n",
    "    h3.Sumw2()\n",
    "    h3.SetStats(0)\n",
    "    h3.Divide(h2)\n",
    "\n",
    "    # Adjust y-axis settings\n",
    "    y = h3.GetYaxis()\n",
    "    y.SetTitle(\"Data / MC \")\n",
    "    y.SetNdivisions(105)\n",
    "    y.SetTitleSize(20)\n",
    "    y.SetTitleFont(43)\n",
    "    y.SetTitleOffset(1.55)\n",
    "    y.SetLabelFont(43)\n",
    "    y.SetLabelSize(20)\n",
    "\n",
    "    # Adjust x-axis settings\n",
    "    x = h3.GetXaxis()\n",
    "    x.SetTitleSize(20)\n",
    "    x.SetTitleFont(43)\n",
    "    x.SetTitleOffset(4.0)\n",
    "    x.SetLabelFont(43)\n",
    "    x.SetLabelSize(20)\n",
    "\n",
    "    return h3\n"
   ]
  },
  {
   "cell_type": "markdown",
   "id": "southeast-conversation",
   "metadata": {
    "tags": []
   },
   "source": [
    "## Fake lepton plot\n",
    "\n",
    "- [Fake Rate](#Fake-Rate)\n",
    "- [Apply Weight](#Apply-Weight)\n",
    "- [Closure Test](#Closure-Test)"
   ]
  },
  {
   "cell_type": "code",
   "execution_count": null,
   "id": "comparative-orleans",
   "metadata": {},
   "outputs": [],
   "source": [
    "plt.style.use(hep.style.CMS)\n",
    "# import matplotlib as mpl\n",
    "# mpl.style.use(hep.style.CMS)"
   ]
  },
  {
   "cell_type": "code",
   "execution_count": 5,
   "id": "consistent-hotel",
   "metadata": {},
   "outputs": [],
   "source": [
    "@numba.njit\n",
    "def sgn(num):\n",
    "    if (num >= 0):\n",
    "        return 1\n",
    "    else:\n",
    "        return -1"
   ]
  },
  {
   "cell_type": "code",
   "execution_count": null,
   "id": "documentary-shirt",
   "metadata": {},
   "outputs": [],
   "source": [
    "# len(branches['gen_weight'])\n",
    "# true_events = file['nEventsGenWeighted'].values()[0]"
   ]
  },
  {
   "cell_type": "markdown",
   "id": "continuing-resident",
   "metadata": {
    "tags": []
   },
   "source": [
    "### Prescale HLT"
   ]
  },
  {
   "cell_type": "markdown",
   "id": "needed-petersburg",
   "metadata": {},
   "source": [
    "#### Prescale"
   ]
  },
  {
   "cell_type": "code",
   "execution_count": null,
   "id": "miniature-theme",
   "metadata": {},
   "outputs": [],
   "source": [
    "def GetHist_Prescale(file, hist, isData):\n",
    "    \n",
    "    if isData:\n",
    "        print('is Data')\n",
    "        branches = uproot.open(file+':Events').arrays(['dilepton_mass','HLT_IsoMu24','HLT_Mu8_TrkIsoVVL','HLT_Mu17_TrkIsoVVL'], library='pd')\n",
    "    else:\n",
    "        print('is MC')\n",
    "        branches = uproot.open(file+':Events').arrays(['dilepton_mass','gen_weight','HLT_IsoMu24','HLT_Mu8_TrkIsoVVL','HLT_Mu17_TrkIsoVVL'], library='pd')\n",
    "        true_events = uproot.open(file)['nEventsGenWeighted'].values()[0]\n",
    "        weight = (1000*lumi*xsec) / true_events\n",
    "    \n",
    "    mll_cut1 = branches.loc[:,'dilepton_mass'] > 60\n",
    "    mll_cut2 = branches.loc[:,'dilepton_mass'] < 120\n",
    "    \n",
    "    HLT_cut1 = branches.loc[:,'HLT_Mu8_TrkIsoVVL'] == True\n",
    "    HLT_cut2 = branches.loc[:,'HLT_Mu17_TrkIsoVVL'] == True\n",
    "    HLT_cut3 = branches.loc[:,'HLT_IsoMu24'] == True\n",
    "    \n",
    "    arrays = branches.loc[mll_cut1 & mll_cut2 & HLT_cut1,:]\n",
    "    \n",
    "    if isData:\n",
    "        for i in trange(0, len(arrays['dilepton_mass']), desc=f'fill mll for: {file}'):\n",
    "            hist.Fill(float(arrays['dilepton_mass'].values[i]))\n",
    "    else:\n",
    "        for i in trange(0, len(arrays['dilepton_mass']), desc=f'fill mll for: {file}'):\n",
    "            hist.Fill(float(arrays['dilepton_mass'].values[i]),weight*sgn(arrays['gen_weight'].values[i]))\n",
    "        \n",
    "        \n",
    "def Cal_Prescale_Factor(hist_DY, hist_DATA):\n",
    "    \n",
    "    # calculating sum sqrt error to get prescale factor\n",
    "    SSE = float('inf')\n",
    "    Prescale_Factor = 1\n",
    "    for i in trange(0, 10000, 100):\n",
    "        for j in trange(0, hist_DATA.GetNbinsX()):\n",
    "            SSE_temp = np.square(hist_DATA.GetBinContent(j+1)-hist_DY.GetBinContent(j+1)) * hist_DATA.GetBinContent(j+1)\n",
    "            if SSE_temp < SSE:\n",
    "                SSE = SSE_temp\n",
    "                Prescale_Factor = i\n",
    "    print(f\"Prescale_Factor: {Prescale_Factor}\")\n",
    "    return Prescale_Factor"
   ]
  },
  {
   "cell_type": "code",
   "execution_count": null,
   "id": "hispanic-hybrid",
   "metadata": {},
   "outputs": [],
   "source": [
    "xbins = 60\n",
    "xlow = 60\n",
    "xup = 120\n",
    "\n",
    "hist_DY_prescale = ROOT.TH1F(\"\",\"\",xbins,xlow,xup)\n",
    "hist_DATA_prescale = ROOT.TH1F(\"\",\"\",xbins,xlow,xup)\n",
    "\n",
    "file_DY_prescale = [\n",
    "    '/eos/user/s/sdeng/WZG_analysis/DY_test/DYJetsToLL_M-50_TuneCP5_13TeV-madgraphMLM-pythia8_2018.root',\n",
    "]\n",
    "\n",
    "file_DATA_prescale = [\n",
    "    '/eos/user/s/sdeng/WZG_analysis/DY_test/',\n",
    "]\n",
    "\n",
    "for file in file_DY_prescale:\n",
    "    GetHist_Prescale(file_DY_prescale, hist_DY_prescale, 0)\n",
    "for file in file_DATA_prescale:\n",
    "GetHist_Prescale(file_DATA_prescale, hist_DATA_prescale, 1)\n",
    "\n",
    "Prescale_Factor = Cal_Prescale_Factor(hist_DY_prescale, hist_DATA_prescale)"
   ]
  },
  {
   "cell_type": "code",
   "execution_count": null,
   "id": "sophisticated-ready",
   "metadata": {},
   "outputs": [],
   "source": [
    "def SetHistStyle_prescale(hist, color):\n",
    "    hist.SetMarkerStyle(20)\n",
    "    hist.SetMarkerColor(color)\n",
    "    hist.SetFillColor(color)\n",
    "    hist.SetYTitle('events/bin')\n",
    "    hist.SetXTitle('#M_ll [GeV]')\n",
    "    hist.SetStats(0)\n",
    "    \n",
    "c1 = ROOT.TCanvas(\"\",\"\",1000,800)\n",
    "\n",
    "hist1 = hist_DY_prescale.Clone()\n",
    "hist2 = hist_DATA_prescale.Clone()\n",
    "\n",
    "SetHistStyle_prescale(hist1, 2)\n",
    "SetHistStyle_prescale(hist2, 0)\n",
    "\n",
    "c1.Draw()\n",
    "hist1.Draw(\"HIST\")\n",
    "hist2.Draw(\"ep SAME\")"
   ]
  },
  {
   "cell_type": "markdown",
   "id": "considerable-numbers",
   "metadata": {},
   "source": [
    "#### Validation"
   ]
  },
  {
   "cell_type": "code",
   "execution_count": 6,
   "id": "fourth-chambers",
   "metadata": {},
   "outputs": [],
   "source": [
    "def AddHist_Prescale_valid(file, hist_pre1, hist_pre2, hist, hist_mu24):\n",
    "    \n",
    "#     branches = uproot.open(file+':Events').arrays(['mt','met','lepton_pt','lepton_pfRelIso04_all','lepton_pdgid','HLT_IsoMu24','HLT_Mu8_TrkIsoVVL','HLT_Mu17_TrkIsoVVL'], library='pd')\n",
    "#     branches = uproot.open(file+':Events').arrays(['dilepton_mass','lepton1_pt','lepton1_pdgId','HLT_IsoMu24','HLT_Mu8_TrkIsoVVL','HLT_Mu17_TrkIsoVVL'], library='pd')\n",
    "    branches = uproot.open(file+':Events').arrays(['HLT_Ele23_Ele12_CaloIdL_TrackIdL_IsoVL','is_lepton_tight','mt','met','lepton_pt','lepton_eta','lepton_pdgid','HLT_Ele8_CaloIdL_TrackIdL_IsoVL_PFJet30','HLT_Ele23_CaloIdL_TrackIdL_IsoVL_PFJet30','hlt'], library='pd')\n",
    "    \n",
    "#     HLT_cut1 = branches.loc[:,'HLT_Mu8_TrkIsoVVL'] == True\n",
    "#     HLT_cut2 = branches.loc[:,'HLT_Mu17_TrkIsoVVL'] == True\n",
    "#     HLT_cut3 = branches.loc[:,'HLT_IsoMu24'] == True\n",
    "    HLT_cut1 = branches.loc[:,'HLT_Ele8_CaloIdL_TrackIdL_IsoVL_PFJet30'] == True\n",
    "    HLT_cut2 = branches.loc[:,'HLT_Ele23_CaloIdL_TrackIdL_IsoVL_PFJet30'] == True\n",
    "    HLT_cut3 = branches.loc[:,'HLT_Ele23_Ele12_CaloIdL_TrackIdL_IsoVL'] == True\n",
    "    pf_cut = branches.loc[:,'is_lepton_tight'] == 1\n",
    "    \n",
    "#     pf_cut = branches.loc[:,'lepton_pfRelIso04_all'] < 0.4\n",
    "#     mll_cut1 = branches.loc[:,'dilepton_mass'] > 60\n",
    "#     mll_cut2 = branches.loc[:,'dilepton_mass'] < 120\n",
    "    lepton_cut = abs(branches.loc[:,'lepton_pdgid']) == 11\n",
    "    pt_edge = branches.loc[:,'lepton_pt'] < 25\n",
    "    mt_cut = branches.loc[:,'mt'] < 20\n",
    "    met_cut = branches.loc[:,'met'] < 20\n",
    "#     lepton_cut = abs(branches.loc[:,'lepton1_pdgId']) == 13\n",
    "#     pt_edge = branches.loc[:,'lepton1_pt'] < 25\n",
    "    \n",
    "    arrays_pre1 = branches.loc[ HLT_cut1 & lepton_cut & pf_cut & mt_cut & met_cut,:]\n",
    "    arrays_pre2 = branches.loc[ HLT_cut2 & lepton_cut & pf_cut & mt_cut & met_cut,:]\n",
    "#     arrays_mu24 = branches.loc[HLT_cut3 & lepton_cut & pf_cut & mt_cut & met_cut,:]\n",
    "    arrays = branches.loc[ lepton_cut & pf_cut & mt_cut & met_cut, :]\n",
    "    \n",
    "    for i in trange(0, len(arrays_pre1['lepton_pt']), desc=f'fill GeV region for HLT_Mu8_TrkIsoVVL in {file}'):\n",
    "        hist_pre1.Fill(float(arrays_pre1['lepton_pt'].values[i]))\n",
    "    for i in trange(0, len(arrays_pre2['lepton_pt']), desc=f'fill GeV region for HLT_Mu17_TrkIsoVVL in {file}'):\n",
    "        hist_pre2.Fill(float(arrays_pre2['lepton_pt'].values[i]))\n",
    "#     for i in trange(0, len(arrays_mu24['lepton_pt']), desc=f'fill for HLT_IsoMu24 in {file}'):\n",
    "#         hist_mu24.Fill(float(arrays_mu24['lepton_pt'].values[i]))\n",
    "    for i in trange(0, len(arrays['lepton_pt']), desc=f'fill for No HLT in {file}'):\n",
    "        hist.Fill(float(arrays['lepton_pt'].values[i]))\n",
    "    \n",
    "    print(\"DONE\")\n",
    "    \n",
    "    return True"
   ]
  },
  {
   "cell_type": "code",
   "execution_count": 7,
   "id": "authorized-collect",
   "metadata": {},
   "outputs": [
    {
     "name": "stderr",
     "output_type": "stream",
     "text": [
      "fill GeV region for HLT_Mu8_TrkIsoVVL in /eos/user/s/sdeng/WZG_analysis/fake_lepton_template/EGamma_Run2018A.root: 100%|██████████| 1018/1018 [00:05<00:00, 180.87it/s]\n",
      "fill GeV region for HLT_Mu17_TrkIsoVVL in /eos/user/s/sdeng/WZG_analysis/fake_lepton_template/EGamma_Run2018A.root: 100%|██████████| 1685/1685 [00:00<00:00, 147026.20it/s]\n",
      "fill for No HLT in /eos/user/s/sdeng/WZG_analysis/fake_lepton_template/EGamma_Run2018A.root: 100%|██████████| 2570692/2570692 [00:14<00:00, 172019.56it/s]\n"
     ]
    },
    {
     "name": "stdout",
     "output_type": "stream",
     "text": [
      "DONE\n"
     ]
    },
    {
     "name": "stderr",
     "output_type": "stream",
     "text": [
      "fill GeV region for HLT_Mu8_TrkIsoVVL in /eos/user/s/sdeng/WZG_analysis/fake_lepton_template/EGamma_Run2018B.root: 100%|██████████| 2324/2324 [00:00<00:00, 131916.34it/s]\n",
      "fill GeV region for HLT_Mu17_TrkIsoVVL in /eos/user/s/sdeng/WZG_analysis/fake_lepton_template/EGamma_Run2018B.root: 100%|██████████| 1776/1776 [00:00<00:00, 155617.20it/s]\n",
      "fill for No HLT in /eos/user/s/sdeng/WZG_analysis/fake_lepton_template/EGamma_Run2018B.root: 100%|██████████| 1258250/1258250 [00:07<00:00, 170372.66it/s]\n"
     ]
    },
    {
     "name": "stdout",
     "output_type": "stream",
     "text": [
      "DONE\n"
     ]
    },
    {
     "name": "stderr",
     "output_type": "stream",
     "text": [
      "fill GeV region for HLT_Mu8_TrkIsoVVL in /eos/user/s/sdeng/WZG_analysis/fake_lepton_template/EGamma_Run2018C.root: 100%|██████████| 2294/2294 [00:00<00:00, 142819.26it/s]\n",
      "fill GeV region for HLT_Mu17_TrkIsoVVL in /eos/user/s/sdeng/WZG_analysis/fake_lepton_template/EGamma_Run2018C.root: 100%|██████████| 1882/1882 [00:00<00:00, 150410.25it/s]\n",
      "fill for No HLT in /eos/user/s/sdeng/WZG_analysis/fake_lepton_template/EGamma_Run2018C.root: 100%|██████████| 1237157/1237157 [00:06<00:00, 180408.97it/s]\n"
     ]
    },
    {
     "name": "stdout",
     "output_type": "stream",
     "text": [
      "DONE\n"
     ]
    },
    {
     "name": "stderr",
     "output_type": "stream",
     "text": [
      "fill GeV region for HLT_Mu8_TrkIsoVVL in /eos/user/s/sdeng/WZG_analysis/fake_lepton_template/EGamma_Run2018D_part1.root: 100%|██████████| 3560/3560 [00:00<00:00, 173808.59it/s]\n",
      "fill GeV region for HLT_Mu17_TrkIsoVVL in /eos/user/s/sdeng/WZG_analysis/fake_lepton_template/EGamma_Run2018D_part1.root: 100%|██████████| 2896/2896 [00:00<00:00, 177479.61it/s]\n",
      "fill for No HLT in /eos/user/s/sdeng/WZG_analysis/fake_lepton_template/EGamma_Run2018D_part1.root: 100%|██████████| 2284118/2284118 [00:13<00:00, 174283.69it/s]\n"
     ]
    },
    {
     "name": "stdout",
     "output_type": "stream",
     "text": [
      "DONE\n"
     ]
    },
    {
     "name": "stderr",
     "output_type": "stream",
     "text": [
      "fill GeV region for HLT_Mu8_TrkIsoVVL in /eos/user/s/sdeng/WZG_analysis/fake_lepton_template/EGamma_Run2018D_part2.root: 100%|██████████| 3118/3118 [00:00<00:00, 150579.62it/s]\n",
      "fill GeV region for HLT_Mu17_TrkIsoVVL in /eos/user/s/sdeng/WZG_analysis/fake_lepton_template/EGamma_Run2018D_part2.root: 100%|██████████| 2489/2489 [00:00<00:00, 145579.10it/s]\n",
      "fill for No HLT in /eos/user/s/sdeng/WZG_analysis/fake_lepton_template/EGamma_Run2018D_part2.root: 100%|██████████| 1940030/1940030 [00:11<00:00, 175114.00it/s]\n"
     ]
    },
    {
     "name": "stdout",
     "output_type": "stream",
     "text": [
      "DONE\n"
     ]
    },
    {
     "name": "stderr",
     "output_type": "stream",
     "text": [
      "fill GeV region for HLT_Mu8_TrkIsoVVL in /eos/user/s/sdeng/WZG_analysis/fake_lepton_template/EGamma_Run2018D_part3.root: 100%|██████████| 4512/4512 [00:00<00:00, 143667.15it/s]\n",
      "fill GeV region for HLT_Mu17_TrkIsoVVL in /eos/user/s/sdeng/WZG_analysis/fake_lepton_template/EGamma_Run2018D_part3.root: 100%|██████████| 3420/3420 [00:00<00:00, 144952.70it/s]\n",
      "fill for No HLT in /eos/user/s/sdeng/WZG_analysis/fake_lepton_template/EGamma_Run2018D_part3.root: 100%|██████████| 2888173/2888173 [00:16<00:00, 176879.71it/s]\n"
     ]
    },
    {
     "name": "stdout",
     "output_type": "stream",
     "text": [
      "DONE\n"
     ]
    }
   ],
   "source": [
    "xbins = 200\n",
    "xlow = 0\n",
    "xup = 200\n",
    "\n",
    "hist_pre1 = ROOT.TH1F(\"\",\"\",xbins,xlow,xup)\n",
    "hist_pre2 = ROOT.TH1F(\"\",\"\",xbins,xlow,xup)\n",
    "hist = ROOT.TH1F(\"\",\"\",xbins,xlow,xup)\n",
    "hist_mu24 = ROOT.TH1F(\"\",\"\",xbins,xlow,xup)\n",
    "\n",
    "hist_pre1.Sumw2()\n",
    "hist_pre2.Sumw2()\n",
    "hist.Sumw2()\n",
    "hist_mu24.Sumw2()\n",
    "\n",
    "filelist_prescale_valid = [\n",
    "#     \"/eos/user/s/sdeng/WZG_analysis/fake_lepton_template/DoubleEG_Run2017B.root\",\n",
    "#     \"/eos/user/s/sdeng/WZG_analysis/fake_lepton_template/DoubleEG_Run2017C.root\",\n",
    "#     \"/eos/user/s/sdeng/WZG_analysis/fake_lepton_template/DoubleEG_Run2017D.root\",\n",
    "#     \"/eos/user/s/sdeng/WZG_analysis/fake_lepton_template/DoubleEG_Run2017E.root\",\n",
    "#     \"/eos/user/s/sdeng/WZG_analysis/fake_lepton_template/DoubleEG_Run2017F.root\",\n",
    "    \"/eos/user/s/sdeng/WZG_analysis/fake_lepton_template/EGamma_Run2018A.root\",\n",
    "    \"/eos/user/s/sdeng/WZG_analysis/fake_lepton_template/EGamma_Run2018B.root\",\n",
    "    \"/eos/user/s/sdeng/WZG_analysis/fake_lepton_template/EGamma_Run2018C.root\",\n",
    "    \"/eos/user/s/sdeng/WZG_analysis/fake_lepton_template/EGamma_Run2018D_part1.root\",\n",
    "    \"/eos/user/s/sdeng/WZG_analysis/fake_lepton_template/EGamma_Run2018D_part2.root\",\n",
    "    \"/eos/user/s/sdeng/WZG_analysis/fake_lepton_template/EGamma_Run2018D_part3.root\",\n",
    "#     \"/eos/user/s/sdeng/WZG_analysis/DY_test/SingleMuon_Run2018A.root\",\n",
    "#     \"/eos/user/s/sdeng/WZG_analysis/DY_test/SingleMuon_Run2018B.root\",\n",
    "#     \"/eos/user/s/sdeng/WZG_analysis/DY_test/SingleMuon_Run2018C.root\",\n",
    "#     \"/eos/user/s/sdeng/WZG_analysis/DY_test/SingleMuon_Run2018D.root\",\n",
    "#     \"/eos/user/s/sdeng/WZG_analysis/DY_test/DYJetsToLL_M-50_TuneCP5_13TeV-madgraphMLM-pythia8_2018.root\",\n",
    "#     \"/eos/user/s/sdeng/WZG_analysis/DY_test/DYJetsToLL_M-50_TuneCP5_13TeV-madgraphMLM-pythia8_2016.root\",\n",
    "#     \"/eos/user/s/sdeng/WZG_analysis/DY_test/SingleMuon_Run2016C.root\",\n",
    "#     \"/eos/user/s/sdeng/WZG_analysis/fake_lepton_template/test_diff_reco/SingleMuon_Run2016C-UL2016_MiniAODv1_NanoAODv2-v1.root\",\n",
    "#     \"/eos/user/s/sdeng/WZG_analysis/fake_lepton_template/SingleMuon_Run2018D-02Apr2020-v1_part1.root\",\n",
    "#     \"/eos/user/s/sdeng/WZG_analysis/fake_lepton_template/SingleMuon_Run2018D-02Apr2020-v1_part2.root\",\n",
    "#     \"/eos/user/s/sdeng/WZG_analysis/fake_lepton_template/SingleMuon_Run2018D-02Apr2020-v1_part3.root\",\n",
    "#     \"/eos/user/s/sdeng/WZG_analysis/fake_lepton_template/SingleMuon_Run2018D-14Sep2018_ver2-v1_part1.root\",\n",
    "#     \"/eos/user/s/sdeng/WZG_analysis/fake_lepton_template/DoubleMuon_Run2018A.root\",\n",
    "#     \"/eos/user/s/sdeng/WZG_analysis/fake_lepton_template/DoubleMuon_Run2018B.root\",\n",
    "#     \"/eos/user/s/sdeng/WZG_analysis/fake_lepton_template/DoubleMuon_Run2018C.root\",\n",
    "#     \"/eos/user/s/sdeng/WZG_analysis/fake_lepton_template/DoubleMuon_Run2018D.root\",\n",
    "]\n",
    "\n",
    "for file in filelist_prescale_valid:\n",
    "    AddHist_Prescale_valid(file, hist_pre1, hist_pre2, hist, hist_mu24)\n"
   ]
  },
  {
   "cell_type": "code",
   "execution_count": 9,
   "id": "beginning-harvard",
   "metadata": {},
   "outputs": [
    {
     "name": "stdout",
     "output_type": "stream",
     "text": [
      "59.7 fb^{-1} (13 TeV)\n"
     ]
    },
    {
     "data": {
      "image/png": "[encoded data removed]",
      "text/plain": [
       "<IPython.core.display.Image object>"
      ]
     },
     "metadata": {},
     "output_type": "display_data"
    }
   ],
   "source": [
    "def SetHistStyle_prescale_valid(hist, color):\n",
    "    hist.SetMarkerStyle(20)\n",
    "    hist.SetMarkerColor(color)\n",
    "    hist.SetLineColor(color)\n",
    "    hist.SetYTitle('events/bin')\n",
    "    hist.SetXTitle('Electron P_{T} [GeV]')\n",
    "    hist.SetStats(0)\n",
    "    \n",
    "c1 = ROOT.TCanvas(\"\",\"\",1000,800)\n",
    "\n",
    "SetHistStyle_prescale_valid(hist, 1)\n",
    "SetHistStyle_prescale_valid(hist_mu24, 11)\n",
    "SetHistStyle_prescale_valid(hist_pre1, 2)\n",
    "SetHistStyle_prescale_valid(hist_pre2, 4)\n",
    "\n",
    "hist_pre1_clone = hist_pre1.Clone()\n",
    "hist_pre2_clone = hist_pre2.Clone()\n",
    "hist_clone = hist.Clone()\n",
    "hist_mu24_clone = hist_mu24.Clone()\n",
    "# hist_pre1_clone.Scale(59.7/0.00856)\n",
    "# hist_pre2_clone.Scale(59.7/0.04578)\n",
    "# hist_pre1_clone.Scale(36.9/0.00780)\n",
    "# hist_pre2_clone.Scale(36.9/0.21675)\n",
    "\n",
    "hist_pre1_clone.Scale(59.7/0.00641)\n",
    "hist_pre2_clone.Scale(59.7/0.03891)\n",
    "# hist_pre1_clone.Scale(41.54/0.00397)\n",
    "# hist_pre2_clone.Scale(41.54/0.04347)\n",
    "\n",
    "c1.Draw()\n",
    "hist_pre2_clone.Draw(\"pe SAME\")\n",
    "hist_pre1_clone.Draw(\"SAME pe\")\n",
    "hist_clone.Draw(\"pe SAME\")\n",
    "# hist_mu24_clone.Draw(\"pe SAME\")\n",
    "\n",
    "hist_pre2_clone.SetMinimum(1)\n",
    "# hist_pre2_clone.SetMaximum(hist_pre2_clone.GetMaximum()*1.8)\n",
    "hist_pre2_clone.SetMaximum(10000000000)\n",
    "# hist_pre2_clone.SetMaximum(hist_pre2_clone.GetMaximum()*1.8)\n",
    "# Line = ROOT.TLine(25, c1.GetUymin(), 25, hist_pre2_clone.GetMaximum())\n",
    "# Line = ROOT.TLine(25, c1.GetUymin(), 25, hist_mu24_clone.GetMaximum()*1.0)\n",
    "# Line.SetLineStyle(2)\n",
    "# Line.Draw(\"SAME\")\n",
    "# Line.Print()\n",
    "\n",
    "legend = ROOT.TLegend(0.30, 0.65, 0.50, 0.85)\n",
    "legend.SetBorderSize(0)\n",
    "legend.SetFillColor(0)\n",
    "legend.SetTextSize(0.035)\n",
    "legend.SetLineWidth(1)\n",
    "legend.SetLineStyle(2)\n",
    "legend.AddEntry(hist,'No HLT')\n",
    "# legend.AddEntry(hist_mu24,'HLT_IsoMu24')\n",
    "legend.AddEntry(hist_pre1,'HLT_Ele8_CaloIdL_TrackIdL_IsoVL_PFJet30')\n",
    "legend.AddEntry(hist_pre2,'HLT_Ele23_CaloIdL_TrackIdL_IsoVL_PFJet30')\n",
    "legend.Draw(\"SAME\")\n",
    "\n",
    "ROOT.gPad.SetLogy()\n",
    "# ROOT.gPad.SetGrid()\n",
    "CMS_lumi(c1, 0, 0)\n",
    "# c1.SaveAs('Fake_Lepton/PreScale_valid_Mu_addfactor_2018.pdf')\n",
    "# c1.SaveAs('Fake_Lepton/PreScale_valid_Mu_addfactor_2018.png')"
   ]
  },
  {
   "cell_type": "markdown",
   "id": "respiratory-swedish",
   "metadata": {
    "tags": []
   },
   "source": [
    "### Fake Template distribution"
   ]
  },
  {
   "cell_type": "code",
   "execution_count": 53,
   "id": "forced-pharmacy",
   "metadata": {},
   "outputs": [],
   "source": [
    "def AddHist_FTdist(file, branch, hist_pre1, hist_pre2, isData, xsec):\n",
    "    \n",
    "    if isData:\n",
    "        print('is Data')\n",
    "        init_branches = ['is_lepton_tight','jet_pt','mt','met','lepton_pt','lepton_eta','lepton_pdgid','lepton_pfRelIso04_all',\\\n",
    "                                                       'HLT_IsoMu24','HLT_Mu8_TrkIsoVVL','HLT_Mu17_TrkIsoVVL','hlt',\\\n",
    "                                                      'HLT_Ele8_CaloIdL_TrackIdL_IsoVL_PFJet30','HLT_Ele23_CaloIdL_TrackIdL_IsoVL_PFJet30']\n",
    "        if not (branch in init_branches):\n",
    "            init_branches.append(branch)\n",
    "        branches = uproot.open(file+':Events').arrays(init_branches, library='pd')\n",
    "#         branches = uproot.open(file+':Events').arrays(['jet_pt','HLT_Ele32_WPTight_Gsf','is_lepton_tight','mt','met','lepton_pt','lepton_eta','lepton_pdgid','HLT_Ele8_CaloIdL_TrackIdL_IsoVL_PFJet30','HLT_Ele23_CaloIdL_TrackIdL_IsoVL_PFJet30','hlt'], library='pd')\n",
    "    else:\n",
    "        print('is MC')\n",
    "        init_branches = ['is_lepton_tight','jet_pt','mt','met','lepton_pt','lepton_eta','lepton_pdgid','lepton_pfRelIso04_all','lepton_gen_matching','gen_weight',\\\n",
    "                                                       'HLT_IsoMu24','HLT_Mu8_TrkIsoVVL','HLT_Mu17_TrkIsoVVL','hlt',\\\n",
    "                                                      'HLT_Ele8_CaloIdL_TrackIdL_IsoVL_PFJet30','HLT_Ele23_CaloIdL_TrackIdL_IsoVL_PFJet30']\n",
    "        if not (branch in init_branches):\n",
    "            init_branches.append(branch)\n",
    "        branches = uproot.open(file+':Events').arrays(init_branches, library='pd')\n",
    "#         branches = uproot.open(file+':Events').arrays([,'HLT_Ele32_WPTight_Gsf','is_lepton_tight','mt','met','lepton_pt','lepton_eta','lepton_pdgid','lepton_gen_matching','HLT_Ele8_CaloIdL_TrackIdL_IsoVL_PFJet30','HLT_Ele23_CaloIdL_TrackIdL_IsoVL_PFJet30','hlt','gen_weight'], library='pd')\n",
    "        true_events = uproot.open(file)['nEventsGenWeighted'].values()[0]\n",
    "#         print (true_events)\n",
    "#         weight_lowpt = (1000*xsec*0.00290) / true_events\n",
    "#         weight_highpt = (1000*xsec*0.06594) / true_events\n",
    "        weight_lowpt = (1000*xsec*0.00397) / true_events\n",
    "        weight_highpt = (1000*xsec*0.04347) / true_events\n",
    "        lepton_gen_cut1 = branches.loc[:,'lepton_gen_matching'] == 1\n",
    "        lepton_gen_cut2 = branches.loc[:,'lepton_gen_matching'] == 15\n",
    "        \n",
    "#     HLT_cut1 = branches.loc[:,'HLT_Mu8_TrkIsoVVL'] == True\n",
    "#     HLT_cut2 = branches.loc[:,'HLT_Mu17_TrkIsoVVL'] == True\n",
    "    HLT_cut1 = branches.loc[:,'HLT_Ele8_CaloIdL_TrackIdL_IsoVL_PFJet30'] == True\n",
    "    HLT_cut2 = branches.loc[:,'HLT_Ele23_CaloIdL_TrackIdL_IsoVL_PFJet30'] == True\n",
    "    \n",
    "    met_cut = branches.loc[:,'met'] < 2000\n",
    "    mt_cut = branches.loc[:,'mt'] < 20\n",
    "    lepton_cut = abs(branches.loc[:,'lepton_pdgid']) == 11\n",
    "#     pf_cut = branches.loc[:,'lepton_pfRelIso04_all'] < 0.4\n",
    "    pf_cut = branches.loc[:,'is_lepton_tight'] == 0\n",
    "    pt_edge = branches.loc[:,'lepton_pt'] < 25\n",
    "    jet_pt = branches.loc[:,'jet_pt'] >35\n",
    "    \n",
    "    if isData:\n",
    "        arrays_0_25 = branches.loc[HLT_cut1 & lepton_cut & pf_cut & pt_edge & met_cut & mt_cut & jet_pt,:] \n",
    "        arrays_25_Inf = branches.loc[HLT_cut2 & lepton_cut & pf_cut & ~pt_edge & met_cut & mt_cut & jet_pt,:] \n",
    "        for i in trange(0, len(arrays_0_25[branch]), desc=f'fill pt<25 part for {file}'):\n",
    "            hist_pre1.Fill(float(arrays_0_25[branch].values[i]))\n",
    "        for i in trange(0, len(arrays_25_Inf[branch]), desc=f'fill pt>25 part for {file}'):\n",
    "            hist_pre2.Fill(float(arrays_25_Inf[branch].values[i]))\n",
    "    \n",
    "    else:\n",
    "        if ('TTbar' in file) or ('QCD' in file):\n",
    "            print (\"QCD process\\n\")\n",
    "            arrays_0_25 = branches.loc[HLT_cut1 & lepton_cut & pf_cut & pt_edge & met_cut & mt_cut & jet_pt,:] \n",
    "            arrays_25_Inf = branches.loc[HLT_cut2 & lepton_cut & pf_cut & ~pt_edge & met_cut & mt_cut & jet_pt,:] \n",
    "        else:\n",
    "            arrays_0_25 = branches.loc[HLT_cut1 & lepton_cut & pf_cut & pt_edge & met_cut & mt_cut & (lepton_gen_cut1 | lepton_gen_cut2) & jet_pt,:] \n",
    "            arrays_25_Inf = branches.loc[HLT_cut2 & lepton_cut & pf_cut & ~pt_edge & met_cut & mt_cut & (lepton_gen_cut1 | lepton_gen_cut2) & jet_pt,:] \n",
    "        for i in trange(0, len(arrays_0_25[branch]), desc=f'fill pt<25 part for {file}'):\n",
    "            hist_pre1.Fill(float(arrays_0_25[branch].values[i]), weight_lowpt*sgn(arrays_0_25['gen_weight'].values[i]))\n",
    "        for i in trange(0, len(arrays_25_Inf[branch]), desc=f'fill pt>25 part for {file}'):\n",
    "            hist_pre2.Fill(float(arrays_25_Inf[branch].values[i]), weight_highpt*sgn(arrays_25_Inf['gen_weight'].values[i]))\n",
    "        \n",
    "    print(\"DONE\")\n",
    "    return True\n",
    "    "
   ]
  },
  {
   "cell_type": "code",
   "execution_count": 55,
   "id": "0f7b57d1-2459-4428-9151-cf7986d1d250",
   "metadata": {},
   "outputs": [
    {
     "name": "stdout",
     "output_type": "stream",
     "text": [
      "is Data\n"
     ]
    },
    {
     "name": "stderr",
     "output_type": "stream",
     "text": [
      "fill pt<25 part for /eos/user/s/sdeng/WZG_analysis/fake_lepton_template/2017/SingleElectron_Run2017C_0000.root: 100%|██████████| 9886/9886 [00:00<00:00, 198067.75it/s]\n",
      "fill pt>25 part for /eos/user/s/sdeng/WZG_analysis/fake_lepton_template/2017/SingleElectron_Run2017C_0000.root: 100%|██████████| 12508/12508 [00:00<00:00, 198696.96it/s]\n"
     ]
    },
    {
     "name": "stdout",
     "output_type": "stream",
     "text": [
      "DONE\n",
      "is Data\n"
     ]
    },
    {
     "name": "stderr",
     "output_type": "stream",
     "text": [
      "fill pt<25 part for /eos/user/s/sdeng/WZG_analysis/fake_lepton_template/2017/SingleElectron_Run2017D_0000.root: 100%|██████████| 2458/2458 [00:00<00:00, 186352.86it/s]\n",
      "fill pt>25 part for /eos/user/s/sdeng/WZG_analysis/fake_lepton_template/2017/SingleElectron_Run2017D_0000.root: 100%|██████████| 6311/6311 [00:00<00:00, 156847.74it/s]\n"
     ]
    },
    {
     "name": "stdout",
     "output_type": "stream",
     "text": [
      "DONE\n",
      "is Data\n"
     ]
    },
    {
     "name": "stderr",
     "output_type": "stream",
     "text": [
      "fill pt<25 part for /eos/user/s/sdeng/WZG_analysis/fake_lepton_template/2017/SingleElectron_Run2017E_0000.root: 100%|██████████| 3453/3453 [00:00<00:00, 195554.09it/s]\n",
      "fill pt>25 part for /eos/user/s/sdeng/WZG_analysis/fake_lepton_template/2017/SingleElectron_Run2017E_0000.root: 100%|██████████| 8467/8467 [00:00<00:00, 191896.71it/s]\n"
     ]
    },
    {
     "name": "stdout",
     "output_type": "stream",
     "text": [
      "DONE\n",
      "is Data\n"
     ]
    },
    {
     "name": "stderr",
     "output_type": "stream",
     "text": [
      "fill pt<25 part for /eos/user/s/sdeng/WZG_analysis/fake_lepton_template/2017/SingleElectron_Run2017F_0000.root: 100%|██████████| 8865/8865 [00:00<00:00, 195240.12it/s]\n",
      "fill pt>25 part for /eos/user/s/sdeng/WZG_analysis/fake_lepton_template/2017/SingleElectron_Run2017F_0000.root: 100%|██████████| 19657/19657 [00:00<00:00, 196526.61it/s]\n"
     ]
    },
    {
     "name": "stdout",
     "output_type": "stream",
     "text": [
      "DONE\n",
      "is MC\n"
     ]
    },
    {
     "name": "stderr",
     "output_type": "stream",
     "text": [
      "fill pt<25 part for /eos/user/s/sdeng/WZG_analysis/fake_lepton_template/2017/WJetsToLNu_TuneCP5_13TeV-madgraphMLM-pythia8_2017_0000.root: 100%|██████████| 4485/4485 [00:00<00:00, 103932.98it/s]\n",
      "fill pt>25 part for /eos/user/s/sdeng/WZG_analysis/fake_lepton_template/2017/WJetsToLNu_TuneCP5_13TeV-madgraphMLM-pythia8_2017_0000.root: 100%|██████████| 2562/2562 [00:00<00:00, 103385.71it/s]\n"
     ]
    },
    {
     "name": "stdout",
     "output_type": "stream",
     "text": [
      "DONE\n",
      "is MC\n"
     ]
    },
    {
     "name": "stderr",
     "output_type": "stream",
     "text": [
      "fill pt<25 part for /eos/user/s/sdeng/WZG_analysis/fake_lepton_template/2017/DYJetsToLL_M-50_TuneCP5_13TeV-madgraphMLM-pythia8_2017_0000.root: 100%|██████████| 35629/35629 [00:00<00:00, 84158.05it/s]\n",
      "fill pt>25 part for /eos/user/s/sdeng/WZG_analysis/fake_lepton_template/2017/DYJetsToLL_M-50_TuneCP5_13TeV-madgraphMLM-pythia8_2017_0000.root: 100%|██████████| 22943/22943 [00:00<00:00, 85322.24it/s]\n"
     ]
    },
    {
     "name": "stdout",
     "output_type": "stream",
     "text": [
      "DONE\n",
      "is MC\n"
     ]
    },
    {
     "name": "stderr",
     "output_type": "stream",
     "text": [
      "fill pt<25 part for /eos/user/s/sdeng/WZG_analysis/fake_lepton_template/2017/DYJetsToLL_M-10to50_TuneCP5_13TeV-madgraphMLM-pythia8_2017_0000.root: 100%|██████████| 2993/2993 [00:00<00:00, 84860.86it/s]\n",
      "fill pt>25 part for /eos/user/s/sdeng/WZG_analysis/fake_lepton_template/2017/DYJetsToLL_M-10to50_TuneCP5_13TeV-madgraphMLM-pythia8_2017_0000.root: 100%|██████████| 457/457 [00:00<00:00, 80106.86it/s]\n"
     ]
    },
    {
     "name": "stdout",
     "output_type": "stream",
     "text": [
      "DONE\n",
      "is MC\n"
     ]
    },
    {
     "name": "stderr",
     "output_type": "stream",
     "text": [
      "fill pt<25 part for /eos/user/s/sdeng/WZG_analysis/fake_lepton_template/2017/QCD_Pt-15to20_EMEnriched_TuneCP5_13TeV_pythia8_2017_0000.root: 100%|██████████| 211/211 [00:00<00:00, 93938.88it/s]\n",
      "fill pt>25 part for /eos/user/s/sdeng/WZG_analysis/fake_lepton_template/2017/QCD_Pt-15to20_EMEnriched_TuneCP5_13TeV_pythia8_2017_0000.root: 100%|██████████| 11/11 [00:00<00:00, 34049.70it/s]"
     ]
    },
    {
     "name": "stdout",
     "output_type": "stream",
     "text": [
      "QCD process\n",
      "\n",
      "DONE\n",
      "is MC\n"
     ]
    },
    {
     "name": "stderr",
     "output_type": "stream",
     "text": [
      "\n"
     ]
    },
    {
     "ename": "FileNotFoundError",
     "evalue": "file not found\n\n    '/eos/user/s/sdeng/WZG_analysis/fake_lepton_template/2017/QCD_Pt-20to30_EMEnriched_TuneCP5_13TeV_pythia8_2017_0000.root'\n\nFiles may be specified as:\n   * str/bytes: relative or absolute filesystem path or URL, without any colons\n         other than Windows drive letter or URL schema.\n         Examples: \"rel/file.root\", \"C:\\abs\\file.root\", \"http://where/what.root\"\n   * str/bytes: same with an object-within-ROOT path, separated by a colon.\n         Example: \"rel/file.root:tdirectory/ttree\"\n   * pathlib.Path: always interpreted as a filesystem path or URL only (no\n         object-within-ROOT path), regardless of whether there are any colons.\n         Examples: Path(\"rel:/file.root\"), Path(\"/abs/path:stuff.root\")\n\nFunctions that accept many files (uproot.iterate, etc.) also allow:\n   * glob syntax in str/bytes and pathlib.Path.\n         Examples: Path(\"rel/*.root\"), \"/abs/*.root:tdirectory/ttree\"\n   * dict: keys are filesystem paths, values are objects-within-ROOT paths.\n         Example: {\"/data_v1/*.root\": \"ttree_v1\", \"/data_v2/*.root\": \"ttree_v2\"}\n   * already-open TTree objects.\n   * iterables of the above.\n",
     "output_type": "error",
     "traceback": [
      "\u001b[0;31m---------------------------------------------------------------------------\u001b[0m",
      "\u001b[0;31mFileNotFoundError\u001b[0m                         Traceback (most recent call last)",
      "\u001b[0;32m~/.local/lib/python3.7/site-packages/uproot/source/file.py\u001b[0m in \u001b[0;36m__init__\u001b[0;34m(self, file_path, **options)\u001b[0m\n\u001b[1;32m    109\u001b[0m         \u001b[0;32mtry\u001b[0m\u001b[0;34m:\u001b[0m\u001b[0;34m\u001b[0m\u001b[0;34m\u001b[0m\u001b[0m\n\u001b[0;32m--> 110\u001b[0;31m             \u001b[0mself\u001b[0m\u001b[0;34m.\u001b[0m\u001b[0m_file\u001b[0m \u001b[0;34m=\u001b[0m \u001b[0mnumpy\u001b[0m\u001b[0;34m.\u001b[0m\u001b[0mmemmap\u001b[0m\u001b[0;34m(\u001b[0m\u001b[0mself\u001b[0m\u001b[0;34m.\u001b[0m\u001b[0m_file_path\u001b[0m\u001b[0;34m,\u001b[0m \u001b[0mdtype\u001b[0m\u001b[0;34m=\u001b[0m\u001b[0mself\u001b[0m\u001b[0;34m.\u001b[0m\u001b[0m_dtype\u001b[0m\u001b[0;34m,\u001b[0m \u001b[0mmode\u001b[0m\u001b[0;34m=\u001b[0m\u001b[0;34m\"r\"\u001b[0m\u001b[0;34m)\u001b[0m\u001b[0;34m\u001b[0m\u001b[0;34m\u001b[0m\u001b[0m\n\u001b[0m\u001b[1;32m    111\u001b[0m             \u001b[0mself\u001b[0m\u001b[0;34m.\u001b[0m\u001b[0m_fallback\u001b[0m \u001b[0;34m=\u001b[0m \u001b[0;32mNone\u001b[0m\u001b[0;34m\u001b[0m\u001b[0;34m\u001b[0m\u001b[0m\n",
      "\u001b[0;32m~/.local/lib/python3.7/site-packages/numpy/core/memmap.py\u001b[0m in \u001b[0;36m__new__\u001b[0;34m(subtype, filename, dtype, mode, offset, shape, order)\u001b[0m\n\u001b[1;32m    224\u001b[0m         \u001b[0;32melse\u001b[0m\u001b[0;34m:\u001b[0m\u001b[0;34m\u001b[0m\u001b[0;34m\u001b[0m\u001b[0m\n\u001b[0;32m--> 225\u001b[0;31m             \u001b[0mf_ctx\u001b[0m \u001b[0;34m=\u001b[0m \u001b[0mopen\u001b[0m\u001b[0;34m(\u001b[0m\u001b[0mos_fspath\u001b[0m\u001b[0;34m(\u001b[0m\u001b[0mfilename\u001b[0m\u001b[0;34m)\u001b[0m\u001b[0;34m,\u001b[0m \u001b[0;34m(\u001b[0m\u001b[0;34m'r'\u001b[0m \u001b[0;32mif\u001b[0m \u001b[0mmode\u001b[0m \u001b[0;34m==\u001b[0m \u001b[0;34m'c'\u001b[0m \u001b[0;32melse\u001b[0m \u001b[0mmode\u001b[0m\u001b[0;34m)\u001b[0m\u001b[0;34m+\u001b[0m\u001b[0;34m'b'\u001b[0m\u001b[0;34m)\u001b[0m\u001b[0;34m\u001b[0m\u001b[0;34m\u001b[0m\u001b[0m\n\u001b[0m\u001b[1;32m    226\u001b[0m \u001b[0;34m\u001b[0m\u001b[0m\n",
      "\u001b[0;31mFileNotFoundError\u001b[0m: [Errno 2] No such file or directory: '/eos/user/s/sdeng/WZG_analysis/fake_lepton_template/2017/QCD_Pt-20to30_EMEnriched_TuneCP5_13TeV_pythia8_2017_0000.root'",
      "\nDuring handling of the above exception, another exception occurred:\n",
      "\u001b[0;31mFileNotFoundError\u001b[0m                         Traceback (most recent call last)",
      "\u001b[0;32m~/.local/lib/python3.7/site-packages/uproot/source/file.py\u001b[0m in \u001b[0;36m__init__\u001b[0;34m(self, file_path)\u001b[0m\n\u001b[1;32m     36\u001b[0m         \u001b[0;32mtry\u001b[0m\u001b[0;34m:\u001b[0m\u001b[0;34m\u001b[0m\u001b[0;34m\u001b[0m\u001b[0m\n\u001b[0;32m---> 37\u001b[0;31m             \u001b[0mself\u001b[0m\u001b[0;34m.\u001b[0m\u001b[0m_file\u001b[0m \u001b[0;34m=\u001b[0m \u001b[0mopen\u001b[0m\u001b[0;34m(\u001b[0m\u001b[0mself\u001b[0m\u001b[0;34m.\u001b[0m\u001b[0m_file_path\u001b[0m\u001b[0;34m,\u001b[0m \u001b[0;34m\"rb\"\u001b[0m\u001b[0;34m)\u001b[0m\u001b[0;34m\u001b[0m\u001b[0;34m\u001b[0m\u001b[0m\n\u001b[0m\u001b[1;32m     38\u001b[0m         \u001b[0;32mexcept\u001b[0m \u001b[0muproot\u001b[0m\u001b[0;34m.\u001b[0m\u001b[0m_util\u001b[0m\u001b[0;34m.\u001b[0m\u001b[0m_FileNotFoundError\u001b[0m\u001b[0;34m:\u001b[0m\u001b[0;34m\u001b[0m\u001b[0;34m\u001b[0m\u001b[0m\n",
      "\u001b[0;31mFileNotFoundError\u001b[0m: [Errno 2] No such file or directory: '/eos/user/s/sdeng/WZG_analysis/fake_lepton_template/2017/QCD_Pt-20to30_EMEnriched_TuneCP5_13TeV_pythia8_2017_0000.root'",
      "\nDuring handling of the above exception, another exception occurred:\n",
      "\u001b[0;31mFileNotFoundError\u001b[0m                         Traceback (most recent call last)",
      "\u001b[0;32m<ipython-input-55-cf8bf7e70dd9>\u001b[0m in \u001b[0;36m<module>\u001b[0;34m\u001b[0m\n\u001b[1;32m    116\u001b[0m ]\n\u001b[1;32m    117\u001b[0m \u001b[0;32mfor\u001b[0m \u001b[0mi\u001b[0m \u001b[0;32min\u001b[0m \u001b[0mrange\u001b[0m\u001b[0;34m(\u001b[0m\u001b[0mlen\u001b[0m\u001b[0;34m(\u001b[0m\u001b[0mfile_list_QCD\u001b[0m\u001b[0;34m)\u001b[0m\u001b[0;34m)\u001b[0m\u001b[0;34m:\u001b[0m\u001b[0;34m\u001b[0m\u001b[0;34m\u001b[0m\u001b[0m\n\u001b[0;32m--> 118\u001b[0;31m     \u001b[0mAddHist_FTdist\u001b[0m\u001b[0;34m(\u001b[0m\u001b[0mfile_list_QCD\u001b[0m\u001b[0;34m[\u001b[0m\u001b[0mi\u001b[0m\u001b[0;34m]\u001b[0m\u001b[0;34m,\u001b[0m \u001b[0mbranch\u001b[0m\u001b[0;34m,\u001b[0m \u001b[0mhist_dist1_ttbar\u001b[0m\u001b[0;34m,\u001b[0m \u001b[0mhist_dist2_ttbar\u001b[0m\u001b[0;34m,\u001b[0m \u001b[0;36m0\u001b[0m\u001b[0;34m,\u001b[0m \u001b[0mxsec_list_QCD\u001b[0m\u001b[0;34m[\u001b[0m\u001b[0mi\u001b[0m\u001b[0;34m]\u001b[0m\u001b[0;34m)\u001b[0m\u001b[0;34m\u001b[0m\u001b[0;34m\u001b[0m\u001b[0m\n\u001b[0m\u001b[1;32m    119\u001b[0m \u001b[0;34m\u001b[0m\u001b[0m\n",
      "\u001b[0;32m<ipython-input-53-df8e22a59110>\u001b[0m in \u001b[0;36mAddHist_FTdist\u001b[0;34m(file, branch, hist_pre1, hist_pre2, isData, xsec)\u001b[0m\n\u001b[1;32m     17\u001b[0m         \u001b[0;32mif\u001b[0m \u001b[0;32mnot\u001b[0m \u001b[0;34m(\u001b[0m\u001b[0mbranch\u001b[0m \u001b[0;32min\u001b[0m \u001b[0minit_branches\u001b[0m\u001b[0;34m)\u001b[0m\u001b[0;34m:\u001b[0m\u001b[0;34m\u001b[0m\u001b[0;34m\u001b[0m\u001b[0m\n\u001b[1;32m     18\u001b[0m             \u001b[0minit_branches\u001b[0m\u001b[0;34m.\u001b[0m\u001b[0mappend\u001b[0m\u001b[0;34m(\u001b[0m\u001b[0mbranch\u001b[0m\u001b[0;34m)\u001b[0m\u001b[0;34m\u001b[0m\u001b[0;34m\u001b[0m\u001b[0m\n\u001b[0;32m---> 19\u001b[0;31m         \u001b[0mbranches\u001b[0m \u001b[0;34m=\u001b[0m \u001b[0muproot\u001b[0m\u001b[0;34m.\u001b[0m\u001b[0mopen\u001b[0m\u001b[0;34m(\u001b[0m\u001b[0mfile\u001b[0m\u001b[0;34m+\u001b[0m\u001b[0;34m':Events'\u001b[0m\u001b[0;34m)\u001b[0m\u001b[0;34m.\u001b[0m\u001b[0marrays\u001b[0m\u001b[0;34m(\u001b[0m\u001b[0minit_branches\u001b[0m\u001b[0;34m,\u001b[0m \u001b[0mlibrary\u001b[0m\u001b[0;34m=\u001b[0m\u001b[0;34m'pd'\u001b[0m\u001b[0;34m)\u001b[0m\u001b[0;34m\u001b[0m\u001b[0;34m\u001b[0m\u001b[0m\n\u001b[0m\u001b[1;32m     20\u001b[0m \u001b[0;31m#         branches = uproot.open(file+':Events').arrays([,'HLT_Ele32_WPTight_Gsf','is_lepton_tight','mt','met','lepton_pt','lepton_eta','lepton_pdgid','lepton_gen_matching','HLT_Ele8_CaloIdL_TrackIdL_IsoVL_PFJet30','HLT_Ele23_CaloIdL_TrackIdL_IsoVL_PFJet30','hlt','gen_weight'], library='pd')\u001b[0m\u001b[0;34m\u001b[0m\u001b[0;34m\u001b[0m\u001b[0;34m\u001b[0m\u001b[0m\n\u001b[1;32m     21\u001b[0m         \u001b[0mtrue_events\u001b[0m \u001b[0;34m=\u001b[0m \u001b[0muproot\u001b[0m\u001b[0;34m.\u001b[0m\u001b[0mopen\u001b[0m\u001b[0;34m(\u001b[0m\u001b[0mfile\u001b[0m\u001b[0;34m)\u001b[0m\u001b[0;34m[\u001b[0m\u001b[0;34m'nEventsGenWeighted'\u001b[0m\u001b[0;34m]\u001b[0m\u001b[0;34m.\u001b[0m\u001b[0mvalues\u001b[0m\u001b[0;34m(\u001b[0m\u001b[0;34m)\u001b[0m\u001b[0;34m[\u001b[0m\u001b[0;36m0\u001b[0m\u001b[0;34m]\u001b[0m\u001b[0;34m\u001b[0m\u001b[0;34m\u001b[0m\u001b[0m\n",
      "\u001b[0;32m~/.local/lib/python3.7/site-packages/uproot/reading.py\u001b[0m in \u001b[0;36mopen\u001b[0;34m(path, object_cache, array_cache, custom_classes, decompression_executor, interpretation_executor, **options)\u001b[0m\n\u001b[1;32m    144\u001b[0m         \u001b[0mdecompression_executor\u001b[0m\u001b[0;34m=\u001b[0m\u001b[0mdecompression_executor\u001b[0m\u001b[0;34m,\u001b[0m\u001b[0;34m\u001b[0m\u001b[0;34m\u001b[0m\u001b[0m\n\u001b[1;32m    145\u001b[0m         \u001b[0minterpretation_executor\u001b[0m\u001b[0;34m=\u001b[0m\u001b[0minterpretation_executor\u001b[0m\u001b[0;34m,\u001b[0m\u001b[0;34m\u001b[0m\u001b[0;34m\u001b[0m\u001b[0m\n\u001b[0;32m--> 146\u001b[0;31m         \u001b[0;34m**\u001b[0m\u001b[0moptions\u001b[0m  \u001b[0;31m# NOTE: a comma after **options breaks Python 2\u001b[0m\u001b[0;34m\u001b[0m\u001b[0;34m\u001b[0m\u001b[0m\n\u001b[0m\u001b[1;32m    147\u001b[0m     )\n\u001b[1;32m    148\u001b[0m \u001b[0;34m\u001b[0m\u001b[0m\n",
      "\u001b[0;32m~/.local/lib/python3.7/site-packages/uproot/reading.py\u001b[0m in \u001b[0;36m__init__\u001b[0;34m(self, file_path, object_cache, array_cache, custom_classes, decompression_executor, interpretation_executor, **options)\u001b[0m\n\u001b[1;32m    552\u001b[0m         )\n\u001b[1;32m    553\u001b[0m         self._source = Source(\n\u001b[0;32m--> 554\u001b[0;31m             \u001b[0mfile_path\u001b[0m\u001b[0;34m,\u001b[0m \u001b[0;34m**\u001b[0m\u001b[0mself\u001b[0m\u001b[0;34m.\u001b[0m\u001b[0m_options\u001b[0m  \u001b[0;31m# NOTE: a comma after **options breaks Python 2\u001b[0m\u001b[0;34m\u001b[0m\u001b[0;34m\u001b[0m\u001b[0m\n\u001b[0m\u001b[1;32m    555\u001b[0m         )\n\u001b[1;32m    556\u001b[0m \u001b[0;34m\u001b[0m\u001b[0m\n",
      "\u001b[0;32m~/.local/lib/python3.7/site-packages/uproot/source/file.py\u001b[0m in \u001b[0;36m__init__\u001b[0;34m(self, file_path, **options)\u001b[0m\n\u001b[1;32m    115\u001b[0m             \u001b[0mopts\u001b[0m\u001b[0;34m[\u001b[0m\u001b[0;34m\"num_workers\"\u001b[0m\u001b[0;34m]\u001b[0m \u001b[0;34m=\u001b[0m \u001b[0mnum_fallback_workers\u001b[0m\u001b[0;34m\u001b[0m\u001b[0;34m\u001b[0m\u001b[0m\n\u001b[1;32m    116\u001b[0m             self._fallback = uproot.source.file.MultithreadedFileSource(\n\u001b[0;32m--> 117\u001b[0;31m                 \u001b[0mfile_path\u001b[0m\u001b[0;34m,\u001b[0m \u001b[0;34m**\u001b[0m\u001b[0mopts\u001b[0m  \u001b[0;31m# NOTE: a comma after **opts breaks Python 2\u001b[0m\u001b[0;34m\u001b[0m\u001b[0;34m\u001b[0m\u001b[0m\n\u001b[0m\u001b[1;32m    118\u001b[0m             )\n\u001b[1;32m    119\u001b[0m \u001b[0;34m\u001b[0m\u001b[0m\n",
      "\u001b[0;32m~/.local/lib/python3.7/site-packages/uproot/source/file.py\u001b[0m in \u001b[0;36m__init__\u001b[0;34m(self, file_path, **options)\u001b[0m\n\u001b[1;32m    244\u001b[0m         \u001b[0mself\u001b[0m\u001b[0;34m.\u001b[0m\u001b[0m_file_path\u001b[0m \u001b[0;34m=\u001b[0m \u001b[0mfile_path\u001b[0m\u001b[0;34m\u001b[0m\u001b[0;34m\u001b[0m\u001b[0m\n\u001b[1;32m    245\u001b[0m         self._executor = uproot.source.futures.ResourceThreadPoolExecutor(\n\u001b[0;32m--> 246\u001b[0;31m             \u001b[0;34m[\u001b[0m\u001b[0mFileResource\u001b[0m\u001b[0;34m(\u001b[0m\u001b[0mfile_path\u001b[0m\u001b[0;34m)\u001b[0m \u001b[0;32mfor\u001b[0m \u001b[0mx\u001b[0m \u001b[0;32min\u001b[0m \u001b[0muproot\u001b[0m\u001b[0;34m.\u001b[0m\u001b[0m_util\u001b[0m\u001b[0;34m.\u001b[0m\u001b[0mrange\u001b[0m\u001b[0;34m(\u001b[0m\u001b[0mnum_workers\u001b[0m\u001b[0;34m)\u001b[0m\u001b[0;34m]\u001b[0m\u001b[0;34m\u001b[0m\u001b[0;34m\u001b[0m\u001b[0m\n\u001b[0m\u001b[1;32m    247\u001b[0m         )\n\u001b[1;32m    248\u001b[0m         \u001b[0mself\u001b[0m\u001b[0;34m.\u001b[0m\u001b[0m_num_bytes\u001b[0m \u001b[0;34m=\u001b[0m \u001b[0mos\u001b[0m\u001b[0;34m.\u001b[0m\u001b[0mpath\u001b[0m\u001b[0;34m.\u001b[0m\u001b[0mgetsize\u001b[0m\u001b[0;34m(\u001b[0m\u001b[0mself\u001b[0m\u001b[0;34m.\u001b[0m\u001b[0m_file_path\u001b[0m\u001b[0;34m)\u001b[0m\u001b[0;34m\u001b[0m\u001b[0;34m\u001b[0m\u001b[0m\n",
      "\u001b[0;32m~/.local/lib/python3.7/site-packages/uproot/source/file.py\u001b[0m in \u001b[0;36m<listcomp>\u001b[0;34m(.0)\u001b[0m\n\u001b[1;32m    244\u001b[0m         \u001b[0mself\u001b[0m\u001b[0;34m.\u001b[0m\u001b[0m_file_path\u001b[0m \u001b[0;34m=\u001b[0m \u001b[0mfile_path\u001b[0m\u001b[0;34m\u001b[0m\u001b[0;34m\u001b[0m\u001b[0m\n\u001b[1;32m    245\u001b[0m         self._executor = uproot.source.futures.ResourceThreadPoolExecutor(\n\u001b[0;32m--> 246\u001b[0;31m             \u001b[0;34m[\u001b[0m\u001b[0mFileResource\u001b[0m\u001b[0;34m(\u001b[0m\u001b[0mfile_path\u001b[0m\u001b[0;34m)\u001b[0m \u001b[0;32mfor\u001b[0m \u001b[0mx\u001b[0m \u001b[0;32min\u001b[0m \u001b[0muproot\u001b[0m\u001b[0;34m.\u001b[0m\u001b[0m_util\u001b[0m\u001b[0;34m.\u001b[0m\u001b[0mrange\u001b[0m\u001b[0;34m(\u001b[0m\u001b[0mnum_workers\u001b[0m\u001b[0;34m)\u001b[0m\u001b[0;34m]\u001b[0m\u001b[0;34m\u001b[0m\u001b[0;34m\u001b[0m\u001b[0m\n\u001b[0m\u001b[1;32m    247\u001b[0m         )\n\u001b[1;32m    248\u001b[0m         \u001b[0mself\u001b[0m\u001b[0;34m.\u001b[0m\u001b[0m_num_bytes\u001b[0m \u001b[0;34m=\u001b[0m \u001b[0mos\u001b[0m\u001b[0;34m.\u001b[0m\u001b[0mpath\u001b[0m\u001b[0;34m.\u001b[0m\u001b[0mgetsize\u001b[0m\u001b[0;34m(\u001b[0m\u001b[0mself\u001b[0m\u001b[0;34m.\u001b[0m\u001b[0m_file_path\u001b[0m\u001b[0;34m)\u001b[0m\u001b[0;34m\u001b[0m\u001b[0;34m\u001b[0m\u001b[0m\n",
      "\u001b[0;32m~/.local/lib/python3.7/site-packages/uproot/source/file.py\u001b[0m in \u001b[0;36m__init__\u001b[0;34m(self, file_path)\u001b[0m\n\u001b[1;32m     37\u001b[0m             \u001b[0mself\u001b[0m\u001b[0;34m.\u001b[0m\u001b[0m_file\u001b[0m \u001b[0;34m=\u001b[0m \u001b[0mopen\u001b[0m\u001b[0;34m(\u001b[0m\u001b[0mself\u001b[0m\u001b[0;34m.\u001b[0m\u001b[0m_file_path\u001b[0m\u001b[0;34m,\u001b[0m \u001b[0;34m\"rb\"\u001b[0m\u001b[0;34m)\u001b[0m\u001b[0;34m\u001b[0m\u001b[0;34m\u001b[0m\u001b[0m\n\u001b[1;32m     38\u001b[0m         \u001b[0;32mexcept\u001b[0m \u001b[0muproot\u001b[0m\u001b[0;34m.\u001b[0m\u001b[0m_util\u001b[0m\u001b[0;34m.\u001b[0m\u001b[0m_FileNotFoundError\u001b[0m\u001b[0;34m:\u001b[0m\u001b[0;34m\u001b[0m\u001b[0;34m\u001b[0m\u001b[0m\n\u001b[0;32m---> 39\u001b[0;31m             \u001b[0;32mraise\u001b[0m \u001b[0muproot\u001b[0m\u001b[0;34m.\u001b[0m\u001b[0m_util\u001b[0m\u001b[0;34m.\u001b[0m\u001b[0m_file_not_found\u001b[0m\u001b[0;34m(\u001b[0m\u001b[0mfile_path\u001b[0m\u001b[0;34m)\u001b[0m\u001b[0;34m\u001b[0m\u001b[0;34m\u001b[0m\u001b[0m\n\u001b[0m\u001b[1;32m     40\u001b[0m \u001b[0;34m\u001b[0m\u001b[0m\n\u001b[1;32m     41\u001b[0m     \u001b[0;34m@\u001b[0m\u001b[0mproperty\u001b[0m\u001b[0;34m\u001b[0m\u001b[0;34m\u001b[0m\u001b[0m\n",
      "\u001b[0;31mFileNotFoundError\u001b[0m: file not found\n\n    '/eos/user/s/sdeng/WZG_analysis/fake_lepton_template/2017/QCD_Pt-20to30_EMEnriched_TuneCP5_13TeV_pythia8_2017_0000.root'\n\nFiles may be specified as:\n   * str/bytes: relative or absolute filesystem path or URL, without any colons\n         other than Windows drive letter or URL schema.\n         Examples: \"rel/file.root\", \"C:\\abs\\file.root\", \"http://where/what.root\"\n   * str/bytes: same with an object-within-ROOT path, separated by a colon.\n         Example: \"rel/file.root:tdirectory/ttree\"\n   * pathlib.Path: always interpreted as a filesystem path or URL only (no\n         object-within-ROOT path), regardless of whether there are any colons.\n         Examples: Path(\"rel:/file.root\"), Path(\"/abs/path:stuff.root\")\n\nFunctions that accept many files (uproot.iterate, etc.) also allow:\n   * glob syntax in str/bytes and pathlib.Path.\n         Examples: Path(\"rel/*.root\"), \"/abs/*.root:tdirectory/ttree\"\n   * dict: keys are filesystem paths, values are objects-within-ROOT paths.\n         Example: {\"/data_v1/*.root\": \"ttree_v1\", \"/data_v2/*.root\": \"ttree_v2\"}\n   * already-open TTree objects.\n   * iterables of the above.\n"
     ]
    },
    {
     "name": "stderr",
     "output_type": "stream",
     "text": [
      "Warning in <TH1D::Sumw2>: Sum of squares of weights structure already created\n",
      "Warning in <TH1D::Sumw2>: Sum of squares of weights structure already created\n",
      "Warning in <TH1D::Sumw2>: Sum of squares of weights structure already created\n"
     ]
    }
   ],
   "source": [
    "xbins = 20\n",
    "xlow = 0\n",
    "xup = 200\n",
    "branch = 'met'\n",
    "\n",
    "ptbins = [10, 13, 16, 20, 24, 28, 35, 45, 200]\n",
    "\n",
    "hist_dist1_DATA = ROOT.TH1D(\"\",\"\",xbins, xlow, xup)\n",
    "hist_dist2_DATA = ROOT.TH1D(\"\",\"\",xbins, xlow, xup)\n",
    "\n",
    "# hist_dist1_DATA = ROOT.TH1D(\"\",\"\",8, array('d',ptbins))\n",
    "# hist_dist2_DATA = ROOT.TH1D(\"\",\"\",8, array('d',ptbins))\n",
    "\n",
    "hist_dist1_DATA.Sumw2()\n",
    "hist_dist2_DATA.Sumw2()\n",
    "\n",
    "file_list = [\n",
    "#     '/eos/user/s/sdeng/WZG_analysis/fake_lepton_template/2017/DoubleMuon_Run2017C_0000.root',\n",
    "#     '/eos/user/s/sdeng/WZG_analysis/fake_lepton_template/2017/DoubleMuon_Run2017D_0000.root',\n",
    "#     '/eos/user/s/sdeng/WZG_analysis/fake_lepton_template/2017/DoubleMuon_Run2017E_0000.root',\n",
    "#     '/eos/user/s/sdeng/WZG_analysis/fake_lepton_template/2017/DoubleMuon_Run2017F_0000.root',\n",
    "    '/eos/user/s/sdeng/WZG_analysis/fake_lepton_template/2017/SingleElectron_Run2017C_0000.root',\n",
    "    '/eos/user/s/sdeng/WZG_analysis/fake_lepton_template/2017/SingleElectron_Run2017D_0000.root',\n",
    "    '/eos/user/s/sdeng/WZG_analysis/fake_lepton_template/2017/SingleElectron_Run2017E_0000.root',\n",
    "    '/eos/user/s/sdeng/WZG_analysis/fake_lepton_template/2017/SingleElectron_Run2017F_0000.root',\n",
    "]\n",
    "\n",
    "for file in file_list:\n",
    "    AddHist_FTdist(file, branch, hist_dist1_DATA, hist_dist2_DATA, 1, 1)\n",
    "\n",
    "hist_dist1_WJets = ROOT.TH1D(\"\",\"\",xbins, xlow, xup)\n",
    "hist_dist2_WJets = ROOT.TH1D(\"\",\"\",xbins, xlow, xup)\n",
    "hist_dist1_ZJets = ROOT.TH1D(\"\",\"\",xbins, xlow, xup)\n",
    "hist_dist2_ZJets = ROOT.TH1D(\"\",\"\",xbins, xlow, xup)\n",
    "\n",
    "# hist_dist1_WJets = ROOT.TH1D(\"\",\"\",8, array('d',ptbins))\n",
    "# hist_dist2_WJets = ROOT.TH1D(\"\",\"\",8, array('d',ptbins))\n",
    "# hist_dist1_ZJets = ROOT.TH1D(\"\",\"\",8, array('d',ptbins))\n",
    "# hist_dist2_ZJets = ROOT.TH1D(\"\",\"\",8, array('d',ptbins))\n",
    "\n",
    "hist_dist1_WJets.Sumw2()\n",
    "hist_dist1_WJets.Sumw2()\n",
    "hist_dist1_ZJets.Sumw2()\n",
    "hist_dist1_ZJets.Sumw2()\n",
    "\n",
    "file_WJets = '/eos/user/s/sdeng/WZG_analysis/fake_lepton_template/2017/WJetsToLNu_TuneCP5_13TeV-madgraphMLM-pythia8_2017_0000.root'\n",
    "file_ZJets = '/eos/user/s/sdeng/WZG_analysis/fake_lepton_template/2017/DYJetsToLL_M-50_TuneCP5_13TeV-madgraphMLM-pythia8_2017_0000.root'\n",
    "file_ZJets2 = '/eos/user/s/sdeng/WZG_analysis/fake_lepton_template/2017/DYJetsToLL_M-10to50_TuneCP5_13TeV-madgraphMLM-pythia8_2017_0000.root'\n",
    "\n",
    "AddHist_FTdist(file_WJets, branch, hist_dist1_WJets, hist_dist2_WJets, 0, 61526.7)\n",
    "AddHist_FTdist(file_ZJets, branch, hist_dist1_ZJets, hist_dist2_ZJets, 0, 6077.22)\n",
    "AddHist_FTdist(file_ZJets2, branch, hist_dist1_ZJets, hist_dist2_ZJets, 0, 18610)\n",
    "\n",
    "hist_dist1_ttbar = ROOT.TH1D(\"\",\"\",xbins, xlow, xup)\n",
    "hist_dist2_ttbar = ROOT.TH1D(\"\",\"\",xbins, xlow, xup)\n",
    "# hist_dist1_ttbar = ROOT.TH1D(\"\",\"\",8, array('d',ptbins))\n",
    "# hist_dist2_ttbar = ROOT.TH1D(\"\",\"\",8, array('d',ptbins))\n",
    "\n",
    "hist_dist1_ttbar.Sumw2()\n",
    "hist_dist1_ttbar.Sumw2()\n",
    "\n",
    "# file_ttbar = '/eos/user/s/sdeng/WZG_analysis/fake_lepton_template/TTbar_13TeV_TuneCP5_Pythia8_2018.root'\n",
    "# AddHist_FTdist(file_ttbar, hist_dist1_ttbar, hist_dist2_ttbar, 0, 831.76)\n",
    "\n",
    "# file_list_QCD = [\n",
    "#     \"/eos/user/s/sdeng/WZG_analysis/fake_lepton_template/2017/QCD_Pt-15to20_MuEnrichedPt5_TuneCP5_13TeV_pythia8_2017_0000.root\",\n",
    "#     \"/eos/user/s/sdeng/WZG_analysis/fake_lepton_template/2017/QCD_Pt-20to30_MuEnrichedPt5_TuneCP5_13TeV_pythia8_2017_0000.root\",\n",
    "#     \"/eos/user/s/sdeng/WZG_analysis/fake_lepton_template/2017/QCD_Pt-30to50_MuEnrichedPt5_TuneCP5_13TeV_pythia8_2017_0000.root\",\n",
    "#     \"/eos/user/s/sdeng/WZG_analysis/fake_lepton_template/2017/QCD_Pt-50to80_MuEnrichedPt5_TuneCP5_13TeV_pythia8_2017_0000.root\",\n",
    "#     \"/eos/user/s/sdeng/WZG_analysis/fake_lepton_template/2017/QCD_Pt-80to120_MuEnrichedPt5_TuneCP5_13TeV_pythia8_2017_0000.root\",\n",
    "#     \"/eos/user/s/sdeng/WZG_analysis/fake_lepton_template/2017/QCD_Pt-120to170_MuEnrichedPt5_TuneCP5_13TeV_pythia8_2017_0000.root\",\n",
    "#     \"/eos/user/s/sdeng/WZG_analysis/fake_lepton_template/2017/QCD_Pt-170to300_MuEnrichedPt5_TuneCP5_13TeV_pythia8_2017_0000.root\",\n",
    "#     \"/eos/user/s/sdeng/WZG_analysis/fake_lepton_template/2017/QCD_Pt-300to470_MuEnrichedPt5_TuneCP5_13TeV_pythia8_2017_0000.root\",\n",
    "#     \"/eos/user/s/sdeng/WZG_analysis/fake_lepton_template/2017/QCD_Pt-470to600_MuEnrichedPt5_TuneCP5_13TeV_pythia8_2017_0000.root\",\n",
    "#     \"/eos/user/s/sdeng/WZG_analysis/fake_lepton_template/2017/QCD_Pt-600to800_MuEnrichedPt5_TuneCP5_13TeV_pythia8_2017_0000.root\",\n",
    "#     \"/eos/user/s/sdeng/WZG_analysis/fake_lepton_template/2017/QCD_Pt-800to1000_MuEnrichedPt5_TuneCP5_13TeV_pythia8_2017_0000.root\",\n",
    "#     \"/eos/user/s/sdeng/WZG_analysis/fake_lepton_template/2017/QCD_Pt-1000toInf_MuEnrichedPt5_TuneCP5_13TeV_pythia8_2017_0000.root\"\n",
    "# ]\n",
    "\n",
    "# xsec_list_QCD = [\n",
    "#     2799000,\n",
    "#     2526000,\n",
    "#     1362000,\n",
    "#     376600,\n",
    "#     88930,\n",
    "#     21230,\n",
    "#     7055,\n",
    "#     619.3,\n",
    "#     59.24,\n",
    "#     18.21,\n",
    "#     3.275,\n",
    "#     1.078\n",
    "# ]\n",
    "\n",
    "\n",
    "file_list_QCD = [\n",
    "   \"/eos/user/s/sdeng/WZG_analysis/fake_lepton_template/2017/QCD_Pt-15to20_EMEnriched_TuneCP5_13TeV_pythia8_2017_0000.root\",\n",
    "   \"/eos/user/s/sdeng/WZG_analysis/fake_lepton_template/2017/QCD_Pt-20to30_EMEnriched_TuneCP5_13TeV_pythia8_2017_0000.root\",\n",
    "   \"/eos/user/s/sdeng/WZG_analysis/fake_lepton_template/2017/QCD_Pt-30to50_EMEnriched_TuneCP5_13TeV_pythia8_2017_0000.root\",\n",
    "   \"/eos/user/s/sdeng/WZG_analysis/fake_lepton_template/2017/QCD_Pt-50to80_EMEnriched_TuneCP5_13TeV_pythia8_2017_0000.root\",\n",
    "   \"/eos/user/s/sdeng/WZG_analysis/fake_lepton_template/2017/QCD_Pt-80to120_EMEnriched_TuneCP5_13TeV_pythia8_2017_0000.root\",\n",
    "   \"/eos/user/s/sdeng/WZG_analysis/fake_lepton_template/2017/QCD_Pt-120to170_EMEnriched_TuneCP5_13TeV_pythia8_2017_0000.root\",\n",
    "   \"/eos/user/s/sdeng/WZG_analysis/fake_lepton_template/2017/QCD_Pt-170to300_EMEnriched_TuneCP5_13TeV_pythia8_2017_0000.root\",\n",
    "   \"/eos/user/s/sdeng/WZG_analysis/fake_lepton_template/2017/QCD_Pt-300toInf_EMEnriched_TuneCP5_13TeV_pythia8_2017_0000.root\",\n",
    "]\n",
    "\n",
    "xsec_list_QCD = [\n",
    "    1327000,\n",
    "    4908000,\n",
    "    6396000,\n",
    "    1989000,\n",
    "    366500,\n",
    "    66490,\n",
    "    16480,\n",
    "    1097\n",
    "]\n",
    "for i in range(len(file_list_QCD)):\n",
    "    AddHist_FTdist(file_list_QCD[i], branch, hist_dist1_ttbar, hist_dist2_ttbar, 0, xsec_list_QCD[i])\n",
    "    "
   ]
  },
  {
   "cell_type": "code",
   "execution_count": null,
   "id": "e6431b59-ca23-479d-83d3-0bc8c04b8516",
   "metadata": {
    "tags": []
   },
   "outputs": [],
   "source": [
    "c1 = ROOT.TCanvas(\"\",\"\",1000,800)\n",
    "\n",
    "def SetHistStyle_dist(hist, color, isData):\n",
    "    if isData:\n",
    "        hist.SetMarkerStyle(20)\n",
    "        hist.SetMarkerColor(color)\n",
    "    else:\n",
    "        hist.SetFillColor(color)\n",
    "        hist.SetFillStyle(4100)\n",
    "        hist.SetLineColor(color)\n",
    "        hist.SetLineStyle(0)\n",
    "        hist.SetLineWidth(0)\n",
    "    hist.SetYTitle('events/bin')\n",
    "    hist.SetXTitle('MET [GeV]')\n",
    "    # Adjust y-axis settings\n",
    "    # hist.GetYaxis().SetNdivisions(105)\n",
    "    hist.GetYaxis().SetTitleSize(25)\n",
    "    hist.GetYaxis().SetTitleFont(43)\n",
    "    hist.GetYaxis().SetTitleOffset(1.40)\n",
    "    hist.GetYaxis().SetLabelFont(43)\n",
    "    hist.GetYaxis().SetLabelSize(25)\n",
    "\n",
    "    # Adjust x-axis settings\n",
    "    hist.GetXaxis().SetTitleSize(25)\n",
    "    hist.GetXaxis().SetTitleFont(43)\n",
    "    hist.GetXaxis().SetTitleOffset(5.0)\n",
    "    hist.GetXaxis().SetLabelFont(43)\n",
    "    hist.GetXaxis().SetLabelSize(25)\n",
    "    hist.SetStats(0)\n",
    "\n",
    "\n",
    "SetHistStyle_dist(hist_dist1_WJets, 22, 0)\n",
    "SetHistStyle_dist(hist_dist2_WJets, 22, 0)\n",
    "SetHistStyle_dist(hist_dist1_ZJets, 27, 0)\n",
    "SetHistStyle_dist(hist_dist2_ZJets, 27, 0)\n",
    "SetHistStyle_dist(hist_dist1_ttbar, 32, 0)\n",
    "SetHistStyle_dist(hist_dist2_ttbar, 32, 0)\n",
    "SetHistStyle_dist(hist_dist1_DATA, 1, 1)\n",
    "SetHistStyle_dist(hist_dist2_DATA, 1, 1)\n",
    "\n",
    "hist_dist_WJets = hist_dist1_WJets.Clone()\n",
    "hist_dist_WJets.Add(hist_dist2_WJets)\n",
    "SetHistStyle_dist(hist_dist_WJets, 22, 0)\n",
    "hist_dist_ZJets = hist_dist1_ZJets.Clone()\n",
    "hist_dist_ZJets.Add(hist_dist2_ZJets)\n",
    "SetHistStyle_dist(hist_dist_ZJets, 27, 0)\n",
    "hist_dist_ttbar = hist_dist1_ttbar.Clone()\n",
    "hist_dist_ttbar.Add(hist_dist2_ttbar)\n",
    "SetHistStyle_dist(hist_dist_ttbar, 32, 0)\n",
    "\n",
    "hs_dist = ROOT.THStack(\"\",\";M_{T,e} [GeV];events/bin\")\n",
    "hs_dist.Add(hist_dist_ZJets)\n",
    "hs_dist.Add(hist_dist_WJets)\n",
    "hs_dist.Add(hist_dist_ttbar)\n",
    "\n",
    "MC_err = ROOT.TH1D(\"\",\"\",xbins,xlow,xup)\n",
    "# MC_err = ROOT.TH1D(\"\",\"\",8,array('d',ptbins))\n",
    "MC_err.Sumw2()\n",
    "MC_err.Add(hist_dist1_WJets)\n",
    "MC_err.Add(hist_dist2_WJets)\n",
    "MC_err.Add(hist_dist1_ZJets)\n",
    "MC_err.Add(hist_dist2_ZJets)\n",
    "MC_err.Add(hist_dist1_ttbar)\n",
    "MC_err.Add(hist_dist2_ttbar)\n",
    "MC_err.SetFillColor(ROOT.kGray+2)\n",
    "MC_err.SetFillStyle(3345)\n",
    "MC_err.SetMarkerSize(0.)\n",
    "MC_err.SetMarkerColor(ROOT.kGray+2)\n",
    "MC_err.SetLineWidth(2)\n",
    "MC_err.SetLineColor(0)\n",
    "MC_err.SetStats(0)\n",
    "\n",
    "hs_data = ROOT.TH1D(\"\",\"\",xbins,xlow,xup)\n",
    "# hs_data = ROOT.TH1D(\"\",\"\",8,array('d',ptbins))\n",
    "hs_data.Add(hist_dist1_DATA)\n",
    "hs_data.Add(hist_dist2_DATA)\n",
    "SetHistStyle_dist(hs_data, 1, 1)\n",
    "\n",
    "legend = ROOT.TLegend(0.55, 0.45, 0.70, 0.75)\n",
    "legend.SetBorderSize(0)\n",
    "legend.SetFillColor(0)\n",
    "legend.SetTextSize(0.035)\n",
    "legend.SetLineWidth(1)\n",
    "legend.SetLineStyle(0)\n",
    "# legend.AddEntry(hist_dist1_DATA,'Double Muon 2018')\n",
    "legend.AddEntry(hist_dist1_DATA,f'SingleElectron 2017: {format(hs_data.GetSumOfWeights(), \".2f\")}')\n",
    "legend.AddEntry(hist_dist1_WJets,f'WJetsToLNu: {format(hist_dist_WJets.GetSumOfWeights(), \".2f\")}','F')\n",
    "legend.AddEntry(hist_dist1_ZJets,f'DYToLNu: {format(hist_dist_ZJets.GetSumOfWeights(), \".2f\")}','F')\n",
    "legend.AddEntry(hist_dist1_ttbar,f'QCD-EMEnriched: {format(hist_dist_ttbar.GetSumOfWeights(), \".2f\")}','F')\n",
    "\n",
    "c1.Draw()\n",
    "pad1 = ROOT.TPad(\"pad1\", \"pad1\", 0, 0.3, 1, 1.0)\n",
    "pad1.SetBottomMargin(0.015)  # joins upper and lower plot\n",
    "# pad1.SetGridx()\n",
    "pad1.Draw()\n",
    "# Lower ratio plot is pad2\n",
    "c1.cd()  # returns to main canvas before defining pad2\n",
    "pad2 = ROOT.TPad(\"pad2\", \"pad2\", 0, 0.05, 1, 0.3)\n",
    "pad2.SetTopMargin(0)  # joins upper and lower plot\n",
    "pad2.SetBottomMargin(0.3)\n",
    "pad2.SetGridy()\n",
    "pad2.Draw()\n",
    "\n",
    "# draw everything\n",
    "pad1.cd()\n",
    "# hs_data.GetYaxis().SetMaxDigits(3)\n",
    "hs_dist.Draw(\"HIST\")\n",
    "hs_dist.SetMaximum(10000000)\n",
    "hs_dist.SetMinimum(10)\n",
    "# hs_dist.GetXaxis().SetRangeUser(10,60)\n",
    "hs_dist.GetXaxis().SetLabelSize(0)\n",
    "hs_data.Draw(\"ep SAME\")\n",
    "MC_err.Draw(\"e2 SAME\")\n",
    "legend.Draw(\"SAME\")\n",
    "ROOT.gPad.SetLogy()\n",
    "ROOT.gPad.RedrawAxis()\n",
    "\n",
    "\n",
    "# h1.GetXaxis().SetLabelSize(0)\n",
    "pad2.cd()\n",
    "h3 = createRatio(hs_data, MC_err)\n",
    "h4 = createRatio(MC_err, MC_err)\n",
    "h3.Draw(\"ep\")\n",
    "# h3.GetXaxis().SetRangeUser(10,60)\n",
    "h4.Draw(\"e2 SAME\")\n",
    "ROOT.gPad.RedrawAxis()\n",
    "\n",
    "CMS_lumi(pad1, 0, 0)\n",
    "# c1.SaveAs('Fake_Lepton/2017/eta_TightElectron_dist_MR_2017_new.pdf')\n",
    "# c1.SaveAs('Fake_Lepton/2017/eta_TightElectron_dist_MR_2017_new.png')\n",
    "c1.SaveAs('Fake_Lepton/2017/MET_FakeElectron_dist_MR_2017_new.pdf')\n",
    "c1.SaveAs('Fake_Lepton/2017/MET_FakeElectron_dist_MR_2017_new.png')"
   ]
  },
  {
   "cell_type": "markdown",
   "id": "genuine-jacksonville",
   "metadata": {},
   "source": [
    "#### SF\n",
    "Need to calculate mt distribution in EWK CR first before this part"
   ]
  },
  {
   "cell_type": "code",
   "execution_count": 107,
   "id": "expressed-indonesian",
   "metadata": {},
   "outputs": [
    {
     "name": "stdout",
     "output_type": "stream",
     "text": [
      "41 61\n",
      "WJets yields in EWK CR: 74504.56840629624\n",
      "ZJets yields in EWK CR: 2901.190794422255\n",
      "QCD yields in EWK CR: 4391.856033408049\n",
      "data yields in EWK CR: 87970.0\n",
      "SF = 87970.0 / 81797.61523412654  = 1.1364787440671915\n"
     ]
    }
   ],
   "source": [
    "bin_left = 41\n",
    "bin_right = 61\n",
    "\n",
    "WJets_yields = hist_dist1_WJets.Integral(bin_left,bin_right) + hist_dist2_WJets.Integral(bin_left,bin_right)\n",
    "ZJets_yields = hist_dist1_ZJets.Integral(bin_left,bin_right) + hist_dist2_ZJets.Integral(bin_left,bin_right)\n",
    "ttbar_yields = hist_dist1_ttbar.Integral(bin_left,bin_right) + hist_dist2_ttbar.Integral(bin_left,bin_right)\n",
    "data_yields = hist_dist1_DATA.Integral(bin_left,bin_right) + hist_dist2_DATA.Integral(bin_left,bin_right)\n",
    "\n",
    "print (hist_dist1_WJets.FindBin(80),hist_dist1_WJets.FindBin(120))\n",
    "print (f\"WJets yields in EWK CR: {WJets_yields}\")\n",
    "print (f\"ZJets yields in EWK CR: {ZJets_yields}\")\n",
    "print (f\"QCD yields in EWK CR: {ttbar_yields}\")\n",
    "print (f\"data yields in EWK CR: {data_yields}\")\n",
    "print (f\"SF = {data_yields} / {WJets_yields + ZJets_yields + ttbar_yields}  = {data_yields/(WJets_yields+ZJets_yields)}\")"
   ]
  },
  {
   "cell_type": "markdown",
   "id": "critical-acceptance",
   "metadata": {},
   "source": [
    "#### pt-binned SF\n",
    "Need to calculate pt-binned histogram in EWK CR first before calculating this part.\n",
    "For convenient, can just simply set the last bin as [45,200]"
   ]
  },
  {
   "cell_type": "code",
   "execution_count": 15,
   "id": "indie-positive",
   "metadata": {},
   "outputs": [
    {
     "name": "stdout",
     "output_type": "stream",
     "text": [
      "1.0064456029986655\n",
      "0.005266287511828886\n",
      "1.1394860752481015\n",
      "0.0076018056871837115\n"
     ]
    },
    {
     "data": {
      "image/png": "[encoded data removed]",
      "text/plain": [
       "<IPython.core.display.Image object>"
      ]
     },
     "metadata": {},
     "output_type": "display_data"
    }
   ],
   "source": [
    "c1 = ROOT.TCanvas(\"\",\"\",1000,800)\n",
    "c1.Draw()\n",
    "\n",
    "\n",
    "h3.Draw('ep')\n",
    "h3.SetXTitle('P_{T,#mu} [GeV]')\n",
    "h3.GetXaxis().SetTitleOffset(1.6)\n",
    "h3.GetXaxis().SetRangeUser(10,60)\n",
    "h3.SetMaximum(1.4)\n",
    "h3.SetMinimum(1.0)\n",
    "ROOT.gPad.SetGridy()\n",
    "ROOT.gPad.SetGridx()\n",
    "\n",
    "print(h3.GetBinContent(7))\n",
    "print(h3.GetBinError(7))\n",
    "print(h3.GetBinContent(8))\n",
    "print(h3.GetBinError(8))"
   ]
  },
  {
   "cell_type": "markdown",
   "id": "forbidden-suspect",
   "metadata": {
    "tags": []
   },
   "source": [
    "### <span id=\"Fake-Rate\">Calculating Fake Rate</span>"
   ]
  },
  {
   "cell_type": "markdown",
   "id": "blocked-niagara",
   "metadata": {
    "tags": []
   },
   "source": [
    "#### Muon"
   ]
  },
  {
   "cell_type": "code",
   "execution_count": 56,
   "id": "backed-tracker",
   "metadata": {},
   "outputs": [],
   "source": [
    "def AddHist_FR_Mu(file, h_nume_mu, h_deno_mu, isAdd, isData, lumi_Mu8, lumi_Mu17, xsec):\n",
    "    \n",
    "    if isData:\n",
    "        print('is Data')\n",
    "        branches = uproot.open(file+':Events').arrays(['jet_pt','mt','met','lepton_pt','lepton_eta','lepton_pdgid','lepton_pfRelIso04_all','HLT_IsoMu24','HLT_Mu8_TrkIsoVVL','HLT_Mu17_TrkIsoVVL','hlt'], library='pd')\n",
    "    else:\n",
    "        print('is MC')\n",
    "        branches = uproot.open(file+':Events').arrays(['jet_pt','mt','met','lepton_pt','lepton_eta','lepton_pdgid','lepton_pfRelIso04_all','lepton_gen_matching','HLT_IsoMu24','HLT_Mu8_TrkIsoVVL','HLT_Mu17_TrkIsoVVL','hlt','gen_weight'], library='pd')\n",
    "        true_events = uproot.open(file)['nEventsGenWeighted'].values()[0]\n",
    "        weight_lowpt = (1000*lumi_Mu8*xsec*isAdd) / true_events\n",
    "        weight_highpt = (1000*lumi_Mu17*xsec*isAdd) / true_events\n",
    "        lepton_gen_cut1 = branches.loc[:,'lepton_gen_matching'] == 1\n",
    "        lepton_gen_cut2 = branches.loc[:,'lepton_gen_matching'] == 15\n",
    "        \n",
    "    HLT_cut1 = branches.loc[:,'HLT_Mu8_TrkIsoVVL'] == True\n",
    "    HLT_cut2 = branches.loc[:,'HLT_Mu17_TrkIsoVVL'] == True\n",
    "#     HLT_cut1 = branches.loc[:,'HLT_IsoMu24'] == True\n",
    "    met_cut = branches.loc[:,'met'] < 20\n",
    "    mt_cut = branches.loc[:,'mt'] < 20\n",
    "    muon_cut = abs(branches.loc[:,'lepton_pdgid']) == 13\n",
    "    pf_cut = branches.loc[:,'lepton_pfRelIso04_all'] < 0.15\n",
    "    pt_edge = branches.loc[:,'lepton_pt'] < 25\n",
    "    jet_pt = branches.loc[:,'jet_pt'] >35\n",
    "\n",
    "#     deno_mu = branches.loc[(HLT_cut1 | HLT_cut2) & muon_cut,:]\n",
    "#     deno_mu = branches.loc[(HLT_cut1) & muon_cut,:]\n",
    "        \n",
    "#     deno_mu = branches.loc[((HLT_cut1 & pt_edge) | (HLT_cut2 & ~pt_edge)) & muon_cut,:]\n",
    "#     nume_mu_lowpt = deno_mu.loc[pf_cut,:]\n",
    "#     nume_mu_highpt = deno_mu.loc[pf_cut,:]\n",
    "    \n",
    "    overflow_Y = h_deno_mu.GetYaxis().GetBinUpEdge(h_deno_mu.GetNbinsY())\n",
    "    center_upper_Y = h_deno_mu.GetYaxis().GetBinCenter(h_deno_mu.GetNbinsY())\n",
    "    \n",
    "    if isData:\n",
    "        deno_mu_lowpt = branches.loc[HLT_cut1 & pt_edge & muon_cut & met_cut & mt_cut & jet_pt,:]\n",
    "        deno_mu_highpt = branches.loc[HLT_cut2 & ~pt_edge & muon_cut & met_cut & mt_cut & jet_pt,:]\n",
    "        \n",
    "        \n",
    "        for i in trange(0, len(deno_mu_lowpt['lepton_pt']), desc=f'fill pt < 25 GeV for {file}'):\n",
    "            if float(deno_mu_lowpt['lepton_pt'].values[i]) < overflow_Y:\n",
    "                h_deno_mu.Fill(abs(float(deno_mu_lowpt['lepton_eta'].values[i])), float(deno_mu_lowpt['lepton_pt'].values[i]))\n",
    "                if deno_mu_lowpt['lepton_pfRelIso04_all'].values[i] < 0.15:\n",
    "                    h_nume_mu.Fill(abs(float(deno_mu_lowpt['lepton_eta'].values[i])), float(deno_mu_lowpt['lepton_pt'].values[i]))\n",
    "            else:\n",
    "                h_deno_mu.Fill(abs(float(deno_mu_lowpt['lepton_eta'].values[i])), center_upper_Y)\n",
    "                if deno_mu_lowpt['lepton_pfRelIso04_all'].values[i] < 0.15:\n",
    "                    h_nume_mu.Fill(abs(float(deno_mu_lowpt['lepton_eta'].values[i])), center_upper_Y)\n",
    "                \n",
    "        for i in trange(0, len(deno_mu_highpt['lepton_pt']), desc=f'fill pt > 25 GeV for {file}'):\n",
    "            if float(deno_mu_highpt['lepton_pt'].values[i]) < overflow_Y:\n",
    "                h_deno_mu.Fill(abs(float(deno_mu_highpt['lepton_eta'].values[i])), float(deno_mu_highpt['lepton_pt'].values[i]))\n",
    "                if deno_mu_highpt['lepton_pfRelIso04_all'].values[i] < 0.15:\n",
    "                    h_nume_mu.Fill(abs(float(deno_mu_highpt['lepton_eta'].values[i])), float(deno_mu_highpt['lepton_pt'].values[i]))\n",
    "            else:\n",
    "                h_deno_mu.Fill(abs(float(deno_mu_highpt['lepton_eta'].values[i])), center_upper_Y)\n",
    "                if deno_mu_highpt['lepton_pfRelIso04_all'].values[i] < 0.15:\n",
    "                    h_nume_mu.Fill(abs(float(deno_mu_highpt['lepton_eta'].values[i])), center_upper_Y)\n",
    "                    \n",
    "                \n",
    "    else:\n",
    "        deno_mu_lowpt = branches.loc[HLT_cut1 & pt_edge & muon_cut & met_cut & mt_cut & (lepton_gen_cut1 | lepton_gen_cut2) & jet_pt,:].copy()\n",
    "        deno_mu_highpt = branches.loc[HLT_cut2 & ~pt_edge & muon_cut & met_cut & mt_cut & (lepton_gen_cut1 | lepton_gen_cut2) & jet_pt,:].copy()\n",
    "        \n",
    "        # Add SF\n",
    "        deno_mu_highpt.loc[:,'SF'] = 1\n",
    "        deno_mu_highpt.loc[(deno_mu_highpt['lepton_pt'] >= 35) & (deno_mu_highpt['lepton_pt'] < 45), 'SF'] = 1\n",
    "        deno_mu_highpt.loc[deno_mu_highpt['lepton_pt'] >= 45 , 'SF'] = 1\n",
    "        \n",
    "#         print(deno_mu_highpt)\n",
    "        \n",
    "        for i in trange(0, len(deno_mu_lowpt['lepton_pt']), desc=f'fill pt < 25 GeV for {file}'):\n",
    "            if float(deno_mu_lowpt['lepton_pt'].values[i]) < overflow_Y:\n",
    "                h_deno_mu.Fill(abs(float(deno_mu_lowpt['lepton_eta'].values[i])), float(deno_mu_lowpt['lepton_pt'].values[i]), weight_lowpt*sgn(deno_mu_lowpt['gen_weight'].values[i]))\n",
    "                if deno_mu_lowpt['lepton_pfRelIso04_all'].values[i] < 0.15:\n",
    "                    h_nume_mu.Fill(abs(float(deno_mu_lowpt['lepton_eta'].values[i])), float(deno_mu_lowpt['lepton_pt'].values[i]), weight_lowpt*sgn(deno_mu_lowpt['gen_weight'].values[i]))\n",
    "            else:\n",
    "                h_deno_mu.Fill(abs(float(deno_mu_lowpt['lepton_eta'].values[i])), center_upper_Y, weight_lowpt*sgn(deno_mu_lowpt['gen_weight'].values[i]))\n",
    "                if deno_mu_lowpt['lepton_pfRelIso04_all'].values[i] < 0.15:\n",
    "                    h_nume_mu.Fill(abs(float(deno_mu_lowpt['lepton_eta'].values[i])), center_upper_Y, weight_lowpt*sgn(deno_mu_lowpt['gen_weight'].values[i]))\n",
    "                \n",
    "        for i in trange(0, len(deno_mu_highpt['lepton_pt']), desc=f'fill pt > 25 GeV for {file}'):\n",
    "            if float(deno_mu_highpt['lepton_pt'].values[i]) < overflow_Y:\n",
    "                h_deno_mu.Fill(abs(float(deno_mu_highpt['lepton_eta'].values[i])), float(deno_mu_highpt['lepton_pt'].values[i]), deno_mu_highpt['SF'].values[i]*weight_highpt*sgn(deno_mu_highpt['gen_weight'].values[i]))\n",
    "                if deno_mu_highpt['lepton_pfRelIso04_all'].values[i] < 0.15:\n",
    "                    h_nume_mu.Fill(abs(float(deno_mu_highpt['lepton_eta'].values[i])), float(deno_mu_highpt['lepton_pt'].values[i]), deno_mu_highpt['SF'].values[i]*weight_highpt*sgn(deno_mu_highpt['gen_weight'].values[i]))\n",
    "            else:\n",
    "                h_deno_mu.Fill(abs(float(deno_mu_highpt['lepton_eta'].values[i])), center_upper_Y, deno_mu_highpt['SF'].values[i]*weight_highpt*sgn(deno_mu_highpt['gen_weight'].values[i]))\n",
    "                if deno_mu_highpt['lepton_pfRelIso04_all'].values[i] < 0.15:\n",
    "                    h_nume_mu.Fill(abs(float(deno_mu_highpt['lepton_eta'].values[i])), center_upper_Y, deno_mu_highpt['SF'].values[i]*weight_highpt*sgn(deno_mu_highpt['gen_weight'].values[i]))\n",
    "\n",
    "\n",
    "    deno_counts = 0\n",
    "    for i in range(h_deno_mu.GetNbinsX()):\n",
    "        for j in range(h_deno_mu.GetNbinsY()):\n",
    "            deno_counts += h_deno_mu.GetBinContent(i+1,j+1) \n",
    "\n",
    "    nume_counts = 0\n",
    "    for i in range(h_nume_mu.GetNbinsX()):\n",
    "        for j in range(h_nume_mu.GetNbinsY()):\n",
    "            nume_counts += h_nume_mu.GetBinContent(i+1,j+1) \n",
    "\n",
    "    print (f\"normalized deno :{deno_counts}\")\n",
    "    print (f\"normalized nume :{nume_counts}\")\n",
    "        "
   ]
  },
  {
   "cell_type": "code",
   "execution_count": 57,
   "id": "early-conflict",
   "metadata": {},
   "outputs": [
    {
     "name": "stdout",
     "output_type": "stream",
     "text": [
      "is Data\n"
     ]
    },
    {
     "name": "stderr",
     "output_type": "stream",
     "text": [
      "fill pt < 25 GeV for /eos/user/s/sdeng/WZG_analysis/fake_lepton_template/2017/DoubleMuon_Run2017C_0000.root: 100%|██████████| 7075/7075 [00:00<00:00, 44430.26it/s]\n",
      "fill pt > 25 GeV for /eos/user/s/sdeng/WZG_analysis/fake_lepton_template/2017/DoubleMuon_Run2017C_0000.root: 100%|██████████| 8968/8968 [00:00<00:00, 46550.89it/s]\n"
     ]
    },
    {
     "name": "stdout",
     "output_type": "stream",
     "text": [
      "normalized deno :15999.0\n",
      "normalized nume :5719.0\n",
      "is Data\n"
     ]
    },
    {
     "name": "stderr",
     "output_type": "stream",
     "text": [
      "fill pt < 25 GeV for /eos/user/s/sdeng/WZG_analysis/fake_lepton_template/2017/DoubleMuon_Run2017D_0000.root: 100%|██████████| 3264/3264 [00:00<00:00, 45760.63it/s]\n",
      "fill pt > 25 GeV for /eos/user/s/sdeng/WZG_analysis/fake_lepton_template/2017/DoubleMuon_Run2017D_0000.root: 100%|██████████| 5718/5718 [00:00<00:00, 46299.64it/s]\n"
     ]
    },
    {
     "name": "stdout",
     "output_type": "stream",
     "text": [
      "normalized deno :24967.0\n",
      "normalized nume :9039.0\n",
      "is Data\n"
     ]
    },
    {
     "name": "stderr",
     "output_type": "stream",
     "text": [
      "fill pt < 25 GeV for /eos/user/s/sdeng/WZG_analysis/fake_lepton_template/2017/DoubleMuon_Run2017E_0000.root: 100%|██████████| 4878/4878 [00:00<00:00, 45828.30it/s]\n",
      "fill pt > 25 GeV for /eos/user/s/sdeng/WZG_analysis/fake_lepton_template/2017/DoubleMuon_Run2017E_0000.root: 100%|██████████| 8229/8229 [00:00<00:00, 46259.40it/s]\n"
     ]
    },
    {
     "name": "stdout",
     "output_type": "stream",
     "text": [
      "normalized deno :38054.0\n",
      "normalized nume :14097.0\n",
      "is Data\n"
     ]
    },
    {
     "name": "stderr",
     "output_type": "stream",
     "text": [
      "fill pt < 25 GeV for /eos/user/s/sdeng/WZG_analysis/fake_lepton_template/2017/DoubleMuon_Run2017F_0000.root: 100%|██████████| 6211/6211 [00:00<00:00, 45030.04it/s]\n",
      "fill pt > 25 GeV for /eos/user/s/sdeng/WZG_analysis/fake_lepton_template/2017/DoubleMuon_Run2017F_0000.root: 100%|██████████| 9761/9761 [00:00<00:00, 45789.02it/s]\n"
     ]
    },
    {
     "name": "stdout",
     "output_type": "stream",
     "text": [
      "normalized deno :54003.0\n",
      "normalized nume :20151.0\n",
      "is MC\n"
     ]
    },
    {
     "name": "stderr",
     "output_type": "stream",
     "text": [
      "fill pt < 25 GeV for /eos/user/s/sdeng/WZG_analysis/fake_lepton_template/2017/WJetsToLNu_TuneCP5_13TeV-madgraphMLM-pythia8_2017_0000.root: 100%|██████████| 16416/16416 [00:00<00:00, 29157.07it/s]\n",
      "fill pt > 25 GeV for /eos/user/s/sdeng/WZG_analysis/fake_lepton_template/2017/WJetsToLNu_TuneCP5_13TeV-madgraphMLM-pythia8_2017_0000.root: 100%|██████████| 40562/40562 [00:02<00:00, 19547.94it/s]\n"
     ]
    },
    {
     "name": "stdout",
     "output_type": "stream",
     "text": [
      "normalized deno :51704.63180097781\n",
      "normalized nume :17958.9832301538\n",
      "is MC\n"
     ]
    },
    {
     "name": "stderr",
     "output_type": "stream",
     "text": [
      "fill pt < 25 GeV for /eos/user/s/sdeng/WZG_analysis/fake_lepton_template/2017/DYJetsToLL_M-50_TuneCP5_13TeV-madgraphMLM-pythia8_2017_0000.root: 100%|██████████| 97322/97322 [00:03<00:00, 28254.22it/s]\n",
      "fill pt > 25 GeV for /eos/user/s/sdeng/WZG_analysis/fake_lepton_template/2017/DYJetsToLL_M-50_TuneCP5_13TeV-madgraphMLM-pythia8_2017_0000.root: 100%|██████████| 115766/115766 [00:06<00:00, 18903.55it/s]\n"
     ]
    },
    {
     "name": "stdout",
     "output_type": "stream",
     "text": [
      "normalized deno :51227.299849201234\n",
      "normalized nume :17506.552182179887\n",
      "is MC\n"
     ]
    },
    {
     "name": "stderr",
     "output_type": "stream",
     "text": [
      "fill pt < 25 GeV for /eos/user/s/sdeng/WZG_analysis/fake_lepton_template/2017/DYJetsToLL_M-10to50_TuneCP5_13TeV-madgraphMLM-pythia8_2017_0000.root: 100%|██████████| 16298/16298 [00:00<00:00, 29720.18it/s]\n",
      "fill pt > 25 GeV for /eos/user/s/sdeng/WZG_analysis/fake_lepton_template/2017/DYJetsToLL_M-10to50_TuneCP5_13TeV-madgraphMLM-pythia8_2017_0000.root: 100%|██████████| 6878/6878 [00:00<00:00, 19405.16it/s]\n"
     ]
    },
    {
     "name": "stdout",
     "output_type": "stream",
     "text": [
      "normalized deno :51086.12692082201\n",
      "normalized nume :17376.153779343727\n",
      "0.0029 0.06594 61526.7\n",
      "0.0029 0.06594 6077.22\n",
      "0.0029 0.06594 18610\n"
     ]
    }
   ],
   "source": [
    "# xbins = 5\n",
    "# xlow = 0\n",
    "# xup = 2.5\n",
    "\n",
    "# ybins = 3\n",
    "# ylow = 25\n",
    "# yup = 50\n",
    "\n",
    "ybins = [10, 13, 16, 20, 24, 28, 35, 45, 60]\n",
    "xbins = [.0, 0.5, 1.0, 1.5, 2.0, 2.5]\n",
    "\n",
    "from array import array\n",
    "h_deno_mu = ROOT.TH2D(\"\",\"\", 5, array('d',xbins), 8, array('d',ybins))\n",
    "h_deno_mu.StatOverflows(1)\n",
    "h_deno_mu.Sumw2()\n",
    "h_nume_mu = ROOT.TH2D(\"\",\"\", 5, array('d',xbins), 8, array('d',ybins))\n",
    "h_nume_mu.StatOverflows(1)\n",
    "h_nume_mu.Sumw2()\n",
    "\n",
    "# file_DATA = \"/eos/user/s/sdeng/ttx/fake_lepton_template/SingleMuon_Run2017B.root\"\n",
    "# file_DATA = \"/eos/user/s/sdeng/WZG_analysis/fake_lepton_template/SingleMuon_Run2018D.root\"\n",
    "# AddDATA(file_DATA, h_nume_mu, h_deno_mu)\n",
    "\n",
    "file_list_Mu = [\n",
    "    '/eos/user/s/sdeng/WZG_analysis/fake_lepton_template/2017/DoubleMuon_Run2017C_0000.root',\n",
    "    '/eos/user/s/sdeng/WZG_analysis/fake_lepton_template/2017/DoubleMuon_Run2017D_0000.root',\n",
    "    '/eos/user/s/sdeng/WZG_analysis/fake_lepton_template/2017/DoubleMuon_Run2017E_0000.root',\n",
    "    '/eos/user/s/sdeng/WZG_analysis/fake_lepton_template/2017/DoubleMuon_Run2017F_0000.root',\n",
    "]\n",
    "for file_DATA in file_list_Mu:\n",
    "    AddHist_FR_Mu(file_DATA, h_nume_mu, h_deno_mu, 1, 1, 0, 0, 0)\n",
    "\n",
    "# file_MC = \"/eos/user/s/sdeng/ttx/fake_lepton_template/WJetsToLNu_TuneCP5_13TeV-amcatnloFXFX-pythia8_2017.root\"\n",
    "file_WJets = '/eos/user/s/sdeng/WZG_analysis/fake_lepton_template/2017/WJetsToLNu_TuneCP5_13TeV-madgraphMLM-pythia8_2017_0000.root'\n",
    "file_ZJets = '/eos/user/s/sdeng/WZG_analysis/fake_lepton_template/2017/DYJetsToLL_M-50_TuneCP5_13TeV-madgraphMLM-pythia8_2017_0000.root'\n",
    "file_ZJets2 = '/eos/user/s/sdeng/WZG_analysis/fake_lepton_template/2017/DYJetsToLL_M-10to50_TuneCP5_13TeV-madgraphMLM-pythia8_2017_0000.root'\n",
    "xsec_WJets = 61526.7 \n",
    "xsec_ZJets = 6077.22 \n",
    "xsec_ZJets2 = 18610\n",
    "\n",
    "# lumi = 14.003 # 2018A\n",
    "# lumi = 7.055 # 2018B\n",
    "# lumi = 6.890 # 2018C\n",
    "# lumi = 31.835 # 2018D\n",
    "\n",
    "lumi_Mu8 = 0.00290 # HLT_Mu8_TrkIsoVVL 2017 lumi\n",
    "lumi_Mu17 = 0.06594 # HLT_Mu17_TrkIsoVVL 2017 lumi\n",
    "\n",
    "\n",
    "AddHist_FR_Mu(file_WJets, h_nume_mu, h_deno_mu, -1, 0, lumi_Mu8, lumi_Mu17, xsec_WJets)\n",
    "AddHist_FR_Mu(file_ZJets, h_nume_mu, h_deno_mu, -1, 0, lumi_Mu8, lumi_Mu17, xsec_ZJets)\n",
    "AddHist_FR_Mu(file_ZJets2, h_nume_mu, h_deno_mu, -1, 0, lumi_Mu8, lumi_Mu17, xsec_ZJets2)\n",
    "print (lumi_Mu8, lumi_Mu17, xsec_WJets)\n",
    "print (lumi_Mu8, lumi_Mu17, xsec_ZJets)\n",
    "print (lumi_Mu8, lumi_Mu17, xsec_ZJets2)"
   ]
  },
  {
   "cell_type": "code",
   "execution_count": 58,
   "id": "wound-bishop",
   "metadata": {},
   "outputs": [
    {
     "name": "stdout",
     "output_type": "stream",
     "text": [
      "41.5 fb^{-1} (13 TeV)\n"
     ]
    },
    {
     "data": {
      "image/png": "[encoded data removed]",
      "text/plain": [
       "<IPython.core.display.Image object>"
      ]
     },
     "metadata": {},
     "output_type": "display_data"
    }
   ],
   "source": [
    "fake_rate_mu = h_nume_mu.Clone(\"fake_rate_mu\")\n",
    "fake_rate_mu.Divide(h_deno_mu)\n",
    "\n",
    "fake_rate_mu.SetDirectory(0)\n",
    "c1 = ROOT.TCanvas(\"\",\"\",1200,800)\n",
    "fake_rate_mu.SetStats(0)\n",
    "fake_rate_mu.SetXTitle(\"|#eta|\")\n",
    "fake_rate_mu.SetYTitle(\"P_{T} [GeV]\")\n",
    "fake_rate_mu.SetMarkerSize(1.3)\n",
    "ROOT.gStyle.SetPaintTextFormat('4.2f')\n",
    "fake_rate_mu.Draw(\"TEXT COLZe\")\n",
    "c1.Draw()\n",
    "CMS_lumi(c1,0,0)\n",
    "# c1.SaveAs('Fake_Lepton/2017/FR_Muon_data_2017_new.pdf')\n",
    "# c1.SaveAs('Fake_Lepton/2017/FR_Muon_data_2017_new.png')"
   ]
  },
  {
   "cell_type": "code",
   "execution_count": 60,
   "id": "ongoing-transaction",
   "metadata": {},
   "outputs": [],
   "source": [
    "f = ROOT.TFile(\"Fake_Lepton/Mu_Fake_Rate_2D_2017.root\",\"RECREATE\")\n",
    "f.cd()\n",
    "fake_rate_mu.Write()\n",
    "f.Close()"
   ]
  },
  {
   "cell_type": "markdown",
   "id": "copyrighted-ranch",
   "metadata": {},
   "source": [
    "#### Electron "
   ]
  },
  {
   "cell_type": "code",
   "execution_count": 61,
   "id": "adjustable-shoulder",
   "metadata": {},
   "outputs": [],
   "source": [
    "def AddHist_FR_Ele(file, h_nume_e, h_deno_e, isAdd, isData, lumi_Ele8, lumi_Ele23, xsec):\n",
    "    \n",
    "    if isData:\n",
    "        print('is Data')\n",
    "        branches = uproot.open(file+':Events').arrays(['jet_pt','is_lepton_tight','mt','met','lepton_pt','lepton_eta','lepton_pdgid','HLT_Ele8_CaloIdL_TrackIdL_IsoVL_PFJet30','HLT_Ele23_CaloIdL_TrackIdL_IsoVL_PFJet30','hlt'], library='pd')\n",
    "    else:\n",
    "        print('is MC')\n",
    "        branches = uproot.open(file+':Events').arrays(['jet_pt','is_lepton_tight','mt','met','lepton_pt','lepton_eta','lepton_pdgid','lepton_gen_matching','HLT_Ele8_CaloIdL_TrackIdL_IsoVL_PFJet30','HLT_Ele23_CaloIdL_TrackIdL_IsoVL_PFJet30','hlt','gen_weight'], library='pd')\n",
    "        true_events = uproot.open(file)['nEventsGenWeighted'].values()[0]\n",
    "        weight_lowpt = (1000*lumi_Ele8*xsec*isAdd) / true_events\n",
    "        weight_highpt = (1000*lumi_Ele23*xsec*isAdd) / true_events\n",
    "        lepton_gen_cut1 = branches.loc[:,'lepton_gen_matching'] == 1\n",
    "        lepton_gen_cut2 = branches.loc[:,'lepton_gen_matching'] == 15\n",
    "        \n",
    "    HLT_cut1 = branches.loc[:,'HLT_Ele8_CaloIdL_TrackIdL_IsoVL_PFJet30'] == True\n",
    "    HLT_cut2 = branches.loc[:,'HLT_Ele23_CaloIdL_TrackIdL_IsoVL_PFJet30'] == True\n",
    "    met_cut = branches.loc[:,'met'] < 20\n",
    "    mt_cut = branches.loc[:,'mt'] < 20\n",
    "    Electron_cut = abs(branches.loc[:,'lepton_pdgid']) == 11\n",
    "    pt_edge = branches.loc[:,'lepton_pt'] < 25\n",
    "    jet_pt = branches.loc[:,'jet_pt'] >35\n",
    "\n",
    "#     deno_e = branches.loc[(HLT_cut1 | HLT_cut2) & muon_cut,:]\n",
    "#     deno_e = branches.loc[(HLT_cut1) & muon_cut,:]\n",
    "        \n",
    "#     deno_e = branches.loc[((HLT_cut1 & pt_edge) | (HLT_cut2 & ~pt_edge)) & muon_cut,:]\n",
    "#     nume_e_lowpt = deno_e.loc[pf_cut,:]\n",
    "#     nume_e_highpt = deno_e.loc[pf_cut,:]\n",
    "    \n",
    "    overflow_Y = h_deno_e.GetYaxis().GetBinUpEdge(h_deno_e.GetNbinsY())\n",
    "    center_upper_Y = h_deno_e.GetYaxis().GetBinCenter(h_deno_e.GetNbinsY())\n",
    "    \n",
    "    if isData:\n",
    "        deno_e_lowpt = branches.loc[HLT_cut1 & pt_edge & Electron_cut & met_cut & mt_cut & jet_pt,:]\n",
    "        deno_e_highpt = branches.loc[HLT_cut2 & ~pt_edge & Electron_cut & met_cut & mt_cut & jet_pt,:]\n",
    "        \n",
    "        \n",
    "        for i in trange(0, len(deno_e_lowpt['lepton_pt']), desc=f'fill pt < 25 GeV for {file}'):\n",
    "            if float(deno_e_lowpt['lepton_pt'].values[i]) < overflow_Y:\n",
    "                h_deno_e.Fill(abs(float(deno_e_lowpt['lepton_eta'].values[i])), float(deno_e_lowpt['lepton_pt'].values[i]))\n",
    "                if deno_e_lowpt['is_lepton_tight'].values[i] == 1:\n",
    "                    h_nume_e.Fill(abs(float(deno_e_lowpt['lepton_eta'].values[i])), float(deno_e_lowpt['lepton_pt'].values[i]))\n",
    "            else:\n",
    "                h_deno_e.Fill(abs(float(deno_e_lowpt['lepton_eta'].values[i])), center_upper_Y)\n",
    "                if deno_e_lowpt['is_lepton_tight'].values[i] == 1:\n",
    "                    h_nume_e.Fill(abs(float(deno_e_lowpt['lepton_eta'].values[i])), center_upper_Y)\n",
    "                \n",
    "        for i in trange(0, len(deno_e_highpt['lepton_pt']), desc=f'fill pt > 25 GeV for {file}'):\n",
    "            if float(deno_e_highpt['lepton_pt'].values[i]) < overflow_Y:\n",
    "                h_deno_e.Fill(abs(float(deno_e_highpt['lepton_eta'].values[i])), float(deno_e_highpt['lepton_pt'].values[i]))\n",
    "                if deno_e_highpt['is_lepton_tight'].values[i] == 1:\n",
    "                    h_nume_e.Fill(abs(float(deno_e_highpt['lepton_eta'].values[i])), float(deno_e_highpt['lepton_pt'].values[i]))\n",
    "            else:\n",
    "                h_deno_e.Fill(abs(float(deno_e_highpt['lepton_eta'].values[i])), center_upper_Y)\n",
    "                if deno_e_highpt['is_lepton_tight'].values[i] == 1:\n",
    "                    h_nume_e.Fill(abs(float(deno_e_highpt['lepton_eta'].values[i])), center_upper_Y)\n",
    "                    \n",
    "                \n",
    "    else:\n",
    "        deno_e_lowpt = branches.loc[HLT_cut1 & pt_edge & Electron_cut & met_cut & mt_cut & (lepton_gen_cut1 | lepton_gen_cut2) & jet_pt,:].copy()\n",
    "        deno_e_highpt = branches.loc[HLT_cut2 & ~pt_edge & Electron_cut & met_cut & mt_cut & (lepton_gen_cut1 | lepton_gen_cut2) & jet_pt,:].copy()\n",
    "        \n",
    "        # Add SF\n",
    "        deno_e_highpt.loc[:,'SF'] = 1\n",
    "        deno_e_highpt.loc[(deno_e_highpt['lepton_pt'] >= 35) & (deno_e_highpt['lepton_pt'] < 45), 'SF'] = 1\n",
    "        deno_e_highpt.loc[deno_e_highpt['lepton_pt'] >= 45 , 'SF'] = 1\n",
    "        \n",
    "#         print(deno_e_highpt)\n",
    "        \n",
    "        for i in trange(0, len(deno_e_lowpt['lepton_pt']), desc=f'fill pt < 25 GeV for {file}'):\n",
    "            if float(deno_e_lowpt['lepton_pt'].values[i]) < overflow_Y:\n",
    "                h_deno_e.Fill(abs(float(deno_e_lowpt['lepton_eta'].values[i])), float(deno_e_lowpt['lepton_pt'].values[i]), weight_lowpt*sgn(deno_e_lowpt['gen_weight'].values[i]))\n",
    "                if deno_e_lowpt['is_lepton_tight'].values[i] == 1:\n",
    "                    h_nume_e.Fill(abs(float(deno_e_lowpt['lepton_eta'].values[i])), float(deno_e_lowpt['lepton_pt'].values[i]), weight_lowpt*sgn(deno_e_lowpt['gen_weight'].values[i]))\n",
    "            else:\n",
    "                h_deno_e.Fill(abs(float(deno_e_lowpt['lepton_eta'].values[i])), center_upper_Y, weight_lowpt*sgn(deno_e_lowpt['gen_weight'].values[i]))\n",
    "                if deno_e_lowpt['is_lepton_tight'].values[i] == 1:\n",
    "                    h_nume_e.Fill(abs(float(deno_e_lowpt['lepton_eta'].values[i])), center_upper_Y, weight_lowpt*sgn(deno_e_lowpt['gen_weight'].values[i]))\n",
    "                \n",
    "        for i in trange(0, len(deno_e_highpt['lepton_pt']), desc=f'fill pt > 25 GeV for {file}'):\n",
    "            if float(deno_e_highpt['lepton_pt'].values[i]) < overflow_Y:\n",
    "                h_deno_e.Fill(abs(float(deno_e_highpt['lepton_eta'].values[i])), float(deno_e_highpt['lepton_pt'].values[i]), deno_e_highpt['SF'].values[i]*weight_highpt*sgn(deno_e_highpt['gen_weight'].values[i]))\n",
    "                if deno_e_highpt['is_lepton_tight'].values[i] == 1:\n",
    "                    h_nume_e.Fill(abs(float(deno_e_highpt['lepton_eta'].values[i])), float(deno_e_highpt['lepton_pt'].values[i]), deno_e_highpt['SF'].values[i]*weight_highpt*sgn(deno_e_highpt['gen_weight'].values[i]))\n",
    "            else:\n",
    "                h_deno_e.Fill(abs(float(deno_e_highpt['lepton_eta'].values[i])), center_upper_Y, deno_e_highpt['SF'].values[i]*weight_highpt*sgn(deno_e_highpt['gen_weight'].values[i]))\n",
    "                if deno_e_highpt['is_lepton_tight'].values[i] == 1:\n",
    "                    h_nume_e.Fill(abs(float(deno_e_highpt['lepton_eta'].values[i])), center_upper_Y, deno_e_highpt['SF'].values[i]*weight_highpt*sgn(deno_e_highpt['gen_weight'].values[i]))\n",
    "\n",
    "\n",
    "    deno_counts = 0\n",
    "    for i in range(h_deno_e.GetNbinsX()):\n",
    "        for j in range(h_deno_e.GetNbinsY()):\n",
    "            deno_counts += h_deno_e.GetBinContent(i+1,j+1) \n",
    "\n",
    "    nume_counts = 0\n",
    "    for i in range(h_nume_e.GetNbinsX()):\n",
    "        for j in range(h_nume_e.GetNbinsY()):\n",
    "            nume_counts += h_nume_e.GetBinContent(i+1,j+1) \n",
    "\n",
    "    print (f\"normalized deno :{deno_counts}\")\n",
    "    print (f\"normalized nume :{nume_counts}\")\n",
    "        "
   ]
  },
  {
   "cell_type": "code",
   "execution_count": 62,
   "id": "choice-mills",
   "metadata": {},
   "outputs": [
    {
     "name": "stdout",
     "output_type": "stream",
     "text": [
      "is Data\n"
     ]
    },
    {
     "name": "stderr",
     "output_type": "stream",
     "text": [
      "fill pt < 25 GeV for /eos/user/s/sdeng/WZG_analysis/fake_lepton_template/2017/SingleElectron_Run2017C_0000.root: 100%|██████████| 7373/7373 [00:00<00:00, 34623.31it/s]\n",
      "fill pt > 25 GeV for /eos/user/s/sdeng/WZG_analysis/fake_lepton_template/2017/SingleElectron_Run2017C_0000.root: 100%|██████████| 8797/8797 [00:00<00:00, 47412.84it/s]\n"
     ]
    },
    {
     "name": "stdout",
     "output_type": "stream",
     "text": [
      "normalized deno :16150.0\n",
      "normalized nume :6065.0\n",
      "is Data\n"
     ]
    },
    {
     "name": "stderr",
     "output_type": "stream",
     "text": [
      "fill pt < 25 GeV for /eos/user/s/sdeng/WZG_analysis/fake_lepton_template/2017/SingleElectron_Run2017D_0000.root: 100%|██████████| 1765/1765 [00:00<00:00, 44162.68it/s]\n",
      "fill pt > 25 GeV for /eos/user/s/sdeng/WZG_analysis/fake_lepton_template/2017/SingleElectron_Run2017D_0000.root: 100%|██████████| 4562/4562 [00:00<00:00, 45497.36it/s]\n"
     ]
    },
    {
     "name": "stdout",
     "output_type": "stream",
     "text": [
      "normalized deno :22466.0\n",
      "normalized nume :8546.0\n",
      "is Data\n"
     ]
    },
    {
     "name": "stderr",
     "output_type": "stream",
     "text": [
      "fill pt < 25 GeV for /eos/user/s/sdeng/WZG_analysis/fake_lepton_template/2017/SingleElectron_Run2017E_0000.root: 100%|██████████| 2426/2426 [00:00<00:00, 45674.78it/s]\n",
      "fill pt > 25 GeV for /eos/user/s/sdeng/WZG_analysis/fake_lepton_template/2017/SingleElectron_Run2017E_0000.root: 100%|██████████| 5922/5922 [00:00<00:00, 46703.89it/s]\n"
     ]
    },
    {
     "name": "stdout",
     "output_type": "stream",
     "text": [
      "normalized deno :30800.0\n",
      "normalized nume :11906.0\n",
      "is Data\n"
     ]
    },
    {
     "name": "stderr",
     "output_type": "stream",
     "text": [
      "fill pt < 25 GeV for /eos/user/s/sdeng/WZG_analysis/fake_lepton_template/2017/SingleElectron_Run2017F_0000.root: 100%|██████████| 6155/6155 [00:00<00:00, 45196.61it/s]\n",
      "fill pt > 25 GeV for /eos/user/s/sdeng/WZG_analysis/fake_lepton_template/2017/SingleElectron_Run2017F_0000.root: 100%|██████████| 13968/13968 [00:00<00:00, 46804.13it/s]\n"
     ]
    },
    {
     "name": "stdout",
     "output_type": "stream",
     "text": [
      "normalized deno :50895.0\n",
      "normalized nume :19674.0\n"
     ]
    }
   ],
   "source": [
    "# xbins = 5\n",
    "# xlow = 0\n",
    "# xup = 2.5\n",
    "\n",
    "# ybins = 3\n",
    "# ylow = 25\n",
    "# yup = 50\n",
    "\n",
    "ybins = [10, 13, 16, 20, 24, 28, 35, 45, 60]\n",
    "xbins = [.0, 0.5, 1.0, 1.5, 2.0, 2.5]\n",
    "\n",
    "from array import array\n",
    "h_deno_e = ROOT.TH2D(\"\",\"\", 5, array('d',xbins), 8, array('d',ybins))\n",
    "h_deno_e.StatOverflows(1)\n",
    "h_deno_e.Sumw2()\n",
    "h_nume_e = ROOT.TH2D(\"\",\"\", 5, array('d',xbins), 8, array('d',ybins))\n",
    "h_nume_e.StatOverflows(1)\n",
    "h_nume_e.Sumw2()\n",
    "\n",
    "# file_DATA = \"/eos/user/s/sdeng/ttx/fake_lepton_template/SingleMuon_Run2017B.root\"\n",
    "# file_DATA = \"/eos/user/s/sdeng/WZG_analysis/fake_lepton_template/SingleMuon_Run2018D.root\"\n",
    "# AddDATA(file_DATA, h_nume_e, h_deno_e)\n",
    "\n",
    "file_list_E = [\n",
    "    '/eos/user/s/sdeng/WZG_analysis/fake_lepton_template/2017/SingleElectron_Run2017C_0000.root',\n",
    "    '/eos/user/s/sdeng/WZG_analysis/fake_lepton_template/2017/SingleElectron_Run2017D_0000.root',\n",
    "    '/eos/user/s/sdeng/WZG_analysis/fake_lepton_template/2017/SingleElectron_Run2017E_0000.root',\n",
    "    '/eos/user/s/sdeng/WZG_analysis/fake_lepton_template/2017/SingleElectron_Run2017F_0000.root',\n",
    "]\n",
    "for file_DATA in file_list_E:\n",
    "    AddHist_FR_Ele(file_DATA, h_nume_e, h_deno_e, 1, 1, 0, 0, 0)\n",
    "\n"
   ]
  },
  {
   "cell_type": "code",
   "execution_count": 63,
   "id": "native-converter",
   "metadata": {},
   "outputs": [
    {
     "name": "stdout",
     "output_type": "stream",
     "text": [
      "is MC\n"
     ]
    },
    {
     "name": "stderr",
     "output_type": "stream",
     "text": [
      "fill pt < 25 GeV for /eos/user/s/sdeng/WZG_analysis/fake_lepton_template/2017/WJetsToLNu_TuneCP5_13TeV-madgraphMLM-pythia8_2017_0000.root: 100%|██████████| 8434/8434 [00:00<00:00, 26786.44it/s]\n",
      "fill pt > 25 GeV for /eos/user/s/sdeng/WZG_analysis/fake_lepton_template/2017/WJetsToLNu_TuneCP5_13TeV-madgraphMLM-pythia8_2017_0000.root: 100%|██████████| 28413/28413 [00:01<00:00, 19207.48it/s]\n"
     ]
    },
    {
     "name": "stdout",
     "output_type": "stream",
     "text": [
      "normalized deno :49824.38424540343\n",
      "normalized nume :18635.95324419596\n",
      "is MC\n"
     ]
    },
    {
     "name": "stderr",
     "output_type": "stream",
     "text": [
      "fill pt < 25 GeV for /eos/user/s/sdeng/WZG_analysis/fake_lepton_template/2017/DYJetsToLL_M-50_TuneCP5_13TeV-madgraphMLM-pythia8_2017_0000.root: 100%|██████████| 82468/82468 [00:02<00:00, 28617.30it/s]\n",
      "fill pt > 25 GeV for /eos/user/s/sdeng/WZG_analysis/fake_lepton_template/2017/DYJetsToLL_M-50_TuneCP5_13TeV-madgraphMLM-pythia8_2017_0000.root: 100%|██████████| 271012/271012 [00:14<00:00, 19017.64it/s]\n"
     ]
    },
    {
     "name": "stdout",
     "output_type": "stream",
     "text": [
      "normalized deno :49094.78041820336\n",
      "normalized nume :17932.19793209704\n",
      "is MC\n"
     ]
    },
    {
     "name": "stderr",
     "output_type": "stream",
     "text": [
      "fill pt < 25 GeV for /eos/user/s/sdeng/WZG_analysis/fake_lepton_template/2017/DYJetsToLL_M-10to50_TuneCP5_13TeV-madgraphMLM-pythia8_2017_0000.root: 100%|██████████| 9471/9471 [00:00<00:00, 28150.31it/s]\n",
      "fill pt > 25 GeV for /eos/user/s/sdeng/WZG_analysis/fake_lepton_template/2017/DYJetsToLL_M-10to50_TuneCP5_13TeV-madgraphMLM-pythia8_2017_0000.root: 100%|██████████| 5311/5311 [00:00<00:00, 19058.15it/s]\n"
     ]
    },
    {
     "name": "stdout",
     "output_type": "stream",
     "text": [
      "normalized deno :49019.18979074598\n",
      "normalized nume :17860.472997738467\n",
      "0.00397 0.04347 61526.7\n",
      "0.00397 0.04347 6077.22\n",
      "0.00397 0.04347 18610\n"
     ]
    }
   ],
   "source": [
    "# file_MC = \"/eos/user/s/sdeng/ttx/fake_lepton_template/WJetsToLNu_TuneCP5_13TeV-amcatnloFXFX-pythia8_2017.root\"\n",
    "file_WJets = '/eos/user/s/sdeng/WZG_analysis/fake_lepton_template/2017/WJetsToLNu_TuneCP5_13TeV-madgraphMLM-pythia8_2017_0000.root'\n",
    "file_ZJets = '/eos/user/s/sdeng/WZG_analysis/fake_lepton_template/2017/DYJetsToLL_M-50_TuneCP5_13TeV-madgraphMLM-pythia8_2017_0000.root'\n",
    "file_ZJets2 = '/eos/user/s/sdeng/WZG_analysis/fake_lepton_template/2017/DYJetsToLL_M-10to50_TuneCP5_13TeV-madgraphMLM-pythia8_2017_0000.root'\n",
    "xsec_WJets = 61526.7 \n",
    "xsec_ZJets = 6077.22 \n",
    "xsec_ZJets2 = 18610\n",
    "\n",
    "\n",
    "lumi_Ele8 = 0.00397 # HLT_Ele8_CaloIdL_TrackIdL_IsoVL_PFJet30 2018 lumi\n",
    "lumi_Ele23 = 0.04347 # HLT_Ele23_CaloIdL_TrackIdL_IsoVL_PFJet30 2018 lumi\n",
    "\n",
    "\n",
    "AddHist_FR_Ele(file_WJets, h_nume_e, h_deno_e, -1, 0, lumi_Ele8, lumi_Ele23, xsec_WJets)\n",
    "AddHist_FR_Ele(file_ZJets, h_nume_e, h_deno_e, -1, 0, lumi_Ele8, lumi_Ele23, xsec_ZJets)\n",
    "AddHist_FR_Ele(file_ZJets2, h_nume_e, h_deno_e, -1, 0, lumi_Ele8, lumi_Ele23, xsec_ZJets2)\n",
    "print (lumi_Ele8, lumi_Ele23, xsec_WJets)\n",
    "print (lumi_Ele8, lumi_Ele23, xsec_ZJets)\n",
    "print (lumi_Ele8, lumi_Ele23, xsec_ZJets2)"
   ]
  },
  {
   "cell_type": "code",
   "execution_count": 64,
   "id": "mature-matthew",
   "metadata": {},
   "outputs": [
    {
     "name": "stdout",
     "output_type": "stream",
     "text": [
      "41.5 fb^{-1} (13 TeV)\n"
     ]
    },
    {
     "data": {
      "image/png": "[encoded data removed]",
      "text/plain": [
       "<IPython.core.display.Image object>"
      ]
     },
     "metadata": {},
     "output_type": "display_data"
    }
   ],
   "source": [
    "fake_rate_e = h_nume_e.Clone(\"fake_rate_e\")\n",
    "fake_rate_e.Divide(h_deno_e)\n",
    "\n",
    "fake_rate_e.SetDirectory(0)\n",
    "c1 = ROOT.TCanvas(\"\",\"\",1200,800)\n",
    "fake_rate_e.SetStats(0)\n",
    "fake_rate_e.SetXTitle(\"|#eta|\")\n",
    "fake_rate_e.SetYTitle(\"P_{T} [GeV]\")\n",
    "fake_rate_e.SetMarkerSize(1.3)\n",
    "ROOT.gStyle.SetPaintTextFormat('4.2f')\n",
    "fake_rate_e.Draw(\"COLZe TEXT\")\n",
    "c1.Draw()\n",
    "CMS_lumi(c1,0,0)\n",
    "# c1.SaveAs('Fake_Lepton/2017/FR_Electron_data_2017_new.pdf')\n",
    "# c1.SaveAs('Fake_Lepton/2017/FR_Electron_data_2017_new.png')"
   ]
  },
  {
   "cell_type": "code",
   "execution_count": 65,
   "id": "conventional-symposium",
   "metadata": {},
   "outputs": [],
   "source": [
    "f = ROOT.TFile(\"Fake_Lepton/Ele_Fake_Rate_2D_2017.root\",\"RECREATE\")\n",
    "f.cd()\n",
    "fake_rate_e.Write()\n",
    "f.Close()"
   ]
  },
  {
   "cell_type": "markdown",
   "id": "divided-processing",
   "metadata": {},
   "source": [
    "#### test"
   ]
  },
  {
   "cell_type": "code",
   "execution_count": 69,
   "id": "covered-dubai",
   "metadata": {},
   "outputs": [],
   "source": [
    "h_deno_mu_1075 = h_deno_mu.Clone()\n",
    "h_nume_mu_1075 = h_nume_mu.Clone()"
   ]
  },
  {
   "cell_type": "code",
   "execution_count": 74,
   "id": "prompt-sierra",
   "metadata": {},
   "outputs": [],
   "source": [
    "h_deno_mu_diff = h_deno_mu.Clone()\n",
    "h_nume_mu_diff = h_nume_mu.Clone()"
   ]
  },
  {
   "cell_type": "code",
   "execution_count": 82,
   "id": "gorgeous-camel",
   "metadata": {},
   "outputs": [
    {
     "name": "stdout",
     "output_type": "stream",
     "text": [
      "59.7 fb^{-1} (13 TeV)\n"
     ]
    },
    {
     "name": "stderr",
     "output_type": "stream",
     "text": [
      "Warning in <TCanvas::Constructor>: Deleting canvas with same name: c1\n",
      "Warning in <TH1D::Sumw2>: Sum of squares of weights structure already created\n"
     ]
    },
    {
     "data": {
      "image/png": "[encoded data removed]",
      "text/plain": [
       "<IPython.core.display.Image object>"
      ]
     },
     "metadata": {},
     "output_type": "display_data"
    }
   ],
   "source": [
    "TH1D_data_deno = h_deno_mu_1075.ProjectionX(\"TH1D_data_deno\",1,8)\n",
    "TH1D_data = h_nume_mu_1075.ProjectionX(\"TH1D_data\",1,8)\n",
    "TH1D_data.Divide(TH1D_data_deno)\n",
    "\n",
    "TH1D_QCD_deno = h_deno_mu_valid.ProjectionX(\"TH1D_QCD_deno\",1,8)\n",
    "TH1D_QCD = h_nume_mu_valid.ProjectionX(\"TH1D_QCD\",1,8)\n",
    "TH1D_QCD.Divide(TH1D_QCD_deno)\n",
    "\n",
    "c1 = ROOT.TCanvas(\"c1\",\"\",1000,800)\n",
    "TH1D_data.SetStats(0)\n",
    "TH1D_data.SetMarkerStyle(20)\n",
    "TH1D_data.SetMarkerColor(1)\n",
    "TH1D_data.SetLineColor(1)\n",
    "TH1D_data.GetXaxis().SetTitle(\"|#eta|\")\n",
    "TH1D_data.GetYaxis().SetTitle(\"Muon Fake Rate\")\n",
    "\n",
    "TH1D_QCD.SetStats(0)\n",
    "TH1D_QCD.SetMarkerStyle(20)\n",
    "TH1D_QCD.SetMarkerColor(2)\n",
    "TH1D_QCD.SetLineColor(2)\n",
    "\n",
    "h1 = TH1D_data.Clone(\"h1\")\n",
    "h2 = TH1D_QCD.Clone(\"h2\")\n",
    "h3 = createRatio(h1, h2)\n",
    "\n",
    "c1.Draw()\n",
    "pad1 = ROOT.TPad(\"pad1\", \"pad1\", 0, 0.3, 1, 1.0)\n",
    "pad1.SetBottomMargin(0.015)  # joins upper and lower plot\n",
    "# pad1.SetGridx()\n",
    "pad1.Draw()\n",
    "# Lower ratio plot is pad2\n",
    "c1.cd()  # returns to main canvas before defining pad2\n",
    "pad2 = ROOT.TPad(\"pad2\", \"pad2\", 0, 0.05, 1, 0.3)\n",
    "pad2.SetTopMargin(0)  # joins upper and lower plot\n",
    "pad2.SetBottomMargin(0.3)\n",
    "pad2.SetGridy()\n",
    "pad2.Draw()\n",
    "\n",
    "h1.SetMaximum(1)\n",
    "h1.SetMinimum(0)\n",
    "# CMS_lumi(c1, 0, 0)\n",
    "\n",
    "\n",
    "# Upper histogram plot is pad1\n",
    "legend = ROOT.TLegend(0.65, 0.60, 0.90, 0.7)\n",
    "legend.SetBorderSize(0)\n",
    "legend.SetFillColor(0)\n",
    "legend.SetTextSize(0.035)\n",
    "legend.SetLineWidth(1)\n",
    "legend.SetLineStyle(2)\n",
    "legend.AddEntry(h1,'data')\n",
    "legend.AddEntry(h2,'QCD')\n",
    "\n",
    "# draw everything\n",
    "pad1.cd()\n",
    "h1.Draw(\"ep\")\n",
    "h2.Draw(\"ep same\")\n",
    "legend.Draw(\"same\")\n",
    "# to avoid clipping the bottom zero, redraw a small axis\n",
    "h1.GetXaxis().SetLabelSize(0)\n",
    "# axis = TGaxis(-5, 20, -5, 220, 20, 220, 510, \"\")\n",
    "# axis.SetLabelFont(43)\n",
    "# axis.SetLabelSize(15)\n",
    "# axis.Draw()\n",
    "pad2.cd()\n",
    "h3.Draw(\"ep\")\n",
    "\n",
    "CMS_lumi(pad1, 0, 0)\n",
    "\n",
    "# c1.SaveAs('Fake_Lepton/1d_FR_Muon_datavsQCD_pt_2018.pdf')\n",
    "# c1.SaveAs('Fake_Lepton/1d_FR_Muon_datavsQCD_pt_2018.png')"
   ]
  },
  {
   "cell_type": "markdown",
   "id": "commercial-boutique",
   "metadata": {},
   "source": [
    "### <span id=\"Apply-Weight\">Apply weight</span>"
   ]
  },
  {
   "cell_type": "markdown",
   "id": "engaged-holder",
   "metadata": {},
   "source": [
    "Has been abandoned, moved to NanoAOD-tools to interface with coffea framework"
   ]
  },
  {
   "cell_type": "raw",
   "id": "supreme-oliver",
   "metadata": {
    "tags": []
   },
   "source": [
    "def ApplyWeightDATA(file, fake_rate_mu, branch, nbins, xlow, xup, channel):\n",
    "    \n",
    "    branches = uproot.open(file+':Events').arrays(['channel_mark','MET','dilepton_mass','z_lepton1_pt','z_lepton1_eta','z_lepton1_type','z_lepton2_pt','z_lepton2_eta','z_lepton2_type','w_lepton_pt','w_lepton_eta','w_lepton_type','HLT_IsoMu24'], library='pd')\n",
    "    # type 1: tight, type 0: loose but not tight\n",
    "    \n",
    "    HLT_cut = branches.loc[:,'HLT_IsoMu24'] == True\n",
    "    channel_cut = branches.loc[:,'channel_mark'] == channel \n",
    "    \n",
    "    branches = branches.loc[HLT_cut & channel_cut, :]\n",
    "    \n",
    "    overflow_Y = fake_rate_mu.GetYaxis().GetBinUpEdge(fake_rate_mu.GetNbinsY())\n",
    "    overflow_X = fake_rate_mu.GetXaxis().GetBinUpEdge(fake_rate_mu.GetNbinsX())\n",
    "    \n",
    "    h_temp = ROOT.TH1D(\"\", \"\", nbins, xlow, xup)\n",
    "#             h_temp.SetFillColor(color)\n",
    "    h_temp.SetLineColor(1)\n",
    "    h_temp.SetLineWidth(1)\n",
    "    h_temp.SetStats(0)\n",
    "    h_temp.GetXaxis().SetTitle(branch)\n",
    "    h_temp.GetYaxis().SetTitle(f'events/bin')\n",
    "    h_temp.Sumw2()\n",
    "        \n",
    "    for i in trange(0, len(branches['z_lepton1_pt']), desc=f'Apply weight for {file}'):\n",
    "        weight = [1,1,1]\n",
    "        \n",
    "        if branches['z_lepton1_type'].values[i] == 0:\n",
    "            BinX = fake_rate_mu.GetXaxis().FindBin(abs(branches['z_lepton1_eta'].values[i]))\n",
    "            BinY = fake_rate_mu.GetYaxis().FindBin(abs(branches['z_lepton1_pt'].values[i]))\n",
    "            # handle overflow\n",
    "            if BinX > fake_rate_mu.GetNbinsX():\n",
    "                BinX = fake_rate_mu.GetNbinsX()\n",
    "            if BinY > fake_rate_mu.GetNbinsY():\n",
    "                BinY = fake_rate_mu.GetNbinsY()\n",
    "            weight[0] = fake_rate_mu.GetBinContent(BinX, BinY) \n",
    "    \n",
    "        if branches['z_lepton2_type'].values[i] == 0:\n",
    "            BinX = fake_rate_mu.GetXaxis().FindBin(abs(branches['z_lepton2_eta'].values[i]))\n",
    "            BinY = fake_rate_mu.GetYaxis().FindBin(abs(branches['z_lepton2_pt'].values[i]))\n",
    "            # handle overflow\n",
    "            if BinX > fake_rate_mu.GetNbinsX():\n",
    "                BinX = fake_rate_mu.GetNbinsX()\n",
    "            if BinY > fake_rate_mu.GetNbinsY():\n",
    "                BinY = fake_rate_mu.GetNbinsY()\n",
    "            weight[1] = fake_rate_mu.GetBinContent(BinX, BinY) \n",
    "    \n",
    "        if branches['w_lepton_type'].values[i] == 0:\n",
    "            BinX = fake_rate_mu.GetXaxis().FindBin(abs(branches['w_lepton_eta'].values[i]))\n",
    "            BinY = fake_rate_mu.GetYaxis().FindBin(abs(branches['z_lepton1_pt'].values[i]))\n",
    "            # handle overflow\n",
    "            if BinX > fake_rate_mu.GetNbinsX():\n",
    "                BinX = fake_rate_mu.GetNbinsX()\n",
    "            if BinY > fake_rate_mu.GetNbinsY():\n",
    "                BinY = fake_rate_mu.GetNbinsY()\n",
    "            weight[2] = fake_rate_mu.GetBinContent(BinX, BinY) \n",
    "        \n",
    "        final_weight = 1\n",
    "        for j in range(3):\n",
    "            final_weight = final_weight*weight[j]\n",
    "        \n",
    "        if branches['z_lepton1_type'].values[i] + branches['z_lepton2_type'].values[i] + branches['w_lepton_type'].values[i] == 1:\n",
    "            final_weight = -final_weight\n",
    "            h_temp.Fill(branches[branch].values[i], final_weight)\n",
    "    \n",
    "    return h_temp"
   ]
  },
  {
   "cell_type": "raw",
   "id": "handed-essence",
   "metadata": {},
   "source": [
    "def GetFakeLepton_MC(file, lumi, xsec, branch, channel):\n",
    "    \n",
    "    print('is MC')\n",
    "    branches = uproot.open(file+':Events').arrays(['Generator_weight','channel_mark','MET','dilepton_mass','z_lepton1_pt','z_lepton1_eta','z_lepton1_genPartFlav','z_lepton2_pt','z_lepton2_eta','z_lepton2_genPartFlav','w_lepton_pt','w_lepton_eta','w_lepton_genPartFlav','HLT_IsoMu24'], library='pd')\n",
    "    true_events = uproot.open(file)['nEventsGenWeighted'].values()[0]\n",
    "    weight = (1000*xsec*lumi) / true_events\n",
    "        \n",
    "    HLT_cut = branches.loc[:,'HLT_IsoMu24'] == True\n",
    "    channel_cut = branches.loc[:,'channel_mark'] == 4\n",
    "    gen_cut1 = branches.loc[:,'z_lepton1_genPartFlav'] == False\n",
    "    gen_cut2 = branches.loc[:,'z_lepton2_genPartFlav'] == False\n",
    "    gen_cut3 = branches.loc[:,'w_lepton_genPartFlav'] == False\n",
    "    \n",
    "    \n",
    "    arrays_branch = branches.loc[HLT_cut & channel_cut & (gen_cut2 | gen_cut2 | gen_cut3),:]\n",
    "    \n",
    "    h_temp = ROOT.TH1D(\"\", \"\", nbins, xlow, xup)\n",
    "    \n",
    "    for i in trange(0, len(arrays_branch[branch]), desc=f'fill {branch} for {file}'):\n",
    "        h_temp.Fill(float(arrays_branch[branch].values[i]), weight*sgn(arrays_branch['Generator_weight'].values[i]))\n",
    "        \n",
    "    print(\"DONE\")\n",
    "    return h_temp\n",
    "    "
   ]
  },
  {
   "cell_type": "raw",
   "id": "unable-victim",
   "metadata": {},
   "source": [
    "AR_data = [\n",
    "            \"/eos/user/s/sdeng/WZG_analysis/fake_lepton_template/AR/SingleMuon_Run2018A.root\",\n",
    "            \"/eos/user/s/sdeng/WZG_analysis/fake_lepton_template/AR/SingleMuon_Run2018B.root\",\n",
    "            \"/eos/user/s/sdeng/WZG_analysis/fake_lepton_template/AR/SingleMuon_Run2018C.root\",\n",
    "            \"/eos/user/s/sdeng/WZG_analysis/fake_lepton_template/AR/SingleMuon_Run2018D.root\",\n",
    "]\n",
    "FakeLepton_MC = [\n",
    "            \"/eos/user/s/sdeng/WZG_analysis/final_skim/2018/TTGJets_TuneCP5_13TeV-amcatnloFXFX-madspin-pythia8_2018.root\",\n",
    "            \"/eos/user/s/sdeng/WZG_analysis/final_skim/2018/ZGToLLG_01J_5f_TuneCP5_13TeV-amcatnloFXFX-pythia8_2018.root\",\n",
    "]\n",
    "xsec_FakeLepton_MC =[\n",
    "    4.078,\n",
    "    55.48\n",
    "] \n",
    "color_list = [\n",
    "    3,\n",
    "    4\n",
    "]\n",
    "\n",
    "\n",
    "branch_list = [\n",
    "            \"dilepton_mass\",\n",
    "            \"MET\",\n",
    "#             \"photon_pt\",\n",
    "            \"z_lepton1_pt\",\n",
    "            \"z_lepton2_pt\",\n",
    "            \"w_lepton_pt\",\n",
    "#             \"z_lepton1_eta\",\n",
    "#             \"z_lepton2_eta\",\n",
    "#             \"w_lepton_eta\"\n",
    "]\n",
    "\n",
    "nbins = 20\n",
    "xlow = 0\n",
    "xup = 200\n",
    "\n",
    "# xlow = -2.5\n",
    "# xup = 2.5\n",
    "\n",
    "lumi = 59.6\n",
    "\n",
    "channel = 4\n",
    "\n",
    "hist_DATA = ROOT.TH1D(\"\", \"\", nbins, xlow, xup)\n",
    "hist_MC = ROOT.TH1D(\"\", \"\", nbins, xlow, xup)\n",
    "\n",
    "branch = 'dilepton_mass'\n",
    "\n",
    "for file in AR_data:\n",
    "    hist_DATA.Add(ApplyWeightDATA(file, fake_rate_mu, branch, nbins, xlow, xup, channel))\n",
    "for i in range(len(FakeLepton_MC)):\n",
    "    hist_MC.Add(GetFakeLepton_MC(FakeLepton_MC[i], lumi, xsec_FakeLepton_MC[i], branch, channel))"
   ]
  },
  {
   "cell_type": "raw",
   "id": "polyphonic-eagle",
   "metadata": {},
   "source": [
    "i = 0\n",
    "\n",
    "# ROOT.gROOT.SetStyle(\"tdrStyle\")\n",
    "\n",
    "h1 = hist_DATA.Clone(\"h1\")\n",
    "h2 = hist_MC.Clone(\"h2\")\n",
    "h1.GetYaxis().SetTitle(f'events/10 GeV')\n",
    "h1.GetXaxis().SetTitle('M_{ll} [GeV]')\n",
    "\n",
    "h3 = createRatio(h1, h2)\n",
    "\n",
    "c = TCanvas(\"c\", \"canvas\", 1000, 800)\n",
    "c.Draw()\n",
    "# Upper histogram plot is pad1\n",
    "pad1 = TPad(\"pad1\", \"pad1\", 0, 0.3, 1, 1.0)\n",
    "pad1.SetBottomMargin(0.015)  # joins upper and lower plot\n",
    "# pad1.SetGridx()\n",
    "pad1.Draw()\n",
    "# Lower ratio plot is pad2\n",
    "c.cd()  # returns to main canvas before defining pad2\n",
    "pad2 = TPad(\"pad2\", \"pad2\", 0, 0.05, 1, 0.3)\n",
    "pad2.SetTopMargin(0)  # joins upper and lower plot\n",
    "pad2.SetBottomMargin(0.2)\n",
    "pad2.SetGridy()\n",
    "pad2.Draw()\n",
    "\n",
    "legend = ROOT.TLegend(0.65, 0.60, 0.90, 0.7)\n",
    "legend.SetBorderSize(0)\n",
    "legend.SetFillColor(0)\n",
    "legend.SetTextSize(0.035)\n",
    "legend.SetLineWidth(1)\n",
    "legend.SetLineStyle(2)\n",
    "legend.AddEntry(h1,'data driven')\n",
    "legend.AddEntry(h2,'TTGJets + ZGToLLG_01J')\n",
    "\n",
    "# draw everything\n",
    "pad1.cd()\n",
    "h1.Draw(\"ep\")\n",
    "h2.Draw(\"HIST e same\")\n",
    "legend.Draw(\"same\")\n",
    "# to avoid clipping the bottom zero, redraw a small axis\n",
    "h1.GetXaxis().SetLabelSize(0)\n",
    "# axis = TGaxis(-5, 20, -5, 220, 20, 220, 510, \"\")\n",
    "# axis.SetLabelFont(43)\n",
    "# axis.SetLabelSize(15)\n",
    "# axis.Draw()\n",
    "pad2.cd()\n",
    "h3.Draw(\"ep\")\n",
    "\n",
    "CMS_lumi(pad1, 0, 0)"
   ]
  },
  {
   "cell_type": "raw",
   "id": "selected-hudson",
   "metadata": {},
   "source": [
    "BinX = fake_rate_mu.GetXaxis().FindBin(2.6)\n",
    "if BinX > fake_rate_mu.GetNbinsX():\n",
    "    BinX = fake_rate_mu.GetNbinsX()\n",
    "print (BinX)\n",
    "print (fake_rate_mu.GetBinContent(5,1))"
   ]
  },
  {
   "cell_type": "raw",
   "id": "computational-taylor",
   "metadata": {},
   "source": [
    "# print(fake_rate_mu.GetBinContent(1,6))\n",
    "# print(h_deno_mu.GetBinContent(1,6))\n",
    "# print(h_nume_mu.GetBinContent(1,6))\n",
    "# print(h_deno_mu.GetBinContent(1,5))\n",
    "# print(h_nume_mu.GetBinContent(1,5))\n",
    "\n",
    "# # print((h_nume_mu.GetBinContent(1,5)-h_nume_mu.GetBinContent(1,6))/(h_deno_mu.GetBinContent(1,5)-h_deno_mu.GetBinContent(1,6)))\n",
    "# print(h_nume_mu.GetBinContent(1,5)/h_deno_mu.GetBinContent(1,5))\n",
    "\n",
    "# # print(h_deno_mu.Integral(1,1,5,6))\n",
    "c1 = ROOT.TCanvas(\"\",\"\",1200,800)\n",
    "h_deno_mu.Draw(\"TEXT COLZe\")\n",
    "h_deno_mu.SetStats(0)\n",
    "h_deno_mu.SetXTitle(\"|#eta|\")\n",
    "h_deno_mu.SetYTitle(\"P_{T} [GeV]\")\n",
    "h_deno_mu.SetMarkerSize(1.3)\n",
    "c1.Draw()"
   ]
  },
  {
   "cell_type": "raw",
   "id": "alleged-jesus",
   "metadata": {},
   "source": [
    "c1 = ROOT.TCanvas(\"\",\"\",1200,800)\n",
    "h_nume_mu.Draw(\"TEXT COLZe\")\n",
    "h_nume_mu.SetStats(0)\n",
    "h_nume_mu.SetXTitle(\"|#eta|\")\n",
    "h_nume_mu.SetYTitle(\"P_{T} [GeV]\")\n",
    "h_nume_mu.SetMarkerSize(1.3)\n",
    "c1.Draw()"
   ]
  },
  {
   "cell_type": "raw",
   "id": "arbitrary-opportunity",
   "metadata": {},
   "source": [
    "# h_deno_mu.GetYaxis().GetBinUpEdge(h_deno_mu.GetNbinsY())\n",
    "# h_nume_mu.GetYaxis().GetBinCenter(h_deno_mu.GetNbinsY())"
   ]
  },
  {
   "cell_type": "markdown",
   "id": "broken-egyptian",
   "metadata": {
    "tags": []
   },
   "source": [
    "### <span id=\"Closure-Test\">Closure test</span>\n",
    "\n",
    "Noticed that the ApplyWeightMC and AddHist_FR modules need to be changed before running this part"
   ]
  },
  {
   "cell_type": "code",
   "execution_count": 57,
   "id": "fitting-chain",
   "metadata": {},
   "outputs": [
    {
     "name": "stdout",
     "output_type": "stream",
     "text": [
      "test 0\n",
      "is MC\n"
     ]
    },
    {
     "name": "stderr",
     "output_type": "stream",
     "text": [
      "fill pt < 25 GeV for /eos/user/s/sdeng/WZG_analysis/fake_lepton_template/QCD_Pt-15to20_MuEnrichedPt5_TuneCP5_13TeV_pythia8_2018.root:  24%|██▎       | 3281/13815 [00:00<00:00, 32802.76it/s]"
     ]
    },
    {
     "name": "stdout",
     "output_type": "stream",
     "text": [
      "              mt        met  lepton_pt  lepton_eta  lepton_pdgid  \\\n",
      "966    19.336433   3.644366  28.324068    1.033936         -13.0   \n",
      "8731   17.976048  18.295549  27.653450   -0.332397          13.0   \n",
      "13683  17.004454  15.365691  31.637777   -0.674805          13.0   \n",
      "14666   3.605408  12.286318  27.077047   -0.724731          13.0   \n",
      "16187   1.700580  16.920927  27.161320    2.051270         -13.0   \n",
      "35611   7.419856  16.871332  29.125633   -0.958130          13.0   \n",
      "39025   4.080609   9.245059  29.251818   -0.672241          13.0   \n",
      "40243  10.178957  18.737768  25.579098   -2.398438          13.0   \n",
      "42086   6.020486  10.754062  25.753265    0.363770         -13.0   \n",
      "43264   9.248097   7.324045  25.270433   -1.443604         -13.0   \n",
      "54767   3.160503  16.050798  30.823074    1.232178         -13.0   \n",
      "57500   7.131109  19.675585  31.043694   -0.881104          13.0   \n",
      "57774  15.071644   6.106773  29.884708    0.721680          13.0   \n",
      "65799   2.373636   2.787545  25.809834   -0.213196          13.0   \n",
      "\n",
      "       lepton_pfRelIso04_all  lepton_gen_matching  HLT_IsoMu24  \\\n",
      "966                 0.317381                  3.0        False   \n",
      "8731                0.303578                  5.0         True   \n",
      "13683               0.128994                  0.0        False   \n",
      "14666               0.340243                  3.0        False   \n",
      "16187               0.136373                  5.0        False   \n",
      "35611               0.241073                  5.0        False   \n",
      "39025               0.089814                  0.0        False   \n",
      "40243               0.188795                  5.0        False   \n",
      "42086               0.332588                  5.0        False   \n",
      "43264               0.201774                  3.0         True   \n",
      "54767               0.077489                  4.0         True   \n",
      "57500               0.159361                  0.0        False   \n",
      "57774               0.357637                  5.0         True   \n",
      "65799               0.323574                  5.0        False   \n",
      "\n",
      "       HLT_Mu8_TrkIsoVVL  HLT_Mu17_TrkIsoVVL  hlt  gen_weight  SF  \n",
      "966                 True                True    0         1.0   1  \n",
      "8731                True                True    0         1.0   1  \n",
      "13683               True                True    0         1.0   1  \n",
      "14666               True                True    0         1.0   1  \n",
      "16187               True                True    0         1.0   1  \n",
      "35611               True                True    0         1.0   1  \n",
      "39025               True                True    0         1.0   1  \n",
      "40243              False                True    0         1.0   1  \n",
      "42086               True                True    0         1.0   1  \n",
      "43264               True                True    0         1.0   1  \n",
      "54767               True                True    0         1.0   1  \n",
      "57500               True                True    0         1.0   1  \n",
      "57774               True                True    0         1.0   1  \n",
      "65799               True                True    0         1.0   1  \n"
     ]
    },
    {
     "name": "stderr",
     "output_type": "stream",
     "text": [
      "fill pt < 25 GeV for /eos/user/s/sdeng/WZG_analysis/fake_lepton_template/QCD_Pt-15to20_MuEnrichedPt5_TuneCP5_13TeV_pythia8_2018.root: 100%|██████████| 13815/13815 [00:00<00:00, 33553.77it/s]\n",
      "fill pt > 25 GeV for /eos/user/s/sdeng/WZG_analysis/fake_lepton_template/QCD_Pt-15to20_MuEnrichedPt5_TuneCP5_13TeV_pythia8_2018.root: 100%|██████████| 14/14 [00:00<00:00, 4773.23it/s]\n"
     ]
    },
    {
     "name": "stdout",
     "output_type": "stream",
     "text": [
      "normalized deno :84575.45726519308\n",
      "normalized nume :37120.94087939867\n",
      "test 1\n",
      "is MC\n"
     ]
    },
    {
     "name": "stderr",
     "output_type": "stream",
     "text": [
      "fill pt < 25 GeV for /eos/user/s/sdeng/WZG_analysis/fake_lepton_template/QCD_Pt-20to30_MuEnrichedPt5_TuneCP5_13TeV_pythia8_2018.root:   2%|▏         | 3676/183282 [00:00<00:04, 36746.72it/s]"
     ]
    },
    {
     "name": "stdout",
     "output_type": "stream",
     "text": [
      "               mt        met  lepton_pt  lepton_eta  lepton_pdgid  \\\n",
      "510      8.028522  10.425488  28.956394   -1.920166          13.0   \n",
      "4504     7.641076   4.077742  30.225208   -1.001221         -13.0   \n",
      "5139     3.079750   6.435861  30.245390    1.332275          13.0   \n",
      "6148    12.039488  10.943210  26.565254    0.155792         -13.0   \n",
      "6493    19.238157  12.159963  27.714695    1.333252         -13.0   \n",
      "...           ...        ...        ...         ...           ...   \n",
      "940733   2.321144   2.279202  27.330278   -1.181152          13.0   \n",
      "941307   3.298965   8.078152  26.387110    0.787842          13.0   \n",
      "941761   5.589353  16.432974  26.522255   -0.395447          13.0   \n",
      "944397  14.908171   5.796571  25.425804   -1.840576          13.0   \n",
      "944510   9.384368  17.634085  25.826826   -0.485352          13.0   \n",
      "\n",
      "        lepton_pfRelIso04_all  lepton_gen_matching  HLT_IsoMu24  \\\n",
      "510                  0.084923                  5.0        False   \n",
      "4504                 0.163658                  5.0        False   \n",
      "5139                 0.037063                  5.0        False   \n",
      "6148                 0.183372                  5.0        False   \n",
      "6493                 0.318031                  5.0        False   \n",
      "...                       ...                  ...          ...   \n",
      "940733               0.025132                  4.0         True   \n",
      "941307               0.119489                  5.0         True   \n",
      "941761               0.128919                  5.0        False   \n",
      "944397               0.253226                  5.0        False   \n",
      "944510               0.254375                  5.0        False   \n",
      "\n",
      "        HLT_Mu8_TrkIsoVVL  HLT_Mu17_TrkIsoVVL  hlt  gen_weight  SF  \n",
      "510                  True                True    0         1.0   1  \n",
      "4504                 True                True    0         1.0   1  \n",
      "5139                 True                True    0         1.0   1  \n",
      "6148                 True                True    0         1.0   1  \n",
      "6493                 True                True    0         1.0   1  \n",
      "...                   ...                 ...  ...         ...  ..  \n",
      "940733               True                True    0         1.0   1  \n",
      "941307               True                True    0         1.0   1  \n",
      "941761               True                True    0         1.0   1  \n",
      "944397               True                True    0         1.0   1  \n",
      "944510               True                True    0         1.0   1  \n",
      "\n",
      "[1181 rows x 13 columns]\n"
     ]
    },
    {
     "name": "stderr",
     "output_type": "stream",
     "text": [
      "fill pt < 25 GeV for /eos/user/s/sdeng/WZG_analysis/fake_lepton_template/QCD_Pt-20to30_MuEnrichedPt5_TuneCP5_13TeV_pythia8_2018.root: 100%|██████████| 183282/183282 [00:05<00:00, 32201.20it/s]\n",
      "fill pt > 25 GeV for /eos/user/s/sdeng/WZG_analysis/fake_lepton_template/QCD_Pt-20to30_MuEnrichedPt5_TuneCP5_13TeV_pythia8_2018.root: 100%|██████████| 1181/1181 [00:00<00:00, 26715.60it/s]\n"
     ]
    },
    {
     "name": "stdout",
     "output_type": "stream",
     "text": [
      "normalized deno :229249.62142241074\n",
      "normalized nume :95022.87600316353\n",
      "test 2\n",
      "is MC\n"
     ]
    },
    {
     "name": "stderr",
     "output_type": "stream",
     "text": [
      "fill pt < 25 GeV for /eos/user/s/sdeng/WZG_analysis/fake_lepton_template/QCD_Pt-30to50_MuEnrichedPt5_TuneCP5_13TeV_pythia8_2018.root:   2%|▏         | 3733/209888 [00:00<00:05, 37323.90it/s]"
     ]
    },
    {
     "name": "stdout",
     "output_type": "stream",
     "text": [
      "                mt        met  lepton_pt  lepton_eta  lepton_pdgid  \\\n",
      "35       10.057162   4.575057  30.663021   -1.382812         -13.0   \n",
      "122       4.662006   9.386549  28.093203   -1.921631          13.0   \n",
      "282       6.768826  15.951384  27.730459   -1.647461          13.0   \n",
      "352       2.020753   8.417920  30.606695   -2.212402         -13.0   \n",
      "558      17.634539   4.059681  25.549597    0.326416          13.0   \n",
      "...            ...        ...        ...         ...           ...   \n",
      "1348341  17.086969  15.841807  25.514963    1.661133         -13.0   \n",
      "1348342   5.686658   8.694186  25.058256   -1.756592          13.0   \n",
      "1348343  11.810036  13.346023  26.036991    0.024574         -13.0   \n",
      "1348454  19.209290  18.842955  26.539146   -1.419922          13.0   \n",
      "1348558  14.119909   3.147878  29.936331    1.750977          13.0   \n",
      "\n",
      "         lepton_pfRelIso04_all  lepton_gen_matching  HLT_IsoMu24  \\\n",
      "35                    0.391081                  4.0        False   \n",
      "122                   0.200756                  5.0        False   \n",
      "282                   0.222068                  5.0         True   \n",
      "352                   0.151405                  5.0        False   \n",
      "558                   0.117022                  4.0         True   \n",
      "...                        ...                  ...          ...   \n",
      "1348341               0.292476                  4.0        False   \n",
      "1348342               0.230205                  5.0        False   \n",
      "1348343               0.306511                  5.0        False   \n",
      "1348454               0.393907                  5.0        False   \n",
      "1348558               0.000000                  5.0        False   \n",
      "\n",
      "         HLT_Mu8_TrkIsoVVL  HLT_Mu17_TrkIsoVVL  hlt  gen_weight  SF  \n",
      "35                    True                True    0         1.0   1  \n",
      "122                   True                True    0         1.0   1  \n",
      "282                   True                True    0         1.0   1  \n",
      "352                   True                True    0         1.0   1  \n",
      "558                   True                True    0         1.0   1  \n",
      "...                    ...                 ...  ...         ...  ..  \n",
      "1348341               True                True    0         1.0   1  \n",
      "1348342               True                True    0         1.0   1  \n",
      "1348343               True                True    0         1.0   1  \n",
      "1348454               True                True    0         1.0   1  \n",
      "1348558               True                True    0         1.0   1  \n",
      "\n",
      "[11650 rows x 13 columns]\n"
     ]
    },
    {
     "name": "stderr",
     "output_type": "stream",
     "text": [
      "fill pt < 25 GeV for /eos/user/s/sdeng/WZG_analysis/fake_lepton_template/QCD_Pt-30to50_MuEnrichedPt5_TuneCP5_13TeV_pythia8_2018.root: 100%|██████████| 209888/209888 [00:06<00:00, 34427.51it/s]\n",
      "fill pt > 25 GeV for /eos/user/s/sdeng/WZG_analysis/fake_lepton_template/QCD_Pt-30to50_MuEnrichedPt5_TuneCP5_13TeV_pythia8_2018.root: 100%|██████████| 11650/11650 [00:00<00:00, 26306.35it/s]\n"
     ]
    },
    {
     "name": "stdout",
     "output_type": "stream",
     "text": [
      "normalized deno :331842.4735408668\n",
      "normalized nume :132395.81988999862\n",
      "test 3\n",
      "is MC\n"
     ]
    },
    {
     "name": "stderr",
     "output_type": "stream",
     "text": [
      "fill pt < 25 GeV for /eos/user/s/sdeng/WZG_analysis/fake_lepton_template/QCD_Pt-50to80_MuEnrichedPt5_TuneCP5_13TeV_pythia8_2018.root:  10%|▉         | 7251/75666 [00:00<00:01, 36119.30it/s]"
     ]
    },
    {
     "name": "stdout",
     "output_type": "stream",
     "text": [
      "               mt        met  lepton_pt  lepton_eta  lepton_pdgid  \\\n",
      "49      17.123222  13.182776  37.635071   -0.484741          13.0   \n",
      "120      2.346130  18.580990  38.373352   -0.879150          13.0   \n",
      "129      1.041009   7.898039  33.547108   -1.083496         -13.0   \n",
      "136     13.983636  16.730976  27.773895   -2.322266         -13.0   \n",
      "156     17.697035   4.912769  28.219532    1.218750         -13.0   \n",
      "...           ...        ...        ...         ...           ...   \n",
      "780151  17.130304  17.352217  28.283176    1.959717         -13.0   \n",
      "780366  19.261063  19.177225  38.019745   -2.034668          13.0   \n",
      "780379   3.576951  19.801666  25.554428   -1.239502         -13.0   \n",
      "780381   9.927012  12.870188  28.567055    1.727783          13.0   \n",
      "780423  18.196516  13.220934  25.455997   -1.242920         -13.0   \n",
      "\n",
      "        lepton_pfRelIso04_all  lepton_gen_matching  HLT_IsoMu24  \\\n",
      "49                   0.397715                  5.0        False   \n",
      "120                  0.320888                  5.0        False   \n",
      "129                  0.317615                  4.0        False   \n",
      "136                  0.058322                  4.0        False   \n",
      "156                  0.065674                  4.0         True   \n",
      "...                       ...                  ...          ...   \n",
      "780151               0.140166                  5.0        False   \n",
      "780366               0.000000                  4.0         True   \n",
      "780379               0.196577                  5.0        False   \n",
      "780381               0.025899                  5.0        False   \n",
      "780423               0.371147                  5.0        False   \n",
      "\n",
      "        HLT_Mu8_TrkIsoVVL  HLT_Mu17_TrkIsoVVL  hlt  gen_weight  SF  \n",
      "49                   True                True    0         1.0   1  \n",
      "120                  True                True    0         1.0   1  \n",
      "129                  True                True    0         1.0   1  \n",
      "136                  True                True    0         1.0   1  \n",
      "156                  True                True    0         1.0   1  \n",
      "...                   ...                 ...  ...         ...  ..  \n",
      "780151               True                True    0         1.0   1  \n",
      "780366               True                True    0         1.0   1  \n",
      "780379               True                True    0         1.0   1  \n",
      "780381               True                True    0         1.0   1  \n",
      "780423               True                True    0         1.0   1  \n",
      "\n",
      "[20127 rows x 13 columns]\n"
     ]
    },
    {
     "name": "stderr",
     "output_type": "stream",
     "text": [
      "fill pt < 25 GeV for /eos/user/s/sdeng/WZG_analysis/fake_lepton_template/QCD_Pt-50to80_MuEnrichedPt5_TuneCP5_13TeV_pythia8_2018.root: 100%|██████████| 75666/75666 [00:02<00:00, 35972.58it/s]\n",
      "fill pt > 25 GeV for /eos/user/s/sdeng/WZG_analysis/fake_lepton_template/QCD_Pt-50to80_MuEnrichedPt5_TuneCP5_13TeV_pythia8_2018.root: 100%|██████████| 20127/20127 [00:00<00:00, 27367.89it/s]\n"
     ]
    },
    {
     "name": "stdout",
     "output_type": "stream",
     "text": [
      "normalized deno :361260.7178967153\n",
      "normalized nume :141931.89727657527\n",
      "test 4\n",
      "is MC\n"
     ]
    },
    {
     "name": "stderr",
     "output_type": "stream",
     "text": [
      "fill pt < 25 GeV for /eos/user/s/sdeng/WZG_analysis/fake_lepton_template/QCD_Pt-80to120_MuEnrichedPt5_TuneCP5_13TeV_pythia8_2018.root:   8%|▊         | 3753/47192 [00:00<00:01, 37523.06it/s]"
     ]
    },
    {
     "name": "stdout",
     "output_type": "stream",
     "text": [
      "               mt        met  lepton_pt  lepton_eta  lepton_pdgid  \\\n",
      "43      17.446800   8.736309  48.729412   -0.259155         -13.0   \n",
      "77       4.014639  15.803831  45.451759    0.472961         -13.0   \n",
      "83       0.918543   8.872256  61.558582   -1.649414         -13.0   \n",
      "107      5.321715  11.407681  37.522854    1.313721         -13.0   \n",
      "121     12.377909  18.946749  70.443619   -1.416260         -13.0   \n",
      "...           ...        ...        ...         ...           ...   \n",
      "760551  10.946353   4.245192  29.634020   -0.152496         -13.0   \n",
      "760616   8.704479  19.916227  29.497543   -1.281494         -13.0   \n",
      "760710   7.174362  16.702925  41.546700    2.214844          13.0   \n",
      "760718  17.209988  11.006146  28.679317   -2.085449         -13.0   \n",
      "760723   9.809812   3.886118  39.140636   -0.590332          13.0   \n",
      "\n",
      "        lepton_pfRelIso04_all  lepton_gen_matching  HLT_IsoMu24  \\\n",
      "43                   0.213340                  5.0        False   \n",
      "77                   0.310533                  5.0        False   \n",
      "83                   0.222991                  5.0        False   \n",
      "107                  0.382563                  5.0        False   \n",
      "121                  0.363458                  5.0        False   \n",
      "...                       ...                  ...          ...   \n",
      "760551               0.334166                  5.0        False   \n",
      "760616               0.220829                  5.0        False   \n",
      "760710               0.370714                  5.0        False   \n",
      "760718               0.297551                  5.0        False   \n",
      "760723               0.056603                  5.0        False   \n",
      "\n",
      "        HLT_Mu8_TrkIsoVVL  HLT_Mu17_TrkIsoVVL  hlt  gen_weight  SF  \n",
      "43                   True                True    0         1.0   1  \n",
      "77                   True                True    0         1.0   1  \n",
      "83                   True                True    0         1.0   1  \n",
      "107                  True                True    0         1.0   1  \n",
      "121                  True                True    0         1.0   1  \n",
      "...                   ...                 ...  ...         ...  ..  \n",
      "760551               True                True    0         1.0   1  \n",
      "760616               True                True    0         1.0   1  \n",
      "760710               True                True    0         1.0   1  \n",
      "760718               True                True    0         1.0   1  \n",
      "760723               True                True    0         1.0   1  \n",
      "\n",
      "[21611 rows x 13 columns]\n"
     ]
    },
    {
     "name": "stderr",
     "output_type": "stream",
     "text": [
      "fill pt < 25 GeV for /eos/user/s/sdeng/WZG_analysis/fake_lepton_template/QCD_Pt-80to120_MuEnrichedPt5_TuneCP5_13TeV_pythia8_2018.root: 100%|██████████| 47192/47192 [00:01<00:00, 35070.81it/s]\n",
      "fill pt > 25 GeV for /eos/user/s/sdeng/WZG_analysis/fake_lepton_template/QCD_Pt-80to120_MuEnrichedPt5_TuneCP5_13TeV_pythia8_2018.root: 100%|██████████| 21611/21611 [00:00<00:00, 27619.20it/s]\n"
     ]
    },
    {
     "name": "stdout",
     "output_type": "stream",
     "text": [
      "normalized deno :366124.87909418176\n",
      "normalized nume :143414.6884026562\n",
      "test 5\n",
      "is MC\n"
     ]
    },
    {
     "name": "stderr",
     "output_type": "stream",
     "text": [
      "fill pt < 25 GeV for /eos/user/s/sdeng/WZG_analysis/fake_lepton_template/QCD_Pt-120to170_MuEnrichedPt5_TuneCP5_13TeV_pythia8_2018.root:  13%|█▎        | 2949/23033 [00:00<00:00, 29482.93it/s]"
     ]
    },
    {
     "name": "stdout",
     "output_type": "stream",
     "text": [
      "               mt        met  lepton_pt  lepton_eta  lepton_pdgid  \\\n",
      "0        8.391382   7.515080  48.142593   -1.888184          13.0   \n",
      "62       7.582780   3.047485  42.626778   -1.400635         -13.0   \n",
      "96      19.317354  18.875393  55.303333   -1.377930          13.0   \n",
      "103     18.560783  12.652042  40.799358    0.371887          13.0   \n",
      "125     11.970014  12.885004  57.262894   -1.410400         -13.0   \n",
      "...           ...        ...        ...         ...           ...   \n",
      "484062   4.295580   5.707514  65.196922   -1.861816          13.0   \n",
      "484081   7.023051  14.546785  63.848923    0.680664          13.0   \n",
      "484148   8.576848  15.272279  78.381317    1.558105         -13.0   \n",
      "484182   7.412144  16.320194  52.788773   -0.936890         -13.0   \n",
      "484229   5.131486  16.279261  77.568298    0.079666          13.0   \n",
      "\n",
      "        lepton_pfRelIso04_all  lepton_gen_matching  HLT_IsoMu24  \\\n",
      "0                    0.304931                  5.0        False   \n",
      "62                   0.296787                  5.0        False   \n",
      "96                   0.359131                  5.0        False   \n",
      "103                  0.000000                  5.0        False   \n",
      "125                  0.048574                  5.0         True   \n",
      "...                       ...                  ...          ...   \n",
      "484062               0.380493                  5.0        False   \n",
      "484081               0.232507                  5.0        False   \n",
      "484148               0.050036                  5.0         True   \n",
      "484182               0.000000                  5.0         True   \n",
      "484229               0.143185                  5.0         True   \n",
      "\n",
      "        HLT_Mu8_TrkIsoVVL  HLT_Mu17_TrkIsoVVL  hlt  gen_weight  SF  \n",
      "0                    True                True    0         1.0   1  \n",
      "62                   True                True    0         1.0   1  \n",
      "96                   True                True    0         1.0   1  \n",
      "103                  True                True    0         1.0   1  \n",
      "125                  True                True    0         1.0   1  \n",
      "...                   ...                 ...  ...         ...  ..  \n",
      "484062               True                True    0         1.0   1  \n",
      "484081               True                True    0         1.0   1  \n",
      "484148               True                True    0         1.0   1  \n",
      "484182               True                True    0         1.0   1  \n",
      "484229               True                True    0         1.0   1  \n",
      "\n",
      "[10965 rows x 13 columns]\n"
     ]
    },
    {
     "name": "stderr",
     "output_type": "stream",
     "text": [
      "fill pt < 25 GeV for /eos/user/s/sdeng/WZG_analysis/fake_lepton_template/QCD_Pt-120to170_MuEnrichedPt5_TuneCP5_13TeV_pythia8_2018.root: 100%|██████████| 23033/23033 [00:00<00:00, 33949.50it/s]\n",
      "fill pt > 25 GeV for /eos/user/s/sdeng/WZG_analysis/fake_lepton_template/QCD_Pt-120to170_MuEnrichedPt5_TuneCP5_13TeV_pythia8_2018.root: 100%|██████████| 10965/10965 [00:00<00:00, 27856.82it/s]\n"
     ]
    },
    {
     "name": "stdout",
     "output_type": "stream",
     "text": [
      "normalized deno :366827.32942659134\n",
      "normalized nume :143626.32210285706\n",
      "test 6\n",
      "is MC\n"
     ]
    },
    {
     "name": "stderr",
     "output_type": "stream",
     "text": [
      "fill pt < 25 GeV for /eos/user/s/sdeng/WZG_analysis/fake_lepton_template/QCD_Pt-170to300_MuEnrichedPt5_TuneCP5_13TeV_pythia8_2018.root:  13%|█▎        | 3492/26075 [00:00<00:00, 34914.12it/s]"
     ]
    },
    {
     "name": "stdout",
     "output_type": "stream",
     "text": [
      "               mt        met   lepton_pt  lepton_eta  lepton_pdgid  \\\n",
      "377     15.830880   8.213878   35.787495   -1.352051          13.0   \n",
      "389      4.839754  16.148504   39.113495   -0.485229         -13.0   \n",
      "403      7.425726   9.020910   42.653454   -0.175354         -13.0   \n",
      "501     13.366804  17.046970  174.370132    0.151489         -13.0   \n",
      "638      8.772503   3.866387   74.604416   -0.606079          13.0   \n",
      "...           ...        ...         ...         ...           ...   \n",
      "644627  10.316574  17.103960   98.939735   -2.245605          13.0   \n",
      "644720   4.311074  12.631783   27.985189    1.710938          13.0   \n",
      "644823   7.296818  10.490252   27.033070   -2.363770          13.0   \n",
      "644850   1.908917  15.092422   26.652246   -0.945435         -13.0   \n",
      "644937   1.122880   1.879260   38.285618    0.554199          13.0   \n",
      "\n",
      "        lepton_pfRelIso04_all  lepton_gen_matching  HLT_IsoMu24  \\\n",
      "377                  0.046133                  5.0         True   \n",
      "389                  0.146969                  5.0         True   \n",
      "403                  0.171446                  5.0        False   \n",
      "501                  0.207280                  5.0        False   \n",
      "638                  0.398653                  3.0        False   \n",
      "...                       ...                  ...          ...   \n",
      "644627               0.135246                  5.0        False   \n",
      "644720               0.319741                  5.0        False   \n",
      "644823               0.081633                  4.0        False   \n",
      "644850               0.212782                  5.0        False   \n",
      "644937               0.289532                  5.0        False   \n",
      "\n",
      "        HLT_Mu8_TrkIsoVVL  HLT_Mu17_TrkIsoVVL  hlt  gen_weight  SF  \n",
      "377                  True                True    0         1.0   1  \n",
      "389                  True                True    0         1.0   1  \n",
      "403                  True                True    0         1.0   1  \n",
      "501                  True                True    0         1.0   1  \n",
      "638                  True                True    0         1.0   1  \n",
      "...                   ...                 ...  ...         ...  ..  \n",
      "644627               True                True    0         1.0   1  \n",
      "644720               True                True    0         1.0   1  \n",
      "644823              False                True    0         1.0   1  \n",
      "644850               True                True    0         1.0   1  \n",
      "644937               True                True    0         1.0   1  \n",
      "\n",
      "[10587 rows x 13 columns]\n"
     ]
    },
    {
     "name": "stderr",
     "output_type": "stream",
     "text": [
      "fill pt < 25 GeV for /eos/user/s/sdeng/WZG_analysis/fake_lepton_template/QCD_Pt-170to300_MuEnrichedPt5_TuneCP5_13TeV_pythia8_2018.root: 100%|██████████| 26075/26075 [00:00<00:00, 34343.48it/s]\n",
      "fill pt > 25 GeV for /eos/user/s/sdeng/WZG_analysis/fake_lepton_template/QCD_Pt-170to300_MuEnrichedPt5_TuneCP5_13TeV_pythia8_2018.root: 100%|██████████| 10587/10587 [00:00<00:00, 29493.90it/s]\n"
     ]
    },
    {
     "name": "stdout",
     "output_type": "stream",
     "text": [
      "normalized deno :366963.17636015604\n",
      "normalized nume :143666.74133434633\n",
      "test 7\n",
      "is MC\n"
     ]
    },
    {
     "name": "stderr",
     "output_type": "stream",
     "text": [
      "fill pt < 25 GeV for /eos/user/s/sdeng/WZG_analysis/fake_lepton_template/QCD_Pt-300to470_MuEnrichedPt5_TuneCP5_13TeV_pythia8_2018.root:  16%|█▌        | 3221/19976 [00:00<00:00, 32204.73it/s]"
     ]
    },
    {
     "name": "stdout",
     "output_type": "stream",
     "text": [
      "               mt        met   lepton_pt  lepton_eta  lepton_pdgid  \\\n",
      "33       3.316553  15.913762  164.644943    2.068848          13.0   \n",
      "49      18.198786   9.358151   49.072960   -0.981201          13.0   \n",
      "115      9.454370  19.601055   27.012991   -1.117676         -13.0   \n",
      "269     14.814459  13.684842   30.146973    0.562744          13.0   \n",
      "364      6.978810   4.803239   96.444839   -1.268555          13.0   \n",
      "...           ...        ...         ...         ...           ...   \n",
      "619855   6.337331  12.604591   51.147419   -1.512451         -13.0   \n",
      "619933   7.930119  13.248937   60.821804    2.006836         -13.0   \n",
      "620017  10.428896  11.010891   37.498997   -1.781250          13.0   \n",
      "620033   5.104097  18.665648   50.812744    0.698364          13.0   \n",
      "620039  11.418807  18.591360  174.095032   -0.464905          13.0   \n",
      "\n",
      "        lepton_pfRelIso04_all  lepton_gen_matching  HLT_IsoMu24  \\\n",
      "33                   0.220895                  5.0         True   \n",
      "49                   0.386523                  5.0        False   \n",
      "115                  0.363808                  5.0        False   \n",
      "269                  0.006106                  1.0         True   \n",
      "364                  0.136440                  5.0        False   \n",
      "...                       ...                  ...          ...   \n",
      "619855               0.167805                  4.0        False   \n",
      "619933               0.000000                  1.0        False   \n",
      "620017               0.359699                  5.0        False   \n",
      "620033               0.072249                  1.0         True   \n",
      "620039               0.285064                  4.0        False   \n",
      "\n",
      "        HLT_Mu8_TrkIsoVVL  HLT_Mu17_TrkIsoVVL  hlt  gen_weight  SF  \n",
      "33                   True                True    0         1.0   1  \n",
      "49                   True                True    0         1.0   1  \n",
      "115                  True                True    0         1.0   1  \n",
      "269                  True                True    0         1.0   1  \n",
      "364                  True                True    0         1.0   1  \n",
      "...                   ...                 ...  ...         ...  ..  \n",
      "619855               True                True    0         1.0   1  \n",
      "619933               True                True    0         1.0   1  \n",
      "620017               True                True    0         1.0   1  \n",
      "620033               True                True    0         1.0   1  \n",
      "620039               True                True    0         1.0   1  \n",
      "\n",
      "[6936 rows x 13 columns]\n"
     ]
    },
    {
     "name": "stderr",
     "output_type": "stream",
     "text": [
      "fill pt < 25 GeV for /eos/user/s/sdeng/WZG_analysis/fake_lepton_template/QCD_Pt-300to470_MuEnrichedPt5_TuneCP5_13TeV_pythia8_2018.root: 100%|██████████| 19976/19976 [00:00<00:00, 35349.42it/s]\n",
      "fill pt > 25 GeV for /eos/user/s/sdeng/WZG_analysis/fake_lepton_template/QCD_Pt-300to470_MuEnrichedPt5_TuneCP5_13TeV_pythia8_2018.root: 100%|██████████| 6936/6936 [00:00<00:00, 27972.38it/s]\n"
     ]
    },
    {
     "name": "stdout",
     "output_type": "stream",
     "text": [
      "normalized deno :366969.3212597683\n",
      "normalized nume :143668.56348757778\n",
      "test 8\n",
      "is MC\n"
     ]
    },
    {
     "name": "stderr",
     "output_type": "stream",
     "text": [
      "fill pt < 25 GeV for /eos/user/s/sdeng/WZG_analysis/fake_lepton_template/QCD_Pt-470to600_MuEnrichedPt5_TuneCP5_13TeV_pythia8_2018.root: 100%|██████████| 5619/5619 [00:00<00:00, 37858.45it/s]\n",
      "fill pt > 25 GeV for /eos/user/s/sdeng/WZG_analysis/fake_lepton_template/QCD_Pt-470to600_MuEnrichedPt5_TuneCP5_13TeV_pythia8_2018.root:   0%|          | 0/1724 [00:00<?, ?it/s]"
     ]
    },
    {
     "name": "stdout",
     "output_type": "stream",
     "text": [
      "               mt        met   lepton_pt  lepton_eta  lepton_pdgid  \\\n",
      "173     16.639330  15.839948   47.626141    0.803223          13.0   \n",
      "354     18.853456   4.745503  318.918793   -0.115234          13.0   \n",
      "379     10.508461  18.773474   32.736950   -1.625488         -13.0   \n",
      "402     12.204823  15.192431   44.804981    0.626587         -13.0   \n",
      "491      0.717579  19.984295   51.075615   -0.612183         -13.0   \n",
      "...           ...        ...         ...         ...           ...   \n",
      "212687  17.716848  19.861486   27.742712    0.353577         -13.0   \n",
      "213037  18.545216  16.619951   31.280317    1.409912          13.0   \n",
      "213078   5.239328  16.392988   56.384407   -0.886108          13.0   \n",
      "213346   6.678764   9.565643   40.135887    2.102051         -13.0   \n",
      "213397  11.130187   9.741708   80.391792    1.544434         -13.0   \n",
      "\n",
      "        lepton_pfRelIso04_all  lepton_gen_matching  HLT_IsoMu24  \\\n",
      "173                  0.399235                  5.0        False   \n",
      "354                  0.152015                  5.0         True   \n",
      "379                  0.115698                  5.0        False   \n",
      "402                  0.339139                  4.0        False   \n",
      "491                  0.197559                  4.0        False   \n",
      "...                       ...                  ...          ...   \n",
      "212687               0.224020                  4.0        False   \n",
      "213037               0.222023                  4.0        False   \n",
      "213078               0.243063                  5.0        False   \n",
      "213346               0.334749                  5.0        False   \n",
      "213397               0.134877                  5.0        False   \n",
      "\n",
      "        HLT_Mu8_TrkIsoVVL  HLT_Mu17_TrkIsoVVL  hlt  gen_weight  SF  \n",
      "173                  True                True    0         1.0   1  \n",
      "354                  True                True    0         1.0   1  \n",
      "379                  True                True    0         1.0   1  \n",
      "402                  True                True    0         1.0   1  \n",
      "491                  True                True    0         1.0   1  \n",
      "...                   ...                 ...  ...         ...  ..  \n",
      "212687               True                True    0         1.0   1  \n",
      "213037               True                True    0         1.0   1  \n",
      "213078               True                True    0         1.0   1  \n",
      "213346               True                True    0         1.0   1  \n",
      "213397               True                True    0         1.0   1  \n",
      "\n",
      "[1724 rows x 13 columns]\n"
     ]
    },
    {
     "name": "stderr",
     "output_type": "stream",
     "text": [
      "fill pt > 25 GeV for /eos/user/s/sdeng/WZG_analysis/fake_lepton_template/QCD_Pt-470to600_MuEnrichedPt5_TuneCP5_13TeV_pythia8_2018.root: 100%|██████████| 1724/1724 [00:00<00:00, 27268.30it/s]\n"
     ]
    },
    {
     "name": "stdout",
     "output_type": "stream",
     "text": [
      "normalized deno :366969.6851038631\n",
      "normalized nume :143668.6782324683\n",
      "test 9\n",
      "is MC\n"
     ]
    },
    {
     "name": "stderr",
     "output_type": "stream",
     "text": [
      "fill pt < 25 GeV for /eos/user/s/sdeng/WZG_analysis/fake_lepton_template/QCD_Pt-600to800_MuEnrichedPt5_TuneCP5_13TeV_pythia8_2018.root: 100%|██████████| 3438/3438 [00:00<00:00, 34644.68it/s]\n",
      "fill pt > 25 GeV for /eos/user/s/sdeng/WZG_analysis/fake_lepton_template/QCD_Pt-600to800_MuEnrichedPt5_TuneCP5_13TeV_pythia8_2018.root: 100%|██████████| 1067/1067 [00:00<00:00, 28965.74it/s]"
     ]
    },
    {
     "name": "stdout",
     "output_type": "stream",
     "text": [
      "               mt        met   lepton_pt  lepton_eta  lepton_pdgid  \\\n",
      "519      5.869051  19.419725   32.709148   -1.725098          13.0   \n",
      "600     18.915604  11.240346   67.330063    1.678711          13.0   \n",
      "647     19.376358  18.088690   25.596296    2.248047          13.0   \n",
      "661     17.252924   8.520111   28.734381   -1.218262         -13.0   \n",
      "865      5.789466   3.185699   28.254454    2.337891          13.0   \n",
      "...           ...        ...         ...         ...           ...   \n",
      "157280   6.188663  18.834951   25.263105    0.140106         -13.0   \n",
      "157438   3.820482   4.375783   57.842190    1.825684         -13.0   \n",
      "157525  15.146649   3.566643   40.398392    1.949707          13.0   \n",
      "157602  17.984810  13.791980  252.027008    0.049347         -13.0   \n",
      "158105  12.506927  12.880162   35.227154    2.341797         -13.0   \n",
      "\n",
      "        lepton_pfRelIso04_all  lepton_gen_matching  HLT_IsoMu24  \\\n",
      "519                  0.384640                  5.0        False   \n",
      "600                  0.362776                  5.0        False   \n",
      "647                  0.309244                  5.0        False   \n",
      "661                  0.297209                  5.0        False   \n",
      "865                  0.182294                  5.0        False   \n",
      "...                       ...                  ...          ...   \n",
      "157280               0.375662                  5.0        False   \n",
      "157438               0.117647                  5.0        False   \n",
      "157525               0.275461                  4.0        False   \n",
      "157602               0.324246                  5.0         True   \n",
      "158105               0.349085                  4.0        False   \n",
      "\n",
      "        HLT_Mu8_TrkIsoVVL  HLT_Mu17_TrkIsoVVL  hlt  gen_weight  SF  \n",
      "519                  True                True    0         1.0   1  \n",
      "600                  True                True    0         1.0   1  \n",
      "647                  True                True    0         1.0   1  \n",
      "661                  True                True    0         1.0   1  \n",
      "865                  True                True    0         1.0   1  \n",
      "...                   ...                 ...  ...         ...  ..  \n",
      "157280               True                True    0         1.0   1  \n",
      "157438               True                True    0         1.0   1  \n",
      "157525               True                True    0         1.0   1  \n",
      "157602               True                True    0         1.0   1  \n",
      "158105               True                True    0         1.0   1  \n",
      "\n",
      "[1067 rows x 13 columns]\n",
      "normalized deno :366969.76855020516\n",
      "normalized nume :143668.70499240406\n",
      "test 10\n",
      "is MC\n"
     ]
    },
    {
     "name": "stderr",
     "output_type": "stream",
     "text": [
      "\n",
      "fill pt < 25 GeV for /eos/user/s/sdeng/WZG_analysis/fake_lepton_template/QCD_Pt-800to1000_MuEnrichedPt5_TuneCP5_13TeV_pythia8_2018.root: 100%|██████████| 2722/2722 [00:00<00:00, 31817.27it/s]\n",
      "fill pt > 25 GeV for /eos/user/s/sdeng/WZG_analysis/fake_lepton_template/QCD_Pt-800to1000_MuEnrichedPt5_TuneCP5_13TeV_pythia8_2018.root: 100%|██████████| 825/825 [00:00<00:00, 25268.18it/s]"
     ]
    },
    {
     "name": "stdout",
     "output_type": "stream",
     "text": [
      "               mt        met   lepton_pt  lepton_eta  lepton_pdgid  \\\n",
      "219      5.357730  14.503051   25.942459    0.646851          13.0   \n",
      "230     11.684130   5.527953  124.659309    1.714355         -13.0   \n",
      "281     13.616152  16.958355   77.857239    1.165771         -13.0   \n",
      "326     18.944221  18.909611  193.526611   -0.657471          13.0   \n",
      "504     19.637436   9.330419   48.288811    0.343689         -13.0   \n",
      "...           ...        ...         ...         ...           ...   \n",
      "143398  19.705664  10.811669   37.220882    0.781250          13.0   \n",
      "143419  12.251289  15.702664   28.170935    1.463623          13.0   \n",
      "143472   4.240691  13.912180   31.287212   -1.878418         -13.0   \n",
      "143549   0.215201  19.412579   34.623302    0.719116         -13.0   \n",
      "144018  17.859884   7.435506   34.312862   -2.021973         -13.0   \n",
      "\n",
      "        lepton_pfRelIso04_all  lepton_gen_matching  HLT_IsoMu24  \\\n",
      "219                  0.320787                  4.0        False   \n",
      "230                  0.003735                  5.0        False   \n",
      "281                  0.265329                  5.0        False   \n",
      "326                  0.128625                  4.0         True   \n",
      "504                  0.085312                  5.0        False   \n",
      "...                       ...                  ...          ...   \n",
      "143398               0.205831                  5.0        False   \n",
      "143419               0.152248                  5.0        False   \n",
      "143472               0.397586                  4.0        False   \n",
      "143549               0.229623                  4.0        False   \n",
      "144018               0.227431                  5.0        False   \n",
      "\n",
      "        HLT_Mu8_TrkIsoVVL  HLT_Mu17_TrkIsoVVL  hlt  gen_weight  SF  \n",
      "219                  True                True    0         1.0   1  \n",
      "230                 False                True    0         1.0   1  \n",
      "281                  True                True    0         1.0   1  \n",
      "326                  True                True    0         1.0   1  \n",
      "504                  True                True    0         1.0   1  \n",
      "...                   ...                 ...  ...         ...  ..  \n",
      "143398               True                True    0         1.0   1  \n",
      "143419               True                True    0         1.0   1  \n",
      "143472               True                True    0         1.0   1  \n",
      "143549               True                True    0         1.0   1  \n",
      "144018               True                True    0         1.0   1  \n",
      "\n",
      "[825 rows x 13 columns]\n",
      "normalized deno :366969.78018651484\n",
      "normalized nume :143668.70914869526\n",
      "test 11\n",
      "is MC\n"
     ]
    },
    {
     "name": "stderr",
     "output_type": "stream",
     "text": [
      "\n",
      "fill pt < 25 GeV for /eos/user/s/sdeng/WZG_analysis/fake_lepton_template/QCD_Pt-1000toInf_MuEnrichedPt5_TuneCP5_13TeV_pythia8_2018.root: 100%|██████████| 1767/1767 [00:00<00:00, 36922.09it/s]\n",
      "fill pt > 25 GeV for /eos/user/s/sdeng/WZG_analysis/fake_lepton_template/QCD_Pt-1000toInf_MuEnrichedPt5_TuneCP5_13TeV_pythia8_2018.root: 100%|██████████| 467/467 [00:00<00:00, 28436.99it/s]"
     ]
    },
    {
     "name": "stdout",
     "output_type": "stream",
     "text": [
      "               mt        met  lepton_pt  lepton_eta  lepton_pdgid  \\\n",
      "627      2.129474   6.714786  44.748699   -0.559326         -13.0   \n",
      "658      2.047309  16.531651  32.843185    1.883545         -13.0   \n",
      "695     18.293377   4.195400  29.553205    0.116348         -13.0   \n",
      "708     18.886402   5.568055  30.798203    1.934326         -13.0   \n",
      "987     15.971433  19.574007  31.035170    0.976318          13.0   \n",
      "...           ...        ...        ...         ...           ...   \n",
      "110734   7.754110  11.822895  36.732555   -2.032227         -13.0   \n",
      "110784  14.887724  13.508309  34.891872   -1.198975          13.0   \n",
      "111112  12.426793   1.487331  76.809891    1.208496          13.0   \n",
      "111215  16.501158   1.409001  68.262711    1.310791          13.0   \n",
      "111235   1.546352  12.697820  33.647228   -0.473755         -13.0   \n",
      "\n",
      "        lepton_pfRelIso04_all  lepton_gen_matching  HLT_IsoMu24  \\\n",
      "627                  0.165215                  4.0        False   \n",
      "658                  0.150447                  5.0        False   \n",
      "695                  0.210578                  5.0        False   \n",
      "708                  0.335101                  5.0        False   \n",
      "987                  0.204965                  5.0        False   \n",
      "...                       ...                  ...          ...   \n",
      "110734               0.221960                  5.0        False   \n",
      "110784               0.080256                  4.0        False   \n",
      "111112               0.206667                  1.0         True   \n",
      "111215               0.358309                  5.0        False   \n",
      "111235               0.199223                  5.0         True   \n",
      "\n",
      "        HLT_Mu8_TrkIsoVVL  HLT_Mu17_TrkIsoVVL  hlt  gen_weight  SF  \n",
      "627                  True                True    0         1.0   1  \n",
      "658                  True                True    0         1.0   1  \n",
      "695                  True                True    0         1.0   1  \n",
      "708                  True                True    0         1.0   1  \n",
      "987                  True                True    0         1.0   1  \n",
      "...                   ...                 ...  ...         ...  ..  \n",
      "110734               True                True    0         1.0   1  \n",
      "110784               True                True    0         1.0   1  \n",
      "111112               True                True    0         1.0   1  \n",
      "111215               True                True    0         1.0   1  \n",
      "111235               True                True    0         1.0   1  \n",
      "\n",
      "[467 rows x 13 columns]\n",
      "normalized deno :366969.7828680927\n",
      "normalized nume :143668.71006010365\n"
     ]
    },
    {
     "name": "stderr",
     "output_type": "stream",
     "text": [
      "\n"
     ]
    }
   ],
   "source": [
    "ybins = [10, 13, 16, 20, 24, 28, 35, 45, 60]\n",
    "xbins = [.0, 0.5, 1.0, 1.5, 2.0, 2.5]\n",
    "\n",
    "from array import array\n",
    "h_deno_mu_valid = ROOT.TH2D(\"\",\"\", 5, array('d',xbins), 8, array('d',ybins))\n",
    "h_deno_mu_valid.Sumw2()\n",
    "h_nume_mu_valid = ROOT.TH2D(\"\",\"\", 5, array('d',xbins), 8, array('d',ybins))\n",
    "h_nume_mu_valid.Sumw2()\n",
    "\n",
    "file_list_QCD = [\n",
    "    \"/eos/user/s/sdeng/WZG_analysis/fake_lepton_template/QCD_Pt-15to20_MuEnrichedPt5_TuneCP5_13TeV_pythia8_2018.root\",\n",
    "    \"/eos/user/s/sdeng/WZG_analysis/fake_lepton_template/QCD_Pt-20to30_MuEnrichedPt5_TuneCP5_13TeV_pythia8_2018.root\",\n",
    "    \"/eos/user/s/sdeng/WZG_analysis/fake_lepton_template/QCD_Pt-30to50_MuEnrichedPt5_TuneCP5_13TeV_pythia8_2018.root\",\n",
    "    \"/eos/user/s/sdeng/WZG_analysis/fake_lepton_template/QCD_Pt-50to80_MuEnrichedPt5_TuneCP5_13TeV_pythia8_2018.root\",\n",
    "    \"/eos/user/s/sdeng/WZG_analysis/fake_lepton_template/QCD_Pt-80to120_MuEnrichedPt5_TuneCP5_13TeV_pythia8_2018.root\",\n",
    "    \"/eos/user/s/sdeng/WZG_analysis/fake_lepton_template/QCD_Pt-120to170_MuEnrichedPt5_TuneCP5_13TeV_pythia8_2018.root\",\n",
    "    \"/eos/user/s/sdeng/WZG_analysis/fake_lepton_template/QCD_Pt-170to300_MuEnrichedPt5_TuneCP5_13TeV_pythia8_2018.root\",\n",
    "    \"/eos/user/s/sdeng/WZG_analysis/fake_lepton_template/QCD_Pt-300to470_MuEnrichedPt5_TuneCP5_13TeV_pythia8_2018.root\",\n",
    "    \"/eos/user/s/sdeng/WZG_analysis/fake_lepton_template/QCD_Pt-470to600_MuEnrichedPt5_TuneCP5_13TeV_pythia8_2018.root\",\n",
    "    \"/eos/user/s/sdeng/WZG_analysis/fake_lepton_template/QCD_Pt-600to800_MuEnrichedPt5_TuneCP5_13TeV_pythia8_2018.root\",\n",
    "    \"/eos/user/s/sdeng/WZG_analysis/fake_lepton_template/QCD_Pt-800to1000_MuEnrichedPt5_TuneCP5_13TeV_pythia8_2018.root\",\n",
    "    \"/eos/user/s/sdeng/WZG_analysis/fake_lepton_template/QCD_Pt-1000toInf_MuEnrichedPt5_TuneCP5_13TeV_pythia8_2018.root\"\n",
    "]\n",
    "\n",
    "xsec_list_QCD = [\n",
    "    2799000,\n",
    "    2526000,\n",
    "    1362000,\n",
    "    376600,\n",
    "    88930,\n",
    "    21230,\n",
    "    7055,\n",
    "    619.3,\n",
    "    59.24,\n",
    "    18.21,\n",
    "    3.275,\n",
    "    1.078\n",
    "]\n",
    "\n",
    "lumi_Mu8 = 0.00856 # HLT_Mu8_TrkIsoVVL 2018 lumi\n",
    "lumi_Mu17 = 0.04578 # HLT_Mu17_TrkIsoVVL 2018 lumi\n",
    "\n",
    "for i in range(0,len(file_list_QCD)):\n",
    "    print (\"test\",i)\n",
    "    AddHist_FR_Mu(file_list_QCD[i], h_nume_mu_valid, h_deno_mu_valid, 1, 0, lumi_Mu8, lumi_Mu17, xsec_list_QCD[i])\n",
    "#     AddMC(file_list_QCD[i], h_nume_mu_valid, h_deno_mu_valid, 59.783, xseclist_QCD[i], 1)\n"
   ]
  },
  {
   "cell_type": "code",
   "execution_count": 37,
   "id": "satisfied-dependence",
   "metadata": {},
   "outputs": [
    {
     "name": "stdout",
     "output_type": "stream",
     "text": [
      "59.7 fb^{-1} (13 TeV)\n"
     ]
    },
    {
     "name": "stderr",
     "output_type": "stream",
     "text": [
      "Info in <TCanvas::Print>: pdf file Fake_Lepton/FR_Muon_QCD_2018.pdf has been created\n",
      "Info in <TCanvas::Print>: png file Fake_Lepton/FR_Muon_QCD_2018.png has been created\n"
     ]
    },
    {
     "data": {
      "image/png": "[encoded data removed]",
      "text/plain": [
       "<IPython.core.display.Image object>"
      ]
     },
     "metadata": {},
     "output_type": "display_data"
    }
   ],
   "source": [
    "# default = ROOT.TStyle(\"Default\",\"Default Style\")\n",
    "# ROOT.gROOT.SetStyle('Default')\n",
    "\n",
    "fake_rate_mu_valid = h_nume_mu_valid.Clone(\"fake_rate_mu_valid\")\n",
    "fake_rate_mu_valid.Divide(h_deno_mu_valid)\n",
    "\n",
    "fake_rate_mu_valid.SetDirectory(0)\n",
    "c1 = ROOT.TCanvas(\"c1\",\"\",1200,800)\n",
    "fake_rate_mu_valid.SetStats(0)\n",
    "fake_rate_mu_valid.SetXTitle(\"|#eta|\")\n",
    "fake_rate_mu_valid.SetYTitle(\"P_{T} [GeV]\")\n",
    "fake_rate_mu_valid.SetMarkerSize(1.2)\n",
    "fake_rate_mu_valid.Draw(\"TEXT COLZe\")\n",
    "c1.Draw()\n",
    "CMS_lumi(c1, 0, 0)\n",
    "# c1.SaveAs('Fake_Lepton/FR_Muon_QCD_2018.pdf')\n",
    "# c1.SaveAs('Fake_Lepton/FR_Muon_QCD_2018.png')"
   ]
  },
  {
   "cell_type": "markdown",
   "id": "boxed-share",
   "metadata": {},
   "source": [
    "#### FR 2D Data vs. QCD"
   ]
  },
  {
   "cell_type": "code",
   "execution_count": 39,
   "id": "silver-finance",
   "metadata": {},
   "outputs": [
    {
     "name": "stdout",
     "output_type": "stream",
     "text": [
      "59.7 fb^{-1} (13 TeV)\n"
     ]
    },
    {
     "name": "stderr",
     "output_type": "stream",
     "text": [
      "Warning in <TCanvas::Constructor>: Deleting canvas with same name: c1\n",
      "Info in <TCanvas::Print>: pdf file Fake_Lepton/2d_FR_Muon_datavsQCD_2018.pdf has been created\n",
      "Info in <TCanvas::Print>: png file Fake_Lepton/2d_FR_Muon_datavsQCD_2018.png has been created\n"
     ]
    },
    {
     "data": {
      "image/png": "[encoded data removed]",
      "text/plain": [
       "<IPython.core.display.Image object>"
      ]
     },
     "metadata": {},
     "output_type": "display_data"
    }
   ],
   "source": [
    "TH2D_ratio_mu_Data_QCD = fake_rate_mu.Clone(\"TH2D_ratio_mu_Data_QCD\")\n",
    "TH2D_ratio_mu_Data_QCD.Divide(fake_rate_mu_valid)\n",
    "\n",
    "c1 = ROOT.TCanvas(\"c1\",\"\",1200,800)\n",
    "TH2D_ratio_mu_Data_QCD.SetStats(0)\n",
    "TH2D_ratio_mu_Data_QCD.SetXTitle(\"|#eta|\")\n",
    "TH2D_ratio_mu_Data_QCD.SetYTitle(\"P_{T} [GeV]\")\n",
    "TH2D_ratio_mu_Data_QCD.SetMarkerSize(1.2)\n",
    "TH2D_ratio_mu_Data_QCD.Draw(\"TEXT COLZe\")\n",
    "c1.Draw()\n",
    "CMS_lumi(c1, 0, 0)\n",
    "c1.SaveAs('Fake_Lepton/2d_FR_Muon_datavsQCD_2018.pdf')\n",
    "c1.SaveAs('Fake_Lepton/2d_FR_Muon_datavsQCD_2018.png')"
   ]
  },
  {
   "cell_type": "markdown",
   "id": "bottom-honey",
   "metadata": {},
   "source": [
    "#### FR 1D Data vs. QCD"
   ]
  },
  {
   "cell_type": "code",
   "execution_count": 61,
   "id": "handmade-garbage",
   "metadata": {
    "collapsed": true,
    "jupyter": {
     "outputs_hidden": true
    },
    "tags": []
   },
   "outputs": [
    {
     "name": "stdout",
     "output_type": "stream",
     "text": [
      "59.7 fb^{-1} (13 TeV)\n"
     ]
    },
    {
     "name": "stderr",
     "output_type": "stream",
     "text": [
      "Warning in <TCanvas::Constructor>: Deleting canvas with same name: c1\n",
      "Warning in <TH1D::Sumw2>: Sum of squares of weights structure already created\n",
      "Info in <TCanvas::Print>: pdf file Fake_Lepton/1d_FR_Muon_datavsQCD_pt_2018.pdf has been created\n",
      "Info in <TCanvas::Print>: png file Fake_Lepton/1d_FR_Muon_datavsQCD_pt_2018.png has been created\n"
     ]
    },
    {
     "data": {
      "image/png": "[encoded data removed]",
      "text/plain": [
       "<IPython.core.display.Image object>"
      ]
     },
     "metadata": {},
     "output_type": "display_data"
    }
   ],
   "source": [
    "TH1D_data_deno = h_deno_mu.ProjectionY(\"TH1D_data_deno\",1,5)\n",
    "TH1D_data = h_nume_mu.ProjectionY(\"TH1D_data\",1,5)\n",
    "TH1D_data.Divide(TH1D_data_deno)\n",
    "\n",
    "TH1D_QCD_deno = h_deno_mu_valid.ProjectionY(\"TH1D_QCD_deno\",1,5)\n",
    "TH1D_QCD = h_nume_mu_valid.ProjectionY(\"TH1D_QCD\",1,5)\n",
    "TH1D_QCD.Divide(TH1D_QCD_deno)\n",
    "\n",
    "c1 = ROOT.TCanvas(\"c1\",\"\",1000,800)\n",
    "TH1D_data.SetStats(0)\n",
    "TH1D_data.SetMarkerStyle(20)\n",
    "TH1D_data.SetMarkerColor(1)\n",
    "TH1D_data.SetLineColor(1)\n",
    "TH1D_data.GetXaxis().SetTitle(\"P_{T} [GeV]\")\n",
    "TH1D_data.GetYaxis().SetTitle(\"Muon Fake Rate\")\n",
    "\n",
    "TH1D_QCD.SetStats(0)\n",
    "TH1D_QCD.SetMarkerStyle(20)\n",
    "TH1D_QCD.SetMarkerColor(2)\n",
    "TH1D_QCD.SetLineColor(2)\n",
    "\n",
    "h1 = TH1D_data.Clone(\"h1\")\n",
    "h2 = TH1D_QCD.Clone(\"h2\")\n",
    "h3 = createRatio(h1, h2)\n",
    "\n",
    "c1.Draw()\n",
    "pad1 = ROOT.TPad(\"pad1\", \"pad1\", 0, 0.3, 1, 1.0)\n",
    "pad1.SetBottomMargin(0.015)  # joins upper and lower plot\n",
    "# pad1.SetGridx()\n",
    "pad1.Draw()\n",
    "# Lower ratio plot is pad2\n",
    "c1.cd()  # returns to main canvas before defining pad2\n",
    "pad2 = ROOT.TPad(\"pad2\", \"pad2\", 0, 0.05, 1, 0.3)\n",
    "pad2.SetTopMargin(0)  # joins upper and lower plot\n",
    "pad2.SetBottomMargin(0.3)\n",
    "pad2.SetGridy()\n",
    "pad2.Draw()\n",
    "\n",
    "TH1D_data.SetMaximum(1)\n",
    "TH1D_data.SetMinimum(0)\n",
    "# CMS_lumi(c1, 0, 0)\n",
    "\n",
    "\n",
    "# Upper histogram plot is pad1\n",
    "legend = ROOT.TLegend(0.65, 0.60, 0.90, 0.7)\n",
    "legend.SetBorderSize(0)\n",
    "legend.SetFillColor(0)\n",
    "legend.SetTextSize(0.035)\n",
    "legend.SetLineWidth(1)\n",
    "legend.SetLineStyle(2)\n",
    "legend.AddEntry(h1,'data')\n",
    "legend.AddEntry(h2,'QCD')\n",
    "\n",
    "# draw everything\n",
    "pad1.cd()\n",
    "h1.Draw(\"ep\")\n",
    "h2.Draw(\"ep same\")\n",
    "legend.Draw(\"same\")\n",
    "# to avoid clipping the bottom zero, redraw a small axis\n",
    "h1.GetXaxis().SetLabelSize(0)\n",
    "# axis = TGaxis(-5, 20, -5, 220, 20, 220, 510, \"\")\n",
    "# axis.SetLabelFont(43)\n",
    "# axis.SetLabelSize(15)\n",
    "# axis.Draw()\n",
    "pad2.cd()\n",
    "h3.Draw(\"ep\")\n",
    "\n",
    "CMS_lumi(pad1, 0, 0)\n",
    "\n",
    "# c1.SaveAs('Fake_Lepton/1d_FR_Muon_datavsQCD_pt_2018.pdf')\n",
    "# c1.SaveAs('Fake_Lepton/1d_FR_Muon_datavsQCD_pt_2018.png')"
   ]
  },
  {
   "cell_type": "markdown",
   "id": "324bdfa6-cebd-4ef2-b0a0-f0716608e7fa",
   "metadata": {},
   "source": [
    "### test "
   ]
  },
  {
   "cell_type": "code",
   "execution_count": null,
   "id": "forty-angle",
   "metadata": {},
   "outputs": [],
   "source": [
    "# ntuple = uproot.open(\"/eos/cms/store/group/phys_top/efe/ntuples_a02ce4df_all/MC13TeV_2017_t_sch/Chunk_0_ext0.root:analysis\")\n",
    "# ntuple['data']"
   ]
  },
  {
   "cell_type": "code",
   "execution_count": null,
   "id": "corporate-modern",
   "metadata": {},
   "outputs": [],
   "source": [
    "# ttc_array = ntuple['data'].arrays(['l_id','l_isPromptFinalState'],library='pd')\n",
    "# ttc_array"
   ]
  },
  {
   "cell_type": "code",
   "execution_count": null,
   "id": "japanese-testimony",
   "metadata": {},
   "outputs": [],
   "source": [
    "# aktest = Events.arrays([\"lepton_pt\",\"lepton_eta\",\"lepton_pdgid\"],\"abs(lepton_pdgid) == 13\", library='ak')"
   ]
  },
  {
   "cell_type": "code",
   "execution_count": null,
   "id": "headed-institution",
   "metadata": {},
   "outputs": [],
   "source": [
    "# plt.style.use(hep.style.CMS)\n",
    "# plt.hist(branches['lepton_pt'], bins=10, range=(0,100))\n",
    "# plt.yscale('log')\n",
    "# plt.xlabel('test')\n",
    "# plt.show()"
   ]
  },
  {
   "cell_type": "code",
   "execution_count": null,
   "id": "useful-intellectual",
   "metadata": {},
   "outputs": [],
   "source": [
    "# plt.style.use(hep.style.CMS)\n",
    "# plt.hist(branches['lepton_pt'], bins=10, range=(0,100), histtype='step')\n",
    "# plt.yscale('log')\n",
    "# plt.show()"
   ]
  },
  {
   "cell_type": "code",
   "execution_count": null,
   "id": "alive-great",
   "metadata": {},
   "outputs": [],
   "source": [
    "# test_mu = uproot.open(\"/eos/user/s/sdeng/WZG_analysis/MC/2018/tZq_ll_4f_ckm_NLO_TuneCP5_13TeV-amcatnlo-pythia8/tZq_ll_4f_ckm_NLO_TuneCP5_13TeV-amcatnlo-pythia8_2018/210407_110631/0000/test.root:Events\").arrays(['event','Muon_pt','Muon_eta','Muon_phi'],library='pd')\n",
    "# test_mu[test_mu['event'].isin([12626214])]"
   ]
  },
  {
   "cell_type": "code",
   "execution_count": null,
   "id": "correct-watts",
   "metadata": {},
   "outputs": [],
   "source": [
    "# test_e = uproot.open(\"/eos/user/s/sdeng/WZG_analysis/MC/2018/tZq_ll_4f_ckm_NLO_TuneCP5_13TeV-amcatnlo-pythia8/tZq_ll_4f_ckm_NLO_TuneCP5_13TeV-amcatnlo-pythia8_2018/210407_110631/0000/test.root:Events\").arrays(['event','Electron_pt','Electron_eta','Electron_phi','Electron_mass','Electron_pdgId','Electron_cutBased','photon_pt','photon_eta','photon_phi','MET','dilepton_mass'],library='pd')\n",
    "# test_e[test_e['event'].isin([12626214])]"
   ]
  },
  {
   "cell_type": "code",
   "execution_count": null,
   "id": "manual-zoning",
   "metadata": {},
   "outputs": [],
   "source": [
    "# test_a = uproot.open(\"/eos/user/s/sdeng/WZG_analysis/final_skim/2018/tZq_ll_4f_ckm_NLO_TuneCP5_13TeV-amcatnlo-pythia8_2018.root:Events\").arrays(['event','Photon_pt','Photon_eta','Photon_phi','Photon_cutBased','Photon_isScEtaEE','Photon_isScEtaEB','Photon_pixelSeed'],library='pd')\n",
    "# test_a[test_a['event'].isin([12626214])]"
   ]
  },
  {
   "cell_type": "code",
   "execution_count": null,
   "id": "coral-magnitude",
   "metadata": {},
   "outputs": [],
   "source": [
    "# test_mu = uproot.open(\"/eos/user/s/sdeng/WZG_analysis/test2/FA193293-A05C-1449-AA78-1C234BEE98FA.root:Events\").arrays(['event','Muon_pt','Muon_eta','Muon_phi','Muon_tightId'],library='pd')\n",
    "# test_mu[test_mu['event'].isin([3288579])]"
   ]
  },
  {
   "cell_type": "code",
   "execution_count": null,
   "id": "beginning-demographic",
   "metadata": {},
   "outputs": [],
   "source": [
    "# test_e = uproot.open(\"/eos/user/s/sdeng/WZG_analysis/test2/FA193293-A05C-1449-AA78-1C234BEE98FA.root:Events\").arrays(['event','Electron_pt','Electron_eta','Electron_deltaEtaSC','Electron_phi','Electron_pdgId','Electron_charge','Electron_cutBased','Electron_dxy','Electron_dz','MET_pt','Electron_mass'],library='pd')\n",
    "# test_e[test_e['event'].isin([3288579])]"
   ]
  },
  {
   "cell_type": "code",
   "execution_count": null,
   "id": "expected-hotel",
   "metadata": {},
   "outputs": [],
   "source": [
    "# test_a = uproot.open(\"/eos/user/s/sdeng/WZG_analysis/test2/FA193293-A05C-1449-AA78-1C234BEE98FA.root:Events\").arrays(['event','Photon_pt','Photon_eta','Photon_phi','Photon_cutBased','Photon_isScEtaEE','Photon_isScEtaEB','Photon_pixelSeed'],library='pd')\n",
    "# test_a[test_a['event'].isin([3288579])]"
   ]
  },
  {
   "cell_type": "code",
   "execution_count": null,
   "id": "growing-canada",
   "metadata": {},
   "outputs": [],
   "source": [
    "# import math\n",
    "# def deltaR(eta1,eta2,phi1,phi2):\n",
    "#     return math.sqrt((eta1-eta2)*(eta1-eta2)+(phi1-phi2)*(phi1-phi2))\n",
    "\n",
    "\n",
    "# deltaR(1.394043,2.005371,2.279785,2.589355)\n",
    "\n",
    "# pt1 = 35.215302\n",
    "# eta1 = 0.629272\n",
    "# phi1 = -2.131348\n",
    "# M1 = 0.012650\n",
    "\n",
    "# pt2 = 32.196800 \n",
    "# eta2 = 1.826904 \n",
    "# phi2 = 1.805176\n",
    "# M2 = -0.021729 \n",
    "\n",
    "# a=ROOT.TLorentzVector()\n",
    "# a.SetPtEtaPhiM(pt1,eta1, phi1, M1)\n",
    "\n",
    "# b=ROOT.TLorentzVector()\n",
    "# b.SetPtEtaPhiM(pt2, eta2, phi2, M2)\n",
    "\n",
    "# (a+b).M()"
   ]
  },
  {
   "cell_type": "code",
   "execution_count": null,
   "id": "extended-terrain",
   "metadata": {},
   "outputs": [],
   "source": [
    "# test_a = uproot.open(\"/eos/user/s/sdeng/WZG_analysis/MC/2018/tZq_ll_4f_ckm_NLO_TuneCP5_13TeV-amcatnlo-pythia8/tZq_ll_4f_ckm_NLO_TuneCP5_13TeV-amcatnlo-pythia8_2018/210407_110631/0000/tree_10.root:Events\").arrays(['event','Photon_pt','Photon_eta','Photon_phi','Photon_cutBased','Photon_isScEtaEE','Photon_isScEtaEB','Photon_pixelSeed'],library='pd')\n",
    "# test_a[test_a['event'].isin([6092807])]"
   ]
  },
  {
   "cell_type": "code",
   "execution_count": null,
   "id": "equal-value",
   "metadata": {},
   "outputs": [],
   "source": [
    "# true_events = uproot.open(file_DATA)\n",
    "# true_events.keys()\n",
    "# true_events['nEventsGenWeighted'].values()[0]\n",
    "# true_events = uproot.open(file_DATA)['nEventsGenWeighted'].values()[0]\n",
    "# true_events"
   ]
  },
  {
   "cell_type": "code",
   "execution_count": 320,
   "id": "approximate-citizenship",
   "metadata": {},
   "outputs": [
    {
     "name": "stdout",
     "output_type": "stream",
     "text": [
      "2.0\n",
      "1.4142135623730951\n"
     ]
    },
    {
     "data": {
      "image/png": "[encoded data removed]",
      "text/plain": [
       "<IPython.core.display.Image object>"
      ]
     },
     "metadata": {},
     "output_type": "display_data"
    }
   ],
   "source": [
    "h_test = ROOT.TH2D(\"\",\"\",5,0,100, 5,0,100)\n",
    "\n",
    "# h_test.Fill(1,1,3)\n",
    "h_test.Fill(1,100,1)\n",
    "h_test.Fill(1,100,1)\n",
    "print(h_test.GetBinContent(1,6))\n",
    "print(h_test.GetBinError(1,6))\n",
    "# h_test.Fill(1,1,1)\n",
    "# h_test.Fill(1,1,1)\n",
    "\n",
    "c2 = ROOT.TCanvas(\"\",\"\",1000,800)\n",
    "c2.Draw()\n",
    "h_test.Draw(\"TEXT HIST e\")"
   ]
  },
  {
   "cell_type": "code",
   "execution_count": null,
   "id": "major-involvement",
   "metadata": {},
   "outputs": [],
   "source": [
    "h_test_2 = ROOT.TH2D(\"\",\"\",5,0,100, 5,0,100)\n",
    "h_test_3 = ROOT.TH2D(\"\",\"\",5,0,100, 5,0,100)\n",
    "\n",
    "h_test_2.Fill(1,1,2)\n",
    "# h_test_2.Fill(1,1,1)\n",
    "h_test_3.Fill(1,1,1)\n",
    "\n",
    "h_test_2.Add(h_test_3, -1)\n",
    "\n",
    "c2 = ROOT.TCanvas(\"\",\"\",1000,800)\n",
    "c2.Draw()\n",
    "h_test_2.Draw(\"TEXT e\")"
   ]
  },
  {
   "cell_type": "markdown",
   "id": "a9a61f03-7478-4549-8407-7750b0ca77e1",
   "metadata": {
    "tags": []
   },
   "source": [
    "### Final test"
   ]
  }
 ],
 "metadata": {
  "kernelspec": {
   "display_name": "Python 3",
   "language": "python",
   "name": "python3"
  },
  "language_info": {
   "codemirror_mode": {
    "name": "ipython",
    "version": 3
   },
   "file_extension": ".py",
   "mimetype": "text/x-python",
   "name": "python",
   "nbconvert_exporter": "python",
   "pygments_lexer": "ipython3",
   "version": "3.7.10"
  }
 },
 "nbformat": 4,
 "nbformat_minor": 5
}
