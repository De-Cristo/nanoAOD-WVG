{
 "cells": [
  {
   "cell_type": "code",
   "execution_count": 1,
   "id": "3fdf7f47-0a09-476e-9504-1f4b425e53eb",
   "metadata": {},
   "outputs": [
    {
     "name": "stdout",
     "output_type": "stream",
     "text": [
      "Welcome to JupyROOT 6.22/06\n"
     ]
    }
   ],
   "source": [
    "import matplotlib\n",
    "import uproot, uproot3\n",
    "import numpy\n",
    "import awkward\n",
    "import numba\n",
    "import numpy as np\n",
    "import matplotlib.pyplot as plt\n",
    "import mplhep as hep\n",
    "import pandas as pd\n",
    "from tqdm import trange\n",
    "import ROOT\n",
    "import os,sys\n",
    "from array import array\n",
    "import time"
   ]
  },
  {
   "cell_type": "markdown",
   "id": "4b50b93f-3574-4103-a1e8-567300b1d557",
   "metadata": {
    "jp-MarkdownHeadingCollapsed": true,
    "tags": []
   },
   "source": [
    "## Lumi"
   ]
  },
  {
   "cell_type": "code",
   "execution_count": 2,
   "id": "b613e6ed-8051-484a-a833-7ac6cb8ded15",
   "metadata": {},
   "outputs": [],
   "source": [
    "# CMS_lumi\n",
    "#   Initiated by: Gautier Hamel de Monchenault (Saclay)\n",
    "#   Translated in Python by: Joshua Hardenbrook (Princeton)\n",
    "#   Updated by:   Dinko Ferencek (Rutgers)\n",
    "#\n",
    "\n",
    "cmsText     = \"CMS\";\n",
    "cmsTextFont   = 62  \n",
    "\n",
    "writeExtraText = True\n",
    "extraText   = \"Preliminary\"\n",
    "extraTextFont = 52 \n",
    "\n",
    "lumiTextSize     = 0.4\n",
    "lumiTextOffset   = 0.2\n",
    "\n",
    "cmsTextSize      = 0.35\n",
    "cmsTextOffset    = 0.1\n",
    "\n",
    "relPosX    = 0.045\n",
    "relPosY    = 0.035\n",
    "relExtraDY = 1.2\n",
    "\n",
    "extraOverCmsTextSize  = 0.76\n",
    "\n",
    "lumi_13TeV = \"20.1 fb^{-1}\"\n",
    "lumi_8TeV  = \"19.7 fb^{-1}\" \n",
    "lumi_7TeV  = \"5.1 fb^{-1}\"\n",
    "lumi_sqrtS = \"59.7 fb^{-1} (13 TeV)\"\n",
    "\n",
    "drawLogo      = False\n",
    "\n",
    "def CMS_lumi(pad,  iPeriod,  iPosX ):\n",
    "    outOfFrame    = False\n",
    "    if(iPosX/10==0 ): outOfFrame = True\n",
    "\n",
    "    alignY_=3\n",
    "    alignX_=2\n",
    "    if( iPosX/10==0 ): alignX_=1\n",
    "    if( iPosX==0    ): alignY_=1\n",
    "    if( iPosX/10==1 ): alignX_=1\n",
    "    if( iPosX/10==2 ): alignX_=2\n",
    "    if( iPosX/10==3 ): alignX_=3\n",
    "    align_ = 10*alignX_ + alignY_\n",
    "\n",
    "    H = pad.GetWh()\n",
    "    W = pad.GetWw()\n",
    "    l = pad.GetLeftMargin()\n",
    "    t = pad.GetTopMargin()\n",
    "    r = pad.GetRightMargin()\n",
    "    b = pad.GetBottomMargin()\n",
    "    e = 0.025\n",
    "\n",
    "    pad.cd()\n",
    "\n",
    "    lumiText = \"\"\n",
    "    if( iPeriod==1 ):\n",
    "        lumiText += lumi_7TeV\n",
    "        lumiText += \" (7 TeV)\"\n",
    "    elif ( iPeriod==2 ):\n",
    "        lumiText += lumi_8TeV\n",
    "        lumiText += \" (8 TeV)\"\n",
    "\n",
    "    elif( iPeriod==3 ):      \n",
    "        lumiText = lumi_8TeV \n",
    "        lumiText += \" (8 TeV)\"\n",
    "        lumiText += \" + \"\n",
    "        lumiText += lumi_7TeV\n",
    "        lumiText += \" (7 TeV)\"\n",
    "    elif ( iPeriod==4 ):\n",
    "        lumiText += lumi_13TeV\n",
    "        lumiText += \" (13 TeV)\"\n",
    "    elif ( iPeriod==7 ):\n",
    "        if( outOfFrame ):lumiText += \"#scale[0.85]{\"\n",
    "        lumiText += lumi_13TeV \n",
    "        lumiText += \" (13 TeV)\"\n",
    "        lumiText += \" + \"\n",
    "        lumiText += lumi_8TeV \n",
    "        lumiText += \" (8 TeV)\"\n",
    "        lumiText += \" + \"\n",
    "        lumiText += lumi_7TeV\n",
    "        lumiText += \" (7 TeV)\"\n",
    "        if( outOfFrame): lumiText += \"}\"\n",
    "    elif ( iPeriod==12 ):\n",
    "        lumiText += \"8 TeV\"\n",
    "    elif ( iPeriod==0 ):\n",
    "        lumiText += lumi_sqrtS\n",
    "            \n",
    "    print (lumiText)\n",
    "\n",
    "    latex = ROOT.TLatex()\n",
    "    latex.SetNDC()\n",
    "    latex.SetTextAngle(0)\n",
    "    latex.SetTextColor(ROOT.kBlack)    \n",
    "    \n",
    "    extraTextSize = extraOverCmsTextSize*cmsTextSize\n",
    "    \n",
    "    latex.SetTextFont(42)\n",
    "    latex.SetTextAlign(31) \n",
    "    latex.SetTextSize(lumiTextSize*t)    \n",
    "\n",
    "    latex.DrawLatex(1-r,1-t+lumiTextOffset*t,lumiText)\n",
    "\n",
    "    if( outOfFrame ):\n",
    "        latex.SetTextFont(cmsTextFont)\n",
    "        latex.SetTextAlign(11) \n",
    "        latex.SetTextSize(cmsTextSize*t)    \n",
    "        latex.DrawLatex(l,1-t+lumiTextOffset*t,cmsText)\n",
    "  \n",
    "    pad.cd()\n",
    "\n",
    "    posX_ = 0\n",
    "    if( iPosX%10<=1 ):\n",
    "        posX_ =   l + relPosX*(1-l-r)\n",
    "    elif( iPosX%10==2 ):\n",
    "        posX_ =  l + 0.5*(1-l-r)\n",
    "    elif( iPosX%10==3 ):\n",
    "        posX_ =  1-r - relPosX*(1-l-r)\n",
    "\n",
    "    posY_ = 1-t - relPosY*(1-t-b)\n",
    "\n",
    "    if( not outOfFrame ):\n",
    "        if( drawLogo ):\n",
    "            posX_ =   l + 0.045*(1-l-r)*W/H\n",
    "            posY_ = 1-t - 0.045*(1-t-b)\n",
    "            xl_0 = posX_\n",
    "            yl_0 = posY_ - 0.15\n",
    "            xl_1 = posX_ + 0.15*H/W\n",
    "            yl_1 = posY_\n",
    "            CMS_logo = ROOT.TASImage(\"CMS-BW-label.png\")\n",
    "            pad_logo =  ROOT.TPad(\"logo\",\"logo\", xl_0, yl_0, xl_1, yl_1 )\n",
    "            pad_logo.Draw()\n",
    "            pad_logo.cd()\n",
    "            CMS_logo.Draw(\"X\")\n",
    "            pad_logo.Modified()\n",
    "            pad.cd()          \n",
    "        else:\n",
    "            latex.SetTextFont(cmsTextFont)\n",
    "            latex.SetTextSize(cmsTextSize*t)\n",
    "            latex.SetTextAlign(align_)\n",
    "            latex.DrawLatex(posX_, posY_, cmsText)\n",
    "            if( writeExtraText ) :\n",
    "                latex.SetTextFont(extraTextFont)\n",
    "                latex.SetTextAlign(align_)\n",
    "                latex.SetTextSize(extraTextSize*t)\n",
    "                latex.DrawLatex(posX_, posY_- relExtraDY*cmsTextSize*t, extraText)\n",
    "    elif( writeExtraText ):\n",
    "        if( iPosX==0):\n",
    "            posX_ =   l +  relPosX*(1-l-r)\n",
    "            posY_ =   1-t+lumiTextOffset*t\n",
    "\n",
    "        latex.SetTextFont(extraTextFont)\n",
    "        latex.SetTextSize(extraTextSize*t)\n",
    "        latex.SetTextAlign(align_)\n",
    "        latex.DrawLatex(posX_*1.20, posY_, extraText)      \n",
    "\n",
    "    pad.Update()"
   ]
  },
  {
   "cell_type": "markdown",
   "id": "bcd29a6b-adff-46c1-a10c-5abaf1fe6bc4",
   "metadata": {
    "jp-MarkdownHeadingCollapsed": true,
    "tags": []
   },
   "source": [
    "## tdrstyle"
   ]
  },
  {
   "cell_type": "code",
   "execution_count": 3,
   "id": "2e9cd5f0-296b-4961-9d6f-306eaeef2d9d",
   "metadata": {
    "ExecuteTime": {
     "end_time": "2021-03-14T13:18:11.397209Z",
     "start_time": "2021-03-14T13:18:11.043090Z"
    }
   },
   "outputs": [],
   "source": [
    "tdrStyle =  ROOT.TStyle(\"\",\"\")\n",
    "\n",
    "#for the canvas:\n",
    "tdrStyle.SetCanvasBorderMode(0)\n",
    "tdrStyle.SetCanvasColor(ROOT.kWhite)\n",
    "tdrStyle.SetCanvasDefH(1000) #Height of canvas\n",
    "tdrStyle.SetCanvasDefW(800) #Width of canvas\n",
    "tdrStyle.SetCanvasDefX(0)   #POsition on screen\n",
    "tdrStyle.SetCanvasDefY(0)\n",
    "\n",
    "\n",
    "tdrStyle.SetPadBorderMode(0)\n",
    "#tdrStyle.SetPadBorderSize(Width_t size = 1)\n",
    "tdrStyle.SetPadColor(ROOT.kWhite)\n",
    "tdrStyle.SetPadGridX(False)\n",
    "tdrStyle.SetPadGridY(False)\n",
    "tdrStyle.SetGridColor(0)\n",
    "tdrStyle.SetGridStyle(3)\n",
    "tdrStyle.SetGridWidth(1)\n",
    "\n",
    "#For the frame:\n",
    "tdrStyle.SetFrameBorderMode(1)\n",
    "tdrStyle.SetFrameBorderSize(1)\n",
    "tdrStyle.SetFrameFillColor(0)\n",
    "tdrStyle.SetFrameFillStyle(0)\n",
    "tdrStyle.SetFrameLineColor(1)\n",
    "tdrStyle.SetFrameLineStyle(1)\n",
    "tdrStyle.SetFrameLineWidth(1)\n",
    "\n",
    "#For the histo:\n",
    "#tdrStyle.SetHistFillColor(1)\n",
    "#tdrStyle.SetHistFillStyle(0)\n",
    "tdrStyle.SetHistLineColor(1)\n",
    "tdrStyle.SetHistLineStyle(0)\n",
    "tdrStyle.SetHistLineWidth(1)\n",
    "#tdrStyle.SetLegoInnerR(Float_t rad = 0.5)\n",
    "#tdrStyle.SetNumberContours(Int_t number = 20)\n",
    "\n",
    "tdrStyle.SetEndErrorSize(2)\n",
    "#tdrStyle.SetErrorMarker(20)\n",
    "#tdrStyle.SetErrorX(0.)\n",
    "\n",
    "tdrStyle.SetMarkerStyle(20)\n",
    "\n",
    "#For the fit/function:\n",
    "tdrStyle.SetOptFit(1)\n",
    "tdrStyle.SetFitFormat(\"5.4g\")\n",
    "tdrStyle.SetFuncColor(2)\n",
    "tdrStyle.SetFuncStyle(1)\n",
    "tdrStyle.SetFuncWidth(1)\n",
    "\n",
    "#For the date:\n",
    "tdrStyle.SetOptDate(0)\n",
    "# tdrStyle.SetDateX(Float_t x = 0.01)\n",
    "# tdrStyle.SetDateY(Float_t y = 0.01)\n",
    "\n",
    "# For the statistics box:\n",
    "tdrStyle.SetOptFile(0)\n",
    "tdrStyle.SetOptStat(0) # To display the mean and RMS:   SetOptStat(\"mr\")\n",
    "tdrStyle.SetStatColor(ROOT.kWhite)\n",
    "tdrStyle.SetStatFont(42)\n",
    "tdrStyle.SetStatFontSize(0.025)\n",
    "tdrStyle.SetStatTextColor(1)\n",
    "tdrStyle.SetStatFormat(\"6.4g\")\n",
    "tdrStyle.SetStatBorderSize(1)\n",
    "tdrStyle.SetStatH(0.1)\n",
    "tdrStyle.SetStatW(0.15)\n",
    "# tdrStyle.SetStatStyle(Style_t style = 1001)\n",
    "# tdrStyle.SetStatX(Float_t x = 0)\n",
    "# tdrStyle.SetStatY(Float_t y = 0)\n",
    "\n",
    "# Margins:\n",
    "tdrStyle.SetPadTopMargin(0.11)\n",
    "tdrStyle.SetPadBottomMargin(0.11)\n",
    "tdrStyle.SetPadLeftMargin(0.11)\n",
    "tdrStyle.SetPadRightMargin(0.11)\n",
    "\n",
    "# For the Global title:\n",
    "\n",
    "tdrStyle.SetOptTitle(0)\n",
    "tdrStyle.SetTitleFont(42)\n",
    "tdrStyle.SetTitleColor(1)\n",
    "tdrStyle.SetTitleTextColor(1)\n",
    "tdrStyle.SetTitleFillColor(10)\n",
    "tdrStyle.SetTitleFontSize(0.05)\n",
    "# tdrStyle.SetTitleH(0) # Set the height of the title box\n",
    "# tdrStyle.SetTitleW(0) # Set the width of the title box\n",
    "# tdrStyle.SetTitleX(0) # Set the position of the title box\n",
    "# tdrStyle.SetTitleY(0.985) # Set the position of the title box\n",
    "# tdrStyle.SetTitleStyle(Style_t style = 1001)\n",
    "# tdrStyle.SetTitleBorderSize(2)\n",
    "\n",
    "# For the axis titles:\n",
    "\n",
    "tdrStyle.SetTitleColor(1, \"XYZ\")\n",
    "tdrStyle.SetTitleFont(42, \"XYZ\")\n",
    "tdrStyle.SetTitleSize(0.04, \"XYZ\")\n",
    "#   tdrStyle.SetTitleXSize(Float_t size = 0.02) # Another way to set the size?\n",
    "#   tdrStyle.SetTitleYSize(Float_t size = 0.02)\n",
    "tdrStyle.SetTitleXOffset(1.1)\n",
    "tdrStyle.SetTitleYOffset(1.25)\n",
    "# tdrStyle.SetTitleOffset(1.1, \"Y\") # Another way to set the Offset\n",
    "\n",
    "# For the axis labels:\n",
    "\n",
    "tdrStyle.SetLabelColor(1, \"XYZ\")\n",
    "tdrStyle.SetLabelFont(42, \"XYZ\")\n",
    "tdrStyle.SetLabelOffset(0.007, \"XYZ\")\n",
    "tdrStyle.SetLabelSize(0.03, \"XYZ\")\n",
    "\n",
    "# For the axis:\n",
    "\n",
    "tdrStyle.SetAxisColor(1, \"XYZ\")\n",
    "tdrStyle.SetStripDecimals(True)\n",
    "tdrStyle.SetTickLength(0.03, \"XYZ\")\n",
    "tdrStyle.SetNdivisions(510, \"XYZ\")\n",
    "tdrStyle.SetPadTickX(1)  # To get tick marks on the opposite side of the frame\n",
    "tdrStyle.SetPadTickY(1)\n",
    "\n",
    "# Change for log plots:\n",
    "tdrStyle.SetOptLogx(0)\n",
    "tdrStyle.SetOptLogy(0)\n",
    "tdrStyle.SetOptLogz(0)\n",
    "\n",
    "# Postscript options:\n",
    "# tdrStyle.SetPaperSize(20.,20.)\n",
    "# tdrStyle.SetLineScalePS(Float_t scale = 3)\n",
    "# tdrStyle.SetLineStyleString(Int_t i, const char* text)\n",
    "# tdrStyle.SetHeaderPS(const char* header)\n",
    "# tdrStyle.SetTitlePS(const char* pstitle)\n",
    "\n",
    "# tdrStyle.SetBarOffset(Float_t baroff = 0.5)\n",
    "# tdrStyle.SetBarWidth(Float_t barwidth = 0.5)\n",
    "# tdrStyle.SetPaintTextFormat(const char* format = \"g\")\n",
    "# tdrStyle.SetPalette(Int_t ncolors = 0, Int_t* colors = 0)\n",
    "# tdrStyle.SetTimeOffset(Double_t toffset)\n",
    "# tdrStyle.SetHistMinimumZero(kTRUE)\n",
    "\n",
    "tdrStyle.SetHatchesLineWidth(1)\n",
    "tdrStyle.SetHatchesSpacing(0.5)\n",
    "\n",
    "tdrStyle.cd()"
   ]
  },
  {
   "cell_type": "markdown",
   "id": "183a0fc4-2e3c-4760-9661-92d6b0d7116f",
   "metadata": {
    "jp-MarkdownHeadingCollapsed": true,
    "tags": []
   },
   "source": [
    "## ratio function"
   ]
  },
  {
   "cell_type": "code",
   "execution_count": 4,
   "id": "de7b66d3-89be-44ac-9c21-dc63f1dd6cd9",
   "metadata": {},
   "outputs": [],
   "source": [
    "from ROOT import TCanvas, TColor, TGaxis, TH1F, TPad\n",
    "from ROOT import kBlack, kBlue, kRed\n",
    "\n",
    "def createRatio(h1, h2):\n",
    "    h3 = h1.Clone(\"h3\")\n",
    "    h3.SetLineColor(kBlack)\n",
    "    h3.SetMarkerStyle(21)\n",
    "    h3.SetTitle(\"\")\n",
    "    h3.SetMinimum(0.80)\n",
    "    h3.SetMaximum(1.53)\n",
    "    # Set up plot for markers and errors\n",
    "    h3.Sumw2()\n",
    "    h3.SetStats(0)\n",
    "    h3.Divide(h2)\n",
    "\n",
    "    # Adjust y-axis settings\n",
    "    y = h3.GetYaxis()\n",
    "    y.SetTitle(\"Data / MC \")\n",
    "    y.SetNdivisions(105)\n",
    "    y.SetTitleSize(20)\n",
    "    y.SetTitleFont(43)\n",
    "    y.SetTitleOffset(1.55)\n",
    "    y.SetLabelFont(43)\n",
    "    y.SetLabelSize(20)\n",
    "\n",
    "    # Adjust x-axis settings\n",
    "    x = h3.GetXaxis()\n",
    "    x.SetTitleSize(20)\n",
    "    x.SetTitleFont(43)\n",
    "    x.SetTitleOffset(4.0)\n",
    "    x.SetLabelFont(43)\n",
    "    x.SetLabelSize(20)\n",
    "\n",
    "    return h3\n"
   ]
  },
  {
   "cell_type": "markdown",
   "id": "6838390f-0586-4d46-ad02-ecad706de956",
   "metadata": {
    "tags": []
   },
   "source": [
    "## Control pad "
   ]
  },
  {
   "cell_type": "code",
   "execution_count": 32,
   "id": "201da191-944e-4890-8070-924abc64510f",
   "metadata": {},
   "outputs": [],
   "source": [
    "# 0: WZG\n",
    "# 1: WZG_emm\n",
    "# 2: WZG_mee\n",
    "# 3: WZG_eee\n",
    "# 4: WZG_mmm\n",
    "\n",
    "# 10: ttZ\n",
    "# 11: ttZ_emm\n",
    "# 12: ttZ_mee\n",
    "# 13: ttZ_eee\n",
    "# 14: ttZ_mmm\n",
    "\n",
    "# 9: ZZ\n",
    "# 5: ZZ_eemm\n",
    "# 6: ZZ_mmee\n",
    "# 7: ZZ_eeee\n",
    "# 8: ZZ_mmmm     \n",
    "\n",
    "\n",
    "branch = {\n",
    "    \"ZZ_mllz1\":{\n",
    "        \"name\":\"ZZ_mllz1\",\n",
    "        \"axis_name\":\"ZZ m_{l_{Z1}l_{Z2}} [GeV]\",\n",
    "        \"xbins\":10,\n",
    "        \"xleft\":70,\n",
    "        \"xright\":110,\n",
    "    },\n",
    "#     \"ttZ_dileptonmass\":{\n",
    "#         \"name\":\"ttZ_dileptonmass\",\n",
    "#         \"axis_name\":\"m_{Z} [GeV]\",\n",
    "#         \"xbins\":10,\n",
    "#         \"xleft\":70,\n",
    "#         \"xright\":110,\n",
    "#     },\n",
    "#     \"ttZ_trileptonmass\":{\n",
    "#         \"name\":\"ttZ_trileptonmass\",\n",
    "#         \"axis_name\":\"m_{WZ} [GeV]\",\n",
    "#         \"xbins\":10,\n",
    "#         \"xleft\":100,\n",
    "#         \"xright\":200,\n",
    "#     },\n",
    "    \"MET\":{\n",
    "        \"name\":\"MET\",\n",
    "        \"axis_name\":\"MET [GeV]\",\n",
    "        \"xbins\":10,\n",
    "        \"xleft\":0,\n",
    "        \"xright\":100,\n",
    "    },\n",
    "    \"nJets\":{\n",
    "        \"name\":\"nJets\",\n",
    "        \"axis_name\":\"nJets\",\n",
    "        \"xbins\":8,\n",
    "        \"xleft\":0,\n",
    "        \"xright\":8,\n",
    "    },\n",
    "    \"nbJets\":{\n",
    "        \"name\":\"nbJets\",\n",
    "        \"axis_name\":\"nbJets\",\n",
    "        \"xbins\":8,\n",
    "        \"xleft\":0,\n",
    "        \"xright\":8,\n",
    "    },\n",
    "}\n",
    "\n",
    "channel = 10\n",
    "lumi = 59.7\n",
    "\n"
   ]
  },
  {
   "cell_type": "markdown",
   "id": "cb4cfe92-0537-4576-bb24-20679ffec29d",
   "metadata": {
    "tags": []
   },
   "source": [
    "## Add Hist "
   ]
  },
  {
   "cell_type": "code",
   "execution_count": 33,
   "id": "198cf945-3f0d-48a8-945a-9f1fffbf4d1b",
   "metadata": {},
   "outputs": [],
   "source": [
    "def AddHist(file, hist, isData, xsec, lumi, channel, branch):\n",
    "    \n",
    "    init_time = time.time()\n",
    "    init_branches = ['channel_mark','HLT_Ele23_Ele12_CaloIdL_TrackIdL_IsoVL','HLT_Mu23_TrkIsoVVL_Ele12_CaloIdL_TrackIdL_IsoVL','HLT_Mu8_TrkIsoVVL_Ele23_CaloIdL_TrackIdL_IsoVL_DZ','HLT_Mu17_TrkIsoVVL_Mu8_TrkIsoVVL_DZ_Mass3p8','HLT_Ele32_WPTight_Gsf','HLT_IsoMu24']\n",
    "    \n",
    "    if isData:\n",
    "        print('is Data')\n",
    "        for branch_name in branch:\n",
    "            if branch[branch_name][\"name\"] not in init_branches:\n",
    "                init_branches.append(branch[branch_name][\"name\"])\n",
    "    else:\n",
    "        print('is MC')\n",
    "        add_branches = ['Generator_weight']\n",
    "        gen_lepton_branches = uproot.open(file+':Events').keys(filter_name='*_lepton*genPartFlav')\n",
    "        gen_photon_branches= uproot.open(file+':Events').keys(filter_name='*_photon*genPartFlav')\n",
    "        true_events = uproot.open(file)['nEventsGenWeighted'].values()[0]\n",
    "        init_branches.extend(add_branches)\n",
    "        init_branches.extend(gen_lepton_branches)\n",
    "        init_branches.extend(gen_photon_branches)\n",
    "        for branch_name in branch:\n",
    "            if branch[branch_name][\"name\"] not in init_branches:\n",
    "                init_branches.append(branch[branch_name][\"name\"])\n",
    "        \n",
    "    branches = uproot.open(file+':Events').arrays(init_branches, library='pd')\n",
    "    \n",
    "    HLT_SingleMuon = branches.loc[:,'HLT_IsoMu24'] == True\n",
    "    HLT_DoubleMuon = branches.loc[:,'HLT_Mu17_TrkIsoVVL_Mu8_TrkIsoVVL_DZ_Mass3p8'] == True\n",
    "    HLT_EGamma = branches.loc[:,'HLT_Ele32_WPTight_Gsf'] == True\n",
    "    HLT_DoubleEG = branches.loc[:,'HLT_Ele23_Ele12_CaloIdL_TrackIdL_IsoVL'] == True\n",
    "    HLT_MuonEG1 = branches.loc[:,'HLT_Mu8_TrkIsoVVL_Ele23_CaloIdL_TrackIdL_IsoVL_DZ'] == True\n",
    "    HLT_MuonEG2 = branches.loc[:,'HLT_Mu23_TrkIsoVVL_Ele12_CaloIdL_TrackIdL_IsoVL'] == True\n",
    "    if 'SingleMuon' in file:\n",
    "        arrays = branches.loc[HLT_SingleMuon, :].copy()\n",
    "    elif 'DoubleMuon' in file:\n",
    "        arrays = branches.loc[~HLT_SingleMuon & HLT_DoubleMuon, :].copy()\n",
    "#         2018 is special\n",
    "    elif 'EGamma' in file:\n",
    "        arrays = branches.loc[~HLT_SingleMuon & ~HLT_DoubleMuon &   (HLT_EGamma | HLT_DoubleEG) ,:].copy()\n",
    "    elif 'MuonEG' in file:\n",
    "        arrays = branches.loc[~HLT_SingleMuon & ~HLT_DoubleMuon &  ~(HLT_EGamma | HLT_DoubleEG) & (HLT_MuonEG1 | HLT_MuonEG2),:].copy()\n",
    "    else:\n",
    "        arrays = branches.loc[HLT_SingleMuon | HLT_DoubleMuon |  HLT_EGamma | HLT_DoubleEG | HLT_MuonEG1 | HLT_MuonEG2,:].copy()\n",
    "    \n",
    "    if channel == 0: \n",
    "        channel_cut = (arrays.loc[:,'channel_mark'] >= 1) & (arrays.loc[:,'channel_mark'] <= 4)\n",
    "    elif channel == 10:\n",
    "        channel_cut = (arrays.loc[:,'channel_mark'] >= 11) & (arrays.loc[:,'channel_mark'] <= 14)\n",
    "    elif channel == 9:\n",
    "        channel_cut = (arrays.loc[:,'channel_mark'] >= 5) & (arrays.loc[:,'channel_mark'] <= 8)\n",
    "    else:\n",
    "        channel_cut = arrays.loc[:,'channel_mark'] == channel\n",
    "    \n",
    "    if isData:\n",
    "        arrays = arrays.loc[channel_cut,:]\n",
    "    else:\n",
    "        lep_gen_cut_WZG = (branches.loc[:,'WZG_lepton1_genPartFlav'] > 0) & (branches.loc[:,'WZG_lepton2_genPartFlav'] > 0) & (branches.loc[:,'WZG_lepton3_genPartFlav'] > 0)\n",
    "        lep_gen_cut_ttZ = (branches.loc[:,'ttZ_lepton1_genPartFlav'] > 0) & (branches.loc[:,'ttZ_lepton2_genPartFlav'] > 0) & (branches.loc[:,'ttZ_lepton3_genPartFlav'] > 0)\n",
    "        lep_gen_cut_ZZ = (branches.loc[:,'ZZ_lepton1_genPartFlav'] > 0) & (branches.loc[:,'ZZ_lepton2_genPartFlav'] > 0) & (branches.loc[:,'ZZ_lepton3_genPartFlav'] > 0)\n",
    "        gen_cut_map = {\n",
    "                        0:lep_gen_cut_WZG, \n",
    "                        1:lep_gen_cut_WZG,\n",
    "                        2:lep_gen_cut_WZG,\n",
    "                        3:lep_gen_cut_WZG,\n",
    "                        4:lep_gen_cut_WZG,\n",
    "                        10:lep_gen_cut_ttZ,\n",
    "                        11:lep_gen_cut_ttZ,\n",
    "                        12:lep_gen_cut_ttZ,\n",
    "                        13:lep_gen_cut_ttZ,\n",
    "                        14:lep_gen_cut_ttZ,\n",
    "                        5:lep_gen_cut_ZZ,\n",
    "                        6:lep_gen_cut_ZZ,\n",
    "                        7:lep_gen_cut_ZZ,\n",
    "                        8:lep_gen_cut_ZZ,\n",
    "                        9:lep_gen_cut_ZZ,\n",
    "        }\n",
    "        lep_gen_cut = gen_cut_map[channel]\n",
    "        arrays = arrays.loc[channel_cut & lep_gen_cut,:]\n",
    "    \n",
    "    if isData:\n",
    "        for branch_name in branch:\n",
    "            for i in trange(0, len(arrays[branch[branch_name][\"name\"]]), desc=f'fill {branch[branch_name][\"name\"]} for {file}'):\n",
    "                hist[branch_name].Fill(float(arrays[branch[branch_name][\"name\"]].values[i]))\n",
    "            print (f\"SumOfWeights for {branch_name}: \", hist[branch_name].GetSumOfWeights())\n",
    "    else:\n",
    "        arrays['Generator_weight_sgn'] = arrays['Generator_weight'].apply(lambda x: 1 if x >= 0 else -1)\n",
    "        arrays['true_weight'] = lumi * xsec * 1000 * arrays['Generator_weight_sgn'] / true_events\n",
    "        for branch_name in branch:\n",
    "            for i in trange(0, len(arrays[branch[branch_name][\"name\"]]), desc=f'fill {branch[branch_name][\"name\"]} for {file}'):\n",
    "                hist[branch_name].Fill(float(arrays[branch[branch_name][\"name\"]].values[i]), float(arrays['true_weight'].values[i]))\n",
    "            print (f\"SumOfWeights for {branch_name}: \", hist[branch_name].GetSumOfWeights())\n",
    "    \n",
    "    end_time = time.time()\n",
    "    print ('Time cost: %.2f\\n' %(end_time-init_time))\n",
    "        "
   ]
  },
  {
   "cell_type": "markdown",
   "id": "e5499a24-e3ea-4cb0-bd12-e9535a7513f7",
   "metadata": {
    "jp-MarkdownHeadingCollapsed": true,
    "tags": []
   },
   "source": [
    "### Add Data "
   ]
  },
  {
   "cell_type": "code",
   "execution_count": 34,
   "id": "f5baf6ac-dd9b-4a47-991c-fcd9c021c57b",
   "metadata": {},
   "outputs": [],
   "source": [
    "filelist_data = [\n",
    "    \"/eos/user/s/sdeng/WZG_analysis/final_skim/2018/SingleMuon_Run2018A_0000.root\",\n",
    "    \"/eos/user/s/sdeng/WZG_analysis/final_skim/2018/SingleMuon_Run2018B_0000.root\",\n",
    "    \"/eos/user/s/sdeng/WZG_analysis/final_skim/2018/SingleMuon_Run2018C_0000.root\",\n",
    "    \"/eos/user/s/sdeng/WZG_analysis/final_skim/2018/SingleMuon_Run2018D_0000.root\",\n",
    "    \"/eos/user/s/sdeng/WZG_analysis/final_skim/2018/SingleMuon_Run2018D_0001.root\",\n",
    "    \"/eos/user/s/sdeng/WZG_analysis/final_skim/2018/DoubleMuon_Run2018A_0000.root\",\n",
    "    \"/eos/user/s/sdeng/WZG_analysis/final_skim/2018/DoubleMuon_Run2018B_0000.root\",\n",
    "    \"/eos/user/s/sdeng/WZG_analysis/final_skim/2018/DoubleMuon_Run2018C_0000.root\",\n",
    "    \"/eos/user/s/sdeng/WZG_analysis/final_skim/2018/DoubleMuon_Run2018D_0000.root\",\n",
    "    \"/eos/user/s/sdeng/WZG_analysis/final_skim/2018/DoubleMuon_Run2018D_0001.root\",\n",
    "    \"/eos/user/s/sdeng/WZG_analysis/final_skim/2018/EGamma_Run2018A_0000.root\",\n",
    "    \"/eos/user/s/sdeng/WZG_analysis/final_skim/2018/EGamma_Run2018B_0000.root\",\n",
    "    \"/eos/user/s/sdeng/WZG_analysis/final_skim/2018/EGamma_Run2018C_0000.root\",\n",
    "    \"/eos/user/s/sdeng/WZG_analysis/final_skim/2018/EGamma_Run2018D_0000.root\",\n",
    "    \"/eos/user/s/sdeng/WZG_analysis/final_skim/2018/EGamma_Run2018D_0001.root\",\n",
    "    \"/eos/user/s/sdeng/WZG_analysis/final_skim/2018/MuonEG_Run2018A_0000.root\",\n",
    "    \"/eos/user/s/sdeng/WZG_analysis/final_skim/2018/MuonEG_Run2018B_0000.root\",\n",
    "    \"/eos/user/s/sdeng/WZG_analysis/final_skim/2018/MuonEG_Run2018C_0000.root\",\n",
    "    \"/eos/user/s/sdeng/WZG_analysis/final_skim/2018/MuonEG_Run2018D_0000.root\",\n",
    "]\n",
    "\n",
    "hist_data = {}\n",
    "\n",
    "for branch_name in branch:\n",
    "    hist_data_temp = ROOT.TH1F(\"\", \"\", branch[branch_name][\"xbins\"], branch[branch_name][\"xleft\"], branch[branch_name][\"xright\"])\n",
    "    hist_data_temp.SetXTitle(f'{branch[branch_name][\"axis_name\"]}')\n",
    "    hist_data_temp.SetYTitle(f'events / bin')\n",
    "    hist_data_temp.Sumw2()\n",
    "    hist_data[branch_name] = hist_data_temp"
   ]
  },
  {
   "cell_type": "code",
   "execution_count": 35,
   "id": "620eb75c-6e0f-4ce7-99fe-8707fdcef0ea",
   "metadata": {},
   "outputs": [
    {
     "name": "stdout",
     "output_type": "stream",
     "text": [
      "is Data\n"
     ]
    },
    {
     "name": "stderr",
     "output_type": "stream",
     "text": [
      "fill ZZ_mllz1 for /eos/user/s/sdeng/WZG_analysis/final_skim/2018/SingleMuon_Run2018A_0000.root: 100%|██████████| 170/170 [00:00<00:00, 157124.65it/s]\n",
      "fill MET for /eos/user/s/sdeng/WZG_analysis/final_skim/2018/SingleMuon_Run2018A_0000.root: 100%|██████████| 170/170 [00:00<00:00, 163689.55it/s]\n",
      "fill nJets for /eos/user/s/sdeng/WZG_analysis/final_skim/2018/SingleMuon_Run2018A_0000.root: 100%|██████████| 170/170 [00:00<00:00, 160737.53it/s]\n",
      "fill nbJets for /eos/user/s/sdeng/WZG_analysis/final_skim/2018/SingleMuon_Run2018A_0000.root: 100%|██████████| 170/170 [00:00<00:00, 165782.77it/s]\n"
     ]
    },
    {
     "name": "stdout",
     "output_type": "stream",
     "text": [
      "SumOfWeights for ZZ_mllz1:  24.0\n",
      "SumOfWeights for MET:  121.0\n",
      "SumOfWeights for nJets:  163.0\n",
      "SumOfWeights for nbJets:  170.0\n",
      "Time cost: 4.90\n",
      "\n",
      "is Data\n"
     ]
    },
    {
     "name": "stderr",
     "output_type": "stream",
     "text": [
      "fill ZZ_mllz1 for /eos/user/s/sdeng/WZG_analysis/final_skim/2018/SingleMuon_Run2018B_0000.root: 100%|██████████| 84/84 [00:00<00:00, 139976.77it/s]\n",
      "fill MET for /eos/user/s/sdeng/WZG_analysis/final_skim/2018/SingleMuon_Run2018B_0000.root: 100%|██████████| 84/84 [00:00<00:00, 130248.26it/s]\n",
      "fill nJets for /eos/user/s/sdeng/WZG_analysis/final_skim/2018/SingleMuon_Run2018B_0000.root: 100%|██████████| 84/84 [00:00<00:00, 90992.13it/s]\n",
      "fill nbJets for /eos/user/s/sdeng/WZG_analysis/final_skim/2018/SingleMuon_Run2018B_0000.root: 100%|██████████| 84/84 [00:00<00:00, 134268.88it/s]\n"
     ]
    },
    {
     "name": "stdout",
     "output_type": "stream",
     "text": [
      "SumOfWeights for ZZ_mllz1:  35.0\n",
      "SumOfWeights for MET:  189.0\n",
      "SumOfWeights for nJets:  244.0\n",
      "SumOfWeights for nbJets:  254.0\n",
      "Time cost: 4.12\n",
      "\n",
      "is Data\n"
     ]
    },
    {
     "name": "stderr",
     "output_type": "stream",
     "text": [
      "fill ZZ_mllz1 for /eos/user/s/sdeng/WZG_analysis/final_skim/2018/SingleMuon_Run2018C_0000.root: 100%|██████████| 98/98 [00:00<00:00, 147538.33it/s]\n",
      "fill MET for /eos/user/s/sdeng/WZG_analysis/final_skim/2018/SingleMuon_Run2018C_0000.root: 100%|██████████| 98/98 [00:00<00:00, 149252.65it/s]\n",
      "fill nJets for /eos/user/s/sdeng/WZG_analysis/final_skim/2018/SingleMuon_Run2018C_0000.root: 100%|██████████| 98/98 [00:00<00:00, 150234.57it/s]\n",
      "fill nbJets for /eos/user/s/sdeng/WZG_analysis/final_skim/2018/SingleMuon_Run2018C_0000.root: 100%|██████████| 98/98 [00:00<00:00, 128330.25it/s]\n"
     ]
    },
    {
     "name": "stdout",
     "output_type": "stream",
     "text": [
      "SumOfWeights for ZZ_mllz1:  51.0\n",
      "SumOfWeights for MET:  265.0\n",
      "SumOfWeights for nJets:  335.0\n",
      "SumOfWeights for nbJets:  352.0\n",
      "Time cost: 2.61\n",
      "\n",
      "is Data\n"
     ]
    },
    {
     "name": "stderr",
     "output_type": "stream",
     "text": [
      "fill ZZ_mllz1 for /eos/user/s/sdeng/WZG_analysis/final_skim/2018/SingleMuon_Run2018D_0000.root: 100%|██████████| 250/250 [00:00<00:00, 169207.04it/s]\n",
      "fill MET for /eos/user/s/sdeng/WZG_analysis/final_skim/2018/SingleMuon_Run2018D_0000.root: 100%|██████████| 250/250 [00:00<00:00, 166678.75it/s]\n",
      "fill nJets for /eos/user/s/sdeng/WZG_analysis/final_skim/2018/SingleMuon_Run2018D_0000.root: 100%|██████████| 250/250 [00:00<00:00, 168229.74it/s]\n",
      "fill nbJets for /eos/user/s/sdeng/WZG_analysis/final_skim/2018/SingleMuon_Run2018D_0000.root: 100%|██████████| 250/250 [00:00<00:00, 170168.13it/s]\n"
     ]
    },
    {
     "name": "stdout",
     "output_type": "stream",
     "text": [
      "SumOfWeights for ZZ_mllz1:  79.0\n",
      "SumOfWeights for MET:  445.0\n",
      "SumOfWeights for nJets:  572.0\n",
      "SumOfWeights for nbJets:  602.0\n",
      "Time cost: 3.68\n",
      "\n",
      "is Data\n"
     ]
    },
    {
     "name": "stderr",
     "output_type": "stream",
     "text": [
      "fill ZZ_mllz1 for /eos/user/s/sdeng/WZG_analysis/final_skim/2018/SingleMuon_Run2018D_0001.root: 100%|██████████| 148/148 [00:00<00:00, 158275.62it/s]\n",
      "fill MET for /eos/user/s/sdeng/WZG_analysis/final_skim/2018/SingleMuon_Run2018D_0001.root: 100%|██████████| 148/148 [00:00<00:00, 160942.96it/s]\n",
      "fill nJets for /eos/user/s/sdeng/WZG_analysis/final_skim/2018/SingleMuon_Run2018D_0001.root: 100%|██████████| 148/148 [00:00<00:00, 128867.97it/s]\n",
      "fill nbJets for /eos/user/s/sdeng/WZG_analysis/final_skim/2018/SingleMuon_Run2018D_0001.root: 100%|██████████| 148/148 [00:00<00:00, 153881.26it/s]\n"
     ]
    },
    {
     "name": "stdout",
     "output_type": "stream",
     "text": [
      "SumOfWeights for ZZ_mllz1:  95.0\n",
      "SumOfWeights for MET:  560.0\n",
      "SumOfWeights for nJets:  712.0\n",
      "SumOfWeights for nbJets:  750.0\n",
      "Time cost: 3.45\n",
      "\n",
      "is Data\n"
     ]
    },
    {
     "name": "stderr",
     "output_type": "stream",
     "text": [
      "fill ZZ_mllz1 for /eos/user/s/sdeng/WZG_analysis/final_skim/2018/DoubleMuon_Run2018A_0000.root: 100%|██████████| 7/7 [00:00<00:00, 34460.24it/s]\n",
      "fill MET for /eos/user/s/sdeng/WZG_analysis/final_skim/2018/DoubleMuon_Run2018A_0000.root: 100%|██████████| 7/7 [00:00<00:00, 43367.99it/s]\n",
      "fill nJets for /eos/user/s/sdeng/WZG_analysis/final_skim/2018/DoubleMuon_Run2018A_0000.root: 100%|██████████| 7/7 [00:00<00:00, 38279.18it/s]\n",
      "fill nbJets for /eos/user/s/sdeng/WZG_analysis/final_skim/2018/DoubleMuon_Run2018A_0000.root: 100%|██████████| 7/7 [00:00<00:00, 44620.26it/s]\n"
     ]
    },
    {
     "name": "stdout",
     "output_type": "stream",
     "text": [
      "SumOfWeights for ZZ_mllz1:  96.0\n",
      "SumOfWeights for MET:  566.0\n",
      "SumOfWeights for nJets:  718.0\n",
      "SumOfWeights for nbJets:  757.0\n",
      "Time cost: 4.38\n",
      "\n",
      "is Data\n"
     ]
    },
    {
     "name": "stderr",
     "output_type": "stream",
     "text": [
      "fill ZZ_mllz1 for /eos/user/s/sdeng/WZG_analysis/final_skim/2018/DoubleMuon_Run2018B_0000.root: 0it [00:00, ?it/s]\n",
      "fill MET for /eos/user/s/sdeng/WZG_analysis/final_skim/2018/DoubleMuon_Run2018B_0000.root: 0it [00:00, ?it/s]\n",
      "fill nJets for /eos/user/s/sdeng/WZG_analysis/final_skim/2018/DoubleMuon_Run2018B_0000.root: 0it [00:00, ?it/s]\n",
      "fill nbJets for /eos/user/s/sdeng/WZG_analysis/final_skim/2018/DoubleMuon_Run2018B_0000.root: 0it [00:00, ?it/s]\n"
     ]
    },
    {
     "name": "stdout",
     "output_type": "stream",
     "text": [
      "SumOfWeights for ZZ_mllz1:  96.0\n",
      "SumOfWeights for MET:  566.0\n",
      "SumOfWeights for nJets:  718.0\n",
      "SumOfWeights for nbJets:  757.0\n",
      "Time cost: 3.24\n",
      "\n",
      "is Data\n"
     ]
    },
    {
     "name": "stderr",
     "output_type": "stream",
     "text": [
      "fill ZZ_mllz1 for /eos/user/s/sdeng/WZG_analysis/final_skim/2018/DoubleMuon_Run2018C_0000.root: 0it [00:00, ?it/s]\n",
      "fill MET for /eos/user/s/sdeng/WZG_analysis/final_skim/2018/DoubleMuon_Run2018C_0000.root: 0it [00:00, ?it/s]\n",
      "fill nJets for /eos/user/s/sdeng/WZG_analysis/final_skim/2018/DoubleMuon_Run2018C_0000.root: 0it [00:00, ?it/s]\n",
      "fill nbJets for /eos/user/s/sdeng/WZG_analysis/final_skim/2018/DoubleMuon_Run2018C_0000.root: 0it [00:00, ?it/s]\n"
     ]
    },
    {
     "name": "stdout",
     "output_type": "stream",
     "text": [
      "SumOfWeights for ZZ_mllz1:  96.0\n",
      "SumOfWeights for MET:  566.0\n",
      "SumOfWeights for nJets:  718.0\n",
      "SumOfWeights for nbJets:  757.0\n",
      "Time cost: 2.78\n",
      "\n",
      "is Data\n"
     ]
    },
    {
     "name": "stderr",
     "output_type": "stream",
     "text": [
      "fill ZZ_mllz1 for /eos/user/s/sdeng/WZG_analysis/final_skim/2018/DoubleMuon_Run2018D_0000.root: 100%|██████████| 5/5 [00:00<00:00, 21140.65it/s]\n",
      "fill MET for /eos/user/s/sdeng/WZG_analysis/final_skim/2018/DoubleMuon_Run2018D_0000.root: 100%|██████████| 5/5 [00:00<00:00, 22262.76it/s]\n",
      "fill nJets for /eos/user/s/sdeng/WZG_analysis/final_skim/2018/DoubleMuon_Run2018D_0000.root: 100%|██████████| 5/5 [00:00<00:00, 26280.10it/s]\n",
      "fill nbJets for /eos/user/s/sdeng/WZG_analysis/final_skim/2018/DoubleMuon_Run2018D_0000.root: 100%|██████████| 5/5 [00:00<00:00, 25115.59it/s]\n"
     ]
    },
    {
     "name": "stdout",
     "output_type": "stream",
     "text": [
      "SumOfWeights for ZZ_mllz1:  96.0\n",
      "SumOfWeights for MET:  570.0\n",
      "SumOfWeights for nJets:  722.0\n",
      "SumOfWeights for nbJets:  762.0\n",
      "Time cost: 3.63\n",
      "\n",
      "is Data\n"
     ]
    },
    {
     "name": "stderr",
     "output_type": "stream",
     "text": [
      "fill ZZ_mllz1 for /eos/user/s/sdeng/WZG_analysis/final_skim/2018/DoubleMuon_Run2018D_0001.root: 100%|██████████| 4/4 [00:00<00:00, 21648.02it/s]\n",
      "fill MET for /eos/user/s/sdeng/WZG_analysis/final_skim/2018/DoubleMuon_Run2018D_0001.root: 100%|██████████| 4/4 [00:00<00:00, 20360.70it/s]\n",
      "fill nJets for /eos/user/s/sdeng/WZG_analysis/final_skim/2018/DoubleMuon_Run2018D_0001.root: 100%|██████████| 4/4 [00:00<00:00, 23045.63it/s]\n",
      "fill nbJets for /eos/user/s/sdeng/WZG_analysis/final_skim/2018/DoubleMuon_Run2018D_0001.root: 100%|██████████| 4/4 [00:00<00:00, 23237.14it/s]\n"
     ]
    },
    {
     "name": "stdout",
     "output_type": "stream",
     "text": [
      "SumOfWeights for ZZ_mllz1:  97.0\n",
      "SumOfWeights for MET:  572.0\n",
      "SumOfWeights for nJets:  726.0\n",
      "SumOfWeights for nbJets:  766.0\n",
      "Time cost: 3.03\n",
      "\n",
      "is Data\n"
     ]
    },
    {
     "name": "stderr",
     "output_type": "stream",
     "text": [
      "fill ZZ_mllz1 for /eos/user/s/sdeng/WZG_analysis/final_skim/2018/EGamma_Run2018A_0000.root: 100%|██████████| 60/60 [00:00<00:00, 112397.61it/s]\n",
      "fill MET for /eos/user/s/sdeng/WZG_analysis/final_skim/2018/EGamma_Run2018A_0000.root: 100%|██████████| 60/60 [00:00<00:00, 111897.84it/s]\n",
      "fill nJets for /eos/user/s/sdeng/WZG_analysis/final_skim/2018/EGamma_Run2018A_0000.root: 100%|██████████| 60/60 [00:00<00:00, 111156.47it/s]\n",
      "fill nbJets for /eos/user/s/sdeng/WZG_analysis/final_skim/2018/EGamma_Run2018A_0000.root: 100%|██████████| 60/60 [00:00<00:00, 111107.39it/s]\n"
     ]
    },
    {
     "name": "stdout",
     "output_type": "stream",
     "text": [
      "SumOfWeights for ZZ_mllz1:  107.0\n",
      "SumOfWeights for MET:  622.0\n",
      "SumOfWeights for nJets:  784.0\n",
      "SumOfWeights for nbJets:  826.0\n",
      "Time cost: 3.86\n",
      "\n",
      "is Data\n"
     ]
    },
    {
     "name": "stderr",
     "output_type": "stream",
     "text": [
      "fill ZZ_mllz1 for /eos/user/s/sdeng/WZG_analysis/final_skim/2018/EGamma_Run2018B_0000.root: 100%|██████████| 22/22 [00:00<00:00, 70654.43it/s]\n",
      "fill MET for /eos/user/s/sdeng/WZG_analysis/final_skim/2018/EGamma_Run2018B_0000.root: 100%|██████████| 22/22 [00:00<00:00, 72145.96it/s]\n",
      "fill nJets for /eos/user/s/sdeng/WZG_analysis/final_skim/2018/EGamma_Run2018B_0000.root: 100%|██████████| 22/22 [00:00<00:00, 71199.60it/s]\n",
      "fill nbJets for /eos/user/s/sdeng/WZG_analysis/final_skim/2018/EGamma_Run2018B_0000.root: 100%|██████████| 22/22 [00:00<00:00, 82241.25it/s]\n"
     ]
    },
    {
     "name": "stdout",
     "output_type": "stream",
     "text": [
      "SumOfWeights for ZZ_mllz1:  112.0\n",
      "SumOfWeights for MET:  636.0\n",
      "SumOfWeights for nJets:  806.0\n",
      "SumOfWeights for nbJets:  848.0\n",
      "Time cost: 2.60\n",
      "\n",
      "is Data\n"
     ]
    },
    {
     "name": "stderr",
     "output_type": "stream",
     "text": [
      "fill ZZ_mllz1 for /eos/user/s/sdeng/WZG_analysis/final_skim/2018/EGamma_Run2018C_0000.root: 100%|██████████| 25/25 [00:00<00:00, 86019.36it/s]\n",
      "fill MET for /eos/user/s/sdeng/WZG_analysis/final_skim/2018/EGamma_Run2018C_0000.root: 100%|██████████| 25/25 [00:00<00:00, 97541.95it/s]\n",
      "fill nJets for /eos/user/s/sdeng/WZG_analysis/final_skim/2018/EGamma_Run2018C_0000.root: 100%|██████████| 25/25 [00:00<00:00, 99203.03it/s]\n",
      "fill nbJets for /eos/user/s/sdeng/WZG_analysis/final_skim/2018/EGamma_Run2018C_0000.root: 100%|██████████| 25/25 [00:00<00:00, 92712.29it/s]\n"
     ]
    },
    {
     "name": "stdout",
     "output_type": "stream",
     "text": [
      "SumOfWeights for ZZ_mllz1:  115.0\n",
      "SumOfWeights for MET:  652.0\n",
      "SumOfWeights for nJets:  829.0\n",
      "SumOfWeights for nbJets:  873.0\n",
      "Time cost: 2.86\n",
      "\n",
      "is Data\n"
     ]
    },
    {
     "name": "stderr",
     "output_type": "stream",
     "text": [
      "fill ZZ_mllz1 for /eos/user/s/sdeng/WZG_analysis/final_skim/2018/EGamma_Run2018D_0000.root: 100%|██████████| 80/80 [00:00<00:00, 127438.03it/s]\n",
      "fill MET for /eos/user/s/sdeng/WZG_analysis/final_skim/2018/EGamma_Run2018D_0000.root: 100%|██████████| 80/80 [00:00<00:00, 119029.56it/s]\n",
      "fill nJets for /eos/user/s/sdeng/WZG_analysis/final_skim/2018/EGamma_Run2018D_0000.root: 100%|██████████| 80/80 [00:00<00:00, 139635.59it/s]\n",
      "fill nbJets for /eos/user/s/sdeng/WZG_analysis/final_skim/2018/EGamma_Run2018D_0000.root: 100%|██████████| 80/80 [00:00<00:00, 136566.67it/s]\n"
     ]
    },
    {
     "name": "stdout",
     "output_type": "stream",
     "text": [
      "SumOfWeights for ZZ_mllz1:  126.0\n",
      "SumOfWeights for MET:  715.0\n",
      "SumOfWeights for nJets:  903.0\n",
      "SumOfWeights for nbJets:  953.0\n",
      "Time cost: 3.33\n",
      "\n",
      "is Data\n"
     ]
    },
    {
     "name": "stderr",
     "output_type": "stream",
     "text": [
      "fill ZZ_mllz1 for /eos/user/s/sdeng/WZG_analysis/final_skim/2018/EGamma_Run2018D_0001.root: 100%|██████████| 43/43 [00:00<00:00, 103355.34it/s]\n",
      "fill MET for /eos/user/s/sdeng/WZG_analysis/final_skim/2018/EGamma_Run2018D_0001.root: 100%|██████████| 43/43 [00:00<00:00, 111813.44it/s]\n",
      "fill nJets for /eos/user/s/sdeng/WZG_analysis/final_skim/2018/EGamma_Run2018D_0001.root: 100%|██████████| 43/43 [00:00<00:00, 112792.42it/s]\n",
      "fill nbJets for /eos/user/s/sdeng/WZG_analysis/final_skim/2018/EGamma_Run2018D_0001.root: 100%|██████████| 43/43 [00:00<00:00, 71484.37it/s]\n"
     ]
    },
    {
     "name": "stdout",
     "output_type": "stream",
     "text": [
      "SumOfWeights for ZZ_mllz1:  128.0\n",
      "SumOfWeights for MET:  748.0\n",
      "SumOfWeights for nJets:  945.0\n",
      "SumOfWeights for nbJets:  996.0\n",
      "Time cost: 2.86\n",
      "\n",
      "is Data\n"
     ]
    },
    {
     "name": "stderr",
     "output_type": "stream",
     "text": [
      "fill ZZ_mllz1 for /eos/user/s/sdeng/WZG_analysis/final_skim/2018/MuonEG_Run2018A_0000.root: 0it [00:00, ?it/s]\n",
      "fill MET for /eos/user/s/sdeng/WZG_analysis/final_skim/2018/MuonEG_Run2018A_0000.root: 0it [00:00, ?it/s]\n",
      "fill nJets for /eos/user/s/sdeng/WZG_analysis/final_skim/2018/MuonEG_Run2018A_0000.root: 0it [00:00, ?it/s]\n",
      "fill nbJets for /eos/user/s/sdeng/WZG_analysis/final_skim/2018/MuonEG_Run2018A_0000.root: 0it [00:00, ?it/s]\n"
     ]
    },
    {
     "name": "stdout",
     "output_type": "stream",
     "text": [
      "SumOfWeights for ZZ_mllz1:  128.0\n",
      "SumOfWeights for MET:  748.0\n",
      "SumOfWeights for nJets:  945.0\n",
      "SumOfWeights for nbJets:  996.0\n",
      "Time cost: 3.19\n",
      "\n",
      "is Data\n"
     ]
    },
    {
     "name": "stderr",
     "output_type": "stream",
     "text": [
      "fill ZZ_mllz1 for /eos/user/s/sdeng/WZG_analysis/final_skim/2018/MuonEG_Run2018B_0000.root: 100%|██████████| 1/1 [00:00<00:00, 6990.51it/s]\n",
      "fill MET for /eos/user/s/sdeng/WZG_analysis/final_skim/2018/MuonEG_Run2018B_0000.root: 100%|██████████| 1/1 [00:00<00:00, 6721.64it/s]\n",
      "fill nJets for /eos/user/s/sdeng/WZG_analysis/final_skim/2018/MuonEG_Run2018B_0000.root: 100%|██████████| 1/1 [00:00<00:00, 9510.89it/s]\n",
      "fill nbJets for /eos/user/s/sdeng/WZG_analysis/final_skim/2018/MuonEG_Run2018B_0000.root: 100%|██████████| 1/1 [00:00<00:00, 9664.29it/s]\n"
     ]
    },
    {
     "name": "stdout",
     "output_type": "stream",
     "text": [
      "SumOfWeights for ZZ_mllz1:  128.0\n",
      "SumOfWeights for MET:  748.0\n",
      "SumOfWeights for nJets:  946.0\n",
      "SumOfWeights for nbJets:  997.0\n",
      "Time cost: 2.73\n",
      "\n",
      "is Data\n"
     ]
    },
    {
     "name": "stderr",
     "output_type": "stream",
     "text": [
      "fill ZZ_mllz1 for /eos/user/s/sdeng/WZG_analysis/final_skim/2018/MuonEG_Run2018C_0000.root: 100%|██████████| 2/2 [00:00<00:00, 9675.44it/s]\n",
      "fill MET for /eos/user/s/sdeng/WZG_analysis/final_skim/2018/MuonEG_Run2018C_0000.root: 100%|██████████| 2/2 [00:00<00:00, 11602.50it/s]\n",
      "fill nJets for /eos/user/s/sdeng/WZG_analysis/final_skim/2018/MuonEG_Run2018C_0000.root: 100%|██████████| 2/2 [00:00<00:00, 11634.69it/s]\n",
      "fill nbJets for /eos/user/s/sdeng/WZG_analysis/final_skim/2018/MuonEG_Run2018C_0000.root: 100%|██████████| 2/2 [00:00<00:00, 12409.18it/s]\n"
     ]
    },
    {
     "name": "stdout",
     "output_type": "stream",
     "text": [
      "SumOfWeights for ZZ_mllz1:  128.0\n",
      "SumOfWeights for MET:  749.0\n",
      "SumOfWeights for nJets:  948.0\n",
      "SumOfWeights for nbJets:  999.0\n",
      "Time cost: 2.38\n",
      "\n",
      "is Data\n"
     ]
    },
    {
     "name": "stderr",
     "output_type": "stream",
     "text": [
      "fill ZZ_mllz1 for /eos/user/s/sdeng/WZG_analysis/final_skim/2018/MuonEG_Run2018D_0000.root: 100%|██████████| 3/3 [00:00<00:00, 17307.99it/s]\n",
      "fill MET for /eos/user/s/sdeng/WZG_analysis/final_skim/2018/MuonEG_Run2018D_0000.root: 100%|██████████| 3/3 [00:00<00:00, 19210.55it/s]\n",
      "fill nJets for /eos/user/s/sdeng/WZG_analysis/final_skim/2018/MuonEG_Run2018D_0000.root: 100%|██████████| 3/3 [00:00<00:00, 19691.57it/s]\n",
      "fill nbJets for /eos/user/s/sdeng/WZG_analysis/final_skim/2018/MuonEG_Run2018D_0000.root: 100%|██████████| 3/3 [00:00<00:00, 23344.92it/s]"
     ]
    },
    {
     "name": "stdout",
     "output_type": "stream",
     "text": [
      "SumOfWeights for ZZ_mllz1:  130.0\n",
      "SumOfWeights for MET:  752.0\n",
      "SumOfWeights for nJets:  951.0\n",
      "SumOfWeights for nbJets:  1002.0\n",
      "Time cost: 2.48\n",
      "\n"
     ]
    },
    {
     "name": "stderr",
     "output_type": "stream",
     "text": [
      "\n"
     ]
    }
   ],
   "source": [
    "for file in filelist_data:\n",
    "    AddHist(file, hist_data, 1, 0, 0, channel, branch)"
   ]
  },
  {
   "cell_type": "markdown",
   "id": "55d971ec-7bf0-438a-bf8b-d6be1350491d",
   "metadata": {
    "jp-MarkdownHeadingCollapsed": true,
    "tags": []
   },
   "source": [
    "### Add MC "
   ]
  },
  {
   "cell_type": "code",
   "execution_count": 36,
   "id": "c8b5c1c5-8579-4132-a68b-1f262c3ae07b",
   "metadata": {},
   "outputs": [],
   "source": [
    "filelist_MC = {\n",
    "   \"TTG\":\n",
    "        {\"name\":\"TTGJets\", \n",
    "        \"path\":\"/eos/user/s/sdeng/WZG_analysis/final_skim/2018/TTGJets_TuneCP5_13TeV-amcatnloFXFX-madspin-pythia8_2018_0000.root\", \n",
    "        \"xsec\":4.078,\n",
    "        \"color\":3},\n",
    "   \"TTZ\":\n",
    "        {\"name\":\"TTZToLLNuNu\", \n",
    "        \"path\":\"/eos/user/s/sdeng/WZG_analysis/final_skim/2018/TTZToLLNuNu_M-10_TuneCP5_13TeV-amcatnlo-pythia8_2018_0000.root\", \n",
    "        \"xsec\":0.2432,\n",
    "        \"color\":4},\n",
    "   \"TTW\":\n",
    "        {\"name\":\"TTWJetsToLNu\", \n",
    "        \"path\":\"/eos/user/s/sdeng/WZG_analysis/final_skim/2018/TTWJetsToLNu_TuneCP5_13TeV-amcatnloFXFX-madspin-pythia8_2018_0000.root\", \n",
    "        \"xsec\":0.2149,\n",
    "        \"color\":5},\n",
    "   \"tZq\":\n",
    "        {\"name\":\"tZq_ll\", \n",
    "        \"path\":\"/eos/user/s/sdeng/WZG_analysis/final_skim/2018/tZq_ll_4f_ckm_NLO_TuneCP5_13TeV-amcatnlo-pythia8_2018_0000.root\", \n",
    "        \"xsec\":0.07358,\n",
    "        \"color\":6},\n",
    "   \"WWW\":\n",
    "        {\"name\":\"WWW\", \n",
    "        \"path\":\"/eos/user/s/sdeng/WZG_analysis/final_skim/2018/WWW_4F_TuneCP5_13TeV-amcatnlo-pythia8_2018_0000.root\", \n",
    "        \"xsec\":0.2086,\n",
    "        \"color\":7},\n",
    "   \"WZ\":\n",
    "        {\"name\":\"WZ\", \n",
    "        \"path\":\"/eos/user/s/sdeng/WZG_analysis/final_skim/2018/WZ_TuneCP5_13TeV-pythia8_2018_0000.root\", \n",
    "        \"xsec\":27.6,\n",
    "        \"color\":8},\n",
    "   \"ZGToLLG\":\n",
    "        {\"name\":\"ZGToLLG\",\n",
    "        \"path\":\"/eos/user/s/sdeng/WZG_analysis/final_skim/2018/ZGToLLG_01J_5f_TuneCP5_13TeV-amcatnloFXFX-pythia8_2018_0000.root\", \n",
    "        \"xsec\":55.48,\n",
    "        \"color\":9},\n",
    "    \"ZZ\":\n",
    "        {\"name\":\"ZZ\",\n",
    "        \"path\":\"/eos/user/s/sdeng/WZG_analysis/final_skim/2018/ZZ_TuneCP5_13TeV-pythia8_2018_0000.root\",\n",
    "        \"xsec\":12.14,\n",
    "        \"color\":12},\n",
    "    \"WZG\":\n",
    "        {\"name\":\"WZG\",\n",
    "        \"path\":\"/eos/user/s/sdeng/WZG_analysis/final_skim/2018/wza_UL18_sum_Skim.root\",\n",
    "        \"xsec\":0.0384,\n",
    "        \"color\":21}\n",
    "}\n"
   ]
  },
  {
   "cell_type": "code",
   "execution_count": 37,
   "id": "56b9ae9a-918c-46b0-b036-7b7f0c87db1f",
   "metadata": {},
   "outputs": [
    {
     "name": "stdout",
     "output_type": "stream",
     "text": [
      "is MC\n"
     ]
    },
    {
     "name": "stderr",
     "output_type": "stream",
     "text": [
      "fill ZZ_mllz1 for /eos/user/s/sdeng/WZG_analysis/final_skim/2018/TTGJets_TuneCP5_13TeV-amcatnloFXFX-madspin-pythia8_2018_0000.root: 100%|██████████| 201/201 [00:00<00:00, 97711.53it/s]\n",
      "fill MET for /eos/user/s/sdeng/WZG_analysis/final_skim/2018/TTGJets_TuneCP5_13TeV-amcatnloFXFX-madspin-pythia8_2018_0000.root: 100%|██████████| 201/201 [00:00<00:00, 100976.78it/s]\n",
      "fill nJets for /eos/user/s/sdeng/WZG_analysis/final_skim/2018/TTGJets_TuneCP5_13TeV-amcatnloFXFX-madspin-pythia8_2018_0000.root: 100%|██████████| 201/201 [00:00<00:00, 101487.31it/s]\n",
      "fill nbJets for /eos/user/s/sdeng/WZG_analysis/final_skim/2018/TTGJets_TuneCP5_13TeV-amcatnloFXFX-madspin-pythia8_2018_0000.root: 100%|██████████| 201/201 [00:00<00:00, 101536.20it/s]\n"
     ]
    },
    {
     "name": "stdout",
     "output_type": "stream",
     "text": [
      "SumOfWeights for ZZ_mllz1:  3.5179003477096558\n",
      "SumOfWeights for MET:  7.182380139827728\n",
      "SumOfWeights for nJets:  12.166073232889175\n",
      "SumOfWeights for nbJets:  11.872913599014282\n",
      "Time cost: 7.03\n",
      "\n",
      "is MC\n"
     ]
    },
    {
     "name": "stderr",
     "output_type": "stream",
     "text": [
      "fill ZZ_mllz1 for /eos/user/s/sdeng/WZG_analysis/final_skim/2018/TTZToLLNuNu_M-10_TuneCP5_13TeV-amcatnlo-pythia8_2018_0000.root: 100%|██████████| 182529/182529 [00:01<00:00, 94769.97it/s] \n",
      "fill MET for /eos/user/s/sdeng/WZG_analysis/final_skim/2018/TTZToLLNuNu_M-10_TuneCP5_13TeV-amcatnlo-pythia8_2018_0000.root:   5%|▌         | 9616/182529 [00:00<00:01, 96145.42it/s]"
     ]
    },
    {
     "name": "stdout",
     "output_type": "stream",
     "text": [
      "SumOfWeights for ZZ_mllz1:  190.5847026631236\n"
     ]
    },
    {
     "name": "stderr",
     "output_type": "stream",
     "text": [
      "fill MET for /eos/user/s/sdeng/WZG_analysis/final_skim/2018/TTZToLLNuNu_M-10_TuneCP5_13TeV-amcatnlo-pythia8_2018_0000.root: 100%|██████████| 182529/182529 [00:02<00:00, 88198.25it/s]\n",
      "fill nJets for /eos/user/s/sdeng/WZG_analysis/final_skim/2018/TTZToLLNuNu_M-10_TuneCP5_13TeV-amcatnlo-pythia8_2018_0000.root:   6%|▌         | 10659/182529 [00:00<00:01, 106576.89it/s]"
     ]
    },
    {
     "name": "stdout",
     "output_type": "stream",
     "text": [
      "SumOfWeights for MET:  127.46284675598145\n"
     ]
    },
    {
     "name": "stderr",
     "output_type": "stream",
     "text": [
      "fill nJets for /eos/user/s/sdeng/WZG_analysis/final_skim/2018/TTZToLLNuNu_M-10_TuneCP5_13TeV-amcatnlo-pythia8_2018_0000.root: 100%|██████████| 182529/182529 [00:01<00:00, 103117.54it/s]\n",
      "fill nbJets for /eos/user/s/sdeng/WZG_analysis/final_skim/2018/TTZToLLNuNu_M-10_TuneCP5_13TeV-amcatnlo-pythia8_2018_0000.root:   5%|▌         | 9558/182529 [00:00<00:01, 95564.14it/s]"
     ]
    },
    {
     "name": "stdout",
     "output_type": "stream",
     "text": [
      "SumOfWeights for nJets:  179.05600726604462\n"
     ]
    },
    {
     "name": "stderr",
     "output_type": "stream",
     "text": [
      "fill nbJets for /eos/user/s/sdeng/WZG_analysis/final_skim/2018/TTZToLLNuNu_M-10_TuneCP5_13TeV-amcatnlo-pythia8_2018_0000.root: 100%|██████████| 182529/182529 [00:01<00:00, 104973.84it/s]\n"
     ]
    },
    {
     "name": "stdout",
     "output_type": "stream",
     "text": [
      "SumOfWeights for nbJets:  191.07351367757656\n",
      "Time cost: 15.47\n",
      "\n",
      "is MC\n"
     ]
    },
    {
     "name": "stderr",
     "output_type": "stream",
     "text": [
      "fill ZZ_mllz1 for /eos/user/s/sdeng/WZG_analysis/final_skim/2018/TTWJetsToLNu_TuneCP5_13TeV-amcatnloFXFX-madspin-pythia8_2018_0000.root: 100%|██████████| 5729/5729 [00:00<00:00, 93622.20it/s]\n",
      "fill MET for /eos/user/s/sdeng/WZG_analysis/final_skim/2018/TTWJetsToLNu_TuneCP5_13TeV-amcatnloFXFX-madspin-pythia8_2018_0000.root: 100%|██████████| 5729/5729 [00:00<00:00, 78437.74it/s]\n",
      "fill nJets for /eos/user/s/sdeng/WZG_analysis/final_skim/2018/TTWJetsToLNu_TuneCP5_13TeV-amcatnloFXFX-madspin-pythia8_2018_0000.root: 100%|██████████| 5729/5729 [00:00<00:00, 107075.65it/s]\n",
      "fill nbJets for /eos/user/s/sdeng/WZG_analysis/final_skim/2018/TTWJetsToLNu_TuneCP5_13TeV-amcatnloFXFX-madspin-pythia8_2018_0000.root: 100%|██████████| 5729/5729 [00:00<00:00, 94442.77it/s]"
     ]
    },
    {
     "name": "stdout",
     "output_type": "stream",
     "text": [
      "SumOfWeights for ZZ_mllz1:  13.185994684696198\n",
      "SumOfWeights for MET:  8.296617269515991\n",
      "SumOfWeights for nJets:  15.125542402267456\n"
     ]
    },
    {
     "name": "stderr",
     "output_type": "stream",
     "text": [
      "\n"
     ]
    },
    {
     "name": "stdout",
     "output_type": "stream",
     "text": [
      "SumOfWeights for nbJets:  15.321036262903363\n",
      "Time cost: 7.15\n",
      "\n",
      "is MC\n"
     ]
    },
    {
     "name": "stderr",
     "output_type": "stream",
     "text": [
      "fill ZZ_mllz1 for /eos/user/s/sdeng/WZG_analysis/final_skim/2018/tZq_ll_4f_ckm_NLO_TuneCP5_13TeV-amcatnlo-pythia8_2018_0000.root: 100%|██████████| 218662/218662 [00:02<00:00, 104167.18it/s]\n",
      "fill MET for /eos/user/s/sdeng/WZG_analysis/final_skim/2018/tZq_ll_4f_ckm_NLO_TuneCP5_13TeV-amcatnlo-pythia8_2018_0000.root:   5%|▍         | 10409/218662 [00:00<00:02, 104079.68it/s]"
     ]
    },
    {
     "name": "stdout",
     "output_type": "stream",
     "text": [
      "SumOfWeights for ZZ_mllz1:  75.48684853315353\n"
     ]
    },
    {
     "name": "stderr",
     "output_type": "stream",
     "text": [
      "fill MET for /eos/user/s/sdeng/WZG_analysis/final_skim/2018/tZq_ll_4f_ckm_NLO_TuneCP5_13TeV-amcatnlo-pythia8_2018_0000.root: 100%|██████████| 218662/218662 [00:02<00:00, 81972.93it/s]\n",
      "fill nJets for /eos/user/s/sdeng/WZG_analysis/final_skim/2018/tZq_ll_4f_ckm_NLO_TuneCP5_13TeV-amcatnlo-pythia8_2018_0000.root:   5%|▍         | 10678/218662 [00:00<00:01, 106761.77it/s]"
     ]
    },
    {
     "name": "stdout",
     "output_type": "stream",
     "text": [
      "SumOfWeights for MET:  58.84175682067871\n"
     ]
    },
    {
     "name": "stderr",
     "output_type": "stream",
     "text": [
      "fill nJets for /eos/user/s/sdeng/WZG_analysis/final_skim/2018/tZq_ll_4f_ckm_NLO_TuneCP5_13TeV-amcatnlo-pythia8_2018_0000.root: 100%|██████████| 218662/218662 [00:02<00:00, 93119.34it/s]\n",
      "fill nbJets for /eos/user/s/sdeng/WZG_analysis/final_skim/2018/tZq_ll_4f_ckm_NLO_TuneCP5_13TeV-amcatnlo-pythia8_2018_0000.root:   5%|▍         | 10791/218662 [00:00<00:01, 107898.78it/s]"
     ]
    },
    {
     "name": "stdout",
     "output_type": "stream",
     "text": [
      "SumOfWeights for nJets:  76.71618264913559\n"
     ]
    },
    {
     "name": "stderr",
     "output_type": "stream",
     "text": [
      "fill nbJets for /eos/user/s/sdeng/WZG_analysis/final_skim/2018/tZq_ll_4f_ckm_NLO_TuneCP5_13TeV-amcatnlo-pythia8_2018_0000.root: 100%|██████████| 218662/218662 [00:02<00:00, 92048.96it/s]\n"
     ]
    },
    {
     "name": "stdout",
     "output_type": "stream",
     "text": [
      "SumOfWeights for nbJets:  77.11361713334918\n",
      "Time cost: 17.62\n",
      "\n",
      "is MC\n"
     ]
    },
    {
     "name": "stderr",
     "output_type": "stream",
     "text": [
      "fill ZZ_mllz1 for /eos/user/s/sdeng/WZG_analysis/final_skim/2018/WWW_4F_TuneCP5_13TeV-amcatnlo-pythia8_2018_0000.root: 100%|██████████| 1/1 [00:00<00:00, 3890.82it/s]\n",
      "fill MET for /eos/user/s/sdeng/WZG_analysis/final_skim/2018/WWW_4F_TuneCP5_13TeV-amcatnlo-pythia8_2018_0000.root: 100%|██████████| 1/1 [00:00<00:00, 8848.74it/s]\n",
      "fill nJets for /eos/user/s/sdeng/WZG_analysis/final_skim/2018/WWW_4F_TuneCP5_13TeV-amcatnlo-pythia8_2018_0000.root: 100%|██████████| 1/1 [00:00<00:00, 7530.17it/s]\n",
      "fill nbJets for /eos/user/s/sdeng/WZG_analysis/final_skim/2018/WWW_4F_TuneCP5_13TeV-amcatnlo-pythia8_2018_0000.root: 100%|██████████| 1/1 [00:00<00:00, 5809.29it/s]\n"
     ]
    },
    {
     "name": "stdout",
     "output_type": "stream",
     "text": [
      "SumOfWeights for ZZ_mllz1:  0.0\n",
      "SumOfWeights for MET:  0.05927377566695213\n",
      "SumOfWeights for nJets:  0.05927377566695213\n",
      "SumOfWeights for nbJets:  0.05927377566695213\n",
      "Time cost: 6.80\n",
      "\n",
      "is MC\n"
     ]
    },
    {
     "name": "stderr",
     "output_type": "stream",
     "text": [
      "fill ZZ_mllz1 for /eos/user/s/sdeng/WZG_analysis/final_skim/2018/WZ_TuneCP5_13TeV-pythia8_2018_0000.root: 100%|██████████| 99/99 [00:00<00:00, 73350.31it/s]\n",
      "fill MET for /eos/user/s/sdeng/WZG_analysis/final_skim/2018/WZ_TuneCP5_13TeV-pythia8_2018_0000.root: 100%|██████████| 99/99 [00:00<00:00, 77411.65it/s]\n",
      "fill nJets for /eos/user/s/sdeng/WZG_analysis/final_skim/2018/WZ_TuneCP5_13TeV-pythia8_2018_0000.root: 100%|██████████| 99/99 [00:00<00:00, 79273.79it/s]\n",
      "fill nbJets for /eos/user/s/sdeng/WZG_analysis/final_skim/2018/WZ_TuneCP5_13TeV-pythia8_2018_0000.root: 100%|██████████| 99/99 [00:00<00:00, 89106.46it/s]\n"
     ]
    },
    {
     "name": "stdout",
     "output_type": "stream",
     "text": [
      "SumOfWeights for ZZ_mllz1:  2.475912392139435\n",
      "SumOfWeights for MET:  15.887104153633118\n",
      "SumOfWeights for nJets:  20.42627704143524\n",
      "SumOfWeights for nbJets:  20.426285982131958\n",
      "Time cost: 8.36\n",
      "\n",
      "is MC\n"
     ]
    },
    {
     "name": "stderr",
     "output_type": "stream",
     "text": [
      "fill ZZ_mllz1 for /eos/user/s/sdeng/WZG_analysis/final_skim/2018/ZGToLLG_01J_5f_TuneCP5_13TeV-amcatnloFXFX-pythia8_2018_0000.root: 100%|██████████| 50/50 [00:00<00:00, 67023.07it/s]\n",
      "fill MET for /eos/user/s/sdeng/WZG_analysis/final_skim/2018/ZGToLLG_01J_5f_TuneCP5_13TeV-amcatnloFXFX-pythia8_2018_0000.root: 100%|██████████| 50/50 [00:00<00:00, 82144.61it/s]\n",
      "fill nJets for /eos/user/s/sdeng/WZG_analysis/final_skim/2018/ZGToLLG_01J_5f_TuneCP5_13TeV-amcatnloFXFX-pythia8_2018_0000.root: 100%|██████████| 50/50 [00:00<00:00, 79078.13it/s]\n",
      "fill nbJets for /eos/user/s/sdeng/WZG_analysis/final_skim/2018/ZGToLLG_01J_5f_TuneCP5_13TeV-amcatnloFXFX-pythia8_2018_0000.root: 100%|██████████| 50/50 [00:00<00:00, 56910.50it/s]\n"
     ]
    },
    {
     "name": "stdout",
     "output_type": "stream",
     "text": [
      "SumOfWeights for ZZ_mllz1:  0.5493021607398987\n",
      "SumOfWeights for MET:  2.5634100288152695\n",
      "SumOfWeights for nJets:  2.5634100288152695\n",
      "SumOfWeights for nbJets:  2.5634101033210754\n",
      "Time cost: 7.14\n",
      "\n",
      "is MC\n"
     ]
    },
    {
     "name": "stderr",
     "output_type": "stream",
     "text": [
      "fill ZZ_mllz1 for /eos/user/s/sdeng/WZG_analysis/final_skim/2018/ZZ_TuneCP5_13TeV-pythia8_2018_0000.root: 100%|██████████| 16/16 [00:00<00:00, 28679.00it/s]\n",
      "fill MET for /eos/user/s/sdeng/WZG_analysis/final_skim/2018/ZZ_TuneCP5_13TeV-pythia8_2018_0000.root: 100%|██████████| 16/16 [00:00<00:00, 53473.20it/s]\n",
      "fill nJets for /eos/user/s/sdeng/WZG_analysis/final_skim/2018/ZZ_TuneCP5_13TeV-pythia8_2018_0000.root: 100%|██████████| 16/16 [00:00<00:00, 60025.82it/s]\n",
      "fill nbJets for /eos/user/s/sdeng/WZG_analysis/final_skim/2018/ZZ_TuneCP5_13TeV-pythia8_2018_0000.root: 100%|██████████| 16/16 [00:00<00:00, 55188.21it/s]\n"
     ]
    },
    {
     "name": "stdout",
     "output_type": "stream",
     "text": [
      "SumOfWeights for ZZ_mllz1:  5.7980645298957825\n",
      "SumOfWeights for MET:  5.4356852769851685\n",
      "SumOfWeights for nJets:  5.798064410686493\n",
      "SumOfWeights for nbJets:  5.798064589500427\n",
      "Time cost: 6.81\n",
      "\n",
      "is MC\n"
     ]
    },
    {
     "name": "stderr",
     "output_type": "stream",
     "text": [
      "fill ZZ_mllz1 for /eos/user/s/sdeng/WZG_analysis/final_skim/2018/wza_UL18_sum_Skim.root: 100%|██████████| 42/42 [00:00<00:00, 65682.61it/s]\n",
      "fill MET for /eos/user/s/sdeng/WZG_analysis/final_skim/2018/wza_UL18_sum_Skim.root: 100%|██████████| 42/42 [00:00<00:00, 82164.54it/s]\n",
      "fill nJets for /eos/user/s/sdeng/WZG_analysis/final_skim/2018/wza_UL18_sum_Skim.root: 100%|██████████| 42/42 [00:00<00:00, 79315.97it/s]\n",
      "fill nbJets for /eos/user/s/sdeng/WZG_analysis/final_skim/2018/wza_UL18_sum_Skim.root: 100%|██████████| 42/42 [00:00<00:00, 86480.49it/s]"
     ]
    },
    {
     "name": "stdout",
     "output_type": "stream",
     "text": [
      "SumOfWeights for ZZ_mllz1:  0.7139776088297367\n",
      "SumOfWeights for MET:  0.6119807995855808\n",
      "SumOfWeights for nJets:  0.7139776051044464\n",
      "SumOfWeights for nbJets:  0.7751753609627485\n",
      "Time cost: 7.38\n",
      "\n"
     ]
    },
    {
     "name": "stderr",
     "output_type": "stream",
     "text": [
      "\n"
     ]
    }
   ],
   "source": [
    "def SetHistStyle(hist, color):\n",
    "    hist.SetMarkerStyle(20)\n",
    "    hist.SetMarkerColor(color)\n",
    "    hist.SetFillColor(color)\n",
    "    hist.SetYTitle('events/bin')\n",
    "    hist.SetStats(0)\n",
    "    hist.Sumw2()\n",
    "    \n",
    "    \n",
    "for file in filelist_MC:\n",
    "    hist_MC = {}\n",
    "    for branch_name in branch:\n",
    "        hist_MC_temp = ROOT.TH1F(\"\", \"\", branch[branch_name][\"xbins\"], branch[branch_name][\"xleft\"], branch[branch_name][\"xright\"])\n",
    "        SetHistStyle(hist_MC_temp, filelist_MC[file][\"color\"])\n",
    "        hist_MC_temp.SetXTitle(f'{branch[branch_name][\"axis_name\"]}')\n",
    "        hist_MC[branch_name] = hist_MC_temp\n",
    "        \n",
    "    AddHist(filelist_MC[file][\"path\"], hist_MC, 0, filelist_MC[file][\"xsec\"], lumi, channel, branch)\n",
    "    filelist_MC[file][\"hist\"] = hist_MC\n",
    "    "
   ]
  },
  {
   "cell_type": "markdown",
   "id": "c15df3d9-1ce9-44e9-bd32-3a689dbe8b7a",
   "metadata": {
    "tags": []
   },
   "source": [
    "## Add FakeLepton"
   ]
  },
  {
   "cell_type": "code",
   "execution_count": 38,
   "id": "aa0cf02d-bff5-4708-afad-28138aef0b10",
   "metadata": {},
   "outputs": [],
   "source": [
    "def AddHist_FakeLepton(file, hist, isData, xsec, lumi, channel, branch):\n",
    "    \n",
    "    init_time = time.time()\n",
    "    init_branches = ['fake_lepton_weight','channel_mark','HLT_Ele23_Ele12_CaloIdL_TrackIdL_IsoVL','HLT_Mu23_TrkIsoVVL_Ele12_CaloIdL_TrackIdL_IsoVL','HLT_Mu8_TrkIsoVVL_Ele23_CaloIdL_TrackIdL_IsoVL_DZ','HLT_Mu17_TrkIsoVVL_Mu8_TrkIsoVVL_DZ_Mass3p8','HLT_Ele32_WPTight_Gsf','HLT_IsoMu24']\n",
    "    \n",
    "    if isData:\n",
    "        print('is Data')\n",
    "        for branch_name in branch:\n",
    "            if branch[branch_name][\"name\"] not in init_branches:\n",
    "                init_branches.append(branch[branch_name][\"name\"])\n",
    "    else:\n",
    "        print('is MC')\n",
    "        add_branches = ['Generator_weight']\n",
    "        gen_branches = uproot.open(file+':Events').keys(filter_name='*_lepton*genPartFlav')\n",
    "        true_events = uproot.open(file)['nEventsGenWeighted'].values()[0]\n",
    "        init_branches.extend(add_branches)\n",
    "        init_branches.extend(gen_branches)\n",
    "        for branch_name in branch:\n",
    "            if branch[branch_name][\"name\"] not in init_branches:\n",
    "                init_branches.append(branch[branch_name][\"name\"])\n",
    "        \n",
    "    branches = uproot.open(file+':Events').arrays(init_branches, library='pd')\n",
    "    \n",
    "    HLT_SingleMuon = branches.loc[:,'HLT_IsoMu24'] == True\n",
    "    HLT_DoubleMuon = branches.loc[:,'HLT_Mu17_TrkIsoVVL_Mu8_TrkIsoVVL_DZ_Mass3p8'] == True\n",
    "    HLT_EGamma = branches.loc[:,'HLT_Ele32_WPTight_Gsf'] == True\n",
    "    HLT_DoubleEG = branches.loc[:,'HLT_Ele23_Ele12_CaloIdL_TrackIdL_IsoVL'] == True\n",
    "    HLT_MuonEG1 = branches.loc[:,'HLT_Mu8_TrkIsoVVL_Ele23_CaloIdL_TrackIdL_IsoVL_DZ'] == True\n",
    "    HLT_MuonEG2 = branches.loc[:,'HLT_Mu23_TrkIsoVVL_Ele12_CaloIdL_TrackIdL_IsoVL'] == True\n",
    "    if 'SingleMuon' in file:\n",
    "        arrays = branches.loc[HLT_SingleMuon, :].copy()\n",
    "    elif 'DoubleMuon' in file:\n",
    "        arrays = branches.loc[~HLT_SingleMuon & HLT_DoubleMuon, :].copy()\n",
    "#         2018 is special\n",
    "    elif 'EGamma' in file:\n",
    "        arrays = branches.loc[~HLT_SingleMuon & ~HLT_DoubleMuon &   (HLT_EGamma | HLT_DoubleEG) ,:].copy()\n",
    "    elif 'MuonEG' in file:\n",
    "        arrays = branches.loc[~HLT_SingleMuon & ~HLT_DoubleMuon &  ~(HLT_EGamma | HLT_DoubleEG) & (HLT_MuonEG1 | HLT_MuonEG2),:].copy()\n",
    "    else:\n",
    "        arrays = branches.loc[HLT_SingleMuon | HLT_DoubleMuon |  HLT_EGamma | HLT_DoubleEG | HLT_MuonEG1 | HLT_MuonEG2,:].copy()\n",
    "    \n",
    "    if channel == 0: \n",
    "        channel_cut = (arrays.loc[:,'channel_mark'] >= 1) & (arrays.loc[:,'channel_mark'] <= 4)\n",
    "    elif channel == 10:\n",
    "        channel_cut = (arrays.loc[:,'channel_mark'] >= 11) & (arrays.loc[:,'channel_mark'] <= 14)\n",
    "    elif channel == 9:\n",
    "        channel_cut = (arrays.loc[:,'channel_mark'] >= 5) & (arrays.loc[:,'channel_mark'] <= 8)\n",
    "    else:\n",
    "        channel_cut = arrays.loc[:,'channel_mark'] == channel\n",
    "    \n",
    "    if isData:\n",
    "        arrays = arrays.loc[channel_cut,:]\n",
    "    else:\n",
    "        lep_gen_cut_WZG = (branches.loc[:,'WZG_lepton1_genPartFlav'] > 0) & (branches.loc[:,'WZG_lepton2_genPartFlav'] > 0) & (branches.loc[:,'WZG_lepton3_genPartFlav'] > 0)\n",
    "        lep_gen_cut_ttZ = (branches.loc[:,'ttZ_lepton1_genPartFlav'] > 0) & (branches.loc[:,'ttZ_lepton2_genPartFlav'] > 0) & (branches.loc[:,'ttZ_lepton3_genPartFlav'] > 0)\n",
    "        lep_gen_cut_ZZ = (branches.loc[:,'ZZ_lepton1_genPartFlav'] > 0) & (branches.loc[:,'ZZ_lepton2_genPartFlav'] > 0) & (branches.loc[:,'ZZ_lepton3_genPartFlav'] > 0)\n",
    "        gen_cut_map = {\n",
    "                        0:lep_gen_cut_WZG, \n",
    "                        1:lep_gen_cut_WZG,\n",
    "                        2:lep_gen_cut_WZG,\n",
    "                        3:lep_gen_cut_WZG,\n",
    "                        4:lep_gen_cut_WZG,\n",
    "                        10:lep_gen_cut_ttZ,\n",
    "                        11:lep_gen_cut_ttZ,\n",
    "                        12:lep_gen_cut_ttZ,\n",
    "                        13:lep_gen_cut_ttZ,\n",
    "                        14:lep_gen_cut_ttZ,\n",
    "                        5:lep_gen_cut_ZZ,\n",
    "                        6:lep_gen_cut_ZZ,\n",
    "                        7:lep_gen_cut_ZZ,\n",
    "                        8:lep_gen_cut_ZZ,\n",
    "                        9:lep_gen_cut_ZZ,\n",
    "        }\n",
    "        lep_gen_cut = gen_cut_map[channel]\n",
    "        arrays = arrays.loc[channel_cut & lep_gen_cut,:]\n",
    "    \n",
    "    if isData:\n",
    "        for branch_name in branch:\n",
    "            for i in trange(0, len(arrays[branch[branch_name][\"name\"]]), desc=f'fill {branch[branch_name][\"name\"]} for {file}'):\n",
    "                hist[branch_name].Fill(float(arrays[branch[branch_name][\"name\"]].values[i]), float(arrays['fake_lepton_weight'].values[i]))\n",
    "            print (f\"SumOfWeights for {branch_name}: \", hist[branch_name].GetSumOfWeights())\n",
    "    else:\n",
    "        arrays['Generator_weight_sgn'] = arrays['Generator_weight'].apply(lambda x: 1 if x >= 0 else -1)\n",
    "        arrays['true_weight'] = lumi * xsec * 1000 * arrays['Generator_weight_sgn'] / true_events\n",
    "        for branch_name in branch:\n",
    "            for i in trange(0, len(arrays[branch[branch_name][\"name\"]]), desc=f'fill {branch[branch_name][\"name\"]} for {file}'):\n",
    "                hist[branch_name].Fill(float(arrays[branch[branch_name][\"name\"]].values[i]), -1 * float(arrays['fake_lepton_weight'].values[i]) * float(arrays['true_weight'].values[i]))\n",
    "            print (f\"SumOfWeights for {branch_name}: \", hist[branch_name].GetSumOfWeights())\n",
    "    \n",
    "    end_time = time.time()\n",
    "    print ('Time cost: %.2f\\n' %(end_time-init_time))\n",
    "        "
   ]
  },
  {
   "cell_type": "markdown",
   "id": "164c528b-6be4-4d16-978d-210295955821",
   "metadata": {
    "jp-MarkdownHeadingCollapsed": true,
    "tags": []
   },
   "source": [
    "#### Add Data "
   ]
  },
  {
   "cell_type": "code",
   "execution_count": 39,
   "id": "bc88fd01-b514-435f-8221-7c1feefc0270",
   "metadata": {},
   "outputs": [],
   "source": [
    "filelist_data_FakeLep = [\n",
    "    \"/eos/user/s/sdeng/WZG_analysis/fake_lepton_template/AR/2018/final/SingleMuon_Run2018A_0000_Skim.root\",\n",
    "    \"/eos/user/s/sdeng/WZG_analysis/fake_lepton_template/AR/2018/final/SingleMuon_Run2018B_0000_Skim.root\",\n",
    "    \"/eos/user/s/sdeng/WZG_analysis/fake_lepton_template/AR/2018/final/SingleMuon_Run2018C_0000_Skim.root\",\n",
    "    \"/eos/user/s/sdeng/WZG_analysis/fake_lepton_template/AR/2018/final/SingleMuon_Run2018D_0000_Skim.root\",\n",
    "    \"/eos/user/s/sdeng/WZG_analysis/fake_lepton_template/AR/2018/final/SingleMuon_Run2018D_0001_Skim.root\",\n",
    "    \"/eos/user/s/sdeng/WZG_analysis/fake_lepton_template/AR/2018/final/DoubleMuon_Run2018A_0000_Skim.root\",\n",
    "    \"/eos/user/s/sdeng/WZG_analysis/fake_lepton_template/AR/2018/final/DoubleMuon_Run2018B_0000_Skim.root\",\n",
    "    \"/eos/user/s/sdeng/WZG_analysis/fake_lepton_template/AR/2018/final/DoubleMuon_Run2018C_0000_Skim.root\",\n",
    "    \"/eos/user/s/sdeng/WZG_analysis/fake_lepton_template/AR/2018/final/DoubleMuon_Run2018D_0000_Skim.root\",\n",
    "    \"/eos/user/s/sdeng/WZG_analysis/fake_lepton_template/AR/2018/final/DoubleMuon_Run2018D_0001_Skim.root\",\n",
    "    \"/eos/user/s/sdeng/WZG_analysis/fake_lepton_template/AR/2018/final/EGamma_Run2018A_0000_Skim.root\",\n",
    "    \"/eos/user/s/sdeng/WZG_analysis/fake_lepton_template/AR/2018/final/EGamma_Run2018B_0000_Skim.root\",\n",
    "    \"/eos/user/s/sdeng/WZG_analysis/fake_lepton_template/AR/2018/final/EGamma_Run2018C_0000_Skim.root\",\n",
    "    \"/eos/user/s/sdeng/WZG_analysis/fake_lepton_template/AR/2018/final/EGamma_Run2018D_0000_Skim.root\",\n",
    "    \"/eos/user/s/sdeng/WZG_analysis/fake_lepton_template/AR/2018/final/EGamma_Run2018D_0001_Skim.root\",\n",
    "    \"/eos/user/s/sdeng/WZG_analysis/fake_lepton_template/AR/2018/final/MuonEG_Run2018A_0000_Skim.root\",\n",
    "    \"/eos/user/s/sdeng/WZG_analysis/fake_lepton_template/AR/2018/final/MuonEG_Run2018B_0000_Skim.root\",\n",
    "    \"/eos/user/s/sdeng/WZG_analysis/fake_lepton_template/AR/2018/final/MuonEG_Run2018C_0000_Skim.root\",\n",
    "    \"/eos/user/s/sdeng/WZG_analysis/fake_lepton_template/AR/2018/final/MuonEG_Run2018D_0000_Skim.root\",\n",
    "]\n",
    "\n",
    "hist_FakeLep = {}\n",
    "\n",
    "for branch_name in branch:\n",
    "    hist_FakeLep_temp = ROOT.TH1F(\"\", \"\", branch[branch_name][\"xbins\"], branch[branch_name][\"xleft\"], branch[branch_name][\"xright\"])\n",
    "    hist_FakeLep_temp.SetXTitle(f'{branch[branch_name][\"axis_name\"]}')\n",
    "    hist_FakeLep_temp.SetYTitle(f'events / bin')\n",
    "    hist_FakeLep_temp.SetFillColor(23) \n",
    "    hist_FakeLep_temp.SetMarkerStyle(20)\n",
    "    hist_FakeLep_temp.SetMarkerColor(23)\n",
    "    hist_FakeLep_temp.SetStats(0)\n",
    "    hist_FakeLep_temp.Sumw2()\n",
    "    hist_FakeLep[branch_name] = hist_FakeLep_temp\n",
    "    "
   ]
  },
  {
   "cell_type": "code",
   "execution_count": 40,
   "id": "3ba69e21-9bdd-4999-b8c9-ae305dde258b",
   "metadata": {},
   "outputs": [
    {
     "name": "stdout",
     "output_type": "stream",
     "text": [
      "is Data\n"
     ]
    },
    {
     "name": "stderr",
     "output_type": "stream",
     "text": [
      "fill ZZ_mllz1 for /eos/user/s/sdeng/WZG_analysis/fake_lepton_template/AR/2018/final/SingleMuon_Run2018A_0000_Skim.root: 100%|██████████| 563/563 [00:00<00:00, 108186.79it/s]\n",
      "fill MET for /eos/user/s/sdeng/WZG_analysis/fake_lepton_template/AR/2018/final/SingleMuon_Run2018A_0000_Skim.root: 100%|██████████| 563/563 [00:00<00:00, 111729.03it/s]\n",
      "fill nJets for /eos/user/s/sdeng/WZG_analysis/fake_lepton_template/AR/2018/final/SingleMuon_Run2018A_0000_Skim.root: 100%|██████████| 563/563 [00:00<00:00, 92328.48it/s]\n",
      "fill nbJets for /eos/user/s/sdeng/WZG_analysis/fake_lepton_template/AR/2018/final/SingleMuon_Run2018A_0000_Skim.root: 100%|██████████| 563/563 [00:00<00:00, 108915.32it/s]\n"
     ]
    },
    {
     "name": "stdout",
     "output_type": "stream",
     "text": [
      "SumOfWeights for ZZ_mllz1:  23.276665806770325\n",
      "SumOfWeights for MET:  104.13523292541504\n",
      "SumOfWeights for nJets:  130.00534915924072\n",
      "SumOfWeights for nbJets:  127.34128260612488\n",
      "Time cost: 2.57\n",
      "\n",
      "is Data\n"
     ]
    },
    {
     "name": "stderr",
     "output_type": "stream",
     "text": [
      "fill ZZ_mllz1 for /eos/user/s/sdeng/WZG_analysis/fake_lepton_template/AR/2018/final/SingleMuon_Run2018B_0000_Skim.root: 100%|██████████| 262/262 [00:00<00:00, 101572.02it/s]\n",
      "fill MET for /eos/user/s/sdeng/WZG_analysis/fake_lepton_template/AR/2018/final/SingleMuon_Run2018B_0000_Skim.root: 100%|██████████| 262/262 [00:00<00:00, 105249.27it/s]\n",
      "fill nJets for /eos/user/s/sdeng/WZG_analysis/fake_lepton_template/AR/2018/final/SingleMuon_Run2018B_0000_Skim.root: 100%|██████████| 262/262 [00:00<00:00, 107116.45it/s]\n",
      "fill nbJets for /eos/user/s/sdeng/WZG_analysis/fake_lepton_template/AR/2018/final/SingleMuon_Run2018B_0000_Skim.root: 100%|██████████| 262/262 [00:00<00:00, 106061.93it/s]\n"
     ]
    },
    {
     "name": "stdout",
     "output_type": "stream",
     "text": [
      "SumOfWeights for ZZ_mllz1:  38.93348342180252\n",
      "SumOfWeights for MET:  160.34741401672363\n",
      "SumOfWeights for nJets:  208.90447807312012\n",
      "SumOfWeights for nbJets:  207.67103099822998\n",
      "Time cost: 2.06\n",
      "\n",
      "is Data\n"
     ]
    },
    {
     "name": "stderr",
     "output_type": "stream",
     "text": [
      "fill ZZ_mllz1 for /eos/user/s/sdeng/WZG_analysis/fake_lepton_template/AR/2018/final/SingleMuon_Run2018C_0000_Skim.root: 100%|██████████| 279/279 [00:00<00:00, 85373.23it/s]\n",
      "fill MET for /eos/user/s/sdeng/WZG_analysis/fake_lepton_template/AR/2018/final/SingleMuon_Run2018C_0000_Skim.root: 100%|██████████| 279/279 [00:00<00:00, 91472.74it/s]\n",
      "fill nJets for /eos/user/s/sdeng/WZG_analysis/fake_lepton_template/AR/2018/final/SingleMuon_Run2018C_0000_Skim.root: 100%|██████████| 279/279 [00:00<00:00, 90657.79it/s]\n",
      "fill nbJets for /eos/user/s/sdeng/WZG_analysis/fake_lepton_template/AR/2018/final/SingleMuon_Run2018C_0000_Skim.root: 100%|██████████| 279/279 [00:00<00:00, 106518.37it/s]\n"
     ]
    },
    {
     "name": "stdout",
     "output_type": "stream",
     "text": [
      "SumOfWeights for ZZ_mllz1:  43.92805427312851\n",
      "SumOfWeights for MET:  224.00262832641602\n",
      "SumOfWeights for nJets:  291.72293519973755\n",
      "SumOfWeights for nbJets:  293.3624350428581\n",
      "Time cost: 2.16\n",
      "\n",
      "is Data\n"
     ]
    },
    {
     "name": "stderr",
     "output_type": "stream",
     "text": [
      "fill ZZ_mllz1 for /eos/user/s/sdeng/WZG_analysis/fake_lepton_template/AR/2018/final/SingleMuon_Run2018D_0000_Skim.root: 100%|██████████| 690/690 [00:00<00:00, 109982.13it/s]\n",
      "fill MET for /eos/user/s/sdeng/WZG_analysis/fake_lepton_template/AR/2018/final/SingleMuon_Run2018D_0000_Skim.root: 100%|██████████| 690/690 [00:00<00:00, 82384.06it/s]\n",
      "fill nJets for /eos/user/s/sdeng/WZG_analysis/fake_lepton_template/AR/2018/final/SingleMuon_Run2018D_0000_Skim.root: 100%|██████████| 690/690 [00:00<00:00, 13527.17it/s]\n",
      "fill nbJets for /eos/user/s/sdeng/WZG_analysis/fake_lepton_template/AR/2018/final/SingleMuon_Run2018D_0000_Skim.root: 100%|██████████| 690/690 [00:00<00:00, 57645.05it/s]\n"
     ]
    },
    {
     "name": "stdout",
     "output_type": "stream",
     "text": [
      "SumOfWeights for ZZ_mllz1:  75.12549024820328\n",
      "SumOfWeights for MET:  391.3109531402588\n",
      "SumOfWeights for nJets:  489.89856910705566\n",
      "SumOfWeights for nbJets:  494.57697081565857\n",
      "Time cost: 3.25\n",
      "\n",
      "is Data\n"
     ]
    },
    {
     "name": "stderr",
     "output_type": "stream",
     "text": [
      "fill ZZ_mllz1 for /eos/user/s/sdeng/WZG_analysis/fake_lepton_template/AR/2018/final/SingleMuon_Run2018D_0001_Skim.root: 100%|██████████| 428/428 [00:00<00:00, 105666.14it/s]\n",
      "fill MET for /eos/user/s/sdeng/WZG_analysis/fake_lepton_template/AR/2018/final/SingleMuon_Run2018D_0001_Skim.root: 100%|██████████| 428/428 [00:00<00:00, 103760.60it/s]\n",
      "fill nJets for /eos/user/s/sdeng/WZG_analysis/fake_lepton_template/AR/2018/final/SingleMuon_Run2018D_0001_Skim.root: 100%|██████████| 428/428 [00:00<00:00, 100936.86it/s]\n",
      "fill nbJets for /eos/user/s/sdeng/WZG_analysis/fake_lepton_template/AR/2018/final/SingleMuon_Run2018D_0001_Skim.root: 100%|██████████| 428/428 [00:00<00:00, 104182.12it/s]\n"
     ]
    },
    {
     "name": "stdout",
     "output_type": "stream",
     "text": [
      "SumOfWeights for ZZ_mllz1:  102.3429165482521\n",
      "SumOfWeights for MET:  513.8462982177734\n",
      "SumOfWeights for nJets:  639.2631664276123\n",
      "SumOfWeights for nbJets:  646.6173236370087\n",
      "Time cost: 2.58\n",
      "\n",
      "is Data\n"
     ]
    },
    {
     "name": "stderr",
     "output_type": "stream",
     "text": [
      "fill ZZ_mllz1 for /eos/user/s/sdeng/WZG_analysis/fake_lepton_template/AR/2018/final/DoubleMuon_Run2018A_0000_Skim.root: 100%|██████████| 33/33 [00:00<00:00, 56196.52it/s]\n",
      "fill MET for /eos/user/s/sdeng/WZG_analysis/fake_lepton_template/AR/2018/final/DoubleMuon_Run2018A_0000_Skim.root: 100%|██████████| 33/33 [00:00<00:00, 75842.21it/s]\n",
      "fill nJets for /eos/user/s/sdeng/WZG_analysis/fake_lepton_template/AR/2018/final/DoubleMuon_Run2018A_0000_Skim.root: 100%|██████████| 33/33 [00:00<00:00, 74736.52it/s]\n",
      "fill nbJets for /eos/user/s/sdeng/WZG_analysis/fake_lepton_template/AR/2018/final/DoubleMuon_Run2018A_0000_Skim.root: 100%|██████████| 33/33 [00:00<00:00, 75676.34it/s]\n"
     ]
    },
    {
     "name": "stdout",
     "output_type": "stream",
     "text": [
      "SumOfWeights for ZZ_mllz1:  101.64275866746902\n",
      "SumOfWeights for MET:  520.0347480773926\n",
      "SumOfWeights for nJets:  645.2683162689209\n",
      "SumOfWeights for nbJets:  652.6226871013641\n",
      "Time cost: 2.95\n",
      "\n",
      "is Data\n"
     ]
    },
    {
     "name": "stderr",
     "output_type": "stream",
     "text": [
      "fill ZZ_mllz1 for /eos/user/s/sdeng/WZG_analysis/fake_lepton_template/AR/2018/final/DoubleMuon_Run2018B_0000_Skim.root: 100%|██████████| 11/11 [00:00<00:00, 27945.09it/s]\n",
      "fill MET for /eos/user/s/sdeng/WZG_analysis/fake_lepton_template/AR/2018/final/DoubleMuon_Run2018B_0000_Skim.root: 100%|██████████| 11/11 [00:00<00:00, 42211.66it/s]\n",
      "fill nJets for /eos/user/s/sdeng/WZG_analysis/fake_lepton_template/AR/2018/final/DoubleMuon_Run2018B_0000_Skim.root: 100%|██████████| 11/11 [00:00<00:00, 38934.47it/s]\n",
      "fill nbJets for /eos/user/s/sdeng/WZG_analysis/fake_lepton_template/AR/2018/final/DoubleMuon_Run2018B_0000_Skim.root: 100%|██████████| 11/11 [00:00<00:00, 44320.22it/s]\n"
     ]
    },
    {
     "name": "stdout",
     "output_type": "stream",
     "text": [
      "SumOfWeights for ZZ_mllz1:  101.36348468065262\n",
      "SumOfWeights for MET:  519.7431945800781\n",
      "SumOfWeights for nJets:  642.8153629302979\n",
      "SumOfWeights for nbJets:  650.1698443889618\n",
      "Time cost: 2.29\n",
      "\n",
      "is Data\n"
     ]
    },
    {
     "name": "stderr",
     "output_type": "stream",
     "text": [
      "fill ZZ_mllz1 for /eos/user/s/sdeng/WZG_analysis/fake_lepton_template/AR/2018/final/DoubleMuon_Run2018C_0000_Skim.root: 100%|██████████| 9/9 [00:00<00:00, 25266.89it/s]\n",
      "fill MET for /eos/user/s/sdeng/WZG_analysis/fake_lepton_template/AR/2018/final/DoubleMuon_Run2018C_0000_Skim.root: 100%|██████████| 9/9 [00:00<00:00, 27654.75it/s]\n",
      "fill nJets for /eos/user/s/sdeng/WZG_analysis/fake_lepton_template/AR/2018/final/DoubleMuon_Run2018C_0000_Skim.root: 100%|██████████| 9/9 [00:00<00:00, 37338.02it/s]\n",
      "fill nbJets for /eos/user/s/sdeng/WZG_analysis/fake_lepton_template/AR/2018/final/DoubleMuon_Run2018C_0000_Skim.root: 100%|██████████| 9/9 [00:00<00:00, 41803.69it/s]\n"
     ]
    },
    {
     "name": "stdout",
     "output_type": "stream",
     "text": [
      "SumOfWeights for ZZ_mllz1:  101.35891991853714\n",
      "SumOfWeights for MET:  518.563892364502\n",
      "SumOfWeights for nJets:  642.020206451416\n",
      "SumOfWeights for nbJets:  649.3746783733368\n",
      "Time cost: 2.41\n",
      "\n",
      "is Data\n"
     ]
    },
    {
     "name": "stderr",
     "output_type": "stream",
     "text": [
      "fill ZZ_mllz1 for /eos/user/s/sdeng/WZG_analysis/fake_lepton_template/AR/2018/final/DoubleMuon_Run2018D_0000_Skim.root: 100%|██████████| 32/32 [00:00<00:00, 54760.39it/s]\n",
      "fill MET for /eos/user/s/sdeng/WZG_analysis/fake_lepton_template/AR/2018/final/DoubleMuon_Run2018D_0000_Skim.root: 100%|██████████| 32/32 [00:00<00:00, 84894.20it/s]\n",
      "fill nJets for /eos/user/s/sdeng/WZG_analysis/fake_lepton_template/AR/2018/final/DoubleMuon_Run2018D_0000_Skim.root: 100%|██████████| 32/32 [00:00<00:00, 75192.00it/s]\n",
      "fill nbJets for /eos/user/s/sdeng/WZG_analysis/fake_lepton_template/AR/2018/final/DoubleMuon_Run2018D_0000_Skim.root: 100%|██████████| 32/32 [00:00<00:00, 78444.03it/s]\n"
     ]
    },
    {
     "name": "stdout",
     "output_type": "stream",
     "text": [
      "SumOfWeights for ZZ_mllz1:  100.66996175050735\n",
      "SumOfWeights for MET:  524.4991989135742\n",
      "SumOfWeights for nJets:  645.5120620727539\n",
      "SumOfWeights for nbJets:  653.1840291023254\n",
      "Time cost: 2.24\n",
      "\n",
      "is Data\n"
     ]
    },
    {
     "name": "stderr",
     "output_type": "stream",
     "text": [
      "fill ZZ_mllz1 for /eos/user/s/sdeng/WZG_analysis/fake_lepton_template/AR/2018/final/DoubleMuon_Run2018D_0001_Skim.root: 100%|██████████| 8/8 [00:00<00:00, 23140.99it/s]\n",
      "fill MET for /eos/user/s/sdeng/WZG_analysis/fake_lepton_template/AR/2018/final/DoubleMuon_Run2018D_0001_Skim.root: 100%|██████████| 8/8 [00:00<00:00, 37701.61it/s]\n",
      "fill nJets for /eos/user/s/sdeng/WZG_analysis/fake_lepton_template/AR/2018/final/DoubleMuon_Run2018D_0001_Skim.root: 100%|██████████| 8/8 [00:00<00:00, 34663.67it/s]\n",
      "fill nbJets for /eos/user/s/sdeng/WZG_analysis/fake_lepton_template/AR/2018/final/DoubleMuon_Run2018D_0001_Skim.root: 100%|██████████| 8/8 [00:00<00:00, 34592.20it/s]\n"
     ]
    },
    {
     "name": "stdout",
     "output_type": "stream",
     "text": [
      "SumOfWeights for ZZ_mllz1:  100.66996175050735\n",
      "SumOfWeights for MET:  523.7303581237793\n",
      "SumOfWeights for nJets:  645.0353736877441\n",
      "SumOfWeights for nbJets:  652.7072834968567\n",
      "Time cost: 2.17\n",
      "\n",
      "is Data\n"
     ]
    },
    {
     "name": "stderr",
     "output_type": "stream",
     "text": [
      "fill ZZ_mllz1 for /eos/user/s/sdeng/WZG_analysis/fake_lepton_template/AR/2018/final/EGamma_Run2018A_0000_Skim.root: 100%|██████████| 199/199 [00:00<00:00, 68617.77it/s]\n",
      "fill MET for /eos/user/s/sdeng/WZG_analysis/fake_lepton_template/AR/2018/final/EGamma_Run2018A_0000_Skim.root: 100%|██████████| 199/199 [00:00<00:00, 102187.38it/s]\n",
      "fill nJets for /eos/user/s/sdeng/WZG_analysis/fake_lepton_template/AR/2018/final/EGamma_Run2018A_0000_Skim.root: 100%|██████████| 199/199 [00:00<00:00, 90097.85it/s]\n",
      "fill nbJets for /eos/user/s/sdeng/WZG_analysis/fake_lepton_template/AR/2018/final/EGamma_Run2018A_0000_Skim.root: 100%|██████████| 199/199 [00:00<00:00, 100890.43it/s]\n"
     ]
    },
    {
     "name": "stdout",
     "output_type": "stream",
     "text": [
      "SumOfWeights for ZZ_mllz1:  106.98445159196854\n",
      "SumOfWeights for MET:  572.6857528686523\n",
      "SumOfWeights for nJets:  705.2363300323486\n",
      "SumOfWeights for nbJets:  714.9230351448059\n",
      "Time cost: 2.34\n",
      "\n",
      "is Data\n"
     ]
    },
    {
     "name": "stderr",
     "output_type": "stream",
     "text": [
      "fill ZZ_mllz1 for /eos/user/s/sdeng/WZG_analysis/fake_lepton_template/AR/2018/final/EGamma_Run2018B_0000_Skim.root: 100%|██████████| 100/100 [00:00<00:00, 75641.19it/s]\n",
      "fill MET for /eos/user/s/sdeng/WZG_analysis/fake_lepton_template/AR/2018/final/EGamma_Run2018B_0000_Skim.root: 100%|██████████| 100/100 [00:00<00:00, 86748.79it/s]\n",
      "fill nJets for /eos/user/s/sdeng/WZG_analysis/fake_lepton_template/AR/2018/final/EGamma_Run2018B_0000_Skim.root: 100%|██████████| 100/100 [00:00<00:00, 97383.42it/s]\n",
      "fill nbJets for /eos/user/s/sdeng/WZG_analysis/fake_lepton_template/AR/2018/final/EGamma_Run2018B_0000_Skim.root: 100%|██████████| 100/100 [00:00<00:00, 94445.03it/s]\n"
     ]
    },
    {
     "name": "stdout",
     "output_type": "stream",
     "text": [
      "SumOfWeights for ZZ_mllz1:  109.01036864519119\n",
      "SumOfWeights for MET:  598.1960525512695\n",
      "SumOfWeights for nJets:  739.3683338165283\n",
      "SumOfWeights for nbJets:  747.9687085151672\n",
      "Time cost: 2.29\n",
      "\n",
      "is Data\n"
     ]
    },
    {
     "name": "stderr",
     "output_type": "stream",
     "text": [
      "fill ZZ_mllz1 for /eos/user/s/sdeng/WZG_analysis/fake_lepton_template/AR/2018/final/EGamma_Run2018C_0000_Skim.root: 100%|██████████| 109/109 [00:00<00:00, 85903.63it/s]\n",
      "fill MET for /eos/user/s/sdeng/WZG_analysis/fake_lepton_template/AR/2018/final/EGamma_Run2018C_0000_Skim.root: 100%|██████████| 109/109 [00:00<00:00, 86554.17it/s]\n",
      "fill nJets for /eos/user/s/sdeng/WZG_analysis/fake_lepton_template/AR/2018/final/EGamma_Run2018C_0000_Skim.root: 100%|██████████| 109/109 [00:00<00:00, 69628.26it/s]\n",
      "fill nbJets for /eos/user/s/sdeng/WZG_analysis/fake_lepton_template/AR/2018/final/EGamma_Run2018C_0000_Skim.root: 100%|██████████| 109/109 [00:00<00:00, 85262.80it/s]\n"
     ]
    },
    {
     "name": "stdout",
     "output_type": "stream",
     "text": [
      "SumOfWeights for ZZ_mllz1:  110.37111312150955\n",
      "SumOfWeights for MET:  624.8629989624023\n",
      "SumOfWeights for nJets:  771.4397106170654\n",
      "SumOfWeights for nbJets:  780.4087071418762\n",
      "Time cost: 2.65\n",
      "\n",
      "is Data\n"
     ]
    },
    {
     "name": "stderr",
     "output_type": "stream",
     "text": [
      "fill ZZ_mllz1 for /eos/user/s/sdeng/WZG_analysis/fake_lepton_template/AR/2018/final/EGamma_Run2018D_0000_Skim.root: 100%|██████████| 312/312 [00:00<00:00, 104891.22it/s]\n",
      "fill MET for /eos/user/s/sdeng/WZG_analysis/fake_lepton_template/AR/2018/final/EGamma_Run2018D_0000_Skim.root: 100%|██████████| 312/312 [00:00<00:00, 83351.77it/s]\n",
      "fill nJets for /eos/user/s/sdeng/WZG_analysis/fake_lepton_template/AR/2018/final/EGamma_Run2018D_0000_Skim.root: 100%|██████████| 312/312 [00:00<00:00, 91136.07it/s]\n",
      "fill nbJets for /eos/user/s/sdeng/WZG_analysis/fake_lepton_template/AR/2018/final/EGamma_Run2018D_0000_Skim.root: 100%|██████████| 312/312 [00:00<00:00, 65228.93it/s]\n"
     ]
    },
    {
     "name": "stdout",
     "output_type": "stream",
     "text": [
      "SumOfWeights for ZZ_mllz1:  118.64055180549622\n",
      "SumOfWeights for MET:  698.6295852661133\n",
      "SumOfWeights for nJets:  858.8574619293213\n",
      "SumOfWeights for nbJets:  869.2902064323425\n",
      "Time cost: 2.62\n",
      "\n",
      "is Data\n"
     ]
    },
    {
     "name": "stderr",
     "output_type": "stream",
     "text": [
      "fill ZZ_mllz1 for /eos/user/s/sdeng/WZG_analysis/fake_lepton_template/AR/2018/final/EGamma_Run2018D_0001_Skim.root: 100%|██████████| 152/152 [00:00<00:00, 94828.83it/s]\n",
      "fill MET for /eos/user/s/sdeng/WZG_analysis/fake_lepton_template/AR/2018/final/EGamma_Run2018D_0001_Skim.root: 100%|██████████| 152/152 [00:00<00:00, 101631.47it/s]\n",
      "fill nJets for /eos/user/s/sdeng/WZG_analysis/fake_lepton_template/AR/2018/final/EGamma_Run2018D_0001_Skim.root: 100%|██████████| 152/152 [00:00<00:00, 100288.53it/s]\n",
      "fill nbJets for /eos/user/s/sdeng/WZG_analysis/fake_lepton_template/AR/2018/final/EGamma_Run2018D_0001_Skim.root: 100%|██████████| 152/152 [00:00<00:00, 96043.12it/s]\n"
     ]
    },
    {
     "name": "stdout",
     "output_type": "stream",
     "text": [
      "SumOfWeights for ZZ_mllz1:  124.3901731967926\n",
      "SumOfWeights for MET:  737.1731986999512\n",
      "SumOfWeights for nJets:  903.4921016693115\n",
      "SumOfWeights for nbJets:  914.64359998703\n",
      "Time cost: 2.29\n",
      "\n",
      "is Data\n"
     ]
    },
    {
     "name": "stderr",
     "output_type": "stream",
     "text": [
      "fill ZZ_mllz1 for /eos/user/s/sdeng/WZG_analysis/fake_lepton_template/AR/2018/final/MuonEG_Run2018A_0000_Skim.root: 100%|██████████| 9/9 [00:00<00:00, 26753.18it/s]\n",
      "fill MET for /eos/user/s/sdeng/WZG_analysis/fake_lepton_template/AR/2018/final/MuonEG_Run2018A_0000_Skim.root: 100%|██████████| 9/9 [00:00<00:00, 39903.53it/s]\n",
      "fill nJets for /eos/user/s/sdeng/WZG_analysis/fake_lepton_template/AR/2018/final/MuonEG_Run2018A_0000_Skim.root: 100%|██████████| 9/9 [00:00<00:00, 43439.28it/s]\n",
      "fill nbJets for /eos/user/s/sdeng/WZG_analysis/fake_lepton_template/AR/2018/final/MuonEG_Run2018A_0000_Skim.root: 100%|██████████| 9/9 [00:00<00:00, 38796.23it/s]\n"
     ]
    },
    {
     "name": "stdout",
     "output_type": "stream",
     "text": [
      "SumOfWeights for ZZ_mllz1:  124.3901731967926\n",
      "SumOfWeights for MET:  739.943920135498\n",
      "SumOfWeights for nJets:  906.1478633880615\n",
      "SumOfWeights for nbJets:  917.2992243766785\n",
      "Time cost: 2.43\n",
      "\n",
      "is Data\n"
     ]
    },
    {
     "name": "stderr",
     "output_type": "stream",
     "text": [
      "fill ZZ_mllz1 for /eos/user/s/sdeng/WZG_analysis/fake_lepton_template/AR/2018/final/MuonEG_Run2018B_0000_Skim.root: 100%|██████████| 3/3 [00:00<00:00, 10494.51it/s]\n",
      "fill MET for /eos/user/s/sdeng/WZG_analysis/fake_lepton_template/AR/2018/final/MuonEG_Run2018B_0000_Skim.root: 100%|██████████| 3/3 [00:00<00:00, 20695.58it/s]\n",
      "fill nJets for /eos/user/s/sdeng/WZG_analysis/fake_lepton_template/AR/2018/final/MuonEG_Run2018B_0000_Skim.root: 100%|██████████| 3/3 [00:00<00:00, 18696.75it/s]\n",
      "fill nbJets for /eos/user/s/sdeng/WZG_analysis/fake_lepton_template/AR/2018/final/MuonEG_Run2018B_0000_Skim.root: 100%|██████████| 3/3 [00:00<00:00, 17142.93it/s]\n"
     ]
    },
    {
     "name": "stdout",
     "output_type": "stream",
     "text": [
      "SumOfWeights for ZZ_mllz1:  124.3901731967926\n",
      "SumOfWeights for MET:  741.3179168701172\n",
      "SumOfWeights for nJets:  907.5218563079834\n",
      "SumOfWeights for nbJets:  918.6731867790222\n",
      "Time cost: 2.51\n",
      "\n",
      "is Data\n"
     ]
    },
    {
     "name": "stderr",
     "output_type": "stream",
     "text": [
      "fill ZZ_mllz1 for /eos/user/s/sdeng/WZG_analysis/fake_lepton_template/AR/2018/final/MuonEG_Run2018C_0000_Skim.root: 100%|██████████| 3/3 [00:00<00:00, 12041.06it/s]\n",
      "fill MET for /eos/user/s/sdeng/WZG_analysis/fake_lepton_template/AR/2018/final/MuonEG_Run2018C_0000_Skim.root: 100%|██████████| 3/3 [00:00<00:00, 22712.84it/s]\n",
      "fill nJets for /eos/user/s/sdeng/WZG_analysis/fake_lepton_template/AR/2018/final/MuonEG_Run2018C_0000_Skim.root: 100%|██████████| 3/3 [00:00<00:00, 20164.92it/s]\n",
      "fill nbJets for /eos/user/s/sdeng/WZG_analysis/fake_lepton_template/AR/2018/final/MuonEG_Run2018C_0000_Skim.root: 100%|██████████| 3/3 [00:00<00:00, 22631.14it/s]\n"
     ]
    },
    {
     "name": "stdout",
     "output_type": "stream",
     "text": [
      "SumOfWeights for ZZ_mllz1:  124.3901731967926\n",
      "SumOfWeights for MET:  742.7498626708984\n",
      "SumOfWeights for nJets:  908.9538021087646\n",
      "SumOfWeights for nbJets:  920.1050715446472\n",
      "Time cost: 2.39\n",
      "\n",
      "is Data\n"
     ]
    },
    {
     "name": "stderr",
     "output_type": "stream",
     "text": [
      "fill ZZ_mllz1 for /eos/user/s/sdeng/WZG_analysis/fake_lepton_template/AR/2018/final/MuonEG_Run2018D_0000_Skim.root: 100%|██████████| 14/14 [00:00<00:00, 34848.82it/s]\n",
      "fill MET for /eos/user/s/sdeng/WZG_analysis/fake_lepton_template/AR/2018/final/MuonEG_Run2018D_0000_Skim.root: 100%|██████████| 14/14 [00:00<00:00, 51418.79it/s]\n",
      "fill nJets for /eos/user/s/sdeng/WZG_analysis/fake_lepton_template/AR/2018/final/MuonEG_Run2018D_0000_Skim.root: 100%|██████████| 14/14 [00:00<00:00, 55033.04it/s]\n",
      "fill nbJets for /eos/user/s/sdeng/WZG_analysis/fake_lepton_template/AR/2018/final/MuonEG_Run2018D_0000_Skim.root: 100%|██████████| 14/14 [00:00<00:00, 54320.31it/s]"
     ]
    },
    {
     "name": "stdout",
     "output_type": "stream",
     "text": [
      "SumOfWeights for ZZ_mllz1:  127.0731418132782\n",
      "SumOfWeights for MET:  745.1282119750977\n",
      "SumOfWeights for nJets:  911.6217021942139\n",
      "SumOfWeights for nbJets:  922.7728800773621\n",
      "Time cost: 2.34\n",
      "\n"
     ]
    },
    {
     "name": "stderr",
     "output_type": "stream",
     "text": [
      "\n"
     ]
    }
   ],
   "source": [
    "for file in filelist_data_FakeLep:\n",
    "    AddHist_FakeLepton(file, hist_FakeLep, 1, 0, 0, channel, branch)"
   ]
  },
  {
   "cell_type": "markdown",
   "id": "c7ea3446-aa9c-44e1-9a19-be5f0dabc5dd",
   "metadata": {
    "jp-MarkdownHeadingCollapsed": true,
    "tags": []
   },
   "source": [
    "#### Reduce MC "
   ]
  },
  {
   "cell_type": "code",
   "execution_count": 41,
   "id": "92ca6801-67d5-42eb-ae21-360273654795",
   "metadata": {},
   "outputs": [],
   "source": [
    "filelist_MC_FakeLep = {\n",
    "   \"TTG\":\n",
    "        {\"name\":\"TTGJets\", \n",
    "        \"path\":\"/eos/user/s/sdeng/WZG_analysis/fake_lepton_template/AR/2018/final/TTGJets_TuneCP5_13TeV-amcatnloFXFX-madspin-pythia8_2018_0000_Skim.root\", \n",
    "        \"xsec\":4.078,\n",
    "        \"color\":3},\n",
    "   \"TTZ\":\n",
    "        {\"name\":\"TTZToLLNuNu\", \n",
    "        \"path\":\"/eos/user/s/sdeng/WZG_analysis/fake_lepton_template/AR/2018/final/TTZToLLNuNu_M-10_TuneCP5_13TeV-amcatnlo-pythia8_2018_0000_Skim.root\", \n",
    "        \"xsec\":0.2432,\n",
    "        \"color\":4},\n",
    "   \"TTW\":\n",
    "        {\"name\":\"TTWJetsToLNu\", \n",
    "        \"path\":\"/eos/user/s/sdeng/WZG_analysis/fake_lepton_template/AR/2018/final/TTWJetsToLNu_TuneCP5_13TeV-amcatnloFXFX-madspin-pythia8_2018_0000_Skim.root\", \n",
    "        \"xsec\":0.2149,\n",
    "        \"color\":5},\n",
    "   \"tZq\":\n",
    "        {\"name\":\"tZq_ll\", \n",
    "        \"path\":\"/eos/user/s/sdeng/WZG_analysis/fake_lepton_template/AR/2018/final/tZq_ll_4f_ckm_NLO_TuneCP5_13TeV-amcatnlo-pythia8_2018_0000_Skim.root\", \n",
    "        \"xsec\":0.07358,\n",
    "        \"color\":6},\n",
    "   \"WWW\":\n",
    "        {\"name\":\"WWW\", \n",
    "        \"path\":\"/eos/user/s/sdeng/WZG_analysis/fake_lepton_template/AR/2018/final/WWW_4F_TuneCP5_13TeV-amcatnlo-pythia8_2018_0000_Skim.root\", \n",
    "        \"xsec\":0.2086,\n",
    "        \"color\":7},\n",
    "   \"WZ\":\n",
    "        {\"name\":\"WZ\", \n",
    "        \"path\":\"/eos/user/s/sdeng/WZG_analysis/fake_lepton_template/AR/2018/final/WZ_TuneCP5_13TeV-pythia8_2018_0000_Skim.root\", \n",
    "        \"xsec\":27.6,\n",
    "        \"color\":8},\n",
    "   \"ZGToLLG\":\n",
    "        {\"name\":\"ZGToLLG\",\n",
    "        \"path\":\"/eos/user/s/sdeng/WZG_analysis/fake_lepton_template/AR/2018/final/ZGToLLG_01J_5f_TuneCP5_13TeV-amcatnloFXFX-pythia8_2018_0000_Skim.root\", \n",
    "        \"xsec\":55.48,\n",
    "        \"color\":9},\n",
    "    \"ZZ\":\n",
    "        {\"name\":\"ZZ\",\n",
    "        \"path\":\"/eos/user/s/sdeng/WZG_analysis/fake_lepton_template/AR/2018/final/ZZ_TuneCP5_13TeV-pythia8_2018_0000_Skim.root\", \n",
    "        \"xsec\":12.14,\n",
    "        \"color\":12},\n",
    "    \"WZG\":\n",
    "        {\"name\":\"signal\",\n",
    "        \"path\":\"/eos/user/s/sdeng/WZG_analysis/fake_lepton_template/AR/2018/final/wza_UL18_sum_Skim_Skim.root\", \n",
    "        \"xsec\":0.0384,\n",
    "        \"color\":21}\n",
    "}\n",
    "\n"
   ]
  },
  {
   "cell_type": "code",
   "execution_count": 42,
   "id": "b860499f-bba6-4c2a-9e80-62662d584645",
   "metadata": {},
   "outputs": [
    {
     "name": "stdout",
     "output_type": "stream",
     "text": [
      "is MC\n"
     ]
    },
    {
     "name": "stderr",
     "output_type": "stream",
     "text": [
      "fill ZZ_mllz1 for /eos/user/s/sdeng/WZG_analysis/fake_lepton_template/AR/2018/final/TTGJets_TuneCP5_13TeV-amcatnloFXFX-madspin-pythia8_2018_0000_Skim.root: 100%|██████████| 316/316 [00:00<00:00, 62442.29it/s]\n",
      "fill MET for /eos/user/s/sdeng/WZG_analysis/fake_lepton_template/AR/2018/final/TTGJets_TuneCP5_13TeV-amcatnloFXFX-madspin-pythia8_2018_0000_Skim.root: 100%|██████████| 316/316 [00:00<00:00, 71258.07it/s]\n",
      "fill nJets for /eos/user/s/sdeng/WZG_analysis/fake_lepton_template/AR/2018/final/TTGJets_TuneCP5_13TeV-amcatnloFXFX-madspin-pythia8_2018_0000_Skim.root: 100%|██████████| 316/316 [00:00<00:00, 74742.01it/s]\n",
      "fill nbJets for /eos/user/s/sdeng/WZG_analysis/fake_lepton_template/AR/2018/final/TTGJets_TuneCP5_13TeV-amcatnloFXFX-madspin-pythia8_2018_0000_Skim.root: 100%|██████████| 316/316 [00:00<00:00, 61729.78it/s]\n"
     ]
    },
    {
     "name": "stdout",
     "output_type": "stream",
     "text": [
      "SumOfWeights for ZZ_mllz1:  124.6459972858429\n",
      "SumOfWeights for MET:  742.7073402404785\n",
      "SumOfWeights for nJets:  908.3057746887207\n",
      "SumOfWeights for nbJets:  919.232753276825\n",
      "Time cost: 6.14\n",
      "\n",
      "is MC\n"
     ]
    },
    {
     "name": "stderr",
     "output_type": "stream",
     "text": [
      "fill ZZ_mllz1 for /eos/user/s/sdeng/WZG_analysis/fake_lepton_template/AR/2018/final/TTZToLLNuNu_M-10_TuneCP5_13TeV-amcatnlo-pythia8_2018_0000_Skim.root: 100%|██████████| 81416/81416 [00:01<00:00, 72517.05it/s]\n",
      "fill MET for /eos/user/s/sdeng/WZG_analysis/fake_lepton_template/AR/2018/final/TTZToLLNuNu_M-10_TuneCP5_13TeV-amcatnlo-pythia8_2018_0000_Skim.root:   8%|▊         | 6825/81416 [00:00<00:01, 68237.05it/s]"
     ]
    },
    {
     "name": "stdout",
     "output_type": "stream",
     "text": [
      "SumOfWeights for ZZ_mllz1:  93.8404010264203\n"
     ]
    },
    {
     "name": "stderr",
     "output_type": "stream",
     "text": [
      "fill MET for /eos/user/s/sdeng/WZG_analysis/fake_lepton_template/AR/2018/final/TTZToLLNuNu_M-10_TuneCP5_13TeV-amcatnlo-pythia8_2018_0000_Skim.root: 100%|██████████| 81416/81416 [00:01<00:00, 67768.03it/s]\n",
      "fill nJets for /eos/user/s/sdeng/WZG_analysis/fake_lepton_template/AR/2018/final/TTZToLLNuNu_M-10_TuneCP5_13TeV-amcatnlo-pythia8_2018_0000_Skim.root:   9%|▉         | 7734/81416 [00:00<00:00, 77332.88it/s]"
     ]
    },
    {
     "name": "stdout",
     "output_type": "stream",
     "text": [
      "SumOfWeights for MET:  721.970401763916\n"
     ]
    },
    {
     "name": "stderr",
     "output_type": "stream",
     "text": [
      "fill nJets for /eos/user/s/sdeng/WZG_analysis/fake_lepton_template/AR/2018/final/TTZToLLNuNu_M-10_TuneCP5_13TeV-amcatnlo-pythia8_2018_0000_Skim.root: 100%|██████████| 81416/81416 [00:01<00:00, 74280.49it/s]\n",
      "fill nbJets for /eos/user/s/sdeng/WZG_analysis/fake_lepton_template/AR/2018/final/TTZToLLNuNu_M-10_TuneCP5_13TeV-amcatnlo-pythia8_2018_0000_Skim.root:   9%|▉         | 7243/81416 [00:00<00:01, 72373.47it/s]"
     ]
    },
    {
     "name": "stdout",
     "output_type": "stream",
     "text": [
      "SumOfWeights for nJets:  879.6664218902588\n"
     ]
    },
    {
     "name": "stderr",
     "output_type": "stream",
     "text": [
      "fill nbJets for /eos/user/s/sdeng/WZG_analysis/fake_lepton_template/AR/2018/final/TTZToLLNuNu_M-10_TuneCP5_13TeV-amcatnlo-pythia8_2018_0000_Skim.root: 100%|██████████| 81416/81416 [00:01<00:00, 69184.33it/s]\n"
     ]
    },
    {
     "name": "stdout",
     "output_type": "stream",
     "text": [
      "SumOfWeights for nbJets:  888.4279156569391\n",
      "Time cost: 9.85\n",
      "\n",
      "is MC\n"
     ]
    },
    {
     "name": "stderr",
     "output_type": "stream",
     "text": [
      "fill ZZ_mllz1 for /eos/user/s/sdeng/WZG_analysis/fake_lepton_template/AR/2018/final/TTWJetsToLNu_TuneCP5_13TeV-amcatnloFXFX-madspin-pythia8_2018_0000_Skim.root: 100%|██████████| 3132/3132 [00:00<00:00, 69844.86it/s]\n",
      "fill MET for /eos/user/s/sdeng/WZG_analysis/fake_lepton_template/AR/2018/final/TTWJetsToLNu_TuneCP5_13TeV-amcatnloFXFX-madspin-pythia8_2018_0000_Skim.root: 100%|██████████| 3132/3132 [00:00<00:00, 40238.31it/s]\n",
      "fill nJets for /eos/user/s/sdeng/WZG_analysis/fake_lepton_template/AR/2018/final/TTWJetsToLNu_TuneCP5_13TeV-amcatnloFXFX-madspin-pythia8_2018_0000_Skim.root: 100%|██████████| 3132/3132 [00:00<00:00, 64905.56it/s]\n",
      "fill nbJets for /eos/user/s/sdeng/WZG_analysis/fake_lepton_template/AR/2018/final/TTWJetsToLNu_TuneCP5_13TeV-amcatnloFXFX-madspin-pythia8_2018_0000_Skim.root: 100%|██████████| 3132/3132 [00:00<00:00, 72094.92it/s]\n"
     ]
    },
    {
     "name": "stdout",
     "output_type": "stream",
     "text": [
      "SumOfWeights for ZZ_mllz1:  91.2276691198349\n",
      "SumOfWeights for MET:  720.3795471191406\n",
      "SumOfWeights for nJets:  876.7521095275879\n",
      "SumOfWeights for nbJets:  885.4378975667059\n",
      "Time cost: 8.26\n",
      "\n",
      "is MC\n"
     ]
    },
    {
     "name": "stderr",
     "output_type": "stream",
     "text": [
      "fill ZZ_mllz1 for /eos/user/s/sdeng/WZG_analysis/fake_lepton_template/AR/2018/final/tZq_ll_4f_ckm_NLO_TuneCP5_13TeV-amcatnlo-pythia8_2018_0000_Skim.root: 100%|██████████| 58513/58513 [00:00<00:00, 67837.04it/s]\n",
      "fill MET for /eos/user/s/sdeng/WZG_analysis/fake_lepton_template/AR/2018/final/tZq_ll_4f_ckm_NLO_TuneCP5_13TeV-amcatnlo-pythia8_2018_0000_Skim.root:  10%|▉         | 5798/58513 [00:00<00:00, 57970.38it/s]"
     ]
    },
    {
     "name": "stdout",
     "output_type": "stream",
     "text": [
      "SumOfWeights for ZZ_mllz1:  80.8261228017509\n"
     ]
    },
    {
     "name": "stderr",
     "output_type": "stream",
     "text": [
      "fill MET for /eos/user/s/sdeng/WZG_analysis/fake_lepton_template/AR/2018/final/tZq_ll_4f_ckm_NLO_TuneCP5_13TeV-amcatnlo-pythia8_2018_0000_Skim.root: 100%|██████████| 58513/58513 [00:01<00:00, 50720.50it/s]\n",
      "fill nJets for /eos/user/s/sdeng/WZG_analysis/fake_lepton_template/AR/2018/final/tZq_ll_4f_ckm_NLO_TuneCP5_13TeV-amcatnlo-pythia8_2018_0000_Skim.root:  13%|█▎        | 7605/58513 [00:00<00:00, 76041.91it/s]"
     ]
    },
    {
     "name": "stdout",
     "output_type": "stream",
     "text": [
      "SumOfWeights for MET:  712.3358764648438\n"
     ]
    },
    {
     "name": "stderr",
     "output_type": "stream",
     "text": [
      "fill nJets for /eos/user/s/sdeng/WZG_analysis/fake_lepton_template/AR/2018/final/tZq_ll_4f_ckm_NLO_TuneCP5_13TeV-amcatnlo-pythia8_2018_0000_Skim.root: 100%|██████████| 58513/58513 [00:01<00:00, 55523.64it/s]\n",
      "fill nbJets for /eos/user/s/sdeng/WZG_analysis/fake_lepton_template/AR/2018/final/tZq_ll_4f_ckm_NLO_TuneCP5_13TeV-amcatnlo-pythia8_2018_0000_Skim.root:  13%|█▎        | 7557/58513 [00:00<00:00, 75554.94it/s]"
     ]
    },
    {
     "name": "stdout",
     "output_type": "stream",
     "text": [
      "SumOfWeights for nJets:  866.4595527648926\n"
     ]
    },
    {
     "name": "stderr",
     "output_type": "stream",
     "text": [
      "fill nbJets for /eos/user/s/sdeng/WZG_analysis/fake_lepton_template/AR/2018/final/tZq_ll_4f_ckm_NLO_TuneCP5_13TeV-amcatnlo-pythia8_2018_0000_Skim.root: 100%|██████████| 58513/58513 [00:00<00:00, 68906.96it/s]\n"
     ]
    },
    {
     "name": "stdout",
     "output_type": "stream",
     "text": [
      "SumOfWeights for nbJets:  875.0249798186123\n",
      "Time cost: 52.37\n",
      "\n",
      "is MC\n"
     ]
    },
    {
     "name": "stderr",
     "output_type": "stream",
     "text": [
      "fill ZZ_mllz1 for /eos/user/s/sdeng/WZG_analysis/fake_lepton_template/AR/2018/final/WWW_4F_TuneCP5_13TeV-amcatnlo-pythia8_2018_0000_Skim.root: 100%|██████████| 1/1 [00:00<00:00, 3211.57it/s]\n",
      "fill MET for /eos/user/s/sdeng/WZG_analysis/fake_lepton_template/AR/2018/final/WWW_4F_TuneCP5_13TeV-amcatnlo-pythia8_2018_0000_Skim.root: 100%|██████████| 1/1 [00:00<00:00, 4934.48it/s]\n",
      "fill nJets for /eos/user/s/sdeng/WZG_analysis/fake_lepton_template/AR/2018/final/WWW_4F_TuneCP5_13TeV-amcatnlo-pythia8_2018_0000_Skim.root: 100%|██████████| 1/1 [00:00<00:00, 7073.03it/s]\n",
      "fill nbJets for /eos/user/s/sdeng/WZG_analysis/fake_lepton_template/AR/2018/final/WWW_4F_TuneCP5_13TeV-amcatnlo-pythia8_2018_0000_Skim.root: 100%|██████████| 1/1 [00:00<00:00, 7371.36it/s]\n"
     ]
    },
    {
     "name": "stdout",
     "output_type": "stream",
     "text": [
      "SumOfWeights for ZZ_mllz1:  80.8261228017509\n",
      "SumOfWeights for MET:  712.354850769043\n",
      "SumOfWeights for nJets:  866.4785232543945\n",
      "SumOfWeights for nbJets:  875.0439617522061\n",
      "Time cost: 4.66\n",
      "\n",
      "is MC\n"
     ]
    },
    {
     "name": "stderr",
     "output_type": "stream",
     "text": [
      "fill ZZ_mllz1 for /eos/user/s/sdeng/WZG_analysis/fake_lepton_template/AR/2018/final/WZ_TuneCP5_13TeV-pythia8_2018_0000_Skim.root: 100%|██████████| 41/41 [00:00<00:00, 44993.84it/s]\n",
      "fill MET for /eos/user/s/sdeng/WZG_analysis/fake_lepton_template/AR/2018/final/WZ_TuneCP5_13TeV-pythia8_2018_0000_Skim.root: 100%|██████████| 41/41 [00:00<00:00, 60212.35it/s]\n",
      "fill nJets for /eos/user/s/sdeng/WZG_analysis/fake_lepton_template/AR/2018/final/WZ_TuneCP5_13TeV-pythia8_2018_0000_Skim.root: 100%|██████████| 41/41 [00:00<00:00, 60360.29it/s]\n",
      "fill nbJets for /eos/user/s/sdeng/WZG_analysis/fake_lepton_template/AR/2018/final/WZ_TuneCP5_13TeV-pythia8_2018_0000_Skim.root: 100%|██████████| 41/41 [00:00<00:00, 58751.78it/s]\n"
     ]
    },
    {
     "name": "stdout",
     "output_type": "stream",
     "text": [
      "SumOfWeights for ZZ_mllz1:  78.08085219189525\n",
      "SumOfWeights for MET:  709.5310096740723\n",
      "SumOfWeights for nJets:  863.170955657959\n",
      "SumOfWeights for nbJets:  871.6899578459561\n",
      "Time cost: 4.86\n",
      "\n",
      "is MC\n"
     ]
    },
    {
     "name": "stderr",
     "output_type": "stream",
     "text": [
      "fill ZZ_mllz1 for /eos/user/s/sdeng/WZG_analysis/fake_lepton_template/AR/2018/final/ZGToLLG_01J_5f_TuneCP5_13TeV-amcatnloFXFX-pythia8_2018_0000_Skim.root: 100%|██████████| 48/48 [00:00<00:00, 52197.72it/s]\n",
      "fill MET for /eos/user/s/sdeng/WZG_analysis/fake_lepton_template/AR/2018/final/ZGToLLG_01J_5f_TuneCP5_13TeV-amcatnloFXFX-pythia8_2018_0000_Skim.root: 100%|██████████| 48/48 [00:00<00:00, 65302.17it/s]\n",
      "fill nJets for /eos/user/s/sdeng/WZG_analysis/fake_lepton_template/AR/2018/final/ZGToLLG_01J_5f_TuneCP5_13TeV-amcatnloFXFX-pythia8_2018_0000_Skim.root: 100%|██████████| 48/48 [00:00<00:00, 66334.96it/s]\n",
      "fill nbJets for /eos/user/s/sdeng/WZG_analysis/fake_lepton_template/AR/2018/final/ZGToLLG_01J_5f_TuneCP5_13TeV-amcatnloFXFX-pythia8_2018_0000_Skim.root: 100%|██████████| 48/48 [00:00<00:00, 65387.01it/s]\n"
     ]
    },
    {
     "name": "stdout",
     "output_type": "stream",
     "text": [
      "SumOfWeights for ZZ_mllz1:  76.39801628515124\n",
      "SumOfWeights for MET:  707.9039497375488\n",
      "SumOfWeights for nJets:  861.4949359893799\n",
      "SumOfWeights for nbJets:  870.0142795927823\n",
      "Time cost: 5.29\n",
      "\n",
      "is MC\n"
     ]
    },
    {
     "name": "stderr",
     "output_type": "stream",
     "text": [
      "fill ZZ_mllz1 for /eos/user/s/sdeng/WZG_analysis/fake_lepton_template/AR/2018/final/ZZ_TuneCP5_13TeV-pythia8_2018_0000_Skim.root: 100%|██████████| 19/19 [00:00<00:00, 31239.43it/s]\n",
      "fill MET for /eos/user/s/sdeng/WZG_analysis/fake_lepton_template/AR/2018/final/ZZ_TuneCP5_13TeV-pythia8_2018_0000_Skim.root: 100%|██████████| 19/19 [00:00<00:00, 49994.84it/s]\n",
      "fill nJets for /eos/user/s/sdeng/WZG_analysis/fake_lepton_template/AR/2018/final/ZZ_TuneCP5_13TeV-pythia8_2018_0000_Skim.root: 100%|██████████| 19/19 [00:00<00:00, 51613.84it/s]\n",
      "fill nbJets for /eos/user/s/sdeng/WZG_analysis/fake_lepton_template/AR/2018/final/ZZ_TuneCP5_13TeV-pythia8_2018_0000_Skim.root: 100%|██████████| 19/19 [00:00<00:00, 49041.09it/s]\n"
     ]
    },
    {
     "name": "stdout",
     "output_type": "stream",
     "text": [
      "SumOfWeights for ZZ_mllz1:  72.8388093225658\n",
      "SumOfWeights for MET:  704.3447456359863\n",
      "SumOfWeights for nJets:  857.9357318878174\n",
      "SumOfWeights for nbJets:  866.455022085458\n",
      "Time cost: 5.26\n",
      "\n",
      "is MC\n"
     ]
    },
    {
     "name": "stderr",
     "output_type": "stream",
     "text": [
      "fill ZZ_mllz1 for /eos/user/s/sdeng/WZG_analysis/fake_lepton_template/AR/2018/final/wza_UL18_sum_Skim_Skim.root: 100%|██████████| 14/14 [00:00<00:00, 26898.88it/s]\n",
      "fill MET for /eos/user/s/sdeng/WZG_analysis/fake_lepton_template/AR/2018/final/wza_UL18_sum_Skim_Skim.root: 100%|██████████| 14/14 [00:00<00:00, 43788.41it/s]\n",
      "fill nJets for /eos/user/s/sdeng/WZG_analysis/fake_lepton_template/AR/2018/final/wza_UL18_sum_Skim_Skim.root: 100%|██████████| 14/14 [00:00<00:00, 39918.60it/s]\n",
      "fill nbJets for /eos/user/s/sdeng/WZG_analysis/fake_lepton_template/AR/2018/final/wza_UL18_sum_Skim_Skim.root: 100%|██████████| 14/14 [00:00<00:00, 42520.10it/s]"
     ]
    },
    {
     "name": "stdout",
     "output_type": "stream",
     "text": [
      "SumOfWeights for ZZ_mllz1:  72.7539949528873\n",
      "SumOfWeights for MET:  704.2673568725586\n",
      "SumOfWeights for nJets:  857.8509159088135\n",
      "SumOfWeights for nbJets:  866.3701832182705\n",
      "Time cost: 5.05\n",
      "\n"
     ]
    },
    {
     "name": "stderr",
     "output_type": "stream",
     "text": [
      "\n"
     ]
    }
   ],
   "source": [
    "for file in filelist_MC_FakeLep:\n",
    "    AddHist_FakeLepton(filelist_MC_FakeLep[file][\"path\"], hist_FakeLep, 0, filelist_MC_FakeLep[file][\"xsec\"], lumi, channel, branch)\n"
   ]
  },
  {
   "cell_type": "markdown",
   "id": "3ac9f860-37a7-4764-bd86-777f6010f203",
   "metadata": {
    "jp-MarkdownHeadingCollapsed": true,
    "tags": []
   },
   "source": [
    "## Add FakePhoton"
   ]
  },
  {
   "cell_type": "code",
   "execution_count": 43,
   "id": "d58953e0-5dd0-4bca-9f7c-b37e17d2219d",
   "metadata": {},
   "outputs": [
    {
     "data": {
      "text/plain": [
       "{'ZZ_mllz1': <cppyy.gbl.TH1F object at 0x55a9ac668080>,\n",
       " 'MET': <cppyy.gbl.TH1F object at 0x55a9ac51aec0>,\n",
       " 'nJets': <cppyy.gbl.TH1F object at 0x55a9ac6199d0>,\n",
       " 'nbJets': <cppyy.gbl.TH1F object at 0x55a9ac590030>}"
      ]
     },
     "execution_count": 43,
     "metadata": {},
     "output_type": "execute_result"
    }
   ],
   "source": [
    "filelist_MC[\"WZG\"][\"hist\"]"
   ]
  },
  {
   "cell_type": "markdown",
   "id": "b9b2a178-95b7-460e-89fb-e16b1fc7fa85",
   "metadata": {
    "tags": []
   },
   "source": [
    "## Plot"
   ]
  },
  {
   "cell_type": "code",
   "execution_count": 47,
   "id": "23b95b5f-077c-4beb-8eec-bc5a2fda931d",
   "metadata": {},
   "outputs": [
    {
     "name": "stdout",
     "output_type": "stream",
     "text": [
      "59.7 fb^{-1} (13 TeV)\n"
     ]
    },
    {
     "name": "stderr",
     "output_type": "stream",
     "text": [
      "Warning in <TH1F::Sumw2>: Sum of squares of weights structure already created\n",
      "Warning in <TH1D::Sumw2>: Sum of squares of weights structure already created\n"
     ]
    },
    {
     "data": {
      "image/png": "[encoded data removed]",
      "text/plain": [
       "<IPython.core.display.Image object>"
      ]
     },
     "metadata": {},
     "output_type": "display_data"
    }
   ],
   "source": [
    "plot_branch = \"ZZ_mllz1\"\n",
    "\n",
    "c1 = ROOT.TCanvas(\"\",\"\",1000,1000)\n",
    "\n",
    "MC_err = ROOT.TH1D(\"\",\"\",branch[plot_branch][\"xbins\"],branch[plot_branch][\"xleft\"],branch[plot_branch][\"xright\"])\n",
    "MC_err.Sumw2()\n",
    "MC_err.SetFillColor(ROOT.kGray+2)\n",
    "MC_err.SetFillStyle(3345)\n",
    "MC_err.SetMarkerSize(0.)\n",
    "MC_err.SetMarkerColor(ROOT.kGray+2)\n",
    "MC_err.SetLineWidth(2)\n",
    "MC_err.SetLineColor(0)\n",
    "MC_err.SetStats(0)\n",
    "\n",
    "stack_mc = ROOT.THStack(\"\",\"\")\n",
    "MC_err.Add(hist_FakeLep[plot_branch])\n",
    "stack_mc.Add(hist_FakeLep[plot_branch])\n",
    "for file in filelist_MC:\n",
    "    stack_mc.Add(filelist_MC[file][\"hist\"][plot_branch])\n",
    "    MC_err.Add(filelist_MC[file][\"hist\"][plot_branch])\n",
    "    \n",
    "\n",
    "legend = ROOT.TLegend(0.15, 0.65, 0.85, 0.85)\n",
    "legend.SetNColumns(4)\n",
    "legend.SetBorderSize(0)\n",
    "legend.SetFillColor(0)\n",
    "legend.SetTextSize(0.02)\n",
    "legend.SetLineWidth(1)\n",
    "legend.SetLineStyle(0)\n",
    "for file in filelist_MC:\n",
    "    legend.AddEntry(filelist_MC[file][\"hist\"][plot_branch], f'{filelist_MC[file][\"name\"]}: {format(filelist_MC[file][\"hist\"][plot_branch].GetSumOfWeights(), \".2f\")}','F')\n",
    "legend.AddEntry(hist_FakeLep[plot_branch],f'Nonprompt Lepton: {format(hist_FakeLep[plot_branch].GetSumOfWeights(), \".2f\")}', 'F')\n",
    "legend.AddEntry(MC_err, 'Stat Unc.', 'F')\n",
    "legend.AddEntry(hist_data[plot_branch], f'data: {format(hist_data[plot_branch].GetSumOfWeights(), \".2f\")}')\n",
    "\n",
    "\n",
    "\n",
    "c1.Draw()\n",
    "pad1 = ROOT.TPad(\"pad1\", \"pad1\", 0, 0.3, 1, 1.0)\n",
    "pad1.SetBottomMargin(0.015)  # joins upper and lower plot\n",
    "# pad1.SetGridx()\n",
    "pad1.Draw()\n",
    "# Lower ratio plot is pad2\n",
    "c1.cd()  # returns to main canvas before defining pad2\n",
    "pad2 = ROOT.TPad(\"pad2\", \"pad2\", 0, 0.05, 1, 0.3)\n",
    "pad2.SetTopMargin(0)  # joins upper and lower plot\n",
    "pad2.SetBottomMargin(0.3)\n",
    "pad2.SetGridy()\n",
    "pad2.Draw()\n",
    "\n",
    "# draw everything\n",
    "pad1.cd()\n",
    "hist_data[plot_branch].Draw(\"ep\")\n",
    "# hist_data.SetMinimum(10)\n",
    "hist_data[plot_branch].SetMaximum(2*hist_data[plot_branch].GetMaximum())\n",
    "hist_data[plot_branch].GetXaxis().SetLabelSize(0)\n",
    "stack_mc.Draw(\"HIST SAME\")\n",
    "MC_err.Draw(\"e2 SAME\")\n",
    "hist_data[plot_branch].Draw(\"ep SAME\")\n",
    "legend.Draw(\"SAME\")\n",
    "# ROOT.gPad.SetLogy()\n",
    "ROOT.gPad.RedrawAxis()\n",
    "\n",
    "\n",
    "# h1.GetXaxis().SetLabelSize(0)\n",
    "pad2.cd()\n",
    "h3 = createRatio(hist_data[plot_branch], MC_err)\n",
    "h4 = createRatio(MC_err, MC_err)\n",
    "h3.Draw(\"ep\")\n",
    "# h3.GetXaxis().SetRangeUser(10,60)\n",
    "h4.Draw(\"e2 SAME\")\n",
    "ROOT.gPad.RedrawAxis()\n",
    "\n",
    "CMS_lumi(pad1, 0, 0)\n",
    "# c1.SaveAs('Fake_Lepton/MT_LooseMuon_dist_MR_2018.pdf')"
   ]
  },
  {
   "cell_type": "code",
   "execution_count": 51,
   "id": "7628d03b-7803-4076-b22d-4b5a24bdece1",
   "metadata": {
    "tags": []
   },
   "outputs": [
    {
     "name": "stdout",
     "output_type": "stream",
     "text": [
      "3.23\n"
     ]
    },
    {
     "data": {
      "text/html": [
       "<div>\n",
       "<style scoped>\n",
       "    .dataframe tbody tr th:only-of-type {\n",
       "        vertical-align: middle;\n",
       "    }\n",
       "\n",
       "    .dataframe tbody tr th {\n",
       "        vertical-align: top;\n",
       "    }\n",
       "\n",
       "    .dataframe thead th {\n",
       "        text-align: right;\n",
       "    }\n",
       "</style>\n",
       "<table border=\"1\" class=\"dataframe\">\n",
       "  <thead>\n",
       "    <tr style=\"text-align: right;\">\n",
       "      <th></th>\n",
       "      <th>ZZ_mllz1</th>\n",
       "      <th>channel_mark</th>\n",
       "    </tr>\n",
       "  </thead>\n",
       "  <tbody>\n",
       "    <tr>\n",
       "      <th>0</th>\n",
       "      <td>99.354935</td>\n",
       "      <td>5</td>\n",
       "    </tr>\n",
       "    <tr>\n",
       "      <th>1</th>\n",
       "      <td>83.890007</td>\n",
       "      <td>6</td>\n",
       "    </tr>\n",
       "    <tr>\n",
       "      <th>2</th>\n",
       "      <td>0.000000</td>\n",
       "      <td>14</td>\n",
       "    </tr>\n",
       "    <tr>\n",
       "      <th>3</th>\n",
       "      <td>93.294044</td>\n",
       "      <td>8</td>\n",
       "    </tr>\n",
       "    <tr>\n",
       "      <th>4</th>\n",
       "      <td>0.000000</td>\n",
       "      <td>12</td>\n",
       "    </tr>\n",
       "    <tr>\n",
       "      <th>...</th>\n",
       "      <td>...</td>\n",
       "      <td>...</td>\n",
       "    </tr>\n",
       "    <tr>\n",
       "      <th>429</th>\n",
       "      <td>95.684570</td>\n",
       "      <td>8</td>\n",
       "    </tr>\n",
       "    <tr>\n",
       "      <th>430</th>\n",
       "      <td>90.373802</td>\n",
       "      <td>8</td>\n",
       "    </tr>\n",
       "    <tr>\n",
       "      <th>431</th>\n",
       "      <td>0.000000</td>\n",
       "      <td>14</td>\n",
       "    </tr>\n",
       "    <tr>\n",
       "      <th>432</th>\n",
       "      <td>0.000000</td>\n",
       "      <td>1</td>\n",
       "    </tr>\n",
       "    <tr>\n",
       "      <th>433</th>\n",
       "      <td>0.000000</td>\n",
       "      <td>11</td>\n",
       "    </tr>\n",
       "  </tbody>\n",
       "</table>\n",
       "<p>434 rows × 2 columns</p>\n",
       "</div>"
      ],
      "text/plain": [
       "      ZZ_mllz1  channel_mark\n",
       "0    99.354935             5\n",
       "1    83.890007             6\n",
       "2     0.000000            14\n",
       "3    93.294044             8\n",
       "4     0.000000            12\n",
       "..         ...           ...\n",
       "429  95.684570             8\n",
       "430  90.373802             8\n",
       "431   0.000000            14\n",
       "432   0.000000             1\n",
       "433   0.000000            11\n",
       "\n",
       "[434 rows x 2 columns]"
      ]
     },
     "execution_count": 51,
     "metadata": {},
     "output_type": "execute_result"
    }
   ],
   "source": [
    "# # file = '/eos/user/s/sdeng/WZG_analysis/final_skim/2018/SingleMuon_Run2018A.root'\n",
    "file = '/eos/user/s/sdeng/WZG_analysis/final_skim/2018/SingleMuon_Run2018A_0000.root'\n",
    "# file = '/afs/cern.ch/work/s/sdeng/sftp/WZG/CMSSW_10_6_19/src/PhysicsTools/NanoAODTools/nanoAOD-WVG/FakeLepton/wza_UL18_sum_Skim.root'\n",
    "\n",
    "# gen_branches = uproot.open(file+':Events').keys(filter_name='*_lepton*genPartFlav')\n",
    "# print (gen_branches)\n",
    "    \n",
    "init_branches = ['channel_mark','HLT_Ele23_Ele12_CaloIdL_TrackIdL_IsoVL','HLT_Mu23_TrkIsoVVL_Ele12_CaloIdL_TrackIdL_IsoVL','HLT_Mu8_TrkIsoVVL_Ele23_CaloIdL_TrackIdL_IsoVL_DZ','HLT_Mu17_TrkIsoVVL_Mu8_TrkIsoVVL_DZ_Mass3p8','HLT_Ele32_WPTight_Gsf','HLT_IsoMu24']\n",
    "init_branches = ['ZZ_mllz1','channel_mark']\n",
    "    \n",
    "# branch = 'LooseNotTightMuon_pt'\n",
    "\n",
    "# init_branches.append(branch)\n",
    "# init_branches.extend(gen_branches)\n",
    "# print (init_branches)\n",
    "        \n",
    "init_time = time.time()\n",
    "branches = uproot.open(file+':Events').arrays(init_branches, library='pd')\n",
    "end_time = time.time()\n",
    "print ('%.2f' %(end_time-init_time))\n",
    "branches\n",
    "    "
   ]
  }
 ],
 "metadata": {
  "kernelspec": {
   "display_name": "Python 3",
   "language": "python",
   "name": "python3"
  },
  "language_info": {
   "codemirror_mode": {
    "name": "ipython",
    "version": 3
   },
   "file_extension": ".py",
   "mimetype": "text/x-python",
   "name": "python",
   "nbconvert_exporter": "python",
   "pygments_lexer": "ipython3",
   "version": "3.7.10"
  }
 },
 "nbformat": 4,
 "nbformat_minor": 5
}
