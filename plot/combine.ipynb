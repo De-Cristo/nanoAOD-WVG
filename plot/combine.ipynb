{
 "cells": [
  {
   "cell_type": "code",
   "execution_count": 1,
   "id": "3fdf7f47-0a09-476e-9504-1f4b425e53eb",
   "metadata": {},
   "outputs": [
    {
     "name": "stdout",
     "output_type": "stream",
     "text": [
      "Welcome to JupyROOT 6.22/06\n"
     ]
    }
   ],
   "source": [
    "import matplotlib\n",
    "import uproot, uproot3\n",
    "import numpy\n",
    "import awkward\n",
    "import numba\n",
    "import numpy as np\n",
    "import matplotlib.pyplot as plt\n",
    "import mplhep as hep\n",
    "import pandas as pd\n",
    "from tqdm import trange\n",
    "import ROOT\n",
    "import os,sys\n",
    "from array import array\n",
    "import time"
   ]
  },
  {
   "cell_type": "markdown",
   "id": "4b50b93f-3574-4103-a1e8-567300b1d557",
   "metadata": {
    "jp-MarkdownHeadingCollapsed": true,
    "tags": []
   },
   "source": [
    "## Lumi"
   ]
  },
  {
   "cell_type": "code",
   "execution_count": 2,
   "id": "b613e6ed-8051-484a-a833-7ac6cb8ded15",
   "metadata": {},
   "outputs": [],
   "source": [
    "# CMS_lumi\n",
    "#   Initiated by: Gautier Hamel de Monchenault (Saclay)\n",
    "#   Translated in Python by: Joshua Hardenbrook (Princeton)\n",
    "#   Updated by:   Dinko Ferencek (Rutgers)\n",
    "#\n",
    "\n",
    "cmsText     = \"CMS\";\n",
    "cmsTextFont   = 62  \n",
    "\n",
    "writeExtraText = True\n",
    "extraText   = \"Preliminary\"\n",
    "extraTextFont = 52 \n",
    "\n",
    "lumiTextSize     = 0.4\n",
    "lumiTextOffset   = 0.2\n",
    "\n",
    "cmsTextSize      = 0.35\n",
    "cmsTextOffset    = 0.1\n",
    "\n",
    "relPosX    = 0.045\n",
    "relPosY    = 0.035\n",
    "relExtraDY = 1.2\n",
    "\n",
    "extraOverCmsTextSize  = 0.76\n",
    "\n",
    "lumi_13TeV = \"20.1 fb^{-1}\"\n",
    "lumi_8TeV  = \"19.7 fb^{-1}\" \n",
    "lumi_7TeV  = \"5.1 fb^{-1}\"\n",
    "lumi_sqrtS = \"59.7 fb^{-1} (13 TeV)\"\n",
    "\n",
    "drawLogo      = False\n",
    "\n",
    "def CMS_lumi(pad,  iPeriod,  iPosX ):\n",
    "    outOfFrame    = False\n",
    "    if(iPosX/10==0 ): outOfFrame = True\n",
    "\n",
    "    alignY_=3\n",
    "    alignX_=2\n",
    "    if( iPosX/10==0 ): alignX_=1\n",
    "    if( iPosX==0    ): alignY_=1\n",
    "    if( iPosX/10==1 ): alignX_=1\n",
    "    if( iPosX/10==2 ): alignX_=2\n",
    "    if( iPosX/10==3 ): alignX_=3\n",
    "    align_ = 10*alignX_ + alignY_\n",
    "\n",
    "    H = pad.GetWh()\n",
    "    W = pad.GetWw()\n",
    "    l = pad.GetLeftMargin()\n",
    "    t = pad.GetTopMargin()\n",
    "    r = pad.GetRightMargin()\n",
    "    b = pad.GetBottomMargin()\n",
    "    e = 0.025\n",
    "\n",
    "    pad.cd()\n",
    "\n",
    "    lumiText = \"\"\n",
    "    if( iPeriod==1 ):\n",
    "        lumiText += lumi_7TeV\n",
    "        lumiText += \" (7 TeV)\"\n",
    "    elif ( iPeriod==2 ):\n",
    "        lumiText += lumi_8TeV\n",
    "        lumiText += \" (8 TeV)\"\n",
    "\n",
    "    elif( iPeriod==3 ):      \n",
    "        lumiText = lumi_8TeV \n",
    "        lumiText += \" (8 TeV)\"\n",
    "        lumiText += \" + \"\n",
    "        lumiText += lumi_7TeV\n",
    "        lumiText += \" (7 TeV)\"\n",
    "    elif ( iPeriod==4 ):\n",
    "        lumiText += lumi_13TeV\n",
    "        lumiText += \" (13 TeV)\"\n",
    "    elif ( iPeriod==7 ):\n",
    "        if( outOfFrame ):lumiText += \"#scale[0.85]{\"\n",
    "        lumiText += lumi_13TeV \n",
    "        lumiText += \" (13 TeV)\"\n",
    "        lumiText += \" + \"\n",
    "        lumiText += lumi_8TeV \n",
    "        lumiText += \" (8 TeV)\"\n",
    "        lumiText += \" + \"\n",
    "        lumiText += lumi_7TeV\n",
    "        lumiText += \" (7 TeV)\"\n",
    "        if( outOfFrame): lumiText += \"}\"\n",
    "    elif ( iPeriod==12 ):\n",
    "        lumiText += \"8 TeV\"\n",
    "    elif ( iPeriod==0 ):\n",
    "        lumiText += lumi_sqrtS\n",
    "            \n",
    "    print (lumiText)\n",
    "\n",
    "    latex = ROOT.TLatex()\n",
    "    latex.SetNDC()\n",
    "    latex.SetTextAngle(0)\n",
    "    latex.SetTextColor(ROOT.kBlack)    \n",
    "    \n",
    "    extraTextSize = extraOverCmsTextSize*cmsTextSize\n",
    "    \n",
    "    latex.SetTextFont(42)\n",
    "    latex.SetTextAlign(31) \n",
    "    latex.SetTextSize(lumiTextSize*t)    \n",
    "\n",
    "    latex.DrawLatex(1-r,1-t+lumiTextOffset*t,lumiText)\n",
    "\n",
    "    if( outOfFrame ):\n",
    "        latex.SetTextFont(cmsTextFont)\n",
    "        latex.SetTextAlign(11) \n",
    "        latex.SetTextSize(cmsTextSize*t)    \n",
    "        latex.DrawLatex(l,1-t+lumiTextOffset*t,cmsText)\n",
    "  \n",
    "    pad.cd()\n",
    "\n",
    "    posX_ = 0\n",
    "    if( iPosX%10<=1 ):\n",
    "        posX_ =   l + relPosX*(1-l-r)\n",
    "    elif( iPosX%10==2 ):\n",
    "        posX_ =  l + 0.5*(1-l-r)\n",
    "    elif( iPosX%10==3 ):\n",
    "        posX_ =  1-r - relPosX*(1-l-r)\n",
    "\n",
    "    posY_ = 1-t - relPosY*(1-t-b)\n",
    "\n",
    "    if( not outOfFrame ):\n",
    "        if( drawLogo ):\n",
    "            posX_ =   l + 0.045*(1-l-r)*W/H\n",
    "            posY_ = 1-t - 0.045*(1-t-b)\n",
    "            xl_0 = posX_\n",
    "            yl_0 = posY_ - 0.15\n",
    "            xl_1 = posX_ + 0.15*H/W\n",
    "            yl_1 = posY_\n",
    "            CMS_logo = ROOT.TASImage(\"CMS-BW-label.png\")\n",
    "            pad_logo =  ROOT.TPad(\"logo\",\"logo\", xl_0, yl_0, xl_1, yl_1 )\n",
    "            pad_logo.Draw()\n",
    "            pad_logo.cd()\n",
    "            CMS_logo.Draw(\"X\")\n",
    "            pad_logo.Modified()\n",
    "            pad.cd()          \n",
    "        else:\n",
    "            latex.SetTextFont(cmsTextFont)\n",
    "            latex.SetTextSize(cmsTextSize*t)\n",
    "            latex.SetTextAlign(align_)\n",
    "            latex.DrawLatex(posX_, posY_, cmsText)\n",
    "            if( writeExtraText ) :\n",
    "                latex.SetTextFont(extraTextFont)\n",
    "                latex.SetTextAlign(align_)\n",
    "                latex.SetTextSize(extraTextSize*t)\n",
    "                latex.DrawLatex(posX_, posY_- relExtraDY*cmsTextSize*t, extraText)\n",
    "    elif( writeExtraText ):\n",
    "        if( iPosX==0):\n",
    "            posX_ =   l +  relPosX*(1-l-r)\n",
    "            posY_ =   1-t+lumiTextOffset*t\n",
    "\n",
    "        latex.SetTextFont(extraTextFont)\n",
    "        latex.SetTextSize(extraTextSize*t)\n",
    "        latex.SetTextAlign(align_)\n",
    "        latex.DrawLatex(posX_*1.20, posY_, extraText)      \n",
    "\n",
    "    pad.Update()"
   ]
  },
  {
   "cell_type": "markdown",
   "id": "bcd29a6b-adff-46c1-a10c-5abaf1fe6bc4",
   "metadata": {
    "jp-MarkdownHeadingCollapsed": true,
    "tags": []
   },
   "source": [
    "## tdrstyle"
   ]
  },
  {
   "cell_type": "code",
   "execution_count": 3,
   "id": "2e9cd5f0-296b-4961-9d6f-306eaeef2d9d",
   "metadata": {
    "ExecuteTime": {
     "end_time": "2021-03-14T13:18:11.397209Z",
     "start_time": "2021-03-14T13:18:11.043090Z"
    }
   },
   "outputs": [],
   "source": [
    "tdrStyle =  ROOT.TStyle(\"\",\"\")\n",
    "\n",
    "#for the canvas:\n",
    "tdrStyle.SetCanvasBorderMode(0)\n",
    "tdrStyle.SetCanvasColor(ROOT.kWhite)\n",
    "tdrStyle.SetCanvasDefH(1000) #Height of canvas\n",
    "tdrStyle.SetCanvasDefW(800) #Width of canvas\n",
    "tdrStyle.SetCanvasDefX(0)   #POsition on screen\n",
    "tdrStyle.SetCanvasDefY(0)\n",
    "\n",
    "\n",
    "tdrStyle.SetPadBorderMode(0)\n",
    "#tdrStyle.SetPadBorderSize(Width_t size = 1)\n",
    "tdrStyle.SetPadColor(ROOT.kWhite)\n",
    "tdrStyle.SetPadGridX(False)\n",
    "tdrStyle.SetPadGridY(False)\n",
    "tdrStyle.SetGridColor(0)\n",
    "tdrStyle.SetGridStyle(3)\n",
    "tdrStyle.SetGridWidth(1)\n",
    "\n",
    "#For the frame:\n",
    "tdrStyle.SetFrameBorderMode(1)\n",
    "tdrStyle.SetFrameBorderSize(1)\n",
    "tdrStyle.SetFrameFillColor(0)\n",
    "tdrStyle.SetFrameFillStyle(0)\n",
    "tdrStyle.SetFrameLineColor(1)\n",
    "tdrStyle.SetFrameLineStyle(1)\n",
    "tdrStyle.SetFrameLineWidth(1)\n",
    "\n",
    "#For the histo:\n",
    "#tdrStyle.SetHistFillColor(1)\n",
    "#tdrStyle.SetHistFillStyle(0)\n",
    "tdrStyle.SetHistLineColor(1)\n",
    "tdrStyle.SetHistLineStyle(0)\n",
    "tdrStyle.SetHistLineWidth(1)\n",
    "#tdrStyle.SetLegoInnerR(Float_t rad = 0.5)\n",
    "#tdrStyle.SetNumberContours(Int_t number = 20)\n",
    "\n",
    "tdrStyle.SetEndErrorSize(2)\n",
    "#tdrStyle.SetErrorMarker(20)\n",
    "#tdrStyle.SetErrorX(0.)\n",
    "\n",
    "tdrStyle.SetMarkerStyle(20)\n",
    "\n",
    "#For the fit/function:\n",
    "tdrStyle.SetOptFit(1)\n",
    "tdrStyle.SetFitFormat(\"5.4g\")\n",
    "tdrStyle.SetFuncColor(2)\n",
    "tdrStyle.SetFuncStyle(1)\n",
    "tdrStyle.SetFuncWidth(1)\n",
    "\n",
    "#For the date:\n",
    "tdrStyle.SetOptDate(0)\n",
    "# tdrStyle.SetDateX(Float_t x = 0.01)\n",
    "# tdrStyle.SetDateY(Float_t y = 0.01)\n",
    "\n",
    "# For the statistics box:\n",
    "tdrStyle.SetOptFile(0)\n",
    "tdrStyle.SetOptStat(0) # To display the mean and RMS:   SetOptStat(\"mr\")\n",
    "tdrStyle.SetStatColor(ROOT.kWhite)\n",
    "tdrStyle.SetStatFont(42)\n",
    "tdrStyle.SetStatFontSize(0.025)\n",
    "tdrStyle.SetStatTextColor(1)\n",
    "tdrStyle.SetStatFormat(\"6.4g\")\n",
    "tdrStyle.SetStatBorderSize(1)\n",
    "tdrStyle.SetStatH(0.1)\n",
    "tdrStyle.SetStatW(0.15)\n",
    "# tdrStyle.SetStatStyle(Style_t style = 1001)\n",
    "# tdrStyle.SetStatX(Float_t x = 0)\n",
    "# tdrStyle.SetStatY(Float_t y = 0)\n",
    "\n",
    "# Margins:\n",
    "tdrStyle.SetPadTopMargin(0.11)\n",
    "tdrStyle.SetPadBottomMargin(0.11)\n",
    "tdrStyle.SetPadLeftMargin(0.11)\n",
    "tdrStyle.SetPadRightMargin(0.11)\n",
    "\n",
    "# For the Global title:\n",
    "\n",
    "tdrStyle.SetOptTitle(0)\n",
    "tdrStyle.SetTitleFont(42)\n",
    "tdrStyle.SetTitleColor(1)\n",
    "tdrStyle.SetTitleTextColor(1)\n",
    "tdrStyle.SetTitleFillColor(10)\n",
    "tdrStyle.SetTitleFontSize(0.05)\n",
    "# tdrStyle.SetTitleH(0) # Set the height of the title box\n",
    "# tdrStyle.SetTitleW(0) # Set the width of the title box\n",
    "# tdrStyle.SetTitleX(0) # Set the position of the title box\n",
    "# tdrStyle.SetTitleY(0.985) # Set the position of the title box\n",
    "# tdrStyle.SetTitleStyle(Style_t style = 1001)\n",
    "# tdrStyle.SetTitleBorderSize(2)\n",
    "\n",
    "# For the axis titles:\n",
    "\n",
    "tdrStyle.SetTitleColor(1, \"XYZ\")\n",
    "tdrStyle.SetTitleFont(42, \"XYZ\")\n",
    "tdrStyle.SetTitleSize(0.04, \"XYZ\")\n",
    "#   tdrStyle.SetTitleXSize(Float_t size = 0.02) # Another way to set the size?\n",
    "#   tdrStyle.SetTitleYSize(Float_t size = 0.02)\n",
    "tdrStyle.SetTitleXOffset(1.1)\n",
    "tdrStyle.SetTitleYOffset(1.25)\n",
    "# tdrStyle.SetTitleOffset(1.1, \"Y\") # Another way to set the Offset\n",
    "\n",
    "# For the axis labels:\n",
    "\n",
    "tdrStyle.SetLabelColor(1, \"XYZ\")\n",
    "tdrStyle.SetLabelFont(42, \"XYZ\")\n",
    "tdrStyle.SetLabelOffset(0.007, \"XYZ\")\n",
    "tdrStyle.SetLabelSize(0.03, \"XYZ\")\n",
    "\n",
    "# For the axis:\n",
    "\n",
    "tdrStyle.SetAxisColor(1, \"XYZ\")\n",
    "tdrStyle.SetStripDecimals(True)\n",
    "tdrStyle.SetTickLength(0.03, \"XYZ\")\n",
    "tdrStyle.SetNdivisions(510, \"XYZ\")\n",
    "tdrStyle.SetPadTickX(1)  # To get tick marks on the opposite side of the frame\n",
    "tdrStyle.SetPadTickY(1)\n",
    "\n",
    "# Change for log plots:\n",
    "tdrStyle.SetOptLogx(0)\n",
    "tdrStyle.SetOptLogy(0)\n",
    "tdrStyle.SetOptLogz(0)\n",
    "\n",
    "# Postscript options:\n",
    "# tdrStyle.SetPaperSize(20.,20.)\n",
    "# tdrStyle.SetLineScalePS(Float_t scale = 3)\n",
    "# tdrStyle.SetLineStyleString(Int_t i, const char* text)\n",
    "# tdrStyle.SetHeaderPS(const char* header)\n",
    "# tdrStyle.SetTitlePS(const char* pstitle)\n",
    "\n",
    "# tdrStyle.SetBarOffset(Float_t baroff = 0.5)\n",
    "# tdrStyle.SetBarWidth(Float_t barwidth = 0.5)\n",
    "# tdrStyle.SetPaintTextFormat(const char* format = \"g\")\n",
    "# tdrStyle.SetPalette(Int_t ncolors = 0, Int_t* colors = 0)\n",
    "# tdrStyle.SetTimeOffset(Double_t toffset)\n",
    "# tdrStyle.SetHistMinimumZero(kTRUE)\n",
    "\n",
    "tdrStyle.SetHatchesLineWidth(1)\n",
    "tdrStyle.SetHatchesSpacing(0.5)\n",
    "\n",
    "tdrStyle.cd()"
   ]
  },
  {
   "cell_type": "markdown",
   "id": "183a0fc4-2e3c-4760-9661-92d6b0d7116f",
   "metadata": {
    "jp-MarkdownHeadingCollapsed": true,
    "tags": []
   },
   "source": [
    "## ratio function"
   ]
  },
  {
   "cell_type": "code",
   "execution_count": 4,
   "id": "de7b66d3-89be-44ac-9c21-dc63f1dd6cd9",
   "metadata": {},
   "outputs": [],
   "source": [
    "from ROOT import TCanvas, TColor, TGaxis, TH1F, TPad\n",
    "from ROOT import kBlack, kBlue, kRed\n",
    "\n",
    "def createRatio(h1, h2):\n",
    "    h3 = h1.Clone(\"h3\")\n",
    "    h3.SetLineColor(kBlack)\n",
    "    h3.SetMarkerStyle(21)\n",
    "    h3.SetTitle(\"\")\n",
    "    h3.SetMinimum(0.80)\n",
    "    h3.SetMaximum(1.53)\n",
    "    # Set up plot for markers and errors\n",
    "    h3.Sumw2()\n",
    "    h3.SetStats(0)\n",
    "    h3.Divide(h2)\n",
    "\n",
    "    # Adjust y-axis settings\n",
    "    y = h3.GetYaxis()\n",
    "    y.SetTitle(\"Data / MC \")\n",
    "    y.SetNdivisions(105)\n",
    "    y.SetTitleSize(20)\n",
    "    y.SetTitleFont(43)\n",
    "    y.SetTitleOffset(1.55)\n",
    "    y.SetLabelFont(43)\n",
    "    y.SetLabelSize(20)\n",
    "\n",
    "    # Adjust x-axis settings\n",
    "    x = h3.GetXaxis()\n",
    "    x.SetTitleSize(20)\n",
    "    x.SetTitleFont(43)\n",
    "    x.SetTitleOffset(4.0)\n",
    "    x.SetLabelFont(43)\n",
    "    x.SetLabelSize(20)\n",
    "\n",
    "    return h3\n"
   ]
  },
  {
   "cell_type": "markdown",
   "id": "6838390f-0586-4d46-ad02-ecad706de956",
   "metadata": {
    "tags": []
   },
   "source": [
    "## Control pad "
   ]
  },
  {
   "cell_type": "code",
   "execution_count": 35,
   "id": "201da191-944e-4890-8070-924abc64510f",
   "metadata": {},
   "outputs": [],
   "source": [
    "# 0: WZG\n",
    "# 1: WZG_emm\n",
    "# 2: WZG_mee\n",
    "# 3: WZG_eee\n",
    "# 4: WZG_mmm\n",
    "\n",
    "# 10: ttZ\n",
    "# 11: ttZ_emm\n",
    "# 12: ttZ_mee\n",
    "# 13: ttZ_eee\n",
    "# 14: ttZ_mmm\n",
    "\n",
    "# 9: ZZ\n",
    "# 5: ZZ_eemm\n",
    "# 6: ZZ_mmee\n",
    "# 7: ZZ_eeee\n",
    "# 8: ZZ_mmmm     \n",
    "\n",
    "\n",
    "branch = {\n",
    "#     \"ZZ_mllz1\":{\n",
    "#         \"name\":\"ZZ_mllz1\",\n",
    "#         \"axis_name\":\"ZZ m_{l_{Z1}l_{Z2}} [GeV]\",\n",
    "#         \"xbins\":10,\n",
    "#         \"xleft\":70,\n",
    "#         \"xright\":110,\n",
    "#     },\n",
    "    \"ttZ_dileptonmass\":{\n",
    "        \"name\":\"ttZ_dileptonmass\",\n",
    "        \"axis_name\":\"m_{Z} [GeV]\",\n",
    "        \"xbins\":10,\n",
    "        \"xleft\":70,\n",
    "        \"xright\":110,\n",
    "    },\n",
    "    \"ttZ_trileptonmass\":{\n",
    "        \"name\":\"ttZ_trileptonmass\",\n",
    "        \"axis_name\":\"m_{WZ} [GeV]\",\n",
    "        \"xbins\":10,\n",
    "        \"xleft\":100,\n",
    "        \"xright\":200,\n",
    "    },\n",
    "    \"MET\":{\n",
    "        \"name\":\"MET\",\n",
    "        \"axis_name\":\"MET [GeV]\",\n",
    "        \"xbins\":10,\n",
    "        \"xleft\":0,\n",
    "        \"xright\":100,\n",
    "    },\n",
    "    \"nJets\":{\n",
    "        \"name\":\"nJets\",\n",
    "        \"axis_name\":\"nJets\",\n",
    "        \"xbins\":8,\n",
    "        \"xleft\":0,\n",
    "        \"xright\":8,\n",
    "    },\n",
    "    \"nbJets\":{\n",
    "        \"name\":\"nbJets\",\n",
    "        \"axis_name\":\"nbJets\",\n",
    "        \"xbins\":8,\n",
    "        \"xleft\":0,\n",
    "        \"xright\":8,\n",
    "    },\n",
    "}\n",
    "\n",
    "channel = 10\n",
    "lumi = 59.7\n",
    "\n"
   ]
  },
  {
   "cell_type": "markdown",
   "id": "cb4cfe92-0537-4576-bb24-20679ffec29d",
   "metadata": {
    "tags": []
   },
   "source": [
    "## Add Hist "
   ]
  },
  {
   "cell_type": "code",
   "execution_count": 36,
   "id": "198cf945-3f0d-48a8-945a-9f1fffbf4d1b",
   "metadata": {},
   "outputs": [],
   "source": [
    "def AddHist(file, hist, isData, xsec, lumi, channel, branch):\n",
    "    \n",
    "    init_time = time.time()\n",
    "    init_branches = ['channel_mark','HLT_Ele23_Ele12_CaloIdL_TrackIdL_IsoVL','HLT_Mu23_TrkIsoVVL_Ele12_CaloIdL_TrackIdL_IsoVL','HLT_Mu8_TrkIsoVVL_Ele23_CaloIdL_TrackIdL_IsoVL_DZ','HLT_Mu17_TrkIsoVVL_Mu8_TrkIsoVVL_DZ_Mass3p8','HLT_Ele32_WPTight_Gsf','HLT_IsoMu24']\n",
    "    \n",
    "    if isData:\n",
    "        print('is Data')\n",
    "        for branch_name in branch:\n",
    "            if branch[branch_name][\"name\"] not in init_branches:\n",
    "                init_branches.append(branch[branch_name][\"name\"])\n",
    "    else:\n",
    "        print('is MC')\n",
    "        add_branches = ['Generator_weight']\n",
    "        gen_lepton_branches = uproot.open(file+':Events').keys(filter_name='*_lepton*genPartFlav')\n",
    "        gen_photon_branches= uproot.open(file+':Events').keys(filter_name='*_photon*genPartFlav')\n",
    "        true_events = uproot.open(file)['nEventsGenWeighted'].values()[0]\n",
    "        init_branches.extend(add_branches)\n",
    "        init_branches.extend(gen_lepton_branches)\n",
    "        init_branches.extend(gen_photon_branches)\n",
    "        for branch_name in branch:\n",
    "            if branch[branch_name][\"name\"] not in init_branches:\n",
    "                init_branches.append(branch[branch_name][\"name\"])\n",
    "        \n",
    "    branches = uproot.open(file+':Events').arrays(init_branches, library='pd')\n",
    "    \n",
    "    HLT_SingleMuon = branches.loc[:,'HLT_IsoMu24'] == True\n",
    "    HLT_DoubleMuon = branches.loc[:,'HLT_Mu17_TrkIsoVVL_Mu8_TrkIsoVVL_DZ_Mass3p8'] == True\n",
    "    HLT_EGamma = branches.loc[:,'HLT_Ele32_WPTight_Gsf'] == True\n",
    "    HLT_DoubleEG = branches.loc[:,'HLT_Ele23_Ele12_CaloIdL_TrackIdL_IsoVL'] == True\n",
    "    HLT_MuonEG1 = branches.loc[:,'HLT_Mu8_TrkIsoVVL_Ele23_CaloIdL_TrackIdL_IsoVL_DZ'] == True\n",
    "    HLT_MuonEG2 = branches.loc[:,'HLT_Mu23_TrkIsoVVL_Ele12_CaloIdL_TrackIdL_IsoVL'] == True\n",
    "    if 'SingleMuon' in file:\n",
    "        arrays = branches.loc[HLT_SingleMuon, :].copy()\n",
    "    elif 'DoubleMuon' in file:\n",
    "        arrays = branches.loc[~HLT_SingleMuon & HLT_DoubleMuon, :].copy()\n",
    "#         2018 is special\n",
    "    elif 'EGamma' in file:\n",
    "        arrays = branches.loc[~HLT_SingleMuon & ~HLT_DoubleMuon &   (HLT_EGamma | HLT_DoubleEG) ,:].copy()\n",
    "    elif 'MuonEG' in file:\n",
    "        arrays = branches.loc[~HLT_SingleMuon & ~HLT_DoubleMuon &  ~(HLT_EGamma | HLT_DoubleEG) & (HLT_MuonEG1 | HLT_MuonEG2),:].copy()\n",
    "    else:\n",
    "        arrays = branches.loc[HLT_SingleMuon | HLT_DoubleMuon |  HLT_EGamma | HLT_DoubleEG | HLT_MuonEG1 | HLT_MuonEG2,:].copy()\n",
    "    \n",
    "    if channel == 0: \n",
    "        channel_cut = (branches.loc[:,'channel_mark'] >= 1) & (branches.loc[:,'channel_mark'] <= 4)\n",
    "    elif channel == 10:\n",
    "        channel_cut = (branches.loc[:,'channel_mark'] >= 11) & (branches.loc[:,'channel_mark'] <= 14)\n",
    "    elif channel == 9:\n",
    "        channel_cut = (branches.loc[:,'channel_mark'] >= 5) & (branches.loc[:,'channel_mark'] <= 8)\n",
    "    else:\n",
    "        channel_cut = branches.loc[:,'channel_mark'] == channel\n",
    "    \n",
    "    if isData:\n",
    "        arrays = arrays.loc[channel_cut,:]\n",
    "    else:\n",
    "        lep_gen_cut_WZG = (branches.loc[:,'WZG_lepton1_genPartFlav'] > 0) & (branches.loc[:,'WZG_lepton2_genPartFlav'] > 0) & (branches.loc[:,'WZG_lepton3_genPartFlav'] > 0)\n",
    "        lep_gen_cut_ttZ = (branches.loc[:,'ttZ_lepton1_genPartFlav'] > 0) & (branches.loc[:,'ttZ_lepton2_genPartFlav'] > 0) & (branches.loc[:,'ttZ_lepton3_genPartFlav'] > 0)\n",
    "        lep_gen_cut_ZZ = (branches.loc[:,'ZZ_lepton1_genPartFlav'] > 0) & (branches.loc[:,'ZZ_lepton2_genPartFlav'] > 0) & (branches.loc[:,'ZZ_lepton3_genPartFlav'] > 0)\n",
    "        gen_cut_map = {\n",
    "                        0:lep_gen_cut_WZG, \n",
    "                        1:lep_gen_cut_WZG,\n",
    "                        2:lep_gen_cut_WZG,\n",
    "                        3:lep_gen_cut_WZG,\n",
    "                        4:lep_gen_cut_WZG,\n",
    "                        10:lep_gen_cut_ttZ,\n",
    "                        11:lep_gen_cut_ttZ,\n",
    "                        12:lep_gen_cut_ttZ,\n",
    "                        13:lep_gen_cut_ttZ,\n",
    "                        14:lep_gen_cut_ttZ,\n",
    "                        5:lep_gen_cut_ZZ,\n",
    "                        6:lep_gen_cut_ZZ,\n",
    "                        7:lep_gen_cut_ZZ,\n",
    "                        8:lep_gen_cut_ZZ,\n",
    "                        9:lep_gen_cut_ZZ,\n",
    "        }\n",
    "        lep_gen_cut = gen_cut_map[channel]\n",
    "        arrays = arrays.loc[channel_cut & lep_gen_cut,:]\n",
    "    \n",
    "    if isData:\n",
    "        for branch_name in branch:\n",
    "            for i in trange(0, len(arrays[branch[branch_name][\"name\"]]), desc=f'fill {branch[branch_name][\"name\"]} for {file}'):\n",
    "                hist[branch_name].Fill(float(arrays[branch[branch_name][\"name\"]].values[i]))\n",
    "            print (f\"SumOfWeights for {branch_name}: \", hist[branch_name].GetSumOfWeights())\n",
    "    else:\n",
    "        arrays['Generator_weight_sgn'] = arrays['Generator_weight'].apply(lambda x: 1 if x >= 0 else -1)\n",
    "        arrays['true_weight'] = lumi * xsec * 1000 * arrays['Generator_weight_sgn'] / true_events\n",
    "        for branch_name in branch:\n",
    "            for i in trange(0, len(arrays[branch[branch_name][\"name\"]]), desc=f'fill {branch[branch_name][\"name\"]} for {file}'):\n",
    "                hist[branch_name].Fill(float(arrays[branch[branch_name][\"name\"]].values[i]), float(arrays['true_weight'].values[i]))\n",
    "            print (f\"SumOfWeights for {branch_name}: \", hist[branch_name].GetSumOfWeights())\n",
    "    \n",
    "    end_time = time.time()\n",
    "    print ('Time cost: %.2f\\n' %(end_time-init_time))\n",
    "        "
   ]
  },
  {
   "cell_type": "markdown",
   "id": "e5499a24-e3ea-4cb0-bd12-e9535a7513f7",
   "metadata": {
    "jp-MarkdownHeadingCollapsed": true,
    "tags": []
   },
   "source": [
    "### Add Data "
   ]
  },
  {
   "cell_type": "code",
   "execution_count": 37,
   "id": "f5baf6ac-dd9b-4a47-991c-fcd9c021c57b",
   "metadata": {},
   "outputs": [],
   "source": [
    "filelist_data = [\n",
    "    \"/eos/user/s/sdeng/WZG_analysis/final_skim/2018/SingleMuon_Run2018A_0000.root\",\n",
    "    \"/eos/user/s/sdeng/WZG_analysis/final_skim/2018/SingleMuon_Run2018B_0000.root\",\n",
    "    \"/eos/user/s/sdeng/WZG_analysis/final_skim/2018/SingleMuon_Run2018C_0000.root\",\n",
    "    \"/eos/user/s/sdeng/WZG_analysis/final_skim/2018/SingleMuon_Run2018D_0000.root\",\n",
    "    \"/eos/user/s/sdeng/WZG_analysis/final_skim/2018/SingleMuon_Run2018D_0001.root\",\n",
    "    \"/eos/user/s/sdeng/WZG_analysis/final_skim/2018/DoubleMuon_Run2018A_0000.root\",\n",
    "    \"/eos/user/s/sdeng/WZG_analysis/final_skim/2018/DoubleMuon_Run2018B_0000.root\",\n",
    "    \"/eos/user/s/sdeng/WZG_analysis/final_skim/2018/DoubleMuon_Run2018C_0000.root\",\n",
    "    \"/eos/user/s/sdeng/WZG_analysis/final_skim/2018/DoubleMuon_Run2018D_0000.root\",\n",
    "    \"/eos/user/s/sdeng/WZG_analysis/final_skim/2018/DoubleMuon_Run2018D_0001.root\",\n",
    "    \"/eos/user/s/sdeng/WZG_analysis/final_skim/2018/EGamma_Run2018A_0000.root\",\n",
    "    \"/eos/user/s/sdeng/WZG_analysis/final_skim/2018/EGamma_Run2018B_0000.root\",\n",
    "    \"/eos/user/s/sdeng/WZG_analysis/final_skim/2018/EGamma_Run2018C_0000.root\",\n",
    "    \"/eos/user/s/sdeng/WZG_analysis/final_skim/2018/EGamma_Run2018D_0000.root\",\n",
    "    \"/eos/user/s/sdeng/WZG_analysis/final_skim/2018/EGamma_Run2018D_0001.root\",\n",
    "    \"/eos/user/s/sdeng/WZG_analysis/final_skim/2018/MuonEG_Run2018A_0000.root\",\n",
    "    \"/eos/user/s/sdeng/WZG_analysis/final_skim/2018/MuonEG_Run2018B_0000.root\",\n",
    "    \"/eos/user/s/sdeng/WZG_analysis/final_skim/2018/MuonEG_Run2018C_0000.root\",\n",
    "    \"/eos/user/s/sdeng/WZG_analysis/final_skim/2018/MuonEG_Run2018D_0000.root\",\n",
    "]\n",
    "\n",
    "hist_data = {}\n",
    "\n",
    "for branch_name in branch:\n",
    "    hist_data_temp = ROOT.TH1F(\"\", \"\", branch[branch_name][\"xbins\"], branch[branch_name][\"xleft\"], branch[branch_name][\"xright\"])\n",
    "    hist_data_temp.SetXTitle(f'{branch[branch_name][\"axis_name\"]}')\n",
    "    hist_data_temp.SetYTitle(f'events / bin')\n",
    "    hist_data_temp.Sumw2()\n",
    "    hist_data[branch_name] = hist_data_temp"
   ]
  },
  {
   "cell_type": "code",
   "execution_count": 38,
   "id": "620eb75c-6e0f-4ce7-99fe-8707fdcef0ea",
   "metadata": {},
   "outputs": [
    {
     "name": "stdout",
     "output_type": "stream",
     "text": [
      "is Data\n"
     ]
    },
    {
     "name": "stderr",
     "output_type": "stream",
     "text": [
      "fill ttZ_dileptonmass for /eos/user/s/sdeng/WZG_analysis/final_skim/2018/SingleMuon_Run2018A_0000.root: 100%|██████████| 170/170 [00:00<00:00, 154235.71it/s]\n",
      "fill ttZ_trileptonmass for /eos/user/s/sdeng/WZG_analysis/final_skim/2018/SingleMuon_Run2018A_0000.root: 100%|██████████| 170/170 [00:00<00:00, 163239.85it/s]\n",
      "fill MET for /eos/user/s/sdeng/WZG_analysis/final_skim/2018/SingleMuon_Run2018A_0000.root: 100%|██████████| 170/170 [00:00<00:00, 161942.24it/s]\n",
      "fill nJets for /eos/user/s/sdeng/WZG_analysis/final_skim/2018/SingleMuon_Run2018A_0000.root: 100%|██████████| 170/170 [00:00<00:00, 160231.84it/s]\n",
      "fill nbJets for /eos/user/s/sdeng/WZG_analysis/final_skim/2018/SingleMuon_Run2018A_0000.root: 100%|██████████| 170/170 [00:00<00:00, 154704.20it/s]\n"
     ]
    },
    {
     "name": "stdout",
     "output_type": "stream",
     "text": [
      "SumOfWeights for ttZ_dileptonmass:  170.0\n",
      "SumOfWeights for ttZ_trileptonmass:  94.0\n",
      "SumOfWeights for MET:  121.0\n",
      "SumOfWeights for nJets:  163.0\n",
      "SumOfWeights for nbJets:  170.0\n",
      "Time cost: 3.47\n",
      "\n",
      "is Data\n"
     ]
    },
    {
     "name": "stderr",
     "output_type": "stream",
     "text": [
      "fill ttZ_dileptonmass for /eos/user/s/sdeng/WZG_analysis/final_skim/2018/SingleMuon_Run2018B_0000.root: 100%|██████████| 84/84 [00:00<00:00, 107088.61it/s]\n",
      "fill ttZ_trileptonmass for /eos/user/s/sdeng/WZG_analysis/final_skim/2018/SingleMuon_Run2018B_0000.root: 100%|██████████| 84/84 [00:00<00:00, 132203.20it/s]\n",
      "fill MET for /eos/user/s/sdeng/WZG_analysis/final_skim/2018/SingleMuon_Run2018B_0000.root: 100%|██████████| 84/84 [00:00<00:00, 136241.89it/s]\n",
      "fill nJets for /eos/user/s/sdeng/WZG_analysis/final_skim/2018/SingleMuon_Run2018B_0000.root: 100%|██████████| 84/84 [00:00<00:00, 130828.64it/s]\n",
      "fill nbJets for /eos/user/s/sdeng/WZG_analysis/final_skim/2018/SingleMuon_Run2018B_0000.root: 100%|██████████| 84/84 [00:00<00:00, 131267.34it/s]\n"
     ]
    },
    {
     "name": "stdout",
     "output_type": "stream",
     "text": [
      "SumOfWeights for ttZ_dileptonmass:  254.0\n",
      "SumOfWeights for ttZ_trileptonmass:  145.0\n",
      "SumOfWeights for MET:  189.0\n",
      "SumOfWeights for nJets:  244.0\n",
      "SumOfWeights for nbJets:  254.0\n",
      "Time cost: 2.58\n",
      "\n",
      "is Data\n"
     ]
    },
    {
     "name": "stderr",
     "output_type": "stream",
     "text": [
      "fill ttZ_dileptonmass for /eos/user/s/sdeng/WZG_analysis/final_skim/2018/SingleMuon_Run2018C_0000.root: 100%|██████████| 98/98 [00:00<00:00, 144886.07it/s]\n",
      "fill ttZ_trileptonmass for /eos/user/s/sdeng/WZG_analysis/final_skim/2018/SingleMuon_Run2018C_0000.root: 100%|██████████| 98/98 [00:00<00:00, 147697.37it/s]\n",
      "fill MET for /eos/user/s/sdeng/WZG_analysis/final_skim/2018/SingleMuon_Run2018C_0000.root: 100%|██████████| 98/98 [00:00<00:00, 147591.31it/s]\n",
      "fill nJets for /eos/user/s/sdeng/WZG_analysis/final_skim/2018/SingleMuon_Run2018C_0000.root: 100%|██████████| 98/98 [00:00<00:00, 132337.99it/s]\n",
      "fill nbJets for /eos/user/s/sdeng/WZG_analysis/final_skim/2018/SingleMuon_Run2018C_0000.root: 100%|██████████| 98/98 [00:00<00:00, 146958.10it/s]\n"
     ]
    },
    {
     "name": "stdout",
     "output_type": "stream",
     "text": [
      "SumOfWeights for ttZ_dileptonmass:  352.0\n",
      "SumOfWeights for ttZ_trileptonmass:  204.0\n",
      "SumOfWeights for MET:  265.0\n",
      "SumOfWeights for nJets:  335.0\n",
      "SumOfWeights for nbJets:  352.0\n",
      "Time cost: 2.68\n",
      "\n",
      "is Data\n"
     ]
    },
    {
     "name": "stderr",
     "output_type": "stream",
     "text": [
      "fill ttZ_dileptonmass for /eos/user/s/sdeng/WZG_analysis/final_skim/2018/SingleMuon_Run2018D_0000.root: 100%|██████████| 250/250 [00:00<00:00, 164637.46it/s]\n",
      "fill ttZ_trileptonmass for /eos/user/s/sdeng/WZG_analysis/final_skim/2018/SingleMuon_Run2018D_0000.root: 100%|██████████| 250/250 [00:00<00:00, 164974.20it/s]\n",
      "fill MET for /eos/user/s/sdeng/WZG_analysis/final_skim/2018/SingleMuon_Run2018D_0000.root: 100%|██████████| 250/250 [00:00<00:00, 167745.32it/s]\n",
      "fill nJets for /eos/user/s/sdeng/WZG_analysis/final_skim/2018/SingleMuon_Run2018D_0000.root: 100%|██████████| 250/250 [00:00<00:00, 168014.10it/s]\n",
      "fill nbJets for /eos/user/s/sdeng/WZG_analysis/final_skim/2018/SingleMuon_Run2018D_0000.root: 100%|██████████| 250/250 [00:00<00:00, 169453.14it/s]\n"
     ]
    },
    {
     "name": "stdout",
     "output_type": "stream",
     "text": [
      "SumOfWeights for ttZ_dileptonmass:  602.0\n",
      "SumOfWeights for ttZ_trileptonmass:  363.0\n",
      "SumOfWeights for MET:  445.0\n",
      "SumOfWeights for nJets:  572.0\n",
      "SumOfWeights for nbJets:  602.0\n",
      "Time cost: 3.47\n",
      "\n",
      "is Data\n"
     ]
    },
    {
     "name": "stderr",
     "output_type": "stream",
     "text": [
      "fill ttZ_dileptonmass for /eos/user/s/sdeng/WZG_analysis/final_skim/2018/SingleMuon_Run2018D_0001.root: 100%|██████████| 148/148 [00:00<00:00, 152895.81it/s]\n",
      "fill ttZ_trileptonmass for /eos/user/s/sdeng/WZG_analysis/final_skim/2018/SingleMuon_Run2018D_0001.root: 100%|██████████| 148/148 [00:00<00:00, 155539.21it/s]\n",
      "fill MET for /eos/user/s/sdeng/WZG_analysis/final_skim/2018/SingleMuon_Run2018D_0001.root: 100%|██████████| 148/148 [00:00<00:00, 153235.50it/s]\n",
      "fill nJets for /eos/user/s/sdeng/WZG_analysis/final_skim/2018/SingleMuon_Run2018D_0001.root: 100%|██████████| 148/148 [00:00<00:00, 158518.13it/s]\n",
      "fill nbJets for /eos/user/s/sdeng/WZG_analysis/final_skim/2018/SingleMuon_Run2018D_0001.root: 100%|██████████| 148/148 [00:00<00:00, 159046.12it/s]\n"
     ]
    },
    {
     "name": "stdout",
     "output_type": "stream",
     "text": [
      "SumOfWeights for ttZ_dileptonmass:  750.0\n",
      "SumOfWeights for ttZ_trileptonmass:  459.0\n",
      "SumOfWeights for MET:  560.0\n",
      "SumOfWeights for nJets:  712.0\n",
      "SumOfWeights for nbJets:  750.0\n",
      "Time cost: 2.88\n",
      "\n",
      "is Data\n"
     ]
    },
    {
     "name": "stderr",
     "output_type": "stream",
     "text": [
      "fill ttZ_dileptonmass for /eos/user/s/sdeng/WZG_analysis/final_skim/2018/DoubleMuon_Run2018A_0000.root: 100%|██████████| 7/7 [00:00<00:00, 41410.62it/s]\n",
      "fill ttZ_trileptonmass for /eos/user/s/sdeng/WZG_analysis/final_skim/2018/DoubleMuon_Run2018A_0000.root: 100%|██████████| 7/7 [00:00<00:00, 39462.54it/s]\n",
      "fill MET for /eos/user/s/sdeng/WZG_analysis/final_skim/2018/DoubleMuon_Run2018A_0000.root: 100%|██████████| 7/7 [00:00<00:00, 39945.75it/s]\n",
      "fill nJets for /eos/user/s/sdeng/WZG_analysis/final_skim/2018/DoubleMuon_Run2018A_0000.root: 100%|██████████| 7/7 [00:00<00:00, 32914.94it/s]\n",
      "fill nbJets for /eos/user/s/sdeng/WZG_analysis/final_skim/2018/DoubleMuon_Run2018A_0000.root: 100%|██████████| 7/7 [00:00<00:00, 42184.09it/s]\n"
     ]
    },
    {
     "name": "stdout",
     "output_type": "stream",
     "text": [
      "SumOfWeights for ttZ_dileptonmass:  757.0\n",
      "SumOfWeights for ttZ_trileptonmass:  464.0\n",
      "SumOfWeights for MET:  566.0\n",
      "SumOfWeights for nJets:  718.0\n",
      "SumOfWeights for nbJets:  757.0\n",
      "Time cost: 3.21\n",
      "\n",
      "is Data\n"
     ]
    },
    {
     "name": "stderr",
     "output_type": "stream",
     "text": [
      "fill ttZ_dileptonmass for /eos/user/s/sdeng/WZG_analysis/final_skim/2018/DoubleMuon_Run2018B_0000.root: 0it [00:00, ?it/s]\n",
      "fill ttZ_trileptonmass for /eos/user/s/sdeng/WZG_analysis/final_skim/2018/DoubleMuon_Run2018B_0000.root: 0it [00:00, ?it/s]\n",
      "fill MET for /eos/user/s/sdeng/WZG_analysis/final_skim/2018/DoubleMuon_Run2018B_0000.root: 0it [00:00, ?it/s]\n",
      "fill nJets for /eos/user/s/sdeng/WZG_analysis/final_skim/2018/DoubleMuon_Run2018B_0000.root: 0it [00:00, ?it/s]\n",
      "fill nbJets for /eos/user/s/sdeng/WZG_analysis/final_skim/2018/DoubleMuon_Run2018B_0000.root: 0it [00:00, ?it/s]\n"
     ]
    },
    {
     "name": "stdout",
     "output_type": "stream",
     "text": [
      "SumOfWeights for ttZ_dileptonmass:  757.0\n",
      "SumOfWeights for ttZ_trileptonmass:  464.0\n",
      "SumOfWeights for MET:  566.0\n",
      "SumOfWeights for nJets:  718.0\n",
      "SumOfWeights for nbJets:  757.0\n",
      "Time cost: 2.48\n",
      "\n",
      "is Data\n"
     ]
    },
    {
     "name": "stderr",
     "output_type": "stream",
     "text": [
      "fill ttZ_dileptonmass for /eos/user/s/sdeng/WZG_analysis/final_skim/2018/DoubleMuon_Run2018C_0000.root: 0it [00:00, ?it/s]\n",
      "fill ttZ_trileptonmass for /eos/user/s/sdeng/WZG_analysis/final_skim/2018/DoubleMuon_Run2018C_0000.root: 0it [00:00, ?it/s]\n",
      "fill MET for /eos/user/s/sdeng/WZG_analysis/final_skim/2018/DoubleMuon_Run2018C_0000.root: 0it [00:00, ?it/s]\n",
      "fill nJets for /eos/user/s/sdeng/WZG_analysis/final_skim/2018/DoubleMuon_Run2018C_0000.root: 0it [00:00, ?it/s]\n",
      "fill nbJets for /eos/user/s/sdeng/WZG_analysis/final_skim/2018/DoubleMuon_Run2018C_0000.root: 0it [00:00, ?it/s]\n"
     ]
    },
    {
     "name": "stdout",
     "output_type": "stream",
     "text": [
      "SumOfWeights for ttZ_dileptonmass:  757.0\n",
      "SumOfWeights for ttZ_trileptonmass:  464.0\n",
      "SumOfWeights for MET:  566.0\n",
      "SumOfWeights for nJets:  718.0\n",
      "SumOfWeights for nbJets:  757.0\n",
      "Time cost: 2.48\n",
      "\n",
      "is Data\n"
     ]
    },
    {
     "name": "stderr",
     "output_type": "stream",
     "text": [
      "fill ttZ_dileptonmass for /eos/user/s/sdeng/WZG_analysis/final_skim/2018/DoubleMuon_Run2018D_0000.root: 100%|██████████| 5/5 [00:00<00:00, 28225.46it/s]\n",
      "fill ttZ_trileptonmass for /eos/user/s/sdeng/WZG_analysis/final_skim/2018/DoubleMuon_Run2018D_0000.root: 100%|██████████| 5/5 [00:00<00:00, 40021.98it/s]\n",
      "fill MET for /eos/user/s/sdeng/WZG_analysis/final_skim/2018/DoubleMuon_Run2018D_0000.root: 100%|██████████| 5/5 [00:00<00:00, 30174.85it/s]\n",
      "fill nJets for /eos/user/s/sdeng/WZG_analysis/final_skim/2018/DoubleMuon_Run2018D_0000.root: 100%|██████████| 5/5 [00:00<00:00, 32768.00it/s]\n",
      "fill nbJets for /eos/user/s/sdeng/WZG_analysis/final_skim/2018/DoubleMuon_Run2018D_0000.root: 100%|██████████| 5/5 [00:00<00:00, 28767.52it/s]\n"
     ]
    },
    {
     "name": "stdout",
     "output_type": "stream",
     "text": [
      "SumOfWeights for ttZ_dileptonmass:  762.0\n",
      "SumOfWeights for ttZ_trileptonmass:  469.0\n",
      "SumOfWeights for MET:  570.0\n",
      "SumOfWeights for nJets:  722.0\n",
      "SumOfWeights for nbJets:  762.0\n",
      "Time cost: 3.26\n",
      "\n",
      "is Data\n"
     ]
    },
    {
     "name": "stderr",
     "output_type": "stream",
     "text": [
      "fill ttZ_dileptonmass for /eos/user/s/sdeng/WZG_analysis/final_skim/2018/DoubleMuon_Run2018D_0001.root: 100%|██████████| 4/4 [00:00<00:00, 29746.84it/s]\n",
      "fill ttZ_trileptonmass for /eos/user/s/sdeng/WZG_analysis/final_skim/2018/DoubleMuon_Run2018D_0001.root: 100%|██████████| 4/4 [00:00<00:00, 22280.50it/s]\n",
      "fill MET for /eos/user/s/sdeng/WZG_analysis/final_skim/2018/DoubleMuon_Run2018D_0001.root: 100%|██████████| 4/4 [00:00<00:00, 31956.60it/s]\n",
      "fill nJets for /eos/user/s/sdeng/WZG_analysis/final_skim/2018/DoubleMuon_Run2018D_0001.root: 100%|██████████| 4/4 [00:00<00:00, 31068.92it/s]\n",
      "fill nbJets for /eos/user/s/sdeng/WZG_analysis/final_skim/2018/DoubleMuon_Run2018D_0001.root: 100%|██████████| 4/4 [00:00<00:00, 28008.71it/s]\n"
     ]
    },
    {
     "name": "stdout",
     "output_type": "stream",
     "text": [
      "SumOfWeights for ttZ_dileptonmass:  766.0\n",
      "SumOfWeights for ttZ_trileptonmass:  472.0\n",
      "SumOfWeights for MET:  572.0\n",
      "SumOfWeights for nJets:  726.0\n",
      "SumOfWeights for nbJets:  766.0\n",
      "Time cost: 2.75\n",
      "\n",
      "is Data\n"
     ]
    },
    {
     "name": "stderr",
     "output_type": "stream",
     "text": [
      "fill ttZ_dileptonmass for /eos/user/s/sdeng/WZG_analysis/final_skim/2018/EGamma_Run2018A_0000.root: 100%|██████████| 60/60 [00:00<00:00, 122820.03it/s]\n",
      "fill ttZ_trileptonmass for /eos/user/s/sdeng/WZG_analysis/final_skim/2018/EGamma_Run2018A_0000.root: 100%|██████████| 60/60 [00:00<00:00, 118538.97it/s]\n",
      "fill MET for /eos/user/s/sdeng/WZG_analysis/final_skim/2018/EGamma_Run2018A_0000.root: 100%|██████████| 60/60 [00:00<00:00, 135372.91it/s]\n",
      "fill nJets for /eos/user/s/sdeng/WZG_analysis/final_skim/2018/EGamma_Run2018A_0000.root: 100%|██████████| 60/60 [00:00<00:00, 135664.82it/s]\n",
      "fill nbJets for /eos/user/s/sdeng/WZG_analysis/final_skim/2018/EGamma_Run2018A_0000.root: 100%|██████████| 60/60 [00:00<00:00, 135737.99it/s]\n"
     ]
    },
    {
     "name": "stdout",
     "output_type": "stream",
     "text": [
      "SumOfWeights for ttZ_dileptonmass:  826.0\n",
      "SumOfWeights for ttZ_trileptonmass:  511.0\n",
      "SumOfWeights for MET:  622.0\n",
      "SumOfWeights for nJets:  784.0\n",
      "SumOfWeights for nbJets:  826.0\n",
      "Time cost: 3.10\n",
      "\n",
      "is Data\n"
     ]
    },
    {
     "name": "stderr",
     "output_type": "stream",
     "text": [
      "fill ttZ_dileptonmass for /eos/user/s/sdeng/WZG_analysis/final_skim/2018/EGamma_Run2018B_0000.root: 100%|██████████| 22/22 [00:00<00:00, 83431.00it/s]\n",
      "fill ttZ_trileptonmass for /eos/user/s/sdeng/WZG_analysis/final_skim/2018/EGamma_Run2018B_0000.root: 100%|██████████| 22/22 [00:00<00:00, 91451.62it/s]\n",
      "fill MET for /eos/user/s/sdeng/WZG_analysis/final_skim/2018/EGamma_Run2018B_0000.root: 100%|██████████| 22/22 [00:00<00:00, 90643.11it/s]\n",
      "fill nJets for /eos/user/s/sdeng/WZG_analysis/final_skim/2018/EGamma_Run2018B_0000.root: 100%|██████████| 22/22 [00:00<00:00, 85124.25it/s]\n",
      "fill nbJets for /eos/user/s/sdeng/WZG_analysis/final_skim/2018/EGamma_Run2018B_0000.root: 100%|██████████| 22/22 [00:00<00:00, 63990.77it/s]\n"
     ]
    },
    {
     "name": "stdout",
     "output_type": "stream",
     "text": [
      "SumOfWeights for ttZ_dileptonmass:  848.0\n",
      "SumOfWeights for ttZ_trileptonmass:  524.0\n",
      "SumOfWeights for MET:  636.0\n",
      "SumOfWeights for nJets:  806.0\n",
      "SumOfWeights for nbJets:  848.0\n",
      "Time cost: 2.42\n",
      "\n",
      "is Data\n"
     ]
    },
    {
     "name": "stderr",
     "output_type": "stream",
     "text": [
      "fill ttZ_dileptonmass for /eos/user/s/sdeng/WZG_analysis/final_skim/2018/EGamma_Run2018C_0000.root: 100%|██████████| 25/25 [00:00<00:00, 81159.13it/s]\n",
      "fill ttZ_trileptonmass for /eos/user/s/sdeng/WZG_analysis/final_skim/2018/EGamma_Run2018C_0000.root: 100%|██████████| 25/25 [00:00<00:00, 106888.48it/s]\n",
      "fill MET for /eos/user/s/sdeng/WZG_analysis/final_skim/2018/EGamma_Run2018C_0000.root: 100%|██████████| 25/25 [00:00<00:00, 89013.24it/s]\n",
      "fill nJets for /eos/user/s/sdeng/WZG_analysis/final_skim/2018/EGamma_Run2018C_0000.root: 100%|██████████| 25/25 [00:00<00:00, 104752.85it/s]\n",
      "fill nbJets for /eos/user/s/sdeng/WZG_analysis/final_skim/2018/EGamma_Run2018C_0000.root: 100%|██████████| 25/25 [00:00<00:00, 92958.87it/s]\n"
     ]
    },
    {
     "name": "stdout",
     "output_type": "stream",
     "text": [
      "SumOfWeights for ttZ_dileptonmass:  873.0\n",
      "SumOfWeights for ttZ_trileptonmass:  538.0\n",
      "SumOfWeights for MET:  652.0\n",
      "SumOfWeights for nJets:  829.0\n",
      "SumOfWeights for nbJets:  873.0\n",
      "Time cost: 2.36\n",
      "\n",
      "is Data\n"
     ]
    },
    {
     "name": "stderr",
     "output_type": "stream",
     "text": [
      "fill ttZ_dileptonmass for /eos/user/s/sdeng/WZG_analysis/final_skim/2018/EGamma_Run2018D_0000.root: 100%|██████████| 80/80 [00:00<00:00, 135027.90it/s]\n",
      "fill ttZ_trileptonmass for /eos/user/s/sdeng/WZG_analysis/final_skim/2018/EGamma_Run2018D_0000.root: 100%|██████████| 80/80 [00:00<00:00, 108801.66it/s]\n",
      "fill MET for /eos/user/s/sdeng/WZG_analysis/final_skim/2018/EGamma_Run2018D_0000.root: 100%|██████████| 80/80 [00:00<00:00, 133736.28it/s]\n",
      "fill nJets for /eos/user/s/sdeng/WZG_analysis/final_skim/2018/EGamma_Run2018D_0000.root: 100%|██████████| 80/80 [00:00<00:00, 41420.11it/s]\n",
      "fill nbJets for /eos/user/s/sdeng/WZG_analysis/final_skim/2018/EGamma_Run2018D_0000.root: 100%|██████████| 80/80 [00:00<00:00, 138769.36it/s]\n"
     ]
    },
    {
     "name": "stdout",
     "output_type": "stream",
     "text": [
      "SumOfWeights for ttZ_dileptonmass:  953.0\n",
      "SumOfWeights for ttZ_trileptonmass:  593.0\n",
      "SumOfWeights for MET:  715.0\n",
      "SumOfWeights for nJets:  903.0\n",
      "SumOfWeights for nbJets:  953.0\n",
      "Time cost: 3.18\n",
      "\n",
      "is Data\n"
     ]
    },
    {
     "name": "stderr",
     "output_type": "stream",
     "text": [
      "fill ttZ_dileptonmass for /eos/user/s/sdeng/WZG_analysis/final_skim/2018/EGamma_Run2018D_0001.root: 100%|██████████| 43/43 [00:00<00:00, 110308.91it/s]\n",
      "fill ttZ_trileptonmass for /eos/user/s/sdeng/WZG_analysis/final_skim/2018/EGamma_Run2018D_0001.root: 100%|██████████| 43/43 [00:00<00:00, 107035.65it/s]\n",
      "fill MET for /eos/user/s/sdeng/WZG_analysis/final_skim/2018/EGamma_Run2018D_0001.root: 100%|██████████| 43/43 [00:00<00:00, 36369.24it/s]\n",
      "fill nJets for /eos/user/s/sdeng/WZG_analysis/final_skim/2018/EGamma_Run2018D_0001.root: 100%|██████████| 43/43 [00:00<00:00, 114365.93it/s]\n",
      "fill nbJets for /eos/user/s/sdeng/WZG_analysis/final_skim/2018/EGamma_Run2018D_0001.root: 100%|██████████| 43/43 [00:00<00:00, 113430.86it/s]\n"
     ]
    },
    {
     "name": "stdout",
     "output_type": "stream",
     "text": [
      "SumOfWeights for ttZ_dileptonmass:  996.0\n",
      "SumOfWeights for ttZ_trileptonmass:  625.0\n",
      "SumOfWeights for MET:  748.0\n",
      "SumOfWeights for nJets:  945.0\n",
      "SumOfWeights for nbJets:  996.0\n",
      "Time cost: 2.75\n",
      "\n",
      "is Data\n"
     ]
    },
    {
     "name": "stderr",
     "output_type": "stream",
     "text": [
      "fill ttZ_dileptonmass for /eos/user/s/sdeng/WZG_analysis/final_skim/2018/MuonEG_Run2018A_0000.root: 0it [00:00, ?it/s]\n",
      "fill ttZ_trileptonmass for /eos/user/s/sdeng/WZG_analysis/final_skim/2018/MuonEG_Run2018A_0000.root: 0it [00:00, ?it/s]\n",
      "fill MET for /eos/user/s/sdeng/WZG_analysis/final_skim/2018/MuonEG_Run2018A_0000.root: 0it [00:00, ?it/s]\n",
      "fill nJets for /eos/user/s/sdeng/WZG_analysis/final_skim/2018/MuonEG_Run2018A_0000.root: 0it [00:00, ?it/s]\n",
      "fill nbJets for /eos/user/s/sdeng/WZG_analysis/final_skim/2018/MuonEG_Run2018A_0000.root: 0it [00:00, ?it/s]\n"
     ]
    },
    {
     "name": "stdout",
     "output_type": "stream",
     "text": [
      "SumOfWeights for ttZ_dileptonmass:  996.0\n",
      "SumOfWeights for ttZ_trileptonmass:  625.0\n",
      "SumOfWeights for MET:  748.0\n",
      "SumOfWeights for nJets:  945.0\n",
      "SumOfWeights for nbJets:  996.0\n",
      "Time cost: 3.00\n",
      "\n",
      "is Data\n"
     ]
    },
    {
     "name": "stderr",
     "output_type": "stream",
     "text": [
      "fill ttZ_dileptonmass for /eos/user/s/sdeng/WZG_analysis/final_skim/2018/MuonEG_Run2018B_0000.root: 100%|██████████| 1/1 [00:00<00:00, 7767.23it/s]\n",
      "fill ttZ_trileptonmass for /eos/user/s/sdeng/WZG_analysis/final_skim/2018/MuonEG_Run2018B_0000.root: 100%|██████████| 1/1 [00:00<00:00, 10255.02it/s]\n",
      "fill MET for /eos/user/s/sdeng/WZG_analysis/final_skim/2018/MuonEG_Run2018B_0000.root: 100%|██████████| 1/1 [00:00<00:00, 9754.20it/s]\n",
      "fill nJets for /eos/user/s/sdeng/WZG_analysis/final_skim/2018/MuonEG_Run2018B_0000.root: 100%|██████████| 1/1 [00:00<00:00, 9686.61it/s]\n",
      "fill nbJets for /eos/user/s/sdeng/WZG_analysis/final_skim/2018/MuonEG_Run2018B_0000.root: 100%|██████████| 1/1 [00:00<00:00, 9320.68it/s]\n"
     ]
    },
    {
     "name": "stdout",
     "output_type": "stream",
     "text": [
      "SumOfWeights for ttZ_dileptonmass:  997.0\n",
      "SumOfWeights for ttZ_trileptonmass:  626.0\n",
      "SumOfWeights for MET:  748.0\n",
      "SumOfWeights for nJets:  946.0\n",
      "SumOfWeights for nbJets:  997.0\n",
      "Time cost: 2.44\n",
      "\n",
      "is Data\n"
     ]
    },
    {
     "name": "stderr",
     "output_type": "stream",
     "text": [
      "fill ttZ_dileptonmass for /eos/user/s/sdeng/WZG_analysis/final_skim/2018/MuonEG_Run2018C_0000.root: 100%|██████████| 2/2 [00:00<00:00, 13443.28it/s]\n",
      "fill ttZ_trileptonmass for /eos/user/s/sdeng/WZG_analysis/final_skim/2018/MuonEG_Run2018C_0000.root: 100%|██████████| 2/2 [00:00<00:00, 13595.80it/s]\n",
      "fill MET for /eos/user/s/sdeng/WZG_analysis/final_skim/2018/MuonEG_Run2018C_0000.root: 100%|██████████| 2/2 [00:00<00:00, 18040.02it/s]\n",
      "fill nJets for /eos/user/s/sdeng/WZG_analysis/final_skim/2018/MuonEG_Run2018C_0000.root: 100%|██████████| 2/2 [00:00<00:00, 14513.16it/s]\n",
      "fill nbJets for /eos/user/s/sdeng/WZG_analysis/final_skim/2018/MuonEG_Run2018C_0000.root: 100%|██████████| 2/2 [00:00<00:00, 17810.21it/s]\n"
     ]
    },
    {
     "name": "stdout",
     "output_type": "stream",
     "text": [
      "SumOfWeights for ttZ_dileptonmass:  999.0\n",
      "SumOfWeights for ttZ_trileptonmass:  627.0\n",
      "SumOfWeights for MET:  749.0\n",
      "SumOfWeights for nJets:  948.0\n",
      "SumOfWeights for nbJets:  999.0\n",
      "Time cost: 2.23\n",
      "\n",
      "is Data\n"
     ]
    },
    {
     "name": "stderr",
     "output_type": "stream",
     "text": [
      "fill ttZ_dileptonmass for /eos/user/s/sdeng/WZG_analysis/final_skim/2018/MuonEG_Run2018D_0000.root: 100%|██████████| 3/3 [00:00<00:00, 19815.61it/s]\n",
      "fill ttZ_trileptonmass for /eos/user/s/sdeng/WZG_analysis/final_skim/2018/MuonEG_Run2018D_0000.root: 100%|██████████| 3/3 [00:00<00:00, 19418.07it/s]\n",
      "fill MET for /eos/user/s/sdeng/WZG_analysis/final_skim/2018/MuonEG_Run2018D_0000.root: 100%|██████████| 3/3 [00:00<00:00, 18289.12it/s]\n",
      "fill nJets for /eos/user/s/sdeng/WZG_analysis/final_skim/2018/MuonEG_Run2018D_0000.root: 100%|██████████| 3/3 [00:00<00:00, 21363.18it/s]\n",
      "fill nbJets for /eos/user/s/sdeng/WZG_analysis/final_skim/2018/MuonEG_Run2018D_0000.root: 100%|██████████| 3/3 [00:00<00:00, 21807.47it/s]"
     ]
    },
    {
     "name": "stdout",
     "output_type": "stream",
     "text": [
      "SumOfWeights for ttZ_dileptonmass:  1002.0\n",
      "SumOfWeights for ttZ_trileptonmass:  629.0\n",
      "SumOfWeights for MET:  752.0\n",
      "SumOfWeights for nJets:  951.0\n",
      "SumOfWeights for nbJets:  1002.0\n",
      "Time cost: 2.20\n",
      "\n"
     ]
    },
    {
     "name": "stderr",
     "output_type": "stream",
     "text": [
      "\n"
     ]
    }
   ],
   "source": [
    "for file in filelist_data:\n",
    "    AddHist(file, hist_data, 1, 0, 0, channel, branch)"
   ]
  },
  {
   "cell_type": "markdown",
   "id": "55d971ec-7bf0-438a-bf8b-d6be1350491d",
   "metadata": {
    "jp-MarkdownHeadingCollapsed": true,
    "tags": []
   },
   "source": [
    "### Add MC "
   ]
  },
  {
   "cell_type": "code",
   "execution_count": 39,
   "id": "c8b5c1c5-8579-4132-a68b-1f262c3ae07b",
   "metadata": {},
   "outputs": [],
   "source": [
    "filelist_MC = {\n",
    "   \"TTG\":\n",
    "        {\"name\":\"TTGJets\", \n",
    "        \"path\":\"/eos/user/s/sdeng/WZG_analysis/final_skim/2018/TTGJets_TuneCP5_13TeV-amcatnloFXFX-madspin-pythia8_2018_0000.root\", \n",
    "        \"xsec\":4.078,\n",
    "        \"color\":3},\n",
    "   \"TTZ\":\n",
    "        {\"name\":\"TTZToLLNuNu\", \n",
    "        \"path\":\"/eos/user/s/sdeng/WZG_analysis/final_skim/2018/TTZToLLNuNu_M-10_TuneCP5_13TeV-amcatnlo-pythia8_2018_0000.root\", \n",
    "        \"xsec\":0.2432,\n",
    "        \"color\":4},\n",
    "   \"TTW\":\n",
    "        {\"name\":\"TTWJetsToLNu\", \n",
    "        \"path\":\"/eos/user/s/sdeng/WZG_analysis/final_skim/2018/TTWJetsToLNu_TuneCP5_13TeV-amcatnloFXFX-madspin-pythia8_2018_0000.root\", \n",
    "        \"xsec\":0.2149,\n",
    "        \"color\":5},\n",
    "   \"tZq\":\n",
    "        {\"name\":\"tZq_ll\", \n",
    "        \"path\":\"/eos/user/s/sdeng/WZG_analysis/final_skim/2018/tZq_ll_4f_ckm_NLO_TuneCP5_13TeV-amcatnlo-pythia8_2018_0000.root\", \n",
    "        \"xsec\":0.07358,\n",
    "        \"color\":6},\n",
    "   \"WWW\":\n",
    "        {\"name\":\"WWW\", \n",
    "        \"path\":\"/eos/user/s/sdeng/WZG_analysis/final_skim/2018/WWW_4F_TuneCP5_13TeV-amcatnlo-pythia8_2018_0000.root\", \n",
    "        \"xsec\":0.2086,\n",
    "        \"color\":7},\n",
    "   \"WZ\":\n",
    "        {\"name\":\"WZ\", \n",
    "        \"path\":\"/eos/user/s/sdeng/WZG_analysis/final_skim/2018/WZ_TuneCP5_13TeV-pythia8_2018_0000.root\", \n",
    "        \"xsec\":27.6,\n",
    "        \"color\":8},\n",
    "   \"ZGToLLG\":\n",
    "        {\"name\":\"ZGToLLG\",\n",
    "        \"path\":\"/eos/user/s/sdeng/WZG_analysis/final_skim/2018/ZGToLLG_01J_5f_TuneCP5_13TeV-amcatnloFXFX-pythia8_2018_0000.root\", \n",
    "        \"xsec\":55.48,\n",
    "        \"color\":9},\n",
    "    \"ZZ\":\n",
    "        {\"name\":\"ZZ\",\n",
    "        \"path\":\"/eos/user/s/sdeng/WZG_analysis/final_skim/2018/ZZ_TuneCP5_13TeV-pythia8_2018_0000.root\",\n",
    "        \"xsec\":12.14,\n",
    "        \"color\":12},\n",
    "    \"WZG\":\n",
    "        {\"name\":\"WZG\",\n",
    "        \"path\":\"/eos/user/s/sdeng/WZG_analysis/final_skim/2018/wza_UL18_sum_Skim.root\",\n",
    "        \"xsec\":0.0384,\n",
    "        \"color\":11}\n",
    "}\n"
   ]
  },
  {
   "cell_type": "code",
   "execution_count": null,
   "id": "56b9ae9a-918c-46b0-b036-7b7f0c87db1f",
   "metadata": {},
   "outputs": [
    {
     "name": "stdout",
     "output_type": "stream",
     "text": [
      "is MC\n"
     ]
    },
    {
     "name": "stderr",
     "output_type": "stream",
     "text": [
      "fill ttZ_dileptonmass for /eos/user/s/sdeng/WZG_analysis/final_skim/2018/TTGJets_TuneCP5_13TeV-amcatnloFXFX-madspin-pythia8_2018_0000.root: 100%|██████████| 201/201 [00:00<00:00, 93579.21it/s]\n",
      "fill ttZ_trileptonmass for /eos/user/s/sdeng/WZG_analysis/final_skim/2018/TTGJets_TuneCP5_13TeV-amcatnloFXFX-madspin-pythia8_2018_0000.root: 100%|██████████| 201/201 [00:00<00:00, 98384.30it/s]\n",
      "fill MET for /eos/user/s/sdeng/WZG_analysis/final_skim/2018/TTGJets_TuneCP5_13TeV-amcatnloFXFX-madspin-pythia8_2018_0000.root: 100%|██████████| 201/201 [00:00<00:00, 101658.64it/s]\n",
      "fill nJets for /eos/user/s/sdeng/WZG_analysis/final_skim/2018/TTGJets_TuneCP5_13TeV-amcatnloFXFX-madspin-pythia8_2018_0000.root: 100%|██████████| 201/201 [00:00<00:00, 100687.34it/s]\n",
      "fill nbJets for /eos/user/s/sdeng/WZG_analysis/final_skim/2018/TTGJets_TuneCP5_13TeV-amcatnloFXFX-madspin-pythia8_2018_0000.root: 100%|██████████| 201/201 [00:00<00:00, 101109.99it/s]\n"
     ]
    },
    {
     "name": "stdout",
     "output_type": "stream",
     "text": [
      "SumOfWeights for ttZ_dileptonmass:  11.87291470170021\n",
      "SumOfWeights for ttZ_trileptonmass:  7.328959569334984\n",
      "SumOfWeights for MET:  7.182380139827728\n",
      "SumOfWeights for nJets:  12.166073232889175\n",
      "SumOfWeights for nbJets:  11.872913599014282\n",
      "Time cost: 7.01\n",
      "\n",
      "is MC\n"
     ]
    },
    {
     "name": "stderr",
     "output_type": "stream",
     "text": [
      "fill ttZ_dileptonmass for /eos/user/s/sdeng/WZG_analysis/final_skim/2018/TTZToLLNuNu_M-10_TuneCP5_13TeV-amcatnlo-pythia8_2018_0000.root: 100%|██████████| 182529/182529 [00:01<00:00, 101950.35it/s]\n",
      "fill ttZ_trileptonmass for /eos/user/s/sdeng/WZG_analysis/final_skim/2018/TTZToLLNuNu_M-10_TuneCP5_13TeV-amcatnlo-pythia8_2018_0000.root:   6%|▌         | 10672/182529 [00:00<00:01, 106710.69it/s]"
     ]
    },
    {
     "name": "stdout",
     "output_type": "stream",
     "text": [
      "SumOfWeights for ttZ_dileptonmass:  191.03170826286077\n"
     ]
    },
    {
     "name": "stderr",
     "output_type": "stream",
     "text": [
      "fill ttZ_trileptonmass for /eos/user/s/sdeng/WZG_analysis/final_skim/2018/TTZToLLNuNu_M-10_TuneCP5_13TeV-amcatnlo-pythia8_2018_0000.root: 100%|██████████| 182529/182529 [00:01<00:00, 105807.38it/s]\n",
      "fill MET for /eos/user/s/sdeng/WZG_analysis/final_skim/2018/TTZToLLNuNu_M-10_TuneCP5_13TeV-amcatnlo-pythia8_2018_0000.root:   6%|▌         | 10764/182529 [00:00<00:01, 107632.92it/s]"
     ]
    },
    {
     "name": "stdout",
     "output_type": "stream",
     "text": [
      "SumOfWeights for ttZ_trileptonmass:  94.38727593421936\n"
     ]
    },
    {
     "name": "stderr",
     "output_type": "stream",
     "text": [
      "fill MET for /eos/user/s/sdeng/WZG_analysis/final_skim/2018/TTZToLLNuNu_M-10_TuneCP5_13TeV-amcatnlo-pythia8_2018_0000.root: 100%|██████████| 182529/182529 [00:01<00:00, 103024.47it/s]\n",
      "fill nJets for /eos/user/s/sdeng/WZG_analysis/final_skim/2018/TTZToLLNuNu_M-10_TuneCP5_13TeV-amcatnlo-pythia8_2018_0000.root:   6%|▌         | 10671/182529 [00:00<00:01, 106704.76it/s]"
     ]
    },
    {
     "name": "stdout",
     "output_type": "stream",
     "text": [
      "SumOfWeights for MET:  127.46284675598145\n"
     ]
    },
    {
     "name": "stderr",
     "output_type": "stream",
     "text": [
      "fill nJets for /eos/user/s/sdeng/WZG_analysis/final_skim/2018/TTZToLLNuNu_M-10_TuneCP5_13TeV-amcatnlo-pythia8_2018_0000.root: 100%|██████████| 182529/182529 [00:01<00:00, 106342.53it/s]\n",
      "fill nbJets for /eos/user/s/sdeng/WZG_analysis/final_skim/2018/TTZToLLNuNu_M-10_TuneCP5_13TeV-amcatnlo-pythia8_2018_0000.root:   6%|▌         | 10678/182529 [00:00<00:01, 106771.70it/s]"
     ]
    },
    {
     "name": "stdout",
     "output_type": "stream",
     "text": [
      "SumOfWeights for nJets:  179.05600726604462\n"
     ]
    },
    {
     "name": "stderr",
     "output_type": "stream",
     "text": [
      "fill nbJets for /eos/user/s/sdeng/WZG_analysis/final_skim/2018/TTZToLLNuNu_M-10_TuneCP5_13TeV-amcatnlo-pythia8_2018_0000.root: 100%|██████████| 182529/182529 [00:01<00:00, 106986.63it/s]\n"
     ]
    },
    {
     "name": "stdout",
     "output_type": "stream",
     "text": [
      "SumOfWeights for nbJets:  191.07351367757656\n",
      "Time cost: 16.76\n",
      "\n",
      "is MC\n"
     ]
    },
    {
     "name": "stderr",
     "output_type": "stream",
     "text": [
      "fill ttZ_dileptonmass for /eos/user/s/sdeng/WZG_analysis/final_skim/2018/TTWJetsToLNu_TuneCP5_13TeV-amcatnloFXFX-madspin-pythia8_2018_0000.root: 100%|██████████| 5729/5729 [00:00<00:00, 106932.70it/s]\n",
      "fill ttZ_trileptonmass for /eos/user/s/sdeng/WZG_analysis/final_skim/2018/TTWJetsToLNu_TuneCP5_13TeV-amcatnloFXFX-madspin-pythia8_2018_0000.root: 100%|██████████| 5729/5729 [00:00<00:00, 107395.81it/s]\n",
      "fill MET for /eos/user/s/sdeng/WZG_analysis/final_skim/2018/TTWJetsToLNu_TuneCP5_13TeV-amcatnloFXFX-madspin-pythia8_2018_0000.root: 100%|██████████| 5729/5729 [00:00<00:00, 108166.90it/s]\n",
      "fill nJets for /eos/user/s/sdeng/WZG_analysis/final_skim/2018/TTWJetsToLNu_TuneCP5_13TeV-amcatnloFXFX-madspin-pythia8_2018_0000.root: 100%|██████████| 5729/5729 [00:00<00:00, 107868.76it/s]\n",
      "fill nbJets for /eos/user/s/sdeng/WZG_analysis/final_skim/2018/TTWJetsToLNu_TuneCP5_13TeV-amcatnloFXFX-madspin-pythia8_2018_0000.root:   0%|          | 0/5729 [00:00<?, ?it/s]"
     ]
    },
    {
     "name": "stdout",
     "output_type": "stream",
     "text": [
      "SumOfWeights for ttZ_dileptonmass:  15.320826061069965\n",
      "SumOfWeights for ttZ_trileptonmass:  9.082920014858246\n",
      "SumOfWeights for MET:  8.296617269515991\n",
      "SumOfWeights for nJets:  15.125542402267456\n"
     ]
    },
    {
     "name": "stderr",
     "output_type": "stream",
     "text": [
      "fill nbJets for /eos/user/s/sdeng/WZG_analysis/final_skim/2018/TTWJetsToLNu_TuneCP5_13TeV-amcatnloFXFX-madspin-pythia8_2018_0000.root: 100%|██████████| 5729/5729 [00:00<00:00, 99203.08it/s]\n"
     ]
    },
    {
     "name": "stdout",
     "output_type": "stream",
     "text": [
      "SumOfWeights for nbJets:  15.321036262903363\n",
      "Time cost: 7.29\n",
      "\n",
      "is MC\n"
     ]
    },
    {
     "name": "stderr",
     "output_type": "stream",
     "text": [
      "fill ttZ_dileptonmass for /eos/user/s/sdeng/WZG_analysis/final_skim/2018/tZq_ll_4f_ckm_NLO_TuneCP5_13TeV-amcatnlo-pythia8_2018_0000.root: 100%|██████████| 218662/218662 [00:02<00:00, 102610.52it/s]\n",
      "fill ttZ_trileptonmass for /eos/user/s/sdeng/WZG_analysis/final_skim/2018/tZq_ll_4f_ckm_NLO_TuneCP5_13TeV-amcatnlo-pythia8_2018_0000.root:   9%|▉         | 19369/218662 [00:00<00:02, 98243.81it/s]"
     ]
    },
    {
     "name": "stdout",
     "output_type": "stream",
     "text": [
      "SumOfWeights for ttZ_dileptonmass:  77.10369457863271\n"
     ]
    },
    {
     "name": "stderr",
     "output_type": "stream",
     "text": [
      "fill ttZ_trileptonmass for /eos/user/s/sdeng/WZG_analysis/final_skim/2018/tZq_ll_4f_ckm_NLO_TuneCP5_13TeV-amcatnlo-pythia8_2018_0000.root: 100%|██████████| 218662/218662 [00:02<00:00, 105578.03it/s]\n",
      "fill MET for /eos/user/s/sdeng/WZG_analysis/final_skim/2018/tZq_ll_4f_ckm_NLO_TuneCP5_13TeV-amcatnlo-pythia8_2018_0000.root:   5%|▍         | 10697/218662 [00:00<00:01, 106963.98it/s]"
     ]
    },
    {
     "name": "stdout",
     "output_type": "stream",
     "text": [
      "SumOfWeights for ttZ_trileptonmass:  46.50449550151825\n"
     ]
    },
    {
     "name": "stderr",
     "output_type": "stream",
     "text": [
      "fill MET for /eos/user/s/sdeng/WZG_analysis/final_skim/2018/tZq_ll_4f_ckm_NLO_TuneCP5_13TeV-amcatnlo-pythia8_2018_0000.root: 100%|██████████| 218662/218662 [00:02<00:00, 105422.28it/s]\n",
      "fill nJets for /eos/user/s/sdeng/WZG_analysis/final_skim/2018/tZq_ll_4f_ckm_NLO_TuneCP5_13TeV-amcatnlo-pythia8_2018_0000.root:   5%|▍         | 10559/218662 [00:00<00:01, 105579.28it/s]"
     ]
    },
    {
     "name": "stdout",
     "output_type": "stream",
     "text": [
      "SumOfWeights for MET:  58.84175682067871\n"
     ]
    },
    {
     "name": "stderr",
     "output_type": "stream",
     "text": [
      "fill nJets for /eos/user/s/sdeng/WZG_analysis/final_skim/2018/tZq_ll_4f_ckm_NLO_TuneCP5_13TeV-amcatnlo-pythia8_2018_0000.root: 100%|██████████| 218662/218662 [00:02<00:00, 107025.47it/s]\n",
      "fill nbJets for /eos/user/s/sdeng/WZG_analysis/final_skim/2018/tZq_ll_4f_ckm_NLO_TuneCP5_13TeV-amcatnlo-pythia8_2018_0000.root:   5%|▍         | 10615/218662 [00:00<00:01, 106138.71it/s]"
     ]
    },
    {
     "name": "stdout",
     "output_type": "stream",
     "text": [
      "SumOfWeights for nJets:  76.71618264913559\n"
     ]
    },
    {
     "name": "stderr",
     "output_type": "stream",
     "text": [
      "fill nbJets for /eos/user/s/sdeng/WZG_analysis/final_skim/2018/tZq_ll_4f_ckm_NLO_TuneCP5_13TeV-amcatnlo-pythia8_2018_0000.root: 100%|██████████| 218662/218662 [00:02<00:00, 106983.17it/s]\n"
     ]
    },
    {
     "name": "stdout",
     "output_type": "stream",
     "text": [
      "SumOfWeights for nbJets:  77.11361713334918\n",
      "Time cost: 18.11\n",
      "\n",
      "is MC\n"
     ]
    },
    {
     "name": "stderr",
     "output_type": "stream",
     "text": [
      "fill ttZ_dileptonmass for /eos/user/s/sdeng/WZG_analysis/final_skim/2018/WWW_4F_TuneCP5_13TeV-amcatnlo-pythia8_2018_0000.root: 100%|██████████| 1/1 [00:00<00:00, 4804.47it/s]\n",
      "fill ttZ_trileptonmass for /eos/user/s/sdeng/WZG_analysis/final_skim/2018/WWW_4F_TuneCP5_13TeV-amcatnlo-pythia8_2018_0000.root: 100%|██████████| 1/1 [00:00<00:00, 9177.91it/s]\n",
      "fill MET for /eos/user/s/sdeng/WZG_analysis/final_skim/2018/WWW_4F_TuneCP5_13TeV-amcatnlo-pythia8_2018_0000.root: 100%|██████████| 1/1 [00:00<00:00, 8848.74it/s]\n",
      "fill nJets for /eos/user/s/sdeng/WZG_analysis/final_skim/2018/WWW_4F_TuneCP5_13TeV-amcatnlo-pythia8_2018_0000.root: 100%|██████████| 1/1 [00:00<00:00, 8507.72it/s]\n",
      "fill nbJets for /eos/user/s/sdeng/WZG_analysis/final_skim/2018/WWW_4F_TuneCP5_13TeV-amcatnlo-pythia8_2018_0000.root: 100%|██████████| 1/1 [00:00<00:00, 9039.45it/s]\n"
     ]
    },
    {
     "name": "stdout",
     "output_type": "stream",
     "text": [
      "SumOfWeights for ttZ_dileptonmass:  0.05927377566695213\n",
      "SumOfWeights for ttZ_trileptonmass:  0.05927377566695213\n",
      "SumOfWeights for MET:  0.05927377566695213\n",
      "SumOfWeights for nJets:  0.05927377566695213\n",
      "SumOfWeights for nbJets:  0.05927377566695213\n",
      "Time cost: 6.51\n",
      "\n",
      "is MC\n"
     ]
    }
   ],
   "source": [
    "def SetHistStyle(hist, color):\n",
    "    hist.SetMarkerStyle(20)\n",
    "    hist.SetMarkerColor(color)\n",
    "    hist.SetFillColor(color)\n",
    "    hist.SetYTitle('events/bin')\n",
    "    hist.SetStats(0)\n",
    "    hist.Sumw2()\n",
    "    \n",
    "    \n",
    "for file in filelist_MC:\n",
    "    hist_MC = {}\n",
    "    for branch_name in branch:\n",
    "        hist_MC_temp = ROOT.TH1F(\"\", \"\", branch[branch_name][\"xbins\"], branch[branch_name][\"xleft\"], branch[branch_name][\"xright\"])\n",
    "        SetHistStyle(hist_MC_temp, filelist_MC[file][\"color\"])\n",
    "        hist_MC_temp.SetXTitle(f'{branch[branch_name][\"axis_name\"]}')\n",
    "        hist_MC[branch_name] = hist_MC_temp\n",
    "        \n",
    "    AddHist(filelist_MC[file][\"path\"], hist_MC, 0, filelist_MC[file][\"xsec\"], lumi, channel, branch)\n",
    "    filelist_MC[file][\"hist\"] = hist_MC\n",
    "    "
   ]
  },
  {
   "cell_type": "markdown",
   "id": "c15df3d9-1ce9-44e9-bd32-3a689dbe8b7a",
   "metadata": {
    "tags": []
   },
   "source": [
    "## Add FakeLepton"
   ]
  },
  {
   "cell_type": "code",
   "execution_count": null,
   "id": "aa0cf02d-bff5-4708-afad-28138aef0b10",
   "metadata": {},
   "outputs": [],
   "source": [
    "def AddHist_FakeLepton(file, hist, isData, xsec, lumi, channel, branch):\n",
    "    \n",
    "    init_time = time.time()\n",
    "    init_branches = ['fake_lepton_weight','channel_mark','HLT_Ele23_Ele12_CaloIdL_TrackIdL_IsoVL','HLT_Mu23_TrkIsoVVL_Ele12_CaloIdL_TrackIdL_IsoVL','HLT_Mu8_TrkIsoVVL_Ele23_CaloIdL_TrackIdL_IsoVL_DZ','HLT_Mu17_TrkIsoVVL_Mu8_TrkIsoVVL_DZ_Mass3p8','HLT_Ele32_WPTight_Gsf','HLT_IsoMu24']\n",
    "    \n",
    "    if isData:\n",
    "        print('is Data')\n",
    "        for branch_name in branch:\n",
    "            if branch[branch_name][\"name\"] not in init_branches:\n",
    "                init_branches.append(branch[branch_name][\"name\"])\n",
    "    else:\n",
    "        print('is MC')\n",
    "        add_branches = ['Generator_weight']\n",
    "        gen_branches = uproot.open(file+':Events').keys(filter_name='*_lepton*genPartFlav')\n",
    "        true_events = uproot.open(file)['nEventsGenWeighted'].values()[0]\n",
    "        init_branches.extend(add_branches)\n",
    "        init_branches.extend(gen_branches)\n",
    "        for branch_name in branch:\n",
    "            if branch[branch_name][\"name\"] not in init_branches:\n",
    "                init_branches.append(branch[branch_name][\"name\"])\n",
    "        \n",
    "    branches = uproot.open(file+':Events').arrays(init_branches, library='pd')\n",
    "    \n",
    "    HLT_SingleMuon = branches.loc[:,'HLT_IsoMu24'] == True\n",
    "    HLT_DoubleMuon = branches.loc[:,'HLT_Mu17_TrkIsoVVL_Mu8_TrkIsoVVL_DZ_Mass3p8'] == True\n",
    "    HLT_EGamma = branches.loc[:,'HLT_Ele32_WPTight_Gsf'] == True\n",
    "    HLT_DoubleEG = branches.loc[:,'HLT_Ele23_Ele12_CaloIdL_TrackIdL_IsoVL'] == True\n",
    "    HLT_MuonEG1 = branches.loc[:,'HLT_Mu8_TrkIsoVVL_Ele23_CaloIdL_TrackIdL_IsoVL_DZ'] == True\n",
    "    HLT_MuonEG2 = branches.loc[:,'HLT_Mu23_TrkIsoVVL_Ele12_CaloIdL_TrackIdL_IsoVL'] == True\n",
    "    if 'SingleMuon' in file:\n",
    "        arrays = branches.loc[HLT_SingleMuon, :].copy()\n",
    "    elif 'DoubleMuon' in file:\n",
    "        arrays = branches.loc[~HLT_SingleMuon & HLT_DoubleMuon, :].copy()\n",
    "#         2018 is special\n",
    "    elif 'EGamma' in file:\n",
    "        arrays = branches.loc[~HLT_SingleMuon & ~HLT_DoubleMuon &   (HLT_EGamma | HLT_DoubleEG) ,:].copy()\n",
    "    elif 'MuonEG' in file:\n",
    "        arrays = branches.loc[~HLT_SingleMuon & ~HLT_DoubleMuon &  ~(HLT_EGamma | HLT_DoubleEG) & (HLT_MuonEG1 | HLT_MuonEG2),:].copy()\n",
    "    else:\n",
    "        arrays = branches.loc[HLT_SingleMuon | HLT_DoubleMuon |  HLT_EGamma | HLT_DoubleEG | HLT_MuonEG1 | HLT_MuonEG2,:].copy()\n",
    "    \n",
    "    if channel == 0: \n",
    "        channel_cut = (branches.loc[:,'channel_mark'] >= 1) & (branches.loc[:,'channel_mark'] <= 4)\n",
    "    elif channel == 10:\n",
    "        channel_cut = (branches.loc[:,'channel_mark'] >= 11) & (branches.loc[:,'channel_mark'] <= 14)\n",
    "    elif channel == 9:\n",
    "        channel_cut = (branches.loc[:,'channel_mark'] >= 5) & (branches.loc[:,'channel_mark'] <= 8)\n",
    "    else:\n",
    "        channel_cut = branches.loc[:,'channel_mark'] == channel\n",
    "    \n",
    "    if isData:\n",
    "        arrays = arrays.loc[channel_cut,:]\n",
    "    else:\n",
    "        lep_gen_cut_WZG = (branches.loc[:,'WZG_lepton1_genPartFlav'] > 0) & (branches.loc[:,'WZG_lepton2_genPartFlav'] > 0) & (branches.loc[:,'WZG_lepton3_genPartFlav'] > 0)\n",
    "        lep_gen_cut_ttZ = (branches.loc[:,'ttZ_lepton1_genPartFlav'] > 0) & (branches.loc[:,'ttZ_lepton2_genPartFlav'] > 0) & (branches.loc[:,'ttZ_lepton3_genPartFlav'] > 0)\n",
    "        lep_gen_cut_ZZ = (branches.loc[:,'ZZ_lepton1_genPartFlav'] > 0) & (branches.loc[:,'ZZ_lepton2_genPartFlav'] > 0) & (branches.loc[:,'ZZ_lepton3_genPartFlav'] > 0)\n",
    "        gen_cut_map = {\n",
    "                        0:lep_gen_cut_WZG, \n",
    "                        1:lep_gen_cut_WZG,\n",
    "                        2:lep_gen_cut_WZG,\n",
    "                        3:lep_gen_cut_WZG,\n",
    "                        4:lep_gen_cut_WZG,\n",
    "                        10:lep_gen_cut_ttZ,\n",
    "                        11:lep_gen_cut_ttZ,\n",
    "                        12:lep_gen_cut_ttZ,\n",
    "                        13:lep_gen_cut_ttZ,\n",
    "                        14:lep_gen_cut_ttZ,\n",
    "                        5:lep_gen_cut_ZZ,\n",
    "                        6:lep_gen_cut_ZZ,\n",
    "                        7:lep_gen_cut_ZZ,\n",
    "                        8:lep_gen_cut_ZZ,\n",
    "                        9:lep_gen_cut_ZZ,\n",
    "        }\n",
    "        lep_gen_cut = gen_cut_map[channel]\n",
    "        arrays = arrays.loc[channel_cut & lep_gen_cut,:]\n",
    "    \n",
    "    if isData:\n",
    "        for branch_name in branch:\n",
    "            for i in trange(0, len(arrays[branch[branch_name][\"name\"]]), desc=f'fill {branch[branch_name][\"name\"]} for {file}'):\n",
    "                hist[branch_name].Fill(float(arrays[branch[branch_name][\"name\"]].values[i]), float(arrays['fake_lepton_weight'].values[i]))\n",
    "            print (f\"SumOfWeights for {branch_name}: \", hist[branch_name].GetSumOfWeights())\n",
    "    else:\n",
    "        arrays['Generator_weight_sgn'] = arrays['Generator_weight'].apply(lambda x: 1 if x >= 0 else -1)\n",
    "        arrays['true_weight'] = lumi * xsec * 1000 * arrays['Generator_weight_sgn'] / true_events\n",
    "        for branch_name in branch:\n",
    "            for i in trange(0, len(arrays[branch[branch_name][\"name\"]]), desc=f'fill {branch[branch_name][\"name\"]} for {file}'):\n",
    "                hist[branch_name].Fill(float(arrays[branch[branch_name][\"name\"]].values[i]), -1 * float(arrays['fake_lepton_weight'].values[i]) * float(arrays['true_weight'].values[i]))\n",
    "            print (f\"SumOfWeights for {branch_name}: \", hist[branch_name].GetSumOfWeights())\n",
    "    \n",
    "    end_time = time.time()\n",
    "    print ('Time cost: %.2f\\n' %(end_time-init_time))\n",
    "        "
   ]
  },
  {
   "cell_type": "markdown",
   "id": "164c528b-6be4-4d16-978d-210295955821",
   "metadata": {
    "tags": []
   },
   "source": [
    "#### Add Data "
   ]
  },
  {
   "cell_type": "code",
   "execution_count": null,
   "id": "bc88fd01-b514-435f-8221-7c1feefc0270",
   "metadata": {},
   "outputs": [],
   "source": [
    "filelist_data_FakeLep = [\n",
    "    \"/eos/user/s/sdeng/WZG_analysis/fake_lepton_template/AR/2018/final/SingleMuon_Run2018A_0000_Skim.root\",\n",
    "    \"/eos/user/s/sdeng/WZG_analysis/fake_lepton_template/AR/2018/final/SingleMuon_Run2018B_0000_Skim.root\",\n",
    "    \"/eos/user/s/sdeng/WZG_analysis/fake_lepton_template/AR/2018/final/SingleMuon_Run2018C_0000_Skim.root\",\n",
    "    \"/eos/user/s/sdeng/WZG_analysis/fake_lepton_template/AR/2018/final/SingleMuon_Run2018D_0000_Skim.root\",\n",
    "    \"/eos/user/s/sdeng/WZG_analysis/fake_lepton_template/AR/2018/final/SingleMuon_Run2018D_0001_Skim.root\",\n",
    "    \"/eos/user/s/sdeng/WZG_analysis/fake_lepton_template/AR/2018/final/DoubleMuon_Run2018A_0000_Skim.root\",\n",
    "    \"/eos/user/s/sdeng/WZG_analysis/fake_lepton_template/AR/2018/final/DoubleMuon_Run2018B_0000_Skim.root\",\n",
    "    \"/eos/user/s/sdeng/WZG_analysis/fake_lepton_template/AR/2018/final/DoubleMuon_Run2018C_0000_Skim.root\",\n",
    "    \"/eos/user/s/sdeng/WZG_analysis/fake_lepton_template/AR/2018/final/DoubleMuon_Run2018D_0000_Skim.root\",\n",
    "    \"/eos/user/s/sdeng/WZG_analysis/fake_lepton_template/AR/2018/final/DoubleMuon_Run2018D_0001_Skim.root\",\n",
    "    \"/eos/user/s/sdeng/WZG_analysis/fake_lepton_template/AR/2018/final/EGamma_Run2018A_0000_Skim.root\",\n",
    "    \"/eos/user/s/sdeng/WZG_analysis/fake_lepton_template/AR/2018/final/EGamma_Run2018B_0000_Skim.root\",\n",
    "    \"/eos/user/s/sdeng/WZG_analysis/fake_lepton_template/AR/2018/final/EGamma_Run2018C_0000_Skim.root\",\n",
    "    \"/eos/user/s/sdeng/WZG_analysis/fake_lepton_template/AR/2018/final/EGamma_Run2018D_0000_Skim.root\",\n",
    "    \"/eos/user/s/sdeng/WZG_analysis/fake_lepton_template/AR/2018/final/EGamma_Run2018D_0001_Skim.root\",\n",
    "    \"/eos/user/s/sdeng/WZG_analysis/fake_lepton_template/AR/2018/final/MuonEG_Run2018A_0000_Skim.root\",\n",
    "    \"/eos/user/s/sdeng/WZG_analysis/fake_lepton_template/AR/2018/final/MuonEG_Run2018B_0000_Skim.root\",\n",
    "    \"/eos/user/s/sdeng/WZG_analysis/fake_lepton_template/AR/2018/final/MuonEG_Run2018C_0000_Skim.root\",\n",
    "    \"/eos/user/s/sdeng/WZG_analysis/fake_lepton_template/AR/2018/final/MuonEG_Run2018D_0000_Skim.root\",\n",
    "]\n",
    "\n",
    "hist_FakeLep = {}\n",
    "\n",
    "for branch_name in branch:\n",
    "    hist_FakeLep_temp = ROOT.TH1F(\"\", \"\", branch[branch_name][\"xbins\"], branch[branch_name][\"xleft\"], branch[branch_name][\"xright\"])\n",
    "    hist_FakeLep_temp.SetXTitle(f'{branch[branch_name][\"axis_name\"]}')\n",
    "    hist_FakeLep_temp.SetYTitle(f'events / bin')\n",
    "    hist_FakeLep_temp.SetFillColor(23) \n",
    "    hist_FakeLep_temp.SetMarkerStyle(20)\n",
    "    hist_FakeLep_temp.SetMarkerColor(23)\n",
    "    hist_FakeLep_temp.SetStats(0)\n",
    "    hist_FakeLep_temp.Sumw2()\n",
    "    hist_FakeLep[branch_name] = hist_FakeLep_temp\n",
    "    "
   ]
  },
  {
   "cell_type": "code",
   "execution_count": null,
   "id": "3ba69e21-9bdd-4999-b8c9-ae305dde258b",
   "metadata": {},
   "outputs": [],
   "source": [
    "for file in filelist_data_FakeLep:\n",
    "    AddHist_FakeLepton(file, hist_FakeLep, 1, 0, 0, channel, branch)"
   ]
  },
  {
   "cell_type": "markdown",
   "id": "c7ea3446-aa9c-44e1-9a19-be5f0dabc5dd",
   "metadata": {
    "tags": []
   },
   "source": [
    "#### Reduce MC "
   ]
  },
  {
   "cell_type": "code",
   "execution_count": null,
   "id": "92ca6801-67d5-42eb-ae21-360273654795",
   "metadata": {},
   "outputs": [],
   "source": [
    "filelist_MC_FakeLep = {\n",
    "   \"TTG\":\n",
    "        {\"name\":\"TTGJets\", \n",
    "        \"path\":\"/eos/user/s/sdeng/WZG_analysis/fake_lepton_template/AR/2018/final/TTGJets_TuneCP5_13TeV-amcatnloFXFX-madspin-pythia8_2018_0000_Skim.root\", \n",
    "        \"xsec\":4.078,\n",
    "        \"color\":3},\n",
    "#    \"TTZ\":\n",
    "#         {\"name\":\"TTZToLLNuNu\", \n",
    "#         \"path\":\"/eos/user/s/sdeng/WZG_analysis/fake_lepton_template/AR/2018/final/TTZToLLNuNu_M-10_TuneCP5_13TeV-amcatnlo-pythia8_2018_0000_Skim.root\", \n",
    "#         \"xsec\":0.2432,\n",
    "#         \"color\":4},\n",
    "   \"TTW\":\n",
    "        {\"name\":\"TTWJetsToLNu\", \n",
    "        \"path\":\"/eos/user/s/sdeng/WZG_analysis/fake_lepton_template/AR/2018/final/TTWJetsToLNu_TuneCP5_13TeV-amcatnloFXFX-madspin-pythia8_2018_0000_Skim.root\", \n",
    "        \"xsec\":0.2149,\n",
    "        \"color\":5},\n",
    "   \"tZq\":\n",
    "        {\"name\":\"tZq_ll\", \n",
    "        \"path\":\"/eos/user/s/sdeng/WZG_analysis/fake_lepton_template/AR/2018/final/tZq_ll_4f_ckm_NLO_TuneCP5_13TeV-amcatnlo-pythia8_2018_0000_Skim.root\", \n",
    "        \"xsec\":0.07358,\n",
    "        \"color\":6},\n",
    "   \"WWW\":\n",
    "        {\"name\":\"WWW\", \n",
    "        \"path\":\"/eos/user/s/sdeng/WZG_analysis/fake_lepton_template/AR/2018/final/WWW_4F_TuneCP5_13TeV-amcatnlo-pythia8_2018_0000_Skim.root\", \n",
    "        \"xsec\":0.2086,\n",
    "        \"color\":7},\n",
    "   \"WZ\":\n",
    "        {\"name\":\"WZ\", \n",
    "        \"path\":\"/eos/user/s/sdeng/WZG_analysis/fake_lepton_template/AR/2018/final/WZ_TuneCP5_13TeV-pythia8_2018_0000_Skim.root\", \n",
    "        \"xsec\":27.6,\n",
    "        \"color\":8},\n",
    "   \"ZGToLLG\":\n",
    "        {\"name\":\"ZGToLLG\",\n",
    "        \"path\":\"/eos/user/s/sdeng/WZG_analysis/fake_lepton_template/AR/2018/final/ZGToLLG_01J_5f_TuneCP5_13TeV-amcatnloFXFX-pythia8_2018_0000_Skim.root\", \n",
    "        \"xsec\":55.48,\n",
    "        \"color\":9},\n",
    "    \"ZZ\":\n",
    "        {\"name\":\"ZZ\",\n",
    "        \"path\":\"/eos/user/s/sdeng/WZG_analysis/fake_lepton_template/AR/2018/final/ZZ_TuneCP5_13TeV-pythia8_2018_0000_Skim.root\", \n",
    "        \"xsec\":12.14,\n",
    "        \"color\":12},\n",
    "    \"WZG\":\n",
    "        {\"name\":\"signal\",\n",
    "        \"path\":\"/eos/user/s/sdeng/WZG_analysis/fake_lepton_template/AR/2018/final/wza_UL18_sum_Skim_Skim.root\", \n",
    "        \"xsec\":0.0384,\n",
    "        \"color\":11}\n",
    "}\n",
    "\n"
   ]
  },
  {
   "cell_type": "code",
   "execution_count": null,
   "id": "b860499f-bba6-4c2a-9e80-62662d584645",
   "metadata": {},
   "outputs": [],
   "source": [
    "for file in filelist_MC_FakeLep:\n",
    "    AddHist_FakeLepton(filelist_MC_FakeLep[file][\"path\"], hist_FakeLep, 0, filelist_MC_FakeLep[file][\"xsec\"], lumi, channel, branch)\n"
   ]
  },
  {
   "cell_type": "markdown",
   "id": "3ac9f860-37a7-4764-bd86-777f6010f203",
   "metadata": {
    "jp-MarkdownHeadingCollapsed": true,
    "tags": []
   },
   "source": [
    "## Add FakePhoton"
   ]
  },
  {
   "cell_type": "code",
   "execution_count": null,
   "id": "d58953e0-5dd0-4bca-9f7c-b37e17d2219d",
   "metadata": {},
   "outputs": [],
   "source": [
    "filelist_MC[\"WZG\"][\"hist\"]"
   ]
  },
  {
   "cell_type": "markdown",
   "id": "b9b2a178-95b7-460e-89fb-e16b1fc7fa85",
   "metadata": {
    "tags": []
   },
   "source": [
    "## Plot"
   ]
  },
  {
   "cell_type": "code",
   "execution_count": null,
   "id": "23b95b5f-077c-4beb-8eec-bc5a2fda931d",
   "metadata": {},
   "outputs": [],
   "source": [
    "plot_branch = \"ttZ_trileptonmass\"\n",
    "\n",
    "c1 = ROOT.TCanvas(\"\",\"\",1000,1000)\n",
    "\n",
    "MC_err = ROOT.TH1D(\"\",\"\",branch[plot_branch][\"xbins\"],branch[plot_branch][\"xleft\"],branch[plot_branch][\"xright\"])\n",
    "MC_err.Sumw2()\n",
    "MC_err.SetFillColor(ROOT.kGray+2)\n",
    "MC_err.SetFillStyle(3345)\n",
    "MC_err.SetMarkerSize(0.)\n",
    "MC_err.SetMarkerColor(ROOT.kGray+2)\n",
    "MC_err.SetLineWidth(2)\n",
    "MC_err.SetLineColor(0)\n",
    "MC_err.SetStats(0)\n",
    "\n",
    "stack_mc = ROOT.THStack(\"\",\"\")\n",
    "MC_err.Add(hist_FakeLep[plot_branch])\n",
    "stack_mc.Add(hist_FakeLep[plot_branch])\n",
    "for file in filelist_MC:\n",
    "    stack_mc.Add(filelist_MC[file][\"hist\"][plot_branch])\n",
    "    MC_err.Add(filelist_MC[file][\"hist\"][plot_branch])\n",
    "    \n",
    "\n",
    "legend = ROOT.TLegend(0.15, 0.65, 0.85, 0.85)\n",
    "legend.SetNColumns(4)\n",
    "legend.SetBorderSize(0)\n",
    "legend.SetFillColor(0)\n",
    "legend.SetTextSize(0.02)\n",
    "legend.SetLineWidth(1)\n",
    "legend.SetLineStyle(0)\n",
    "for file in filelist_MC:\n",
    "    legend.AddEntry(filelist_MC[file][\"hist\"][plot_branch], f'{filelist_MC[file][\"name\"]}: {format(filelist_MC[file][\"hist\"][plot_branch].GetSumOfWeights(), \".2f\")}','F')\n",
    "legend.AddEntry(hist_FakeLep[plot_branch],f'Nonprompt Lepton: {format(hist_FakeLep[plot_branch].GetSumOfWeights(), \".2f\")}', 'F')\n",
    "legend.AddEntry(MC_err, 'Stat Unc.', 'F')\n",
    "legend.AddEntry(hist_data[plot_branch], f'data: {format(hist_data[plot_branch].GetSumOfWeights(), \".2f\")}')\n",
    "\n",
    "\n",
    "\n",
    "c1.Draw()\n",
    "pad1 = ROOT.TPad(\"pad1\", \"pad1\", 0, 0.3, 1, 1.0)\n",
    "pad1.SetBottomMargin(0.015)  # joins upper and lower plot\n",
    "# pad1.SetGridx()\n",
    "pad1.Draw()\n",
    "# Lower ratio plot is pad2\n",
    "c1.cd()  # returns to main canvas before defining pad2\n",
    "pad2 = ROOT.TPad(\"pad2\", \"pad2\", 0, 0.05, 1, 0.3)\n",
    "pad2.SetTopMargin(0)  # joins upper and lower plot\n",
    "pad2.SetBottomMargin(0.3)\n",
    "pad2.SetGridy()\n",
    "pad2.Draw()\n",
    "\n",
    "# draw everything\n",
    "pad1.cd()\n",
    "hist_data[plot_branch].Draw(\"ep\")\n",
    "# hist_data.SetMinimum(10)\n",
    "hist_data[plot_branch].SetMaximum(2*hist_data[plot_branch].GetMaximum())\n",
    "hist_data[plot_branch].GetXaxis().SetLabelSize(0)\n",
    "stack_mc.Draw(\"HIST SAME\")\n",
    "MC_err.Draw(\"e2 SAME\")\n",
    "hist_data[plot_branch].Draw(\"ep SAME\")\n",
    "legend.Draw(\"SAME\")\n",
    "# ROOT.gPad.SetLogy()\n",
    "ROOT.gPad.RedrawAxis()\n",
    "\n",
    "\n",
    "# h1.GetXaxis().SetLabelSize(0)\n",
    "pad2.cd()\n",
    "h3 = createRatio(hist_data[plot_branch], MC_err)\n",
    "h4 = createRatio(MC_err, MC_err)\n",
    "h3.Draw(\"ep\")\n",
    "# h3.GetXaxis().SetRangeUser(10,60)\n",
    "h4.Draw(\"e2 SAME\")\n",
    "ROOT.gPad.RedrawAxis()\n",
    "\n",
    "CMS_lumi(pad1, 0, 0)\n",
    "# c1.SaveAs('Fake_Lepton/MT_LooseMuon_dist_MR_2018.pdf')"
   ]
  },
  {
   "cell_type": "raw",
   "id": "8106d60c-a0a9-474f-b931-8cfd0b81121c",
   "metadata": {
    "tags": []
   },
   "source": [
    "# # file = '/eos/user/s/sdeng/WZG_analysis/final_skim/2018/SingleMuon_Run2018A.root'\n",
    "# file = '/eos/user/s/sdeng/WZG_analysis/final_skim/2018/TTGJets_TuneCP5_13TeV-amcatnloFXFX-madspin-pythia8_2018.root'\n",
    "file = '/afs/cern.ch/work/s/sdeng/sftp/WZG/CMSSW_10_6_19/src/PhysicsTools/NanoAODTools/nanoAOD-WVG/FakeLepton/wza_UL18_sum_Skim.root'\n",
    "\n",
    "gen_branches = uproot.open(file+':Events').keys(filter_name='*_lepton*genPartFlav')\n",
    "print (gen_branches)\n",
    "    \n",
    "init_branches = ['channel_mark','HLT_Ele23_Ele12_CaloIdL_TrackIdL_IsoVL','HLT_Mu23_TrkIsoVVL_Ele12_CaloIdL_TrackIdL_IsoVL','HLT_Mu8_TrkIsoVVL_Ele23_CaloIdL_TrackIdL_IsoVL_DZ','HLT_Mu17_TrkIsoVVL_Mu8_TrkIsoVVL_DZ_Mass3p8','HLT_Ele32_WPTight_Gsf','HLT_IsoMu24']\n",
    "    \n",
    "branch = 'LooseNotTightMuon_pt'\n",
    "\n",
    "init_branches.append(branch)\n",
    "init_branches.extend(gen_branches)\n",
    "print (init_branches)\n",
    "        \n",
    "init_time = time.time()\n",
    "branches = uproot.open(file+':Events').arrays(init_branches, library='pd')\n",
    "end_time = time.time()\n",
    "print ('%.2f' %(end_time-init_time))\n",
    "branches\n",
    "    "
   ]
  }
 ],
 "metadata": {
  "kernelspec": {
   "display_name": "Python 3",
   "language": "python",
   "name": "python3"
  },
  "language_info": {
   "codemirror_mode": {
    "name": "ipython",
    "version": 3
   },
   "file_extension": ".py",
   "mimetype": "text/x-python",
   "name": "python",
   "nbconvert_exporter": "python",
   "pygments_lexer": "ipython3",
   "version": "3.7.10"
  }
 },
 "nbformat": 4,
 "nbformat_minor": 5
}
